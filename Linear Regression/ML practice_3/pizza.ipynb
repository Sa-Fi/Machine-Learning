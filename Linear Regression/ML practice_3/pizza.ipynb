{
 "cells": [
  {
   "cell_type": "code",
   "execution_count": 2,
   "id": "f662e08a",
   "metadata": {},
   "outputs": [
    {
     "data": {
      "text/plain": [
       "array([1638.42280465])"
      ]
     },
     "execution_count": 2,
     "metadata": {},
     "output_type": "execute_result"
    },
    {
     "data": {
      "image/png": "[encoded data removed]",
      "text/plain": [
       "<Figure size 640x480 with 1 Axes>"
      ]
     },
     "metadata": {},
     "output_type": "display_data"
    }
   ],
   "source": [
    "#bismillahir Rahmanir Rahim\n",
    "import numpy as np\n",
    "import pandas as pd\n",
    "import matplotlib.pyplot as plt\n",
    "\n",
    "\n",
    "df = pd.read_csv('dataset_of_pizza.csv') #upload the cse file\n",
    "\n",
    "df #show the dataset if it successfully uploaded\n",
    "\n",
    "df.head()\n",
    "\n",
    "df.shape # about shape\n",
    "\n",
    "x = df[['p_size']] # set the value of x with area (area in double bracket cz area is independent)\n",
    "y = df['p_price']  # set the value of y with price (we have to find out the value price across area ,, means area 122 hole er price koto so price arear upor depend korbe)\n",
    "x\n",
    "\n",
    "\n",
    "y\n",
    "\n",
    "#create a scatter graph using scatter function \n",
    "plt.scatter(df['p_size'],df['p_price'],marker='*',color=\"green\")\n",
    "plt.xlabel('pizza size in inch')\n",
    "plt.ylabel('Prices In Tk')\n",
    "plt.title('Pizza price')\n",
    "\n",
    "from sklearn.model_selection import train_test_split\n",
    "\n",
    "xtrain,xtest,ytrain,ytest = train_test_split(x.values,y,test_size=0.2, random_state=1)\n",
    "\n",
    "xtrain\n",
    "\n",
    "xtest\n",
    "\n",
    "from sklearn.linear_model import LinearRegression\n",
    "\n",
    "regression = LinearRegression()\n",
    "\n",
    "\n",
    "regression.fit(xtrain,ytrain)\n",
    "\n",
    "regression.predict(xtest)\n",
    "plt.plot(xtest, ytest, color='blue')\n",
    "regression.predict([[17]])\n"
   ]
  },
  {
   "cell_type": "code",
   "execution_count": 3,
   "id": "0ed343e0",
   "metadata": {},
   "outputs": [
    {
     "data": {
      "text/plain": [
       "array([107.72703523])"
      ]
     },
     "execution_count": 3,
     "metadata": {},
     "output_type": "execute_result"
    }
   ],
   "source": [
    "regression.coef_\n"
   ]
  },
  {
   "cell_type": "code",
   "execution_count": 5,
   "id": "da6e9595",
   "metadata": {},
   "outputs": [
    {
     "data": {
      "text/plain": [
       "-192.93679420192166"
      ]
     },
     "execution_count": 5,
     "metadata": {},
     "output_type": "execute_result"
    }
   ],
   "source": [
    "regression.intercept_\n"
   ]
  },
  {
   "cell_type": "code",
   "execution_count": 6,
   "id": "0f733423",
   "metadata": {},
   "outputs": [
    {
     "data": {
      "text/plain": [
       "1638.4228047080783"
      ]
     },
     "execution_count": 6,
     "metadata": {},
     "output_type": "execute_result"
    }
   ],
   "source": [
    "107.72703523*17+-192.93679420192166"
   ]
  },
  {
   "cell_type": "code",
   "execution_count": 9,
   "id": "9474b30e",
   "metadata": {},
   "outputs": [
    {
     "name": "stdout",
     "output_type": "stream",
     "text": [
      "99.72767942635788\n"
     ]
    },
    {
     "name": "stderr",
     "output_type": "stream",
     "text": [
      "F:\\anaconda\\lib\\site-packages\\sklearn\\base.py:443: UserWarning: X has feature names, but LinearRegression was fitted without feature names\n",
      "  warnings.warn(\n"
     ]
    }
   ],
   "source": [
    "r_sqd = regression.score(x,y) # to calculate the ,, r2 values ,, \n",
    "print(r_sqd*100)"
   ]
  },
  {
   "cell_type": "code",
   "execution_count": 12,
   "id": "cbbab89e",
   "metadata": {},
   "outputs": [
    {
     "name": "stdout",
     "output_type": "stream",
     "text": [
      "p_size    22.0\n",
      "dtype: float64\n"
     ]
    }
   ],
   "source": [
    "print(np.mean(x))"
   ]
  },
  {
   "cell_type": "code",
   "execution_count": 13,
   "id": "01d0b53e",
   "metadata": {},
   "outputs": [
    {
     "name": "stdout",
     "output_type": "stream",
     "text": [
      "23.0\n"
     ]
    }
   ],
   "source": [
    "print(np.median(x))"
   ]
  },
  {
   "cell_type": "code",
   "execution_count": 19,
   "id": "6facd9a7",
   "metadata": {},
   "outputs": [],
   "source": [
    "from scipy import stats \n"
   ]
  },
  {
   "cell_type": "code",
   "execution_count": 21,
   "id": "773141fd",
   "metadata": {},
   "outputs": [
    {
     "name": "stdout",
     "output_type": "stream",
     "text": [
      "ModeResult(mode=array([350], dtype=int64), count=array([1]))\n"
     ]
    },
    {
     "name": "stderr",
     "output_type": "stream",
     "text": [
      "C:\\Users\\emon1\\AppData\\Local\\Temp\\ipykernel_8376\\2508368999.py:1: FutureWarning: Unlike other reduction functions (e.g. `skew`, `kurtosis`), the default behavior of `mode` typically preserves the axis it acts along. In SciPy 1.11.0, this behavior will change: the default value of `keepdims` will become False, the `axis` over which the statistic is taken will be eliminated, and the value None will no longer be accepted. Set `keepdims` to True or False to avoid this warning.\n",
      "  print(stats.mode(y))\n"
     ]
    }
   ],
   "source": []
  },
  {
   "cell_type": "code",
   "execution_count": null,
   "id": "7f497107",
   "metadata": {},
   "outputs": [],
   "source": []
  }
 ],
 "metadata": {
  "kernelspec": {
   "display_name": "Python 3 (ipykernel)",
   "language": "python",
   "name": "python3"
  },
  "language_info": {
   "codemirror_mode": {
    "name": "ipython",
    "version": 3
   },
   "file_extension": ".py",
   "mimetype": "text/x-python",
   "name": "python",
   "nbconvert_exporter": "python",
   "pygments_lexer": "ipython3",
   "version": "3.9.13"
  }
 },
 "nbformat": 4,
 "nbformat_minor": 5
}
