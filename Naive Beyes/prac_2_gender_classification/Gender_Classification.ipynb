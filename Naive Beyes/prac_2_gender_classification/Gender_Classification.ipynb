{
  "nbformat": 4,
  "nbformat_minor": 0,
  "metadata": {
    "colab": {
      "provenance": []
    },
    "kernelspec": {
      "name": "python3",
      "display_name": "Python 3"
    },
    "language_info": {
      "name": "python"
    }
  },
  "cells": [
    {
      "cell_type": "code",
      "execution_count": 1,
      "metadata": {
        "id": "Yig5EAw80Aqt"
      },
      "outputs": [],
      "source": [
        "import numpy as np\n",
        "import pandas as pd\n",
        "import matplotlib.pyplot as plt "
      ]
    },
    {
      "cell_type": "code",
      "source": [
        "from google.colab import files\n",
        "files.upload()\n"
      ],
      "metadata": {
        "colab": {
          "base_uri": "https://localhost:8080/",
          "height": 127
        },
        "id": "U9AFrleN0Twg",
        "outputId": "da1c20ff-3b02-40c3-dee4-f3086314428d"
      },
      "execution_count": 2,
      "outputs": [
        {
          "output_type": "display_data",
          "data": {
            "text/plain": [
              "<IPython.core.display.HTML object>"
            ],
            "text/html": [
              "\n",
              "     <input type=\"file\" id=\"files-45c28b02-7f52-4bda-9762-ef22dae7b9a0\" name=\"files[]\" multiple disabled\n",
              "        style=\"border:none\" />\n",
              "     <output id=\"result-45c28b02-7f52-4bda-9762-ef22dae7b9a0\">\n",
              "      Upload widget is only available when the cell has been executed in the\n",
              "      current browser session. Please rerun this cell to enable.\n",
              "      </output>\n",
              "      <script>// Copyright 2017 Google LLC\n",
              "//\n",
              "// Licensed under the Apache License, Version 2.0 (the \"License\");\n",
              "// you may not use this file except in compliance with the License.\n",
              "// You may obtain a copy of the License at\n",
              "//\n",
              "//      http://www.apache.org/licenses/LICENSE-2.0\n",
              "//\n",
              "// Unless required by applicable law or agreed to in writing, software\n",
              "// distributed under the License is distributed on an \"AS IS\" BASIS,\n",
              "// WITHOUT WARRANTIES OR CONDITIONS OF ANY KIND, either express or implied.\n",
              "// See the License for the specific language governing permissions and\n",
              "// limitations under the License.\n",
              "\n",
              "/**\n",
              " * @fileoverview Helpers for google.colab Python module.\n",
              " */\n",
              "(function(scope) {\n",
              "function span(text, styleAttributes = {}) {\n",
              "  const element = document.createElement('span');\n",
              "  element.textContent = text;\n",
              "  for (const key of Object.keys(styleAttributes)) {\n",
              "    element.style[key] = styleAttributes[key];\n",
              "  }\n",
              "  return element;\n",
              "}\n",
              "\n",
              "// Max number of bytes which will be uploaded at a time.\n",
              "const MAX_PAYLOAD_SIZE = 100 * 1024;\n",
              "\n",
              "function _uploadFiles(inputId, outputId) {\n",
              "  const steps = uploadFilesStep(inputId, outputId);\n",
              "  const outputElement = document.getElementById(outputId);\n",
              "  // Cache steps on the outputElement to make it available for the next call\n",
              "  // to uploadFilesContinue from Python.\n",
              "  outputElement.steps = steps;\n",
              "\n",
              "  return _uploadFilesContinue(outputId);\n",
              "}\n",
              "\n",
              "// This is roughly an async generator (not supported in the browser yet),\n",
              "// where there are multiple asynchronous steps and the Python side is going\n",
              "// to poll for completion of each step.\n",
              "// This uses a Promise to block the python side on completion of each step,\n",
              "// then passes the result of the previous step as the input to the next step.\n",
              "function _uploadFilesContinue(outputId) {\n",
              "  const outputElement = document.getElementById(outputId);\n",
              "  const steps = outputElement.steps;\n",
              "\n",
              "  const next = steps.next(outputElement.lastPromiseValue);\n",
              "  return Promise.resolve(next.value.promise).then((value) => {\n",
              "    // Cache the last promise value to make it available to the next\n",
              "    // step of the generator.\n",
              "    outputElement.lastPromiseValue = value;\n",
              "    return next.value.response;\n",
              "  });\n",
              "}\n",
              "\n",
              "/**\n",
              " * Generator function which is called between each async step of the upload\n",
              " * process.\n",
              " * @param {string} inputId Element ID of the input file picker element.\n",
              " * @param {string} outputId Element ID of the output display.\n",
              " * @return {!Iterable<!Object>} Iterable of next steps.\n",
              " */\n",
              "function* uploadFilesStep(inputId, outputId) {\n",
              "  const inputElement = document.getElementById(inputId);\n",
              "  inputElement.disabled = false;\n",
              "\n",
              "  const outputElement = document.getElementById(outputId);\n",
              "  outputElement.innerHTML = '';\n",
              "\n",
              "  const pickedPromise = new Promise((resolve) => {\n",
              "    inputElement.addEventListener('change', (e) => {\n",
              "      resolve(e.target.files);\n",
              "    });\n",
              "  });\n",
              "\n",
              "  const cancel = document.createElement('button');\n",
              "  inputElement.parentElement.appendChild(cancel);\n",
              "  cancel.textContent = 'Cancel upload';\n",
              "  const cancelPromise = new Promise((resolve) => {\n",
              "    cancel.onclick = () => {\n",
              "      resolve(null);\n",
              "    };\n",
              "  });\n",
              "\n",
              "  // Wait for the user to pick the files.\n",
              "  const files = yield {\n",
              "    promise: Promise.race([pickedPromise, cancelPromise]),\n",
              "    response: {\n",
              "      action: 'starting',\n",
              "    }\n",
              "  };\n",
              "\n",
              "  cancel.remove();\n",
              "\n",
              "  // Disable the input element since further picks are not allowed.\n",
              "  inputElement.disabled = true;\n",
              "\n",
              "  if (!files) {\n",
              "    return {\n",
              "      response: {\n",
              "        action: 'complete',\n",
              "      }\n",
              "    };\n",
              "  }\n",
              "\n",
              "  for (const file of files) {\n",
              "    const li = document.createElement('li');\n",
              "    li.append(span(file.name, {fontWeight: 'bold'}));\n",
              "    li.append(span(\n",
              "        `(${file.type || 'n/a'}) - ${file.size} bytes, ` +\n",
              "        `last modified: ${\n",
              "            file.lastModifiedDate ? file.lastModifiedDate.toLocaleDateString() :\n",
              "                                    'n/a'} - `));\n",
              "    const percent = span('0% done');\n",
              "    li.appendChild(percent);\n",
              "\n",
              "    outputElement.appendChild(li);\n",
              "\n",
              "    const fileDataPromise = new Promise((resolve) => {\n",
              "      const reader = new FileReader();\n",
              "      reader.onload = (e) => {\n",
              "        resolve(e.target.result);\n",
              "      };\n",
              "      reader.readAsArrayBuffer(file);\n",
              "    });\n",
              "    // Wait for the data to be ready.\n",
              "    let fileData = yield {\n",
              "      promise: fileDataPromise,\n",
              "      response: {\n",
              "        action: 'continue',\n",
              "      }\n",
              "    };\n",
              "\n",
              "    // Use a chunked sending to avoid message size limits. See b/62115660.\n",
              "    let position = 0;\n",
              "    do {\n",
              "      const length = Math.min(fileData.byteLength - position, MAX_PAYLOAD_SIZE);\n",
              "      const chunk = new Uint8Array(fileData, position, length);\n",
              "      position += length;\n",
              "\n",
              "      const base64 = btoa(String.fromCharCode.apply(null, chunk));\n",
              "      yield {\n",
              "        response: {\n",
              "          action: 'append',\n",
              "          file: file.name,\n",
              "          data: base64,\n",
              "        },\n",
              "      };\n",
              "\n",
              "      let percentDone = fileData.byteLength === 0 ?\n",
              "          100 :\n",
              "          Math.round((position / fileData.byteLength) * 100);\n",
              "      percent.textContent = `${percentDone}% done`;\n",
              "\n",
              "    } while (position < fileData.byteLength);\n",
              "  }\n",
              "\n",
              "  // All done.\n",
              "  yield {\n",
              "    response: {\n",
              "      action: 'complete',\n",
              "    }\n",
              "  };\n",
              "}\n",
              "\n",
              "scope.google = scope.google || {};\n",
              "scope.google.colab = scope.google.colab || {};\n",
              "scope.google.colab._files = {\n",
              "  _uploadFiles,\n",
              "  _uploadFilesContinue,\n",
              "};\n",
              "})(self);\n",
              "</script> "
            ]
          },
          "metadata": {}
        },
        {
          "output_type": "stream",
          "name": "stdout",
          "text": [
            "Saving gender_classification_v7.csv to gender_classification_v7.csv\n"
          ]
        },
        {
          "output_type": "execute_result",
          "data": {
            "text/plain": [
              "{'gender_classification_v7.csv': b'long_hair,forehead_width_cm,forehead_height_cm,nose_wide,nose_long,lips_thin,distance_nose_to_lip_long,gender\\r\\n1,11.8,6.1,1,0,1,1,Male\\r\\n0,14,5.4,0,0,1,0,Female\\r\\n0,11.8,6.3,1,1,1,1,Male\\r\\n0,14.4,6.1,0,1,1,1,Male\\r\\n1,13.5,5.9,0,0,0,0,Female\\r\\n1,13,6.8,1,1,1,1,Male\\r\\n1,15.3,6.2,1,1,1,0,Male\\r\\n0,13,5.2,0,0,0,0,Female\\r\\n1,11.9,5.4,1,0,1,1,Female\\r\\n1,12.1,5.4,0,0,0,0,Female\\r\\n0,12.5,5.4,1,1,1,1,Male\\r\\n1,15.5,5.8,1,1,1,1,Male\\r\\n0,14.7,5.2,1,1,1,1,Male\\r\\n1,14.5,6.7,0,1,1,1,Male\\r\\n1,14.2,6.5,0,0,0,0,Female\\r\\n0,12.5,5.2,1,1,1,1,Male\\r\\n1,15.2,6,1,1,1,1,Male\\r\\n1,14,5.9,0,0,0,0,Female\\r\\n1,11.9,5.2,0,0,0,0,Female\\r\\n1,14.4,5.6,1,0,1,1,Male\\r\\n1,14.6,6.3,1,1,1,1,Male\\r\\n1,12.8,7,1,1,1,1,Male\\r\\n1,12.9,6.4,1,0,0,1,Female\\r\\n0,12.2,6,1,1,0,1,Male\\r\\n0,14.2,5.3,0,0,0,0,Female\\r\\n1,12.3,6.3,0,0,0,0,Female\\r\\n1,14.2,6.2,0,0,0,0,Female\\r\\n1,12.5,5.2,0,0,0,0,Female\\r\\n1,15.5,5.7,1,1,1,0,Male\\r\\n1,15.3,6.3,1,1,1,1,Male\\r\\n1,15.3,5.2,1,1,1,1,Male\\r\\n1,12.3,6.8,1,1,1,1,Male\\r\\n1,11.8,5.3,1,0,0,0,Female\\r\\n1,11.8,6,1,0,0,0,Female\\r\\n1,12.7,5.4,0,1,1,1,Male\\r\\n1,14.1,6.1,1,1,1,1,Male\\r\\n1,12.9,6,0,0,0,0,Female\\r\\n1,14,5.1,1,0,0,0,Female\\r\\n0,13.5,5.2,0,0,0,0,Female\\r\\n0,15.5,6.3,1,1,1,1,Male\\r\\n1,14.1,5.9,0,0,0,0,Female\\r\\n1,14.4,6.8,1,1,1,1,Male\\r\\n1,12.2,6.1,1,1,1,1,Male\\r\\n1,11.5,6.2,0,0,0,0,Female\\r\\n0,12.9,6.3,1,1,1,1,Male\\r\\n1,12.1,5.2,1,1,1,1,Male\\r\\n1,13.8,5.1,0,0,0,0,Female\\r\\n1,13.7,5.3,0,1,1,0,Male\\r\\n1,11.5,6.3,1,0,1,0,Female\\r\\n1,12,5.5,0,1,0,0,Female\\r\\n1,14.1,5.4,1,1,1,0,Male\\r\\n1,12.8,6.4,0,0,0,1,Female\\r\\n1,12.9,5.3,0,0,0,0,Female\\r\\n1,13.5,5.3,0,0,0,0,Female\\r\\n1,14,5.3,1,1,1,1,Male\\r\\n1,11.4,5.6,0,0,1,1,Female\\r\\n1,15.4,5.1,1,1,1,0,Male\\r\\n1,13.5,6,1,1,1,1,Male\\r\\n1,14,5.4,0,1,0,1,Male\\r\\n1,14.1,5.9,0,0,0,0,Female\\r\\n1,13.3,5.5,0,0,1,0,Female\\r\\n1,13.2,5.8,0,1,1,1,Male\\r\\n1,11.9,5.4,1,1,0,0,Female\\r\\n0,14.3,5.6,1,1,1,1,Male\\r\\n1,13.9,6.5,0,0,0,0,Female\\r\\n1,11.8,5.1,0,0,1,1,Female\\r\\n1,14.2,6.2,0,0,0,0,Female\\r\\n1,11.7,6.2,0,1,0,0,Female\\r\\n1,14.2,5.8,0,0,1,0,Female\\r\\n0,12.1,6.3,0,0,1,1,Female\\r\\n1,11.8,6.1,0,0,0,0,Female\\r\\n1,15.1,6,1,1,1,1,Male\\r\\n1,13.2,6.2,1,1,1,1,Male\\r\\n1,15,6.8,1,0,0,0,Male\\r\\n1,14.2,6.5,0,0,1,1,Female\\r\\n0,12.4,6,0,1,0,0,Female\\r\\n1,14.1,5.2,0,0,0,0,Female\\r\\n1,13.9,5.9,1,0,1,1,Male\\r\\n1,11.8,6,1,1,1,1,Male\\r\\n1,11.6,7.1,0,1,1,1,Male\\r\\n1,12.4,6.5,0,0,0,0,Female\\r\\n0,11.5,5.9,0,0,0,0,Female\\r\\n1,13.7,6.7,1,1,1,1,Male\\r\\n1,12.2,5.1,0,1,0,0,Female\\r\\n1,13.7,5.1,0,0,0,1,Female\\r\\n1,12.5,5.6,1,1,0,1,Male\\r\\n1,11.9,6,1,1,1,1,Male\\r\\n1,12.4,6.1,0,0,0,0,Female\\r\\n1,12.6,5.9,0,0,1,1,Male\\r\\n1,14.1,6.2,1,0,1,1,Male\\r\\n1,12.3,5.6,1,0,0,0,Female\\r\\n1,12.9,5.1,0,0,0,0,Female\\r\\n1,13.3,5.9,1,1,1,1,Male\\r\\n0,13,5.4,0,0,0,0,Female\\r\\n1,12.2,6.5,1,1,0,1,Male\\r\\n1,13,5.2,0,1,1,1,Male\\r\\n1,12.2,6.2,1,1,1,1,Male\\r\\n1,15.1,6.8,1,1,1,1,Male\\r\\n0,12,6.4,0,0,0,0,Female\\r\\n0,12.3,5.9,0,0,0,0,Female\\r\\n1,15.3,5.6,0,1,1,1,Male\\r\\n1,13.7,5.4,1,1,0,1,Male\\r\\n1,14.4,5.7,1,1,1,1,Male\\r\\n1,14.5,6.3,1,1,1,0,Male\\r\\n1,12.1,6.5,1,1,1,1,Male\\r\\n1,11.8,6.5,1,1,0,1,Male\\r\\n0,11.8,6.5,1,0,1,1,Female\\r\\n1,15.3,6.7,1,1,1,1,Male\\r\\n1,14.8,6.1,1,1,1,1,Male\\r\\n1,13.9,5.5,0,1,0,0,Female\\r\\n1,15.5,5.3,1,1,1,0,Male\\r\\n1,12.5,6.2,0,1,0,0,Female\\r\\n1,13.1,6.6,1,0,1,1,Male\\r\\n1,15.3,5.3,1,1,1,0,Male\\r\\n1,13.8,5.4,0,0,0,0,Female\\r\\n1,12.8,6.1,0,0,0,1,Female\\r\\n1,12.9,6.4,0,0,0,1,Female\\r\\n1,14.3,6.1,0,0,0,0,Female\\r\\n1,13.8,6.7,1,1,1,1,Male\\r\\n1,11.6,5.1,1,1,1,1,Male\\r\\n1,11.5,6.3,0,1,1,0,Female\\r\\n1,13.4,5.4,0,1,0,0,Female\\r\\n1,12.9,5.2,0,0,0,0,Female\\r\\n1,11.8,7.1,1,1,1,1,Male\\r\\n1,12.6,6.4,0,1,0,1,Male\\r\\n1,14,6,0,0,0,0,Female\\r\\n1,14.2,6.2,1,1,1,1,Male\\r\\n1,12.1,6.2,1,1,1,1,Male\\r\\n1,12,6.5,0,0,0,0,Female\\r\\n1,12.3,5.4,0,0,0,1,Female\\r\\n1,12.7,6.8,1,1,1,1,Male\\r\\n1,12.5,5.8,0,1,0,0,Female\\r\\n1,11.8,5.4,0,1,1,1,Male\\r\\n1,11.6,5.9,0,0,0,0,Female\\r\\n1,11.7,6.3,1,0,0,0,Male\\r\\n1,11.9,5.3,0,0,0,0,Female\\r\\n1,13.2,5.5,1,0,1,1,Male\\r\\n1,13.8,5.2,1,1,0,0,Female\\r\\n1,12.4,5.9,1,1,1,1,Male\\r\\n1,13.2,5.6,1,0,1,1,Male\\r\\n1,12.6,6.5,0,0,0,0,Female\\r\\n1,13.1,6.2,1,1,1,1,Male\\r\\n1,13.2,6,0,1,1,0,Female\\r\\n1,12.7,5.6,0,0,0,0,Female\\r\\n1,14.2,6.5,1,1,1,1,Male\\r\\n1,11.9,6.3,0,0,0,0,Female\\r\\n1,13.9,5.1,1,1,1,1,Male\\r\\n1,11.9,6.8,1,1,1,1,Male\\r\\n1,13.4,6.3,0,0,1,0,Female\\r\\n1,15.4,6.6,1,1,1,1,Male\\r\\n1,11.8,5.2,1,0,1,1,Male\\r\\n1,11.7,5.5,0,0,0,0,Female\\r\\n1,13.4,6.4,1,1,1,1,Male\\r\\n0,12.5,6.8,1,1,0,1,Male\\r\\n1,13.3,6.4,0,0,0,0,Female\\r\\n1,12.9,6.2,0,0,0,0,Female\\r\\n1,12.8,5.9,1,1,1,1,Male\\r\\n1,11.9,5.5,0,0,0,0,Female\\r\\n1,15.3,5.5,1,1,1,0,Male\\r\\n1,12.5,6.1,0,1,1,1,Male\\r\\n0,14.1,5.8,0,0,0,0,Female\\r\\n1,14,6.6,1,1,1,1,Male\\r\\n1,14.3,5.2,1,1,1,1,Male\\r\\n1,11.9,7.1,0,1,1,1,Male\\r\\n1,14.6,6.2,1,1,1,1,Male\\r\\n0,13.3,6.2,0,0,1,0,Female\\r\\n1,12.7,5.7,1,1,1,1,Male\\r\\n1,11.6,5.4,1,1,1,1,Male\\r\\n1,14.1,6,0,0,0,0,Female\\r\\n1,12.8,6.6,1,1,1,1,Male\\r\\n1,12,5.4,0,0,0,0,Female\\r\\n0,11.6,5.4,0,0,0,1,Female\\r\\n1,13.1,6.1,1,0,1,1,Male\\r\\n1,14.4,7.1,0,0,1,1,Male\\r\\n1,11.6,6.1,0,0,0,0,Female\\r\\n1,12.7,5.7,1,1,1,1,Male\\r\\n1,12.2,6.4,0,0,0,0,Female\\r\\n1,12,5.5,1,1,1,1,Male\\r\\n0,12.5,6,1,1,0,1,Male\\r\\n1,12.5,5.6,0,0,0,0,Female\\r\\n1,13.5,6.2,0,0,0,0,Female\\r\\n0,12.6,5.8,1,1,1,0,Male\\r\\n1,12.3,5.8,1,1,1,1,Male\\r\\n1,12.2,5.4,0,0,0,0,Female\\r\\n1,14.2,7.1,1,1,1,1,Male\\r\\n1,11.9,6,0,0,1,0,Female\\r\\n1,15.1,5.6,1,1,1,1,Male\\r\\n1,11.8,5.9,1,1,1,1,Male\\r\\n1,13.8,6.2,0,0,1,0,Female\\r\\n1,15,6.2,1,0,0,1,Male\\r\\n1,13.7,5.5,0,0,0,0,Female\\r\\n0,13.5,6.4,0,0,1,1,Male\\r\\n1,13,6.2,1,1,1,1,Male\\r\\n1,13.5,5.8,0,0,0,0,Female\\r\\n0,11.9,5.4,1,0,1,1,Male\\r\\n1,13.8,5.6,0,0,0,0,Female\\r\\n1,11.8,6.3,1,1,1,1,Male\\r\\n1,11.9,5.9,0,0,1,0,Female\\r\\n1,14.1,5.3,0,0,0,0,Female\\r\\n1,11.7,5.3,0,0,0,0,Female\\r\\n1,12.8,5.3,1,1,1,1,Male\\r\\n1,11.9,5.8,0,0,0,0,Female\\r\\n0,12.7,5.4,0,1,0,0,Female\\r\\n0,12.4,6.2,1,0,1,0,Male\\r\\n0,11.5,5.7,0,0,0,1,Female\\r\\n1,12.6,6.4,1,1,1,1,Male\\r\\n1,14.3,6.4,1,1,1,1,Male\\r\\n1,15.1,5.1,1,1,1,1,Male\\r\\n1,12.6,5.1,0,1,1,0,Female\\r\\n1,11.7,5.5,0,0,1,0,Female\\r\\n1,12.1,5.4,1,0,0,0,Female\\r\\n1,13.8,5.3,0,1,0,0,Female\\r\\n0,13.9,6.5,0,0,1,1,Female\\r\\n1,14.2,7.1,1,0,1,1,Male\\r\\n1,13.1,5.7,1,1,1,1,Male\\r\\n1,14,6.7,1,1,1,1,Male\\r\\n0,12.5,6.3,0,0,1,0,Female\\r\\n1,12,5.5,0,0,0,0,Female\\r\\n1,11.8,6.7,1,1,0,1,Male\\r\\n1,11.7,6.3,0,0,0,0,Female\\r\\n1,14.3,6,0,1,0,0,Female\\r\\n1,15.3,6.7,0,1,1,1,Male\\r\\n0,13,6.2,0,0,0,1,Female\\r\\n1,13.5,5.7,0,0,0,0,Female\\r\\n0,13.7,5.6,1,1,0,1,Male\\r\\n1,14.8,5.8,1,0,1,1,Male\\r\\n1,13.2,5.2,1,1,1,1,Male\\r\\n1,15.1,6.7,1,1,1,1,Male\\r\\n1,13.5,6,1,0,0,0,Female\\r\\n1,12.7,5.4,1,1,1,1,Male\\r\\n1,12.9,5.1,0,0,0,0,Female\\r\\n1,12.5,7,1,1,1,1,Male\\r\\n1,13.2,6.2,0,0,1,0,Female\\r\\n1,14.2,6.4,0,0,1,0,Female\\r\\n1,15.5,5.6,1,1,1,1,Male\\r\\n1,15.1,5.4,1,1,1,1,Male\\r\\n1,13.7,5.9,1,1,1,1,Male\\r\\n1,13.4,5.7,1,1,0,1,Male\\r\\n1,14.2,6.4,0,1,1,1,Male\\r\\n1,12.6,5.3,0,1,0,0,Female\\r\\n1,15,7,1,1,1,1,Male\\r\\n0,14.8,6.4,1,1,1,1,Male\\r\\n1,14,6.2,0,0,0,1,Female\\r\\n1,12.5,6.2,1,0,1,1,Male\\r\\n1,15.4,5.1,1,0,1,1,Male\\r\\n1,11.5,5.6,0,0,1,0,Female\\r\\n1,13.4,6.1,0,0,1,0,Female\\r\\n1,12.1,5.2,0,0,0,0,Female\\r\\n1,14,5.9,1,1,1,1,Male\\r\\n0,13.3,6.9,1,1,1,1,Male\\r\\n1,13,6.3,0,0,1,1,Female\\r\\n1,12.3,5.8,1,0,0,1,Male\\r\\n1,12.2,5.8,1,1,1,1,Male\\r\\n0,13.1,6.9,1,0,1,1,Male\\r\\n1,13.9,6.4,0,0,0,0,Female\\r\\n1,13.5,5.4,1,1,1,1,Male\\r\\n1,12.6,5.7,1,0,0,0,Female\\r\\n1,11.5,5.7,0,0,0,0,Female\\r\\n1,13.6,6.1,1,1,1,1,Male\\r\\n1,14,6.2,0,0,0,0,Female\\r\\n1,12.1,5.3,1,0,0,0,Female\\r\\n1,13,6.2,1,1,1,1,Male\\r\\n0,13.4,7,1,1,1,1,Male\\r\\n1,15.1,7.1,1,1,1,1,Male\\r\\n0,12.3,5.6,0,0,0,1,Female\\r\\n1,13.2,7,1,1,0,1,Male\\r\\n1,12.1,5.4,0,1,1,0,Male\\r\\n1,15.2,6.8,1,1,1,1,Male\\r\\n0,15.3,5.7,1,1,1,1,Male\\r\\n1,12.1,5.3,0,0,0,0,Female\\r\\n1,13,5.7,1,1,1,0,Male\\r\\n1,12.3,5.6,0,0,0,0,Female\\r\\n1,14,6.5,0,0,0,1,Female\\r\\n1,15.3,6,1,1,1,1,Male\\r\\n1,13,6,1,1,1,1,Male\\r\\n1,13.9,6.1,0,0,0,0,Female\\r\\n1,14.1,5.9,0,1,0,1,Female\\r\\n1,13.5,6.5,0,0,1,0,Female\\r\\n1,14.1,6,0,0,0,0,Female\\r\\n1,12.5,7,1,1,1,1,Male\\r\\n1,14.1,5.6,1,1,1,1,Male\\r\\n1,12.7,5.9,0,0,0,1,Female\\r\\n1,12.8,6.1,1,1,1,1,Male\\r\\n0,13.3,6.5,0,0,1,1,Male\\r\\n1,12.1,6.3,0,0,0,1,Female\\r\\n1,14.2,6.1,0,0,0,0,Female\\r\\n0,14.7,6.4,1,1,1,1,Male\\r\\n1,12.2,5.6,1,1,1,1,Male\\r\\n1,14,5.2,0,0,0,0,Female\\r\\n1,14.3,5.3,0,0,0,1,Female\\r\\n1,15.1,5.2,1,1,1,1,Male\\r\\n1,14.2,5.8,0,0,0,0,Female\\r\\n1,12.4,7,1,1,1,1,Male\\r\\n0,12.2,5.7,0,0,0,0,Female\\r\\n0,13.9,6.1,1,1,1,1,Male\\r\\n1,13.3,6.2,0,0,0,0,Female\\r\\n1,12.9,6.3,1,1,1,1,Male\\r\\n1,12.6,5.9,1,1,0,1,Male\\r\\n0,14.2,5.5,1,1,1,0,Male\\r\\n1,14.5,5.7,0,1,1,1,Male\\r\\n1,12,5.7,1,1,1,1,Male\\r\\n1,12.9,5.5,1,1,1,1,Male\\r\\n1,12.8,5.3,1,1,1,0,Female\\r\\n1,11.9,5.6,0,0,0,1,Female\\r\\n1,13.6,5.8,0,0,1,1,Female\\r\\n1,14.6,6.8,1,1,1,1,Male\\r\\n1,13.7,7.1,1,1,1,1,Male\\r\\n1,14.2,7.1,1,1,1,1,Male\\r\\n1,14.5,6.2,1,1,0,0,Male\\r\\n1,11.7,5.1,0,0,0,0,Female\\r\\n0,11.7,5.2,0,0,0,0,Female\\r\\n1,11.6,5.5,0,0,0,1,Female\\r\\n0,13.2,6.5,0,1,0,0,Female\\r\\n1,11.4,5.5,0,0,0,0,Female\\r\\n1,15.2,6,1,1,1,1,Male\\r\\n1,14.1,5.6,0,1,0,0,Female\\r\\n1,13.5,6.1,1,1,1,1,Male\\r\\n1,14.9,5.9,1,1,0,1,Male\\r\\n1,12.2,6,0,0,0,0,Female\\r\\n1,14.1,6.1,0,1,1,0,Female\\r\\n1,13.7,6.1,0,0,0,0,Female\\r\\n1,12.2,5.6,1,0,1,1,Male\\r\\n1,12.4,5.9,0,0,0,0,Female\\r\\n1,11.5,5.7,0,0,0,0,Female\\r\\n1,12.6,6.5,0,0,0,0,Female\\r\\n1,13.6,5.1,0,0,0,0,Female\\r\\n1,12.1,5.5,0,0,0,0,Female\\r\\n1,11.5,5.3,0,0,0,0,Female\\r\\n1,13.2,5.7,0,0,1,0,Female\\r\\n1,12.2,5.9,1,0,0,0,Female\\r\\n1,11.7,6.5,1,1,0,1,Male\\r\\n1,14.8,5.3,1,1,1,1,Male\\r\\n0,15.5,6.8,1,1,1,0,Male\\r\\n1,12.2,5.2,0,0,0,0,Female\\r\\n1,14.8,6,1,0,1,1,Male\\r\\n0,14.9,6.2,0,1,1,1,Male\\r\\n1,13.8,6.1,1,0,1,1,Male\\r\\n1,14.6,6.7,1,1,1,1,Male\\r\\n1,14.5,6.5,0,1,1,1,Male\\r\\n1,14,6.2,0,0,0,0,Female\\r\\n0,13.5,5.3,1,0,0,1,Female\\r\\n1,11.4,6,0,0,0,0,Female\\r\\n1,13.9,6.5,0,0,0,0,Female\\r\\n1,14.7,5.8,1,0,1,1,Male\\r\\n1,14.9,5.9,1,1,1,1,Male\\r\\n1,14.1,5.3,0,0,0,0,Female\\r\\n1,12,5.2,0,0,0,0,Female\\r\\n1,11.9,6.5,0,0,0,0,Female\\r\\n1,11.8,5.9,1,1,1,1,Male\\r\\n1,15.4,5.6,1,1,1,1,Male\\r\\n1,12.2,5.4,0,0,0,1,Female\\r\\n1,11.8,6.7,1,1,1,1,Male\\r\\n0,12.8,6.2,1,0,0,0,Female\\r\\n1,13.3,6.4,1,1,1,1,Male\\r\\n1,12.2,6,0,0,0,1,Female\\r\\n1,13.3,5.6,1,1,1,1,Male\\r\\n0,11.6,6.2,0,0,0,0,Female\\r\\n1,12.7,6.6,1,1,1,1,Male\\r\\n1,13.9,6.2,0,0,0,0,Female\\r\\n1,14.2,7.1,1,1,1,1,Male\\r\\n1,12.2,5.9,0,0,0,1,Female\\r\\n1,13.8,5.5,0,0,1,1,Male\\r\\n1,14.1,6.5,0,0,0,0,Female\\r\\n1,13.4,6.4,0,0,0,0,Female\\r\\n1,14.3,6.4,1,1,1,1,Male\\r\\n1,11.6,5.1,0,0,1,0,Female\\r\\n1,15.5,6.8,1,1,1,1,Male\\r\\n1,14.3,5.5,0,1,0,0,Female\\r\\n1,11.6,6.8,1,1,1,1,Male\\r\\n1,13.8,5.5,0,0,0,0,Female\\r\\n1,14.4,6.1,1,1,1,0,Male\\r\\n1,13.9,6,0,0,0,0,Female\\r\\n1,11.5,5.9,0,0,0,0,Female\\r\\n1,12,6.4,0,0,0,0,Female\\r\\n0,11.4,5.4,0,0,0,0,Female\\r\\n1,13.2,6,0,0,0,0,Female\\r\\n1,12.9,5.5,1,1,1,1,Male\\r\\n1,11.6,5.4,0,0,0,1,Female\\r\\n1,15.5,6.8,1,1,1,1,Male\\r\\n0,14.5,6.6,0,1,1,0,Male\\r\\n1,12.1,5.5,1,1,1,0,Male\\r\\n1,15.1,6.3,1,0,1,1,Male\\r\\n1,13.7,6.2,0,0,0,0,Female\\r\\n1,12.9,6.3,0,0,0,1,Female\\r\\n1,14.4,6.6,0,1,1,1,Male\\r\\n0,12.8,6.3,0,0,1,0,Female\\r\\n0,13.4,6.6,1,1,1,1,Male\\r\\n1,14.7,7,1,1,1,1,Male\\r\\n1,14.1,6.9,1,0,1,1,Male\\r\\n1,13.3,5.5,0,0,1,0,Female\\r\\n1,13.2,5.9,1,0,1,0,Female\\r\\n1,12.1,6.2,1,1,1,1,Male\\r\\n0,12.5,5.7,1,1,1,1,Male\\r\\n1,12.8,6.1,0,0,0,0,Female\\r\\n1,13.3,5.5,0,0,0,0,Female\\r\\n1,15.5,5.7,1,1,0,1,Male\\r\\n1,14.7,6.4,1,1,1,1,Male\\r\\n1,12.5,7,0,1,1,1,Male\\r\\n1,11.6,6.5,0,0,0,0,Female\\r\\n0,13.2,6.2,0,0,0,0,Female\\r\\n0,12,5.1,0,0,0,0,Female\\r\\n1,14.2,5.4,0,0,0,0,Female\\r\\n0,13.4,7,1,1,1,1,Male\\r\\n1,15.5,6.9,1,0,1,0,Male\\r\\n1,14.7,5.9,0,0,1,1,Male\\r\\n1,13.1,5.9,0,0,0,0,Female\\r\\n0,15.1,7,1,1,1,1,Male\\r\\n1,13.5,5.8,1,0,1,1,Male\\r\\n1,13.5,5.4,0,0,0,0,Female\\r\\n1,12.1,6.4,0,0,1,0,Female\\r\\n1,14,5.9,1,1,1,1,Male\\r\\n0,13.7,6.3,0,0,0,0,Female\\r\\n1,13.3,6.1,0,1,0,0,Female\\r\\n1,13.8,5.5,0,0,0,0,Female\\r\\n0,12.2,7,1,1,1,0,Male\\r\\n1,12.5,7.1,1,1,1,1,Male\\r\\n0,14.6,6.9,1,1,1,1,Male\\r\\n1,13.9,6.2,0,0,1,1,Female\\r\\n1,12.7,6.4,1,1,1,1,Male\\r\\n0,14.2,5.4,0,0,0,0,Female\\r\\n1,13.6,5.2,0,1,1,0,Female\\r\\n0,12.1,6.1,1,1,1,1,Male\\r\\n1,11.8,5.9,1,0,0,0,Female\\r\\n0,11.8,5.1,1,0,0,0,Female\\r\\n1,13.2,6.6,0,1,1,1,Male\\r\\n1,11.6,6.9,1,1,1,1,Male\\r\\n1,12.5,5.6,0,0,0,0,Female\\r\\n1,13,5.7,1,1,0,1,Male\\r\\n1,14.1,6.1,0,0,0,0,Female\\r\\n1,14.2,6.4,0,1,0,0,Female\\r\\n1,11.7,5.4,0,0,0,0,Female\\r\\n1,15.4,6.4,0,1,1,1,Male\\r\\n1,11.9,5.9,0,0,0,0,Female\\r\\n1,12,5.2,1,1,1,1,Male\\r\\n1,14.3,5.1,0,0,0,0,Female\\r\\n1,12.6,6.2,0,0,0,0,Female\\r\\n1,14.6,6.5,1,1,1,1,Male\\r\\n0,13.3,5.1,0,0,0,1,Female\\r\\n1,12.7,5.2,0,1,0,1,Male\\r\\n1,13.8,5.5,1,1,0,0,Female\\r\\n1,11.7,6.1,1,0,0,0,Female\\r\\n1,14.7,6.5,1,1,1,1,Male\\r\\n0,15.1,6.8,1,1,1,1,Male\\r\\n1,12.9,5.7,1,1,1,1,Male\\r\\n1,14.1,5.2,0,0,0,0,Female\\r\\n1,13.9,6.1,0,0,1,0,Female\\r\\n1,11.8,5.7,1,1,1,1,Male\\r\\n1,12.1,5.9,1,0,0,0,Female\\r\\n1,14,6.1,0,0,0,0,Female\\r\\n1,13.7,5.8,1,1,1,1,Male\\r\\n0,11.9,5.8,0,1,0,0,Female\\r\\n1,12.5,5.3,1,1,1,0,Male\\r\\n1,11.7,6.4,0,0,0,0,Female\\r\\n1,12.8,6.2,0,0,0,0,Female\\r\\n1,12.2,6.1,0,0,0,0,Female\\r\\n1,12.4,6.5,0,0,0,0,Female\\r\\n0,12.8,6.3,1,1,1,1,Male\\r\\n0,13.2,5.9,1,1,1,0,Male\\r\\n0,14,5.8,0,0,0,0,Female\\r\\n1,11.9,6.9,1,1,1,1,Male\\r\\n1,12.5,5.3,1,1,0,1,Male\\r\\n1,14.9,5.5,0,1,1,1,Male\\r\\n1,11.6,6.5,0,0,0,0,Female\\r\\n1,14.1,5.1,0,0,1,1,Male\\r\\n1,11.4,6.1,0,0,0,0,Female\\r\\n1,13.3,5.9,1,1,1,1,Male\\r\\n1,13.1,5.5,0,0,0,0,Female\\r\\n1,14.2,5.4,1,1,1,1,Male\\r\\n1,14.1,7.1,1,1,1,1,Male\\r\\n1,12.9,6.1,0,1,0,0,Female\\r\\n1,13,6.4,1,1,1,1,Male\\r\\n1,15,6.2,1,1,1,1,Male\\r\\n1,13,5.5,1,1,0,1,Female\\r\\n1,12,6.5,0,0,0,1,Female\\r\\n1,12.2,6,0,0,0,0,Female\\r\\n1,12.7,6.1,0,1,1,1,Male\\r\\n1,12.7,6.2,1,1,1,1,Male\\r\\n1,11.6,6,0,0,0,0,Female\\r\\n1,13.2,6,0,0,0,0,Female\\r\\n1,12.6,6.4,1,1,1,1,Male\\r\\n1,12.7,5.8,1,0,1,1,Male\\r\\n1,11.4,5.9,0,1,1,0,Female\\r\\n1,14.3,6.4,0,0,0,0,Female\\r\\n1,12.8,5.3,1,1,0,0,Female\\r\\n1,12,5.5,0,0,0,0,Female\\r\\n0,14.4,5.9,1,0,1,1,Male\\r\\n1,13.4,5.5,0,0,0,0,Female\\r\\n1,14.3,6.3,1,1,1,1,Male\\r\\n1,12.5,5.3,0,0,0,0,Female\\r\\n1,12.3,6.4,0,1,1,1,Male\\r\\n1,12.4,6.8,1,0,0,1,Male\\r\\n1,14.6,6.1,1,1,1,1,Male\\r\\n1,12,6.4,0,0,0,0,Female\\r\\n0,11.7,5.2,1,1,1,1,Male\\r\\n1,13,7.1,1,1,1,1,Male\\r\\n1,11.7,6.2,1,1,1,0,Male\\r\\n1,12,5.3,0,1,0,0,Female\\r\\n1,14.3,6.8,1,1,1,1,Male\\r\\n1,13.7,5.8,1,1,1,1,Male\\r\\n1,11.5,5.1,0,1,0,0,Female\\r\\n0,11.9,5.8,0,0,1,0,Female\\r\\n1,14.9,5.2,1,1,1,1,Male\\r\\n1,12.1,6.8,0,1,1,0,Male\\r\\n1,12.9,6.3,0,0,0,0,Female\\r\\n0,15.3,5.7,1,1,1,1,Male\\r\\n1,11.6,5.2,0,0,0,0,Female\\r\\n1,13.7,6.4,0,0,0,0,Female\\r\\n1,12.2,6.2,0,0,1,0,Female\\r\\n0,14.2,5.2,1,0,0,0,Female\\r\\n1,14.9,5.1,1,1,1,0,Male\\r\\n1,14.6,5.7,1,1,0,1,Male\\r\\n1,13.6,5.7,0,0,0,1,Female\\r\\n1,11.6,5.6,0,0,0,0,Female\\r\\n1,13.7,5.7,0,0,0,0,Female\\r\\n1,14.9,5.6,1,1,1,1,Male\\r\\n1,13.3,5.6,0,0,0,1,Female\\r\\n1,14.2,5.5,0,0,0,0,Female\\r\\n1,14.3,5.5,0,0,1,0,Female\\r\\n1,12.9,5.5,1,1,1,1,Male\\r\\n1,12.6,6.3,0,0,0,0,Female\\r\\n1,12.8,6.4,0,0,0,0,Female\\r\\n1,12,6.2,0,1,1,1,Male\\r\\n1,12.3,5.7,0,1,0,0,Female\\r\\n0,14.2,6.2,1,0,0,1,Male\\r\\n1,12.9,5.9,0,0,0,0,Female\\r\\n1,14.2,5.3,0,0,0,0,Female\\r\\n1,13.4,5.1,0,0,0,0,Female\\r\\n1,14.3,5.3,0,0,0,1,Female\\r\\n1,14.5,5.1,1,1,1,1,Male\\r\\n1,13.6,5.6,0,0,0,0,Female\\r\\n1,13.3,6.9,1,1,0,1,Male\\r\\n1,13.4,5.1,0,0,0,0,Female\\r\\n1,12.7,5.5,0,0,0,0,Female\\r\\n1,12.3,5.6,0,0,0,0,Female\\r\\n0,11.6,6.4,0,0,0,1,Female\\r\\n1,12.6,7,1,1,0,1,Male\\r\\n1,13.3,5.2,1,1,1,1,Male\\r\\n1,13.3,5.6,1,1,1,1,Male\\r\\n1,12.6,6.6,0,1,1,1,Male\\r\\n1,13.7,5.6,0,0,0,0,Female\\r\\n1,12.2,6,1,1,1,1,Male\\r\\n1,13.4,5.3,0,1,1,0,Male\\r\\n1,11.5,5.7,1,1,1,1,Male\\r\\n0,11.5,6.5,0,1,1,1,Male\\r\\n0,12.7,5.4,1,1,1,1,Male\\r\\n1,13,5.6,0,0,0,0,Female\\r\\n1,13.9,6,0,0,0,0,Female\\r\\n0,13.2,5.4,1,1,0,1,Male\\r\\n1,15,5.5,1,1,0,1,Male\\r\\n1,12.3,7.1,1,1,1,1,Male\\r\\n1,13.1,5.8,1,1,1,1,Male\\r\\n0,12.4,6.8,0,1,0,1,Male\\r\\n1,11.7,5.5,0,1,1,1,Male\\r\\n1,13.7,5.3,0,0,0,0,Female\\r\\n0,14.4,5.2,1,1,1,1,Male\\r\\n1,12.3,5.2,1,1,1,0,Male\\r\\n1,12.4,5.7,1,1,1,1,Male\\r\\n1,14,5.9,1,1,0,1,Male\\r\\n1,13.7,5.9,0,0,0,0,Female\\r\\n1,12.4,5.4,1,1,0,0,Male\\r\\n0,15.5,5.6,0,1,1,1,Male\\r\\n0,12,5.8,0,0,0,0,Female\\r\\n1,13.8,5.1,1,0,0,0,Female\\r\\n1,12.6,5.8,0,0,0,0,Female\\r\\n1,12.3,6.2,1,1,0,0,Female\\r\\n0,11.6,5.2,1,1,1,0,Male\\r\\n1,12.9,5.2,1,1,0,1,Male\\r\\n1,13.7,6.1,0,0,0,0,Female\\r\\n1,13.2,5.6,0,0,0,1,Female\\r\\n1,12.2,6.2,1,1,1,1,Male\\r\\n1,12.4,5.3,1,1,1,1,Male\\r\\n1,13.7,5.6,0,0,0,1,Female\\r\\n1,13.5,5.7,0,0,1,0,Female\\r\\n1,15,6.8,1,1,1,1,Male\\r\\n1,11.5,7,1,1,1,0,Male\\r\\n1,12.9,5.6,0,0,0,0,Female\\r\\n1,14.7,5.8,1,0,1,1,Male\\r\\n1,11.8,7,1,1,1,1,Male\\r\\n1,13.2,6.7,1,1,1,1,Male\\r\\n1,13.2,7,1,1,0,1,Male\\r\\n1,13.4,6.4,0,0,0,0,Female\\r\\n1,12.1,5.1,0,0,0,0,Female\\r\\n1,13.2,7.1,1,1,1,1,Male\\r\\n1,13.7,6.6,0,1,0,1,Male\\r\\n1,12.5,5.2,0,0,0,0,Female\\r\\n1,11.8,6.1,0,0,0,0,Female\\r\\n1,13.8,5.8,1,0,1,0,Male\\r\\n1,14,5.2,0,0,0,0,Female\\r\\n1,12.4,6.4,0,0,1,1,Female\\r\\n1,14.6,6.8,1,1,1,1,Male\\r\\n1,13.6,6.3,1,1,1,1,Male\\r\\n1,12.7,6.5,0,0,0,0,Female\\r\\n1,13.2,6.1,1,1,1,1,Male\\r\\n1,11.5,5.6,0,0,0,0,Female\\r\\n1,14.9,6.2,1,1,1,1,Male\\r\\n1,14.1,6,0,0,0,0,Female\\r\\n1,11.8,5.8,0,0,0,0,Female\\r\\n1,13,5.7,1,1,1,1,Male\\r\\n1,11.7,6.5,0,0,0,0,Female\\r\\n0,11.4,5.4,0,0,0,1,Female\\r\\n1,13.6,5.5,0,0,1,0,Female\\r\\n1,13.7,6.1,0,0,0,0,Female\\r\\n1,11.5,5.3,0,0,0,0,Female\\r\\n1,11.6,5.2,1,0,1,1,Male\\r\\n1,11.6,6.4,0,1,0,0,Female\\r\\n1,13.1,5.4,0,0,0,0,Female\\r\\n1,15.3,5.7,0,1,1,1,Male\\r\\n1,14.2,6.6,1,1,1,1,Male\\r\\n1,13.6,5.9,0,0,0,0,Female\\r\\n1,14.2,6.9,1,1,1,1,Male\\r\\n1,13.5,6,0,1,1,0,Female\\r\\n1,13.3,6,1,1,0,1,Male\\r\\n1,14.1,5.8,0,0,0,0,Female\\r\\n1,13.4,5.7,0,0,0,0,Female\\r\\n1,15.1,7.1,1,1,1,1,Male\\r\\n1,14.3,6.2,0,0,0,1,Female\\r\\n1,13.7,5.8,0,1,1,1,Male\\r\\n1,12.2,5.9,1,1,1,1,Male\\r\\n1,14.9,5.9,1,0,1,1,Male\\r\\n1,13.9,5.7,0,0,0,0,Female\\r\\n1,13.4,5.2,0,0,0,0,Female\\r\\n1,13,5.4,0,1,0,1,Female\\r\\n1,14.1,6,0,0,0,0,Female\\r\\n1,12.2,5.8,1,0,0,0,Female\\r\\n1,13.3,6.3,0,0,0,0,Female\\r\\n1,12.2,5.9,1,1,1,0,Male\\r\\n1,13,6.5,1,1,1,1,Male\\r\\n1,15.4,6.9,1,1,1,1,Male\\r\\n1,12.6,6.4,0,0,0,1,Female\\r\\n1,15.2,6.8,1,1,1,1,Male\\r\\n1,13.9,5.6,1,1,1,1,Male\\r\\n1,14,5.3,1,1,1,1,Male\\r\\n1,13.5,6.4,1,0,0,0,Female\\r\\n1,11.5,6.2,1,1,0,0,Male\\r\\n1,13.6,6.3,1,0,0,1,Male\\r\\n1,14,5.5,1,1,1,1,Male\\r\\n1,13,5.4,0,0,0,0,Female\\r\\n0,15.3,5.3,1,0,0,1,Male\\r\\n1,12.2,6,0,0,0,0,Female\\r\\n1,12.8,6.3,0,0,0,0,Female\\r\\n1,13.5,6.4,1,0,0,0,Female\\r\\n1,12.5,6.5,1,1,1,1,Male\\r\\n1,12.8,5.6,1,1,1,1,Male\\r\\n1,12,6.6,1,1,1,1,Male\\r\\n0,13.6,5.9,1,1,1,1,Male\\r\\n1,12.2,5.2,1,0,0,0,Female\\r\\n1,15.1,5.4,1,1,1,1,Male\\r\\n1,13.4,5.8,0,1,0,0,Female\\r\\n1,13.8,5.9,1,0,0,0,Female\\r\\n1,11.4,5.1,0,0,0,0,Female\\r\\n0,12.2,5.7,1,1,1,1,Male\\r\\n1,14.6,6.5,1,1,1,0,Male\\r\\n1,12.2,5.7,1,0,0,0,Female\\r\\n1,12.7,5.1,1,0,1,1,Male\\r\\n1,12.4,6.8,1,1,0,1,Male\\r\\n1,11.8,5.4,1,0,0,0,Female\\r\\n1,14.7,7.1,1,1,1,1,Male\\r\\n1,14.8,6.9,1,1,1,1,Male\\r\\n0,12,6.4,1,1,0,1,Male\\r\\n1,14.5,5.1,0,1,1,1,Male\\r\\n1,14,6,0,1,0,0,Female\\r\\n1,14.3,5.9,1,0,1,1,Female\\r\\n0,12.2,6.1,1,1,0,1,Male\\r\\n1,14.8,5.3,1,1,1,1,Male\\r\\n1,15.1,5.6,1,1,1,1,Male\\r\\n1,12.6,6.1,1,0,1,0,Female\\r\\n1,13.8,6.2,1,1,0,1,Male\\r\\n1,14.1,5.8,0,0,1,0,Female\\r\\n0,13.8,6.4,1,1,1,1,Male\\r\\n0,15,6.7,1,1,1,1,Male\\r\\n1,12.9,5.8,1,1,0,1,Male\\r\\n1,13.1,6.6,1,1,1,1,Male\\r\\n0,11.8,5.6,0,0,0,0,Female\\r\\n1,13.7,5.6,0,0,0,0,Female\\r\\n1,11.7,6,1,1,0,0,Female\\r\\n1,13.1,6.4,0,0,0,0,Female\\r\\n1,14.3,5.7,0,0,0,0,Female\\r\\n1,15.4,5.4,1,1,1,1,Male\\r\\n1,12.4,5.1,0,0,0,0,Female\\r\\n1,14.2,6.4,0,0,0,1,Female\\r\\n1,13.4,5.7,0,0,0,0,Female\\r\\n1,14,5.3,1,1,1,1,Male\\r\\n1,13.5,5.5,1,1,1,1,Male\\r\\n0,14,5.4,1,1,1,1,Male\\r\\n1,12.2,5.6,0,0,0,0,Female\\r\\n1,11.8,6.3,0,0,0,1,Female\\r\\n1,13.9,6.2,0,0,1,0,Female\\r\\n1,11.4,6.1,0,0,0,0,Female\\r\\n1,12.2,6.4,0,1,0,0,Female\\r\\n1,13.9,5.1,1,1,1,0,Male\\r\\n1,12.7,6.3,0,0,0,0,Female\\r\\n1,13.7,5.2,1,0,0,1,Female\\r\\n0,11.4,5.4,0,0,0,0,Female\\r\\n1,12.4,6.6,1,0,1,1,Male\\r\\n1,14.7,5.6,1,1,1,1,Male\\r\\n1,14.9,6.7,1,1,1,1,Male\\r\\n1,12.8,5.7,1,0,0,0,Female\\r\\n1,13.7,6.1,0,0,0,0,Female\\r\\n1,13.2,7,1,1,1,1,Male\\r\\n1,14,5.6,0,0,0,0,Female\\r\\n1,12.3,6.3,1,1,1,1,Male\\r\\n1,12.7,5.8,1,1,1,1,Male\\r\\n1,11.9,6,0,0,0,0,Female\\r\\n1,13.9,5.1,0,0,0,0,Female\\r\\n1,13.9,6.3,0,0,0,0,Female\\r\\n0,15.2,5.6,1,1,1,1,Male\\r\\n1,11.5,6.7,1,1,0,1,Male\\r\\n1,13.1,5.3,1,1,1,1,Male\\r\\n1,14.4,5.3,1,1,1,1,Male\\r\\n1,14.2,5.9,0,0,0,0,Female\\r\\n1,13.2,6.9,1,0,1,1,Male\\r\\n1,14.4,6.4,1,1,1,1,Male\\r\\n1,14.1,5.7,0,0,0,0,Female\\r\\n1,13.7,5.3,0,0,0,0,Female\\r\\n1,12.2,5.3,0,0,0,0,Female\\r\\n0,14.9,5.9,1,1,1,1,Male\\r\\n1,13.3,6.1,1,1,1,1,Male\\r\\n1,14.7,7,0,0,1,1,Male\\r\\n1,14.8,5.9,1,1,0,0,Male\\r\\n1,14.8,6,1,1,1,1,Male\\r\\n1,13.1,6.7,1,0,0,1,Male\\r\\n1,12.5,5.7,0,0,0,0,Female\\r\\n1,13.8,7,1,1,1,1,Male\\r\\n0,12.9,6.2,0,0,0,0,Female\\r\\n1,13,5.4,1,1,1,0,Male\\r\\n1,14.3,6.2,1,1,0,1,Male\\r\\n1,12,6.3,1,1,1,0,Male\\r\\n1,13.1,6.5,1,1,1,1,Male\\r\\n0,15.5,6.3,1,0,0,1,Male\\r\\n1,12.1,5.9,1,1,1,1,Male\\r\\n1,12.1,5.2,1,0,0,0,Female\\r\\n1,12.1,6.3,0,0,1,0,Female\\r\\n1,11.7,6,0,0,0,0,Female\\r\\n1,11.5,6.5,0,0,0,0,Female\\r\\n0,12.6,6.1,1,1,1,1,Male\\r\\n0,13.2,6.3,0,0,0,0,Female\\r\\n1,11.7,5.9,0,0,0,0,Female\\r\\n1,12,6.1,1,1,1,1,Male\\r\\n1,14.2,5.2,1,1,1,1,Male\\r\\n0,13.8,6.5,1,1,1,0,Male\\r\\n0,13.8,6.8,1,1,1,1,Male\\r\\n1,11.7,6.5,0,0,0,0,Female\\r\\n1,14.9,6.6,1,1,0,1,Male\\r\\n1,12,6.9,0,1,1,1,Male\\r\\n1,11.8,6.4,0,0,0,0,Female\\r\\n1,14.1,5.8,0,0,0,0,Female\\r\\n0,13.6,5.9,0,1,0,0,Female\\r\\n0,14.8,5.4,0,0,1,1,Male\\r\\n1,11.8,6.4,0,1,0,0,Female\\r\\n1,11.8,5.4,1,0,1,1,Male\\r\\n0,13.9,6.1,0,0,0,0,Female\\r\\n1,12.6,5.4,0,0,0,0,Female\\r\\n1,12.8,6.5,0,0,1,0,Female\\r\\n1,11.7,5.7,0,0,0,0,Female\\r\\n1,11.7,5.7,1,0,0,0,Female\\r\\n1,13.7,5.8,0,0,1,0,Female\\r\\n1,12.8,7.1,1,1,1,0,Male\\r\\n1,12.3,6.2,0,0,1,0,Female\\r\\n1,11.9,5.5,0,1,0,1,Male\\r\\n1,12.9,6.5,0,0,0,0,Female\\r\\n1,12.2,6,0,1,0,0,Female\\r\\n1,12.6,5.1,0,1,1,1,Male\\r\\n1,14.3,6.1,0,0,0,0,Female\\r\\n1,14.7,5.6,1,1,1,1,Male\\r\\n1,14.9,6.6,1,1,1,1,Male\\r\\n1,11.4,5.6,0,0,0,0,Female\\r\\n1,15.3,6.2,1,0,1,1,Male\\r\\n1,13.9,6.8,1,1,1,1,Male\\r\\n1,15.5,6.8,1,1,1,1,Male\\r\\n0,12.9,6,0,0,0,0,Female\\r\\n1,11.7,6.4,1,0,0,1,Female\\r\\n1,14.3,6.2,0,0,0,0,Female\\r\\n1,11.7,5.3,0,0,0,1,Female\\r\\n1,11.8,5.5,0,1,0,1,Female\\r\\n0,15,6.3,1,1,1,1,Male\\r\\n1,12.5,5.9,1,1,1,1,Male\\r\\n1,12.2,5.8,1,0,1,0,Male\\r\\n1,12.6,5.2,0,0,0,0,Female\\r\\n0,13.9,5.9,1,1,1,1,Male\\r\\n0,11.9,6.3,1,1,0,1,Male\\r\\n0,12.3,5.5,0,0,0,0,Female\\r\\n1,11.9,6.8,0,1,1,1,Male\\r\\n0,12.6,5.4,0,0,0,0,Female\\r\\n1,12.2,5.2,1,0,1,1,Male\\r\\n1,14.1,6.1,0,0,0,1,Female\\r\\n1,12.9,7.1,1,1,1,1,Male\\r\\n1,13.5,5.4,1,1,1,1,Male\\r\\n1,12.6,5.7,0,0,0,0,Female\\r\\n1,13.5,5.6,1,0,0,0,Female\\r\\n1,13.2,7,1,0,1,0,Male\\r\\n1,13.5,6.4,1,0,1,0,Female\\r\\n1,12.3,5.9,0,0,0,0,Female\\r\\n1,13.3,6.4,1,0,1,0,Male\\r\\n1,11.7,5.4,1,1,1,1,Male\\r\\n1,11.5,6.3,0,1,1,1,Male\\r\\n1,14.2,6.4,1,0,1,1,Male\\r\\n1,13.8,5.9,1,1,1,1,Male\\r\\n1,11.5,5.3,0,0,0,0,Female\\r\\n1,11.5,5.9,0,0,1,0,Female\\r\\n1,13,5.9,0,0,1,0,Female\\r\\n1,12.2,5.2,0,0,0,0,Female\\r\\n1,14.4,5.3,1,1,1,1,Male\\r\\n1,14.2,5.8,1,1,1,0,Male\\r\\n1,13.9,6.2,1,1,1,1,Male\\r\\n0,13.1,6.1,0,0,0,0,Female\\r\\n1,13.2,5.9,1,0,0,0,Female\\r\\n1,13.1,6.6,1,1,0,1,Male\\r\\n1,12,6.5,0,0,0,0,Female\\r\\n1,13.3,6.3,0,0,0,0,Female\\r\\n1,13.4,5.1,0,0,0,0,Female\\r\\n1,11.5,5.1,0,0,0,0,Female\\r\\n1,13.8,5.1,0,0,1,0,Female\\r\\n1,13.3,5.4,0,0,0,0,Female\\r\\n1,13.1,6.1,0,0,1,0,Female\\r\\n1,15.2,6.4,1,1,1,1,Male\\r\\n1,11.9,6.3,1,1,1,0,Male\\r\\n1,12.7,6.3,0,0,0,0,Female\\r\\n1,13.7,6.4,0,0,0,0,Female\\r\\n1,13,5.8,0,0,0,0,Female\\r\\n1,12.4,6.6,1,1,1,1,Male\\r\\n1,12.2,5.2,0,1,1,1,Male\\r\\n1,12.4,5.7,0,0,0,0,Female\\r\\n1,12.3,6,1,0,0,0,Female\\r\\n1,14.1,5.4,1,1,0,1,Male\\r\\n1,11.5,6.2,0,1,0,0,Female\\r\\n1,13.3,5.5,0,0,0,0,Female\\r\\n1,12.9,5.3,0,0,0,0,Female\\r\\n1,13.5,6.4,1,1,1,1,Male\\r\\n0,12.9,6.2,0,0,0,0,Female\\r\\n1,12.8,5.6,0,0,0,0,Female\\r\\n1,12.6,5.2,0,1,1,0,Female\\r\\n1,12,7.1,1,1,1,1,Male\\r\\n1,11.6,5.5,0,0,0,0,Female\\r\\n1,12.3,6.9,1,1,1,1,Male\\r\\n1,13.4,6.1,1,1,1,1,Male\\r\\n1,15.1,6.6,1,1,1,1,Male\\r\\n1,13.5,5.9,0,1,0,0,Female\\r\\n1,13.6,5.5,0,0,0,0,Female\\r\\n1,12.4,6.8,1,1,1,0,Male\\r\\n1,12.4,6.4,1,1,1,1,Male\\r\\n1,12.8,6.6,1,1,1,1,Male\\r\\n1,12.5,5.6,0,1,0,0,Female\\r\\n1,12.8,5.3,0,1,0,0,Female\\r\\n1,12,6.3,0,0,0,0,Female\\r\\n1,13.3,6.1,1,1,1,1,Male\\r\\n0,13.6,5.7,1,1,1,1,Male\\r\\n1,11.8,6,1,1,1,1,Male\\r\\n1,12.6,6.7,1,1,1,1,Male\\r\\n1,13.8,5.8,0,1,1,0,Male\\r\\n1,12,5.5,0,0,0,0,Female\\r\\n1,12,5.2,0,1,0,0,Female\\r\\n0,15.3,6.8,1,1,1,1,Male\\r\\n1,14.3,5.9,0,0,0,0,Female\\r\\n1,12.3,5.8,0,0,0,0,Female\\r\\n1,15,5.6,1,1,1,1,Male\\r\\n1,13.5,6.5,1,1,1,1,Male\\r\\n1,13.2,6.2,1,1,1,0,Male\\r\\n1,11.5,6.4,0,0,0,0,Female\\r\\n1,14.6,5.3,1,1,1,1,Male\\r\\n1,14.3,6.5,0,1,0,0,Female\\r\\n1,11.4,5.5,0,0,0,0,Female\\r\\n1,12.7,5.3,0,0,0,1,Female\\r\\n1,11.4,6.4,0,1,0,0,Female\\r\\n1,14.6,6.9,1,1,1,1,Male\\r\\n1,11.5,5.5,1,1,1,1,Male\\r\\n1,12.7,5.6,0,1,0,0,Female\\r\\n1,11.5,6,1,0,0,0,Female\\r\\n1,12.2,5.1,0,0,0,0,Female\\r\\n1,14.2,5.3,1,1,1,0,Male\\r\\n1,11.7,5.2,0,0,0,0,Female\\r\\n1,12.5,5.8,0,0,0,0,Female\\r\\n1,13.5,5.4,0,1,0,0,Male\\r\\n1,11.5,6.5,0,0,0,0,Female\\r\\n1,13.8,5.7,0,0,0,0,Female\\r\\n1,11.6,5.8,1,1,1,1,Male\\r\\n1,13.1,6.1,0,0,0,0,Female\\r\\n0,13.7,5.8,1,1,1,1,Male\\r\\n1,11.8,6,0,0,1,0,Female\\r\\n1,13.4,6.5,1,1,0,1,Male\\r\\n1,12.5,6.7,1,1,1,1,Male\\r\\n0,14.9,6,1,1,1,1,Male\\r\\n1,15.4,7.1,1,1,1,1,Male\\r\\n1,15.3,6.4,1,1,0,1,Male\\r\\n1,13.4,5.4,0,0,0,0,Female\\r\\n1,14,6.5,0,0,0,0,Female\\r\\n1,14.3,6,1,1,1,1,Male\\r\\n1,13.3,6.3,1,1,0,0,Female\\r\\n1,11.8,5.7,1,1,1,1,Male\\r\\n1,15.2,6.6,1,1,1,1,Male\\r\\n1,11.5,6.2,1,0,1,1,Male\\r\\n1,14.7,5.7,0,1,1,1,Male\\r\\n1,11.7,5.9,0,0,1,0,Female\\r\\n1,13.3,5.4,1,1,1,1,Male\\r\\n1,14.1,5.7,1,1,1,1,Male\\r\\n1,13,5.4,0,0,0,0,Female\\r\\n1,13,6.3,0,0,0,1,Female\\r\\n1,14.6,5.3,0,0,1,1,Male\\r\\n1,15.1,6.5,1,1,1,1,Male\\r\\n1,13.7,5.8,0,0,0,0,Female\\r\\n1,13.5,6.1,0,0,0,0,Female\\r\\n0,12.9,5.7,0,0,0,0,Female\\r\\n1,13.3,6.2,0,0,0,0,Female\\r\\n1,12.2,6.2,0,0,0,0,Female\\r\\n1,13.1,5.1,0,1,0,0,Female\\r\\n1,12.5,6,1,1,0,1,Male\\r\\n1,13.4,5.5,0,0,0,0,Female\\r\\n1,14.3,6.7,0,1,1,1,Male\\r\\n1,12.8,7,0,1,1,1,Male\\r\\n1,12.4,5.3,0,1,0,0,Female\\r\\n1,13,5.1,0,0,0,0,Female\\r\\n1,13.7,6.8,1,1,1,1,Male\\r\\n1,13.4,5.1,0,0,0,0,Female\\r\\n0,12,6.2,0,1,0,0,Female\\r\\n1,13.5,6.1,0,0,0,0,Female\\r\\n1,11.6,6.5,0,0,0,0,Female\\r\\n1,15.1,6.1,1,1,1,1,Male\\r\\n1,15,6,1,1,1,0,Male\\r\\n1,12.1,5.1,1,0,0,0,Female\\r\\n1,14.1,5.3,0,1,0,1,Female\\r\\n0,14.1,6.1,0,0,0,0,Female\\r\\n1,12.3,6.4,1,1,1,1,Male\\r\\n1,13.1,5.8,0,0,0,1,Female\\r\\n1,14.6,6.8,1,1,0,1,Male\\r\\n1,11.8,6.1,1,0,1,1,Male\\r\\n0,15.5,6.4,1,0,1,1,Male\\r\\n1,12,6.1,0,0,0,0,Female\\r\\n0,12,5.5,0,0,0,0,Female\\r\\n0,14.7,6.5,1,1,1,1,Male\\r\\n1,12.2,6.4,1,1,1,1,Male\\r\\n1,15.5,5.3,1,1,1,1,Male\\r\\n1,11.4,5.1,0,0,0,0,Female\\r\\n1,12.4,5.9,1,1,1,1,Male\\r\\n1,11.5,6.3,1,1,0,1,Male\\r\\n1,12.4,6,0,0,0,1,Female\\r\\n1,12.6,6.5,1,1,0,1,Male\\r\\n1,13.2,6.9,1,1,1,1,Male\\r\\n1,12.6,6,1,1,1,1,Male\\r\\n1,12.1,5.9,0,0,0,0,Female\\r\\n1,12.1,5.9,0,0,0,0,Female\\r\\n1,14.1,6.4,1,1,0,0,Female\\r\\n1,12.4,6.2,0,0,0,0,Female\\r\\n1,12.2,5.7,1,1,0,1,Male\\r\\n1,14.5,7.1,1,1,1,0,Male\\r\\n0,12.1,6.1,0,0,0,0,Female\\r\\n1,13.7,5.7,0,0,0,0,Female\\r\\n1,11.9,5.6,1,1,0,0,Female\\r\\n1,11.6,6.8,1,1,1,0,Male\\r\\n0,14.2,5.8,0,0,0,0,Female\\r\\n1,12.9,6.4,0,0,0,1,Female\\r\\n1,13.2,7.1,1,1,1,1,Male\\r\\n0,13.9,5.4,0,0,0,0,Female\\r\\n1,13.2,7,1,1,1,1,Male\\r\\n1,11.7,6,1,1,1,1,Male\\r\\n0,14.1,5.5,1,0,0,0,Female\\r\\n1,12.3,5.8,1,0,0,0,Female\\r\\n1,13.9,5.1,1,1,1,1,Male\\r\\n0,12,5.8,0,0,0,0,Female\\r\\n1,12.7,6.5,1,1,1,0,Male\\r\\n1,14.6,5.4,0,1,1,0,Male\\r\\n1,12.3,6.3,0,0,0,0,Female\\r\\n1,12.5,7,1,0,0,1,Male\\r\\n1,13.2,6.1,0,0,0,0,Female\\r\\n1,13.5,5.3,0,0,0,0,Female\\r\\n0,13.8,6.1,1,1,0,1,Male\\r\\n1,13.2,6.3,1,1,0,1,Male\\r\\n1,13,7,1,1,1,1,Male\\r\\n1,13.5,6,1,1,1,1,Male\\r\\n1,14,7,1,1,0,1,Male\\r\\n1,14.2,6.2,0,1,0,0,Female\\r\\n1,14.3,6.5,0,0,0,0,Female\\r\\n1,12.8,6.1,0,0,0,1,Female\\r\\n1,15,6.6,1,1,1,0,Male\\r\\n1,15.1,5.6,1,1,0,1,Male\\r\\n1,12,6.2,0,0,0,0,Female\\r\\n1,13.3,6,0,0,0,0,Female\\r\\n1,13.3,6.3,0,1,0,0,Female\\r\\n1,11.9,5.7,0,0,0,0,Female\\r\\n0,13.2,6.3,1,1,1,1,Male\\r\\n1,13.3,5.9,0,1,1,1,Male\\r\\n0,11.7,7,1,1,1,0,Male\\r\\n1,13.8,7,1,1,1,1,Male\\r\\n1,13.3,6.2,1,0,1,0,Male\\r\\n1,12.1,5.8,0,1,0,0,Female\\r\\n1,14.3,6.1,1,1,1,1,Male\\r\\n0,14.5,6.5,1,1,1,1,Male\\r\\n1,11.5,6.4,1,1,1,1,Male\\r\\n1,12.8,6.2,1,1,1,1,Male\\r\\n1,13.1,5.3,1,1,0,1,Male\\r\\n0,13.4,5.3,1,1,1,1,Male\\r\\n1,12.6,6.5,0,0,0,0,Female\\r\\n1,11.6,6.2,0,0,0,0,Female\\r\\n1,11.7,6,0,0,0,0,Female\\r\\n1,13.9,5.5,1,0,0,0,Female\\r\\n1,13.8,5.3,1,1,1,1,Male\\r\\n1,12.5,6,0,1,0,0,Female\\r\\n1,13.6,5.3,0,1,0,1,Male\\r\\n0,12.7,6,0,0,0,1,Female\\r\\n1,14.1,5.3,0,0,0,0,Female\\r\\n1,12.1,6.2,1,1,1,0,Male\\r\\n1,14.9,6,1,1,1,1,Male\\r\\n1,14.2,5.7,1,1,1,1,Male\\r\\n1,13.4,6.1,1,1,1,1,Male\\r\\n0,13.5,6.4,1,1,1,1,Male\\r\\n1,13.4,5.4,1,0,0,0,Female\\r\\n1,14.1,6.3,0,0,0,0,Female\\r\\n1,12.5,5.2,0,0,0,0,Female\\r\\n1,14,6.3,1,1,0,0,Female\\r\\n1,13.4,6.4,0,0,0,0,Female\\r\\n1,14.6,6.1,1,1,1,1,Male\\r\\n1,12.6,6.2,0,0,0,0,Female\\r\\n1,14.1,5.2,0,0,0,0,Female\\r\\n1,11.8,6.7,1,0,1,1,Male\\r\\n1,14.9,6.5,1,1,0,1,Male\\r\\n1,15.1,6.1,1,1,1,1,Male\\r\\n1,15.4,7,1,1,1,1,Male\\r\\n0,13.6,5.7,1,1,1,1,Male\\r\\n0,13,5.3,1,1,1,1,Male\\r\\n1,14.3,5.6,1,1,1,1,Male\\r\\n1,13.9,6.4,0,0,0,1,Female\\r\\n1,12.4,5.1,1,1,1,1,Male\\r\\n1,11.9,5.3,0,0,0,0,Female\\r\\n1,14.8,6.2,1,1,1,1,Male\\r\\n1,13,5.5,1,1,1,1,Male\\r\\n0,12.8,7.1,0,0,1,1,Male\\r\\n0,11.4,6.5,0,0,0,0,Female\\r\\n1,13.8,6.2,1,1,1,1,Male\\r\\n1,11.7,5.9,0,0,0,1,Female\\r\\n1,11.5,5.9,1,1,1,1,Male\\r\\n0,14,6.3,1,1,1,0,Male\\r\\n1,12.9,6.3,1,1,1,1,Male\\r\\n1,12.6,6.6,1,1,1,1,Male\\r\\n1,11.6,5.3,0,0,0,1,Female\\r\\n1,13,6.3,1,1,1,0,Male\\r\\n1,12.1,6.4,1,1,0,1,Male\\r\\n1,12,6.1,0,0,0,0,Female\\r\\n1,11.5,5.3,0,0,0,0,Female\\r\\n1,15.5,6.8,1,1,1,1,Male\\r\\n1,13.8,6.3,0,0,0,0,Female\\r\\n1,13.9,6.3,1,1,0,0,Male\\r\\n1,13.4,6.9,0,0,1,1,Male\\r\\n0,14.3,5.9,1,1,1,0,Male\\r\\n1,12.9,5.7,0,0,0,0,Female\\r\\n1,13.4,6.4,0,1,0,0,Female\\r\\n1,11.7,6.3,0,0,0,0,Female\\r\\n1,13.6,6.2,1,1,1,0,Male\\r\\n1,13.4,6.1,1,0,0,0,Female\\r\\n1,13.7,5.2,0,1,0,0,Female\\r\\n1,14.2,5.6,1,1,1,1,Male\\r\\n1,12.1,5.9,0,1,0,0,Female\\r\\n1,13.5,6.2,1,1,1,1,Male\\r\\n1,14.2,6,0,0,0,0,Female\\r\\n1,14.7,6.9,1,1,1,0,Male\\r\\n1,13.4,6.4,1,0,0,0,Female\\r\\n0,12.8,5.7,1,1,0,1,Male\\r\\n1,14.7,5.1,1,1,1,1,Male\\r\\n1,13.2,5.9,1,1,1,1,Male\\r\\n1,12.3,6.6,1,1,1,1,Male\\r\\n1,14,5.8,1,1,1,1,Male\\r\\n0,13.8,5.8,1,1,1,1,Male\\r\\n1,15.5,6.5,1,1,1,1,Male\\r\\n1,12.6,6.6,1,1,1,1,Male\\r\\n1,15.2,7,1,1,1,1,Male\\r\\n1,14.3,5.4,0,0,0,0,Female\\r\\n1,14.8,5.1,1,1,1,1,Male\\r\\n1,12.6,5.6,0,0,1,1,Female\\r\\n1,13.6,6.1,0,0,0,0,Female\\r\\n1,15,7,1,1,1,1,Male\\r\\n0,12.1,6.3,0,0,0,0,Female\\r\\n0,13.4,6.2,0,1,1,1,Male\\r\\n1,12.2,6.5,1,0,1,1,Male\\r\\n1,12.7,5.8,1,1,0,1,Female\\r\\n1,13.1,5.9,1,1,0,1,Male\\r\\n1,14.6,6.9,1,1,1,1,Male\\r\\n1,14.7,6.3,1,1,1,0,Male\\r\\n0,15.5,5.5,1,1,1,1,Male\\r\\n0,14.9,6.6,1,1,1,1,Male\\r\\n1,14.3,5.2,1,1,1,1,Male\\r\\n1,11.9,6.3,0,1,1,1,Male\\r\\n1,13.6,5.5,1,1,1,1,Male\\r\\n1,14,5.9,0,0,0,0,Female\\r\\n1,12.4,5.7,0,0,0,0,Female\\r\\n1,11.9,6.1,1,1,1,1,Male\\r\\n1,14.2,5.1,1,0,1,1,Male\\r\\n1,11.9,6.4,1,1,1,1,Male\\r\\n1,13.3,5.9,1,1,1,1,Male\\r\\n1,12,6.6,1,1,1,1,Male\\r\\n1,13.9,6.5,1,1,1,1,Male\\r\\n1,13.8,6.5,1,1,1,1,Male\\r\\n1,14,6,0,0,0,0,Female\\r\\n1,12,5.9,0,0,0,0,Female\\r\\n1,14.1,6.5,1,0,1,1,Male\\r\\n0,11.7,5.4,0,0,0,0,Female\\r\\n1,13,5.4,0,0,0,0,Female\\r\\n1,11.4,6,0,0,0,0,Female\\r\\n1,12.7,5.5,0,1,1,0,Female\\r\\n1,12.7,5.4,0,1,1,1,Male\\r\\n1,13.9,5.2,1,0,0,0,Female\\r\\n1,14.6,5.2,1,1,1,1,Male\\r\\n0,13.6,5.5,0,0,0,0,Female\\r\\n1,11.8,5.1,0,0,0,0,Female\\r\\n1,12.1,5.9,0,0,0,0,Female\\r\\n1,14.3,5.1,1,0,1,1,Male\\r\\n1,15.4,6.9,1,1,0,1,Male\\r\\n1,11.9,5.5,0,0,0,0,Female\\r\\n1,14,7,1,0,0,1,Male\\r\\n1,13.1,5.1,0,1,0,0,Female\\r\\n1,11.7,5.2,0,1,0,1,Male\\r\\n1,12.2,6.5,1,1,1,1,Male\\r\\n1,15.2,7.1,1,1,1,1,Male\\r\\n1,13.2,5.2,1,0,0,0,Female\\r\\n1,15.4,5.2,1,1,1,0,Male\\r\\n1,12.1,6.1,1,1,1,0,Male\\r\\n1,14,5.6,0,0,0,0,Female\\r\\n1,13.3,5.8,0,0,0,0,Female\\r\\n1,12.9,5.6,0,0,0,0,Female\\r\\n1,11.7,6,1,1,1,1,Male\\r\\n1,15.2,6.8,1,1,1,1,Male\\r\\n1,12.6,6.4,0,0,0,0,Female\\r\\n1,12.5,6,0,0,0,0,Female\\r\\n1,11.5,6,0,1,0,0,Female\\r\\n1,12.3,5.2,1,1,1,1,Male\\r\\n1,13.6,5.2,0,0,0,0,Female\\r\\n1,13.1,6.4,1,1,1,1,Male\\r\\n1,11.6,6.5,1,1,1,1,Male\\r\\n0,13.5,7.1,1,1,1,1,Male\\r\\n1,12.1,5.4,0,0,0,0,Female\\r\\n0,15.2,5.4,1,1,1,1,Male\\r\\n1,11.9,5.9,0,0,1,0,Female\\r\\n1,11.4,5.1,0,0,1,0,Female\\r\\n1,11.9,6.9,1,1,1,1,Male\\r\\n0,11.8,7,1,1,1,0,Male\\r\\n1,13.6,5.1,1,0,1,1,Male\\r\\n1,11.9,6.1,1,1,1,0,Male\\r\\n1,13.3,5.9,0,0,0,0,Female\\r\\n1,13.9,5.1,1,1,0,0,Female\\r\\n1,12.6,6.8,1,1,0,1,Male\\r\\n1,12.1,6.1,1,1,1,1,Male\\r\\n0,14,5.1,1,1,1,1,Male\\r\\n1,12.4,5.8,0,0,0,0,Female\\r\\n1,12.3,5.9,0,0,0,0,Female\\r\\n1,14,6.3,1,1,1,1,Male\\r\\n1,12.7,5.9,1,1,1,1,Male\\r\\n1,13.8,6.3,1,1,1,1,Male\\r\\n1,13,5.7,1,1,1,1,Male\\r\\n0,14,5.9,1,1,1,1,Male\\r\\n1,14.3,6.4,0,0,0,0,Female\\r\\n1,11.9,5.9,0,1,1,1,Male\\r\\n1,14.4,7.1,1,1,1,1,Male\\r\\n1,13.5,6.3,0,0,0,1,Female\\r\\n1,12.2,7.1,0,1,1,1,Male\\r\\n1,11.9,5.8,1,1,1,0,Male\\r\\n0,13.2,6.3,0,0,0,1,Female\\r\\n1,14.5,5.7,1,1,1,1,Male\\r\\n1,13,6,0,0,0,0,Female\\r\\n1,12,6.1,1,1,1,1,Male\\r\\n1,12.6,6.1,0,1,0,0,Female\\r\\n1,15.4,5.2,1,1,1,1,Male\\r\\n1,12.8,5.5,0,0,0,0,Female\\r\\n1,12.9,5.7,0,0,0,0,Female\\r\\n0,15.3,5.9,1,1,1,1,Male\\r\\n0,14,5.5,0,0,0,0,Female\\r\\n1,11.8,6,0,0,0,0,Female\\r\\n1,12.8,5.2,0,1,0,0,Female\\r\\n1,14.8,5.2,1,1,1,0,Male\\r\\n1,14.4,6.5,1,1,0,1,Male\\r\\n0,13.1,5.9,0,0,0,0,Female\\r\\n0,13.9,6,0,0,0,0,Female\\r\\n1,11.7,5.2,0,0,0,0,Female\\r\\n1,13.2,5.1,1,1,1,0,Male\\r\\n1,12.9,6.1,0,0,0,0,Female\\r\\n0,13.3,6,1,1,1,1,Male\\r\\n1,13,6.5,0,0,0,0,Female\\r\\n1,13.5,5.7,0,0,0,0,Female\\r\\n1,11.7,5.7,1,1,1,1,Male\\r\\n1,12.2,5.5,0,0,0,1,Female\\r\\n1,13.2,6.1,0,0,0,0,Female\\r\\n1,12.7,6,0,0,0,0,Female\\r\\n1,13.3,5.4,0,1,0,0,Female\\r\\n1,12.3,6.5,0,0,0,0,Female\\r\\n1,12.8,5.1,0,0,0,0,Female\\r\\n1,11.4,6,0,1,0,0,Female\\r\\n1,11.6,5.9,0,0,0,0,Female\\r\\n0,14.1,6.7,1,1,1,1,Male\\r\\n1,13.8,5.5,1,1,1,1,Male\\r\\n0,12.5,6.2,0,0,0,0,Female\\r\\n1,13.2,5.2,1,1,1,1,Male\\r\\n1,14.1,5.7,0,0,0,0,Female\\r\\n0,13,5.5,1,0,1,0,Male\\r\\n1,14,5.7,0,0,0,0,Female\\r\\n1,14.1,6.1,0,0,0,0,Female\\r\\n1,13.7,5.8,1,1,1,1,Male\\r\\n1,14.2,6.5,0,0,1,0,Female\\r\\n0,12.5,6.4,0,0,0,0,Female\\r\\n1,12.8,5.7,0,0,0,1,Female\\r\\n1,11.5,5.4,0,0,0,0,Female\\r\\n1,12.4,6.6,1,1,1,1,Male\\r\\n1,14.3,6.5,1,1,1,1,Male\\r\\n1,14.5,6.5,0,1,1,1,Male\\r\\n1,11.9,5.2,0,0,0,1,Female\\r\\n1,15.5,5.3,0,1,1,1,Male\\r\\n1,12.2,5.1,1,1,1,0,Male\\r\\n1,11.6,5.6,0,0,0,0,Female\\r\\n1,14.9,5.3,1,1,1,1,Male\\r\\n1,11.6,6,0,0,0,0,Female\\r\\n1,12.1,6,1,1,1,1,Male\\r\\n1,13.6,6.2,0,0,0,1,Female\\r\\n1,11.8,6.3,0,0,0,0,Female\\r\\n1,11.6,5.1,1,1,1,0,Male\\r\\n1,11.8,6.9,1,0,1,0,Male\\r\\n0,12.3,6.4,0,0,0,0,Female\\r\\n1,13.6,6.5,0,1,1,0,Female\\r\\n1,14.6,6.5,1,1,1,1,Male\\r\\n1,13.1,5.3,0,1,0,1,Female\\r\\n1,15.1,7,1,1,1,1,Male\\r\\n1,13.8,6.2,1,1,1,1,Male\\r\\n1,13.3,5.4,1,0,0,0,Female\\r\\n1,11.7,5.4,0,0,0,0,Female\\r\\n1,12.1,6.3,1,1,1,1,Male\\r\\n0,13,5.1,0,0,1,1,Male\\r\\n1,13.2,5.7,0,1,1,1,Male\\r\\n1,14.1,6.4,0,0,1,1,Female\\r\\n1,14.5,6.8,0,1,1,1,Male\\r\\n1,14,5.6,0,0,1,1,Female\\r\\n1,11.9,5.9,0,0,0,0,Female\\r\\n1,12.7,5.9,0,1,0,0,Female\\r\\n1,12.4,5.4,0,0,0,0,Female\\r\\n1,12.2,6.1,1,1,1,1,Male\\r\\n0,14.1,5.8,0,0,0,0,Female\\r\\n1,13.1,6.3,0,1,1,0,Male\\r\\n1,15,6.5,1,1,1,1,Male\\r\\n1,11.7,5.1,1,1,1,1,Male\\r\\n1,12.6,5.8,1,0,1,1,Male\\r\\n1,11.9,6,0,0,0,0,Female\\r\\n1,13.6,5.8,0,0,0,0,Female\\r\\n1,11.6,6.5,0,0,0,0,Female\\r\\n0,14,6.4,1,0,0,0,Female\\r\\n1,11.5,6.6,1,1,1,1,Male\\r\\n1,14,6,0,1,1,1,Male\\r\\n1,14.1,5.8,1,1,1,1,Male\\r\\n1,13,5.5,1,1,1,1,Male\\r\\n1,12.7,5.9,0,0,1,0,Female\\r\\n1,13.4,6,0,0,1,0,Female\\r\\n1,12.9,5.5,0,1,1,1,Male\\r\\n1,14.5,6,1,1,1,1,Male\\r\\n1,13.3,5.1,0,0,0,0,Female\\r\\n1,13.3,6.5,0,0,0,0,Female\\r\\n1,14.3,5.2,0,0,0,0,Female\\r\\n1,12.7,6.1,0,0,0,0,Female\\r\\n1,13.8,5.8,0,1,0,0,Female\\r\\n1,12.7,5.6,1,0,1,1,Male\\r\\n1,11.8,5.5,1,0,0,0,Female\\r\\n1,11.7,5.4,0,0,0,0,Female\\r\\n1,12,5.5,0,1,0,0,Female\\r\\n1,12.7,6.5,1,1,1,1,Male\\r\\n1,14.5,6.7,0,1,1,1,Male\\r\\n1,15.2,5.1,0,1,1,1,Male\\r\\n1,14.4,5.1,0,1,1,1,Male\\r\\n1,13,5.7,0,0,0,1,Female\\r\\n1,12,5.3,0,0,0,0,Female\\r\\n1,15.2,5.8,1,1,1,1,Male\\r\\n1,13.8,6.3,0,0,0,1,Female\\r\\n1,13.5,6.3,1,0,1,0,Female\\r\\n1,12.8,5.3,0,0,0,0,Female\\r\\n0,11.6,6.4,0,0,0,1,Female\\r\\n0,14.8,5.1,1,1,1,1,Male\\r\\n1,12.6,5.7,1,1,1,1,Male\\r\\n1,13.1,5.4,0,0,0,1,Female\\r\\n1,12.8,5.2,1,1,1,0,Male\\r\\n0,15.5,5.5,1,1,1,1,Male\\r\\n1,12.6,7.1,1,1,1,1,Male\\r\\n1,11.4,5.6,0,1,0,1,Female\\r\\n1,13.8,5.1,1,1,1,1,Male\\r\\n1,15,7,1,1,1,1,Male\\r\\n1,12.9,6.5,1,1,0,1,Male\\r\\n1,13.8,6,0,1,0,0,Female\\r\\n1,11.7,5.6,0,0,0,0,Female\\r\\n0,14.1,5.3,0,0,0,0,Female\\r\\n1,14.7,6.2,1,1,1,1,Male\\r\\n1,13.3,6.3,1,1,1,1,Male\\r\\n1,12,6.1,1,1,1,1,Male\\r\\n1,14.9,6.8,1,1,1,1,Male\\r\\n0,12.1,6.4,1,1,1,1,Male\\r\\n1,15,6.6,1,1,1,1,Male\\r\\n1,13.4,5.5,1,1,1,1,Male\\r\\n1,15,5.6,1,1,1,1,Male\\r\\n1,12.3,6.4,0,0,0,0,Female\\r\\n1,15.5,5.8,1,1,1,1,Male\\r\\n1,11.9,6.8,1,1,0,1,Male\\r\\n1,13.3,6.6,1,1,1,0,Male\\r\\n1,15,6.7,1,1,1,1,Male\\r\\n1,12.9,6.5,0,0,0,0,Female\\r\\n1,12.5,5.6,1,1,1,0,Male\\r\\n1,12.6,5.3,0,0,1,0,Female\\r\\n1,13.7,6.3,0,0,0,0,Female\\r\\n1,12.4,5.7,0,0,0,0,Female\\r\\n1,14.9,6.1,1,1,1,1,Male\\r\\n1,12,6.2,1,1,1,0,Male\\r\\n1,14.2,6,1,1,1,1,Male\\r\\n1,14.1,5.9,1,1,1,1,Male\\r\\n1,13.1,6,0,0,0,0,Female\\r\\n1,12.9,5.7,0,0,0,1,Female\\r\\n1,13.7,6,0,1,0,1,Female\\r\\n1,12.4,6.5,0,0,0,0,Female\\r\\n1,14.8,6.4,1,1,1,1,Male\\r\\n1,14,6.4,1,1,1,1,Male\\r\\n1,12.2,6.5,0,0,0,0,Female\\r\\n1,15.5,7.1,1,1,0,1,Male\\r\\n1,15,6.7,1,1,1,1,Male\\r\\n1,11.6,5.9,0,0,1,0,Female\\r\\n1,13.8,5.3,0,1,0,0,Female\\r\\n1,11.9,6.3,0,0,1,0,Female\\r\\n1,15,5.6,1,1,1,1,Male\\r\\n1,12.3,6.3,0,0,0,0,Female\\r\\n1,14.6,6.1,0,0,1,1,Male\\r\\n1,14.6,5.6,1,0,1,1,Male\\r\\n1,15.1,6.8,1,1,0,1,Male\\r\\n0,15.1,6.2,1,1,1,1,Male\\r\\n0,15,5.8,1,1,1,1,Male\\r\\n1,13.3,5.1,0,0,1,1,Female\\r\\n0,13.4,5.3,0,0,0,0,Female\\r\\n1,15.4,6.8,1,1,0,1,Male\\r\\n1,12.3,5.4,1,0,0,1,Female\\r\\n1,12.3,5.3,1,1,1,1,Male\\r\\n1,12,6.2,1,1,1,1,Male\\r\\n1,15.5,7.1,1,1,1,1,Male\\r\\n1,12.5,6.3,1,1,0,1,Male\\r\\n1,11.6,6,0,0,0,0,Female\\r\\n1,12,6.3,0,0,0,0,Female\\r\\n0,11.9,6.2,0,0,0,0,Female\\r\\n1,13.9,5.7,0,0,0,0,Female\\r\\n1,12.9,5.3,0,0,0,0,Female\\r\\n1,13.7,5.9,1,0,0,0,Female\\r\\n1,12.1,6.3,1,1,0,0,Female\\r\\n1,12.8,6.4,0,1,1,0,Male\\r\\n0,13.7,5.1,1,1,1,1,Male\\r\\n1,14,5.5,1,1,0,1,Male\\r\\n1,14.5,6.9,1,1,1,1,Male\\r\\n1,11.6,6.4,0,0,1,0,Female\\r\\n1,12.2,5.4,0,0,0,0,Female\\r\\n1,13.5,5.9,0,0,1,0,Female\\r\\n1,15.2,5.2,0,1,1,1,Male\\r\\n1,12,5.4,0,0,0,0,Female\\r\\n1,12,6.1,0,0,0,0,Female\\r\\n1,15.5,6.1,1,1,1,1,Male\\r\\n1,13.1,5.6,1,1,0,0,Male\\r\\n1,13.4,6.1,0,0,0,0,Female\\r\\n1,13.6,5.8,0,0,0,0,Female\\r\\n1,12.8,6.7,1,1,1,1,Male\\r\\n1,12.4,5.8,1,1,1,1,Male\\r\\n1,14.1,6.2,0,0,0,0,Female\\r\\n1,12.2,5.8,1,0,0,0,Female\\r\\n1,11.5,5.7,0,0,0,0,Female\\r\\n1,12.1,6.1,0,0,0,0,Female\\r\\n0,12.4,5.5,0,0,0,0,Female\\r\\n1,14.6,6.5,1,1,1,1,Male\\r\\n0,12,6.1,0,0,0,1,Female\\r\\n1,13.4,5.4,0,0,0,0,Female\\r\\n1,15.2,5.9,0,1,1,1,Male\\r\\n1,12.3,6,0,0,0,0,Female\\r\\n0,11.9,6.2,0,0,0,0,Female\\r\\n0,13.5,5.7,0,1,0,0,Female\\r\\n1,11.6,5.8,0,1,1,1,Male\\r\\n1,13.5,6.6,1,0,1,1,Male\\r\\n0,12,6.4,0,0,0,0,Female\\r\\n0,12.7,5.8,0,0,0,0,Female\\r\\n1,13.5,6.5,0,0,0,0,Female\\r\\n1,11.7,6.5,0,1,0,0,Female\\r\\n1,13.7,5.3,0,0,0,0,Female\\r\\n1,14.2,6.3,0,0,1,1,Male\\r\\n1,11.7,5.5,0,0,0,0,Female\\r\\n1,14.2,5.6,0,0,0,0,Female\\r\\n1,12.7,5.9,0,0,1,0,Female\\r\\n1,11.6,5.1,0,0,0,0,Female\\r\\n1,12.8,6.9,1,1,1,1,Male\\r\\n0,13,6.5,1,1,1,1,Male\\r\\n1,11.8,5.9,0,0,0,1,Female\\r\\n1,14.5,6.5,1,0,1,1,Male\\r\\n1,12.7,6.9,0,1,1,1,Male\\r\\n1,12.7,5.9,1,1,1,1,Male\\r\\n1,11.9,6.3,0,1,0,0,Female\\r\\n0,15.2,5.2,1,1,1,1,Male\\r\\n1,15,6.4,1,1,1,1,Male\\r\\n1,13.6,6.6,1,0,1,1,Male\\r\\n1,14.1,6.1,0,0,0,0,Female\\r\\n1,12.2,5.5,0,0,0,0,Female\\r\\n1,14,6.1,1,1,1,1,Male\\r\\n1,13.3,6.5,0,0,1,0,Female\\r\\n1,13.4,5.6,0,0,0,0,Female\\r\\n1,12.5,6.9,1,0,1,1,Male\\r\\n1,14.7,6.8,1,1,1,0,Male\\r\\n0,12.8,6.5,0,0,0,1,Female\\r\\n1,15.1,5.8,1,1,1,0,Male\\r\\n1,12.3,5.5,0,0,1,0,Female\\r\\n1,12.3,6,1,1,1,1,Male\\r\\n1,14.9,6.2,1,1,1,1,Male\\r\\n1,13.4,5.6,1,0,0,0,Female\\r\\n1,14.3,6.3,0,0,0,0,Female\\r\\n1,11.4,5.5,0,0,0,0,Female\\r\\n1,11.8,5.1,0,0,0,0,Female\\r\\n1,11.6,6.3,0,0,1,0,Female\\r\\n1,12.1,5.3,0,0,0,0,Female\\r\\n1,13.6,5.8,1,0,0,0,Female\\r\\n1,13.7,6,0,0,0,1,Female\\r\\n1,11.8,6.2,1,1,0,0,Male\\r\\n1,12.7,6.8,1,1,1,0,Male\\r\\n1,13.4,6.4,0,0,0,0,Female\\r\\n1,15.2,6.4,1,1,1,1,Male\\r\\n1,14,5.9,1,0,0,0,Female\\r\\n1,15.2,5.1,1,1,1,1,Male\\r\\n1,14.3,5.2,1,1,1,1,Male\\r\\n1,12.4,6,0,0,0,0,Female\\r\\n1,13.3,6.4,1,1,1,0,Male\\r\\n1,14.2,6.1,1,1,1,1,Male\\r\\n1,13.6,5.1,1,1,1,1,Male\\r\\n1,13.8,6.2,1,0,1,1,Female\\r\\n1,15.4,5.7,0,0,0,1,Male\\r\\n1,13.6,6.4,1,1,1,1,Male\\r\\n1,15.3,5.2,1,1,1,1,Male\\r\\n1,11.9,6.3,0,1,1,1,Male\\r\\n1,14.3,6.1,0,0,0,0,Female\\r\\n1,13.8,6,1,1,0,1,Female\\r\\n1,14.2,6.3,1,1,1,1,Male\\r\\n1,15.5,6.6,1,1,1,0,Male\\r\\n1,12.1,6.1,1,1,1,1,Male\\r\\n1,14.4,5.8,1,1,1,1,Male\\r\\n1,12.9,6,0,0,0,0,Female\\r\\n0,12,5.2,0,1,0,0,Female\\r\\n0,13.5,6.1,0,0,0,0,Female\\r\\n1,13.2,5.7,0,0,0,0,Female\\r\\n1,13.2,6.6,1,1,1,1,Male\\r\\n0,12.5,5.5,1,1,1,1,Male\\r\\n1,12,5.9,1,1,1,1,Male\\r\\n1,12.8,5.9,0,0,0,0,Female\\r\\n1,13.1,5.1,0,0,0,0,Female\\r\\n0,11.4,6.1,0,0,0,0,Female\\r\\n1,14.3,6.2,0,1,0,0,Female\\r\\n1,12.2,6.2,0,0,0,1,Female\\r\\n0,14.5,5.1,0,1,1,0,Male\\r\\n1,14.9,5.4,1,1,1,1,Male\\r\\n1,13.2,6.9,1,1,1,1,Male\\r\\n1,14.1,5.5,0,0,0,0,Female\\r\\n1,13.9,5.7,1,0,1,1,Male\\r\\n1,12.5,5.4,1,0,1,0,Female\\r\\n0,11.6,5.8,0,0,0,0,Female\\r\\n1,11.6,5.3,0,0,0,0,Female\\r\\n1,12.4,6.5,0,0,0,0,Female\\r\\n1,12,5.7,0,0,0,0,Female\\r\\n1,14.7,5.6,1,1,1,1,Male\\r\\n1,12.4,6.1,0,1,0,0,Female\\r\\n1,11.8,5.2,0,0,0,0,Female\\r\\n0,12.1,6.4,1,1,1,1,Male\\r\\n0,14.7,6.5,1,1,0,1,Male\\r\\n1,13,5.9,1,0,0,1,Male\\r\\n1,12.8,6.5,1,1,1,1,Male\\r\\n1,13.9,5.9,0,0,0,0,Female\\r\\n1,11.6,5.4,0,0,0,0,Female\\r\\n1,14.4,6.4,1,1,1,1,Male\\r\\n1,14.5,6.3,1,1,1,0,Male\\r\\n1,13.3,5.4,0,0,1,0,Female\\r\\n1,11.5,5.5,0,0,0,0,Female\\r\\n1,14,5.9,0,1,0,0,Female\\r\\n1,11.5,7,1,1,1,1,Male\\r\\n1,13.3,5.5,1,0,0,0,Female\\r\\n1,14.1,6.2,1,0,1,1,Male\\r\\n1,14,5.6,1,1,1,0,Male\\r\\n0,13.8,6.5,1,1,1,1,Male\\r\\n1,11.6,6.5,0,0,0,0,Female\\r\\n1,13.8,6.6,1,1,1,1,Male\\r\\n1,13.7,6.1,0,0,0,0,Female\\r\\n1,11.6,6.2,1,1,0,1,Male\\r\\n1,13.2,5.7,1,0,0,0,Female\\r\\n1,11.7,7,0,1,1,1,Male\\r\\n1,13.6,6.1,1,0,0,0,Female\\r\\n1,11.9,5.5,0,0,0,0,Female\\r\\n1,12,6.3,1,1,1,1,Male\\r\\n0,12.3,5.5,1,1,0,1,Male\\r\\n0,11.4,6.2,0,1,0,0,Female\\r\\n0,14.4,6,1,1,1,1,Male\\r\\n1,11.7,5.5,1,1,0,0,Male\\r\\n1,13.7,6.5,0,0,1,0,Female\\r\\n1,13.2,6.2,0,1,0,0,Female\\r\\n1,13.3,5.2,1,1,1,0,Male\\r\\n1,14.7,6.2,1,1,1,1,Male\\r\\n0,11.4,6.5,0,0,0,0,Female\\r\\n1,12.6,5.9,0,0,0,0,Female\\r\\n1,13.7,5.8,1,1,1,1,Male\\r\\n1,13,5.3,0,0,0,0,Female\\r\\n1,14.2,6,1,1,1,1,Male\\r\\n0,12.6,6.2,1,0,0,1,Female\\r\\n1,13.4,5.3,1,1,1,1,Male\\r\\n1,15.3,6.4,1,1,1,0,Male\\r\\n1,11.5,5.7,1,1,1,0,Male\\r\\n1,14.5,6,1,1,1,1,Male\\r\\n1,12,5.7,0,0,0,0,Female\\r\\n1,12.5,6.1,0,0,0,0,Female\\r\\n1,14.5,6.3,0,1,1,1,Male\\r\\n1,14.6,5.3,1,1,0,1,Male\\r\\n1,14.2,5.5,1,1,1,1,Male\\r\\n1,14.2,5.5,0,1,1,0,Female\\r\\n1,13,6.3,0,0,0,0,Female\\r\\n1,12.6,5.1,0,0,1,0,Female\\r\\n1,13.2,5.7,1,1,1,1,Male\\r\\n1,13.2,6,0,0,0,0,Female\\r\\n0,14.3,5.5,0,0,0,0,Female\\r\\n0,15,6.7,1,1,0,1,Male\\r\\n1,14.7,7.1,1,0,1,1,Male\\r\\n1,14,6,0,1,0,0,Female\\r\\n1,12.9,5.9,0,0,0,0,Female\\r\\n1,14.9,6.5,1,1,1,1,Male\\r\\n0,13.7,5.9,0,0,0,0,Female\\r\\n1,14.5,6.1,1,1,1,1,Male\\r\\n0,13.8,6.3,1,1,1,1,Male\\r\\n1,14.3,6.3,1,0,0,1,Male\\r\\n1,13.7,6.5,1,1,1,1,Male\\r\\n1,12,5.7,0,0,0,0,Female\\r\\n1,13.9,5.9,1,1,1,1,Male\\r\\n0,14.1,6,0,0,0,0,Female\\r\\n1,12.2,6.5,1,0,0,0,Female\\r\\n1,11.7,6.1,0,0,0,0,Female\\r\\n1,11.9,6.5,1,1,1,1,Male\\r\\n1,13.8,6.9,1,1,0,1,Male\\r\\n1,13.9,6.2,0,0,0,0,Female\\r\\n1,12,5.5,0,0,0,1,Female\\r\\n0,12.5,6.2,0,0,0,0,Female\\r\\n1,14,6.4,1,1,1,1,Male\\r\\n1,14.1,5.7,1,1,1,1,Male\\r\\n0,12,5.8,0,0,0,0,Female\\r\\n1,14,5.1,0,0,0,0,Female\\r\\n1,12.6,6.4,0,1,1,1,Male\\r\\n1,12.4,6.3,0,0,0,0,Female\\r\\n1,12.7,5.3,1,0,0,0,Female\\r\\n1,12.1,5.3,0,0,0,0,Female\\r\\n1,13.6,5.9,1,1,1,0,Male\\r\\n0,14.2,5.8,0,1,1,1,Male\\r\\n1,13.2,6.1,0,0,0,0,Female\\r\\n1,13.9,6.5,0,0,0,0,Female\\r\\n1,13,6,0,1,1,0,Male\\r\\n1,14.3,6.4,0,0,0,0,Female\\r\\n0,14.1,5.9,1,1,1,1,Male\\r\\n1,11.6,6.8,1,1,1,1,Male\\r\\n1,13.3,5.3,1,1,1,1,Male\\r\\n1,13.5,6,0,0,0,0,Female\\r\\n1,11.5,5.2,1,0,0,0,Female\\r\\n1,12,5.6,1,0,0,0,Female\\r\\n1,11.5,5.1,0,1,0,0,Female\\r\\n1,11.5,5.7,1,1,1,1,Male\\r\\n1,14.9,6.5,1,0,1,1,Male\\r\\n1,13.2,5.8,0,1,0,0,Female\\r\\n1,15.2,5.7,1,1,1,1,Male\\r\\n0,14.7,5.6,1,0,1,1,Male\\r\\n1,12.5,6.2,1,1,1,1,Male\\r\\n1,14.4,7,1,1,1,1,Male\\r\\n1,13.9,6.1,0,0,0,1,Female\\r\\n1,13.5,5.7,0,0,0,0,Female\\r\\n1,13.7,6.8,1,1,1,1,Male\\r\\n1,13.6,5.5,0,0,0,1,Female\\r\\n1,12.4,5.1,0,0,0,0,Female\\r\\n1,11.8,5.7,1,1,1,1,Male\\r\\n1,11.6,5.5,1,0,0,0,Female\\r\\n1,13.5,5.7,1,1,1,1,Male\\r\\n1,14.1,6.2,1,1,1,1,Male\\r\\n1,13.7,6.9,1,0,1,1,Male\\r\\n1,15.4,5.1,1,1,1,1,Male\\r\\n1,12.5,6.6,1,1,1,1,Male\\r\\n1,13.4,6.7,1,1,1,1,Male\\r\\n1,11.7,5.6,0,0,0,0,Female\\r\\n0,13.6,5.8,1,1,1,1,Male\\r\\n1,13.1,6.4,0,0,0,1,Female\\r\\n1,13.6,5.1,1,1,1,1,Male\\r\\n1,13.4,5.6,1,0,0,0,Female\\r\\n1,13.1,6.5,0,0,0,0,Female\\r\\n1,14,5.3,0,0,0,0,Female\\r\\n1,12.4,6.9,0,1,1,1,Male\\r\\n1,11.7,6.5,0,0,1,0,Female\\r\\n1,11.8,5.4,0,0,0,0,Female\\r\\n1,13.3,5.3,0,0,0,1,Female\\r\\n0,14.1,5.7,0,0,0,0,Female\\r\\n1,11.8,6,1,0,0,0,Female\\r\\n1,13,5.1,1,1,1,1,Male\\r\\n1,13.5,6.4,0,0,0,0,Female\\r\\n1,14,5.2,1,0,0,0,Female\\r\\n0,12.8,6,1,1,1,1,Male\\r\\n1,13.8,5.3,0,1,1,1,Male\\r\\n1,15.1,5.9,1,1,1,1,Male\\r\\n1,13.2,5.2,1,1,1,0,Male\\r\\n1,13.4,6,1,1,1,1,Male\\r\\n1,11.8,5.1,0,0,0,0,Female\\r\\n1,13.8,6.4,1,0,1,0,Female\\r\\n1,12.4,5.5,1,1,1,1,Male\\r\\n1,13,6.3,1,0,0,0,Female\\r\\n1,14,6.5,1,1,1,1,Male\\r\\n1,15.5,7,1,0,1,0,Male\\r\\n1,12,6.6,1,0,1,1,Male\\r\\n1,11.7,5.6,0,0,0,0,Female\\r\\n1,12.1,5.2,1,0,1,1,Male\\r\\n1,12,5.4,0,1,0,0,Female\\r\\n1,14.3,6.8,1,1,0,1,Male\\r\\n1,11.9,5.4,0,0,0,0,Female\\r\\n1,13.2,5.4,1,1,1,1,Male\\r\\n1,11.5,6.5,0,0,0,0,Female\\r\\n1,12.1,6.2,0,0,0,0,Female\\r\\n0,15.2,6.8,1,1,1,1,Male\\r\\n1,13.3,6.6,1,1,1,1,Male\\r\\n1,13.3,5.3,1,1,0,1,Male\\r\\n1,11.6,6.3,0,1,1,1,Male\\r\\n1,15,6.3,1,0,1,1,Male\\r\\n0,11.6,5.8,0,0,1,1,Male\\r\\n0,13.7,5.5,1,1,0,1,Male\\r\\n1,11.7,5.5,1,1,1,1,Male\\r\\n1,12.6,5.2,1,1,1,1,Male\\r\\n1,15.1,5.7,1,1,1,1,Male\\r\\n1,12.3,5.2,0,0,0,0,Female\\r\\n1,12.4,5.4,0,0,0,0,Female\\r\\n1,12.1,6.6,1,1,1,0,Male\\r\\n1,12,5.4,1,1,0,0,Female\\r\\n1,12.2,5.7,0,1,1,1,Male\\r\\n1,11.6,6.7,0,1,0,1,Male\\r\\n1,15.4,7.1,1,1,1,0,Male\\r\\n1,11.7,5.1,0,0,0,1,Female\\r\\n1,12.2,5.5,0,0,0,0,Female\\r\\n1,11.6,5.8,0,0,0,0,Female\\r\\n1,12.6,6.9,1,1,1,1,Male\\r\\n1,12.1,6.5,0,0,0,0,Female\\r\\n1,15.5,6.3,0,1,1,1,Male\\r\\n0,13.3,6.3,1,1,0,1,Male\\r\\n1,11.6,7.1,1,1,1,0,Male\\r\\n1,12.4,6.1,1,0,0,0,Female\\r\\n1,13.5,6,0,1,0,1,Female\\r\\n1,13.9,6,0,0,0,1,Female\\r\\n1,12.3,6.1,0,0,0,0,Female\\r\\n1,14.8,7,1,1,1,1,Male\\r\\n1,15,6.6,1,1,1,1,Male\\r\\n1,12.5,5.2,0,0,0,1,Female\\r\\n1,14.2,6.2,0,0,0,0,Female\\r\\n1,11.7,5.3,0,1,1,1,Male\\r\\n1,13.8,6.1,1,1,1,1,Male\\r\\n1,13.1,6.3,1,1,1,1,Male\\r\\n0,12.1,5.4,1,0,0,1,Male\\r\\n1,12.4,6.4,0,0,0,0,Female\\r\\n1,11.7,5.1,0,0,1,0,Female\\r\\n0,15.5,5.2,0,0,0,1,Male\\r\\n1,15.5,5.1,1,1,1,1,Male\\r\\n1,14.1,5.4,0,0,0,0,Female\\r\\n0,13.8,5.7,1,1,0,0,Male\\r\\n1,12.6,5.6,0,0,1,0,Female\\r\\n1,13.1,6.2,0,0,0,0,Female\\r\\n0,14.8,7.1,1,0,1,1,Male\\r\\n1,12.9,5.1,0,0,0,1,Female\\r\\n0,14.5,5.5,0,1,1,0,Male\\r\\n0,14.1,6,0,0,0,0,Female\\r\\n1,12.9,5.3,1,0,0,0,Female\\r\\n0,15.1,6.2,1,1,1,0,Male\\r\\n1,13,6.3,0,0,0,0,Female\\r\\n1,14.3,6.2,0,1,0,0,Female\\r\\n1,14.3,5.8,1,0,0,0,Female\\r\\n1,15.4,5.8,1,1,1,1,Male\\r\\n1,14.2,5.5,1,1,1,1,Male\\r\\n0,12.5,5.6,1,0,0,0,Female\\r\\n1,11.8,6.1,1,1,1,1,Male\\r\\n1,12.3,6.5,0,0,0,0,Female\\r\\n1,13.7,5.7,0,0,0,0,Female\\r\\n1,12.5,6,0,0,1,0,Female\\r\\n1,11.7,6.3,0,0,0,0,Female\\r\\n1,11.9,6.5,1,1,1,1,Male\\r\\n1,15.4,6.7,1,1,0,1,Male\\r\\n1,15.1,6.3,1,1,1,1,Male\\r\\n1,12,6.6,1,1,1,1,Male\\r\\n1,14,5.2,1,1,1,1,Male\\r\\n1,13.4,6.5,1,0,1,0,Female\\r\\n1,14.1,5.9,0,0,0,0,Female\\r\\n1,13.1,5.3,0,0,0,0,Female\\r\\n1,12.6,6,1,0,1,1,Male\\r\\n1,12.1,5.4,0,1,1,1,Male\\r\\n1,13.6,5.1,0,1,1,0,Male\\r\\n1,14.5,5.5,1,0,1,1,Male\\r\\n1,13.9,6,0,0,0,0,Female\\r\\n1,12.2,6.4,1,1,1,1,Male\\r\\n1,12.2,5.5,1,0,1,0,Female\\r\\n1,14.7,5.1,1,1,1,1,Male\\r\\n1,14.3,6.8,1,1,1,1,Male\\r\\n1,15.4,6.7,1,1,0,1,Male\\r\\n1,12,6.7,1,1,1,1,Male\\r\\n1,12.5,6.4,0,1,0,0,Female\\r\\n1,12,6.6,1,1,1,1,Male\\r\\n1,13.7,5.5,1,1,0,1,Male\\r\\n1,13.2,5.2,0,0,0,0,Female\\r\\n0,13.4,5.5,0,0,0,0,Female\\r\\n1,12.7,5.1,0,0,0,0,Female\\r\\n1,13.5,5.4,0,1,1,0,Female\\r\\n1,13.7,6.1,0,1,1,1,Male\\r\\n1,11.5,5.9,0,0,0,0,Female\\r\\n1,14.1,6.6,1,1,1,1,Male\\r\\n1,14.6,5.9,1,1,1,1,Male\\r\\n1,12.6,5.3,0,0,0,0,Female\\r\\n1,12.1,5.7,0,0,0,1,Female\\r\\n1,13.9,6.3,0,0,1,0,Female\\r\\n0,12.2,5.1,1,1,1,1,Male\\r\\n0,13.9,6.5,0,0,0,0,Female\\r\\n1,12.1,7.1,1,0,1,1,Male\\r\\n0,12.5,6.9,0,0,1,1,Male\\r\\n1,12.5,6,0,1,0,0,Female\\r\\n1,12.6,6.3,0,0,0,0,Female\\r\\n1,13.8,6.6,1,1,1,1,Male\\r\\n1,12.5,6.9,1,1,1,1,Male\\r\\n1,14.7,6.7,1,1,1,1,Male\\r\\n1,11.5,6,0,0,0,0,Female\\r\\n1,14.5,6.5,1,1,1,1,Male\\r\\n1,14.4,6.8,0,1,1,1,Male\\r\\n1,12.8,5.8,0,0,0,1,Female\\r\\n1,13.6,5.1,0,0,0,0,Female\\r\\n1,14.3,5.3,0,1,1,0,Female\\r\\n1,12.1,5.1,0,1,0,0,Female\\r\\n1,13.3,6.1,0,1,0,0,Female\\r\\n1,15.2,5.1,1,1,1,1,Male\\r\\n1,11.6,7.1,1,1,0,1,Male\\r\\n1,13.3,5.1,0,0,0,0,Female\\r\\n1,12.4,6.1,0,0,0,0,Female\\r\\n1,12.7,5.3,0,1,0,0,Female\\r\\n1,14.5,6.9,1,1,1,1,Male\\r\\n1,11.5,5.2,1,1,1,1,Male\\r\\n1,15.4,6.8,0,1,1,1,Male\\r\\n1,14.3,5.9,0,0,0,0,Female\\r\\n1,15.3,5.6,1,1,1,1,Male\\r\\n1,13,6.5,0,1,1,0,Female\\r\\n1,14.2,7,1,1,1,1,Male\\r\\n1,11.9,5.7,0,0,0,0,Female\\r\\n1,13.7,6.1,0,0,1,0,Female\\r\\n1,11.5,5.9,0,0,0,0,Female\\r\\n1,11.8,6.7,1,0,1,1,Male\\r\\n1,13.6,7.1,1,1,1,1,Male\\r\\n1,13.1,6.2,0,0,0,0,Female\\r\\n1,12.2,6.2,0,1,0,0,Female\\r\\n1,11.9,6.4,0,1,0,0,Female\\r\\n1,12.7,5.6,1,1,1,0,Male\\r\\n1,14.3,6.4,1,1,1,1,Male\\r\\n1,12.5,5.4,1,0,1,1,Male\\r\\n0,12.5,6.5,0,1,0,1,Female\\r\\n1,13.5,5.6,0,1,1,0,Female\\r\\n1,13.7,6.1,0,0,0,0,Male\\r\\n1,13.5,5.3,1,1,0,1,Male\\r\\n1,13.7,6.4,0,0,0,0,Female\\r\\n1,11.8,6.5,0,0,0,0,Female\\r\\n1,14.5,6.2,1,1,0,1,Male\\r\\n1,11.7,6.1,0,0,0,0,Female\\r\\n0,13.3,5.9,0,0,0,0,Female\\r\\n1,14.1,5.1,1,1,0,1,Male\\r\\n1,11.7,6.5,0,1,1,1,Male\\r\\n1,13.1,6.6,1,1,1,1,Male\\r\\n1,14.5,6,1,1,1,1,Male\\r\\n0,13.2,7.1,1,0,1,0,Male\\r\\n1,13.7,6,0,0,0,0,Female\\r\\n1,14.8,5.2,1,1,1,1,Male\\r\\n0,13.3,6.4,1,1,0,1,Male\\r\\n1,11.8,6.4,0,0,0,0,Female\\r\\n1,12.6,5.6,1,1,1,1,Male\\r\\n1,12.5,5.2,1,0,1,0,Female\\r\\n1,14.9,5.2,1,1,1,1,Male\\r\\n0,11.8,7,1,1,1,0,Male\\r\\n1,11.7,5.1,0,0,0,0,Female\\r\\n1,12.5,5.1,1,0,1,1,Male\\r\\n1,11.5,6.2,1,1,1,1,Male\\r\\n1,11.8,7.1,1,1,1,1,Male\\r\\n1,11.9,5.2,0,0,0,0,Female\\r\\n1,11.6,6,0,0,1,1,Male\\r\\n1,14.4,6,1,1,1,1,Male\\r\\n1,15.2,5.7,1,1,1,1,Male\\r\\n1,14.4,5.8,0,1,1,1,Male\\r\\n1,13.5,6.5,0,0,0,0,Female\\r\\n0,11.5,5.7,0,0,1,1,Female\\r\\n1,14.2,5.3,1,1,0,1,Male\\r\\n1,13.1,5.9,1,0,0,0,Female\\r\\n1,13.2,6.4,1,1,1,1,Male\\r\\n0,14.3,6.1,1,1,1,1,Male\\r\\n0,11.8,6.3,1,1,1,1,Male\\r\\n1,11.7,6.3,0,0,0,0,Female\\r\\n1,13.5,6.2,1,0,0,0,Female\\r\\n1,14.1,6,0,1,0,0,Female\\r\\n1,11.9,5.3,0,1,1,0,Female\\r\\n1,14,6.5,0,0,0,0,Female\\r\\n1,11.9,6.1,0,1,0,0,Female\\r\\n1,13,5.5,0,0,0,0,Female\\r\\n1,12,5.7,1,1,1,0,Female\\r\\n1,12.8,5.4,0,0,0,0,Female\\r\\n1,13.2,5.5,0,0,0,0,Female\\r\\n1,13.4,5.1,0,0,0,0,Female\\r\\n1,13.4,5.5,0,0,0,0,Female\\r\\n1,13.1,5.9,1,1,1,1,Male\\r\\n1,15.5,7,1,1,1,1,Male\\r\\n1,12.2,5.5,0,1,0,0,Female\\r\\n1,14.7,6.6,1,1,1,1,Male\\r\\n0,12.3,5.6,1,0,1,1,Male\\r\\n1,12.6,5.4,0,0,0,0,Female\\r\\n1,12.4,6.3,0,0,0,1,Female\\r\\n1,13.6,6.1,0,0,0,0,Female\\r\\n1,12.8,5.4,0,0,0,0,Female\\r\\n1,14.1,5.4,0,1,0,0,Female\\r\\n1,14,5.9,0,0,1,0,Female\\r\\n1,13.8,5.1,0,0,0,0,Female\\r\\n1,12.7,6.1,1,1,1,1,Male\\r\\n1,15,5.4,1,1,1,1,Male\\r\\n1,14.1,6.4,1,1,1,1,Male\\r\\n1,14.2,5.4,1,0,0,0,Female\\r\\n1,13.4,6.1,1,1,1,1,Male\\r\\n1,13.2,6.3,1,1,1,0,Male\\r\\n1,14.5,6.5,0,1,1,1,Male\\r\\n1,12.9,5.8,0,0,0,0,Female\\r\\n1,11.8,6,0,0,0,0,Female\\r\\n1,13.8,6.6,1,1,1,1,Male\\r\\n1,15.3,5.5,0,1,0,1,Male\\r\\n1,13.1,5.3,1,1,1,1,Male\\r\\n1,13.4,6.3,1,1,1,1,Male\\r\\n1,13,6.6,0,1,1,1,Male\\r\\n1,11.5,5.3,0,0,0,0,Female\\r\\n1,13.6,5.3,1,0,0,0,Female\\r\\n0,14.7,5.3,1,1,1,1,Male\\r\\n1,11.8,6.2,0,0,0,0,Female\\r\\n0,14.1,6.3,0,0,0,0,Female\\r\\n1,15.5,5.1,1,0,1,1,Male\\r\\n1,12.5,6.3,0,0,0,0,Female\\r\\n0,14.4,6.6,1,0,1,1,Male\\r\\n1,13.3,5.6,1,1,1,1,Male\\r\\n1,13.6,6.4,0,0,0,0,Female\\r\\n1,12.6,6.9,1,1,1,1,Male\\r\\n1,11.5,5.4,1,0,0,0,Female\\r\\n1,12.4,5.2,1,1,1,1,Male\\r\\n1,11.8,5.9,1,0,1,0,Female\\r\\n1,14.3,6.8,1,1,1,1,Male\\r\\n1,13.9,6.4,0,1,0,1,Male\\r\\n1,11.5,6.2,0,0,0,0,Female\\r\\n1,11.4,5.1,0,1,0,0,Female\\r\\n0,13,5.7,1,1,1,1,Male\\r\\n1,13.5,6.8,1,1,1,1,Male\\r\\n1,13.1,6.1,1,0,0,0,Female\\r\\n1,14.5,6.5,0,1,1,1,Male\\r\\n1,14.5,7.1,1,1,1,0,Male\\r\\n1,11.5,6.3,0,0,0,0,Female\\r\\n1,11.4,6.5,0,0,0,0,Female\\r\\n1,11.8,6,0,0,0,0,Female\\r\\n1,15.3,6.6,1,1,1,1,Male\\r\\n1,13.5,6.1,0,0,0,0,Female\\r\\n1,14.7,6.7,1,1,0,0,Male\\r\\n0,13.4,5.3,0,0,0,0,Female\\r\\n1,12.9,6.5,0,0,0,0,Female\\r\\n0,13.8,6.3,1,1,1,1,Male\\r\\n1,13.3,5.4,1,0,1,0,Male\\r\\n1,12,5.1,0,0,0,0,Female\\r\\n1,12.7,7,1,1,1,1,Male\\r\\n1,14.5,6.5,0,1,1,1,Male\\r\\n1,11.8,6.8,1,1,1,1,Male\\r\\n1,15,5.4,1,1,1,1,Male\\r\\n1,14.8,6,0,1,1,1,Male\\r\\n0,13.6,5.4,0,0,0,0,Female\\r\\n0,12.4,5.8,1,1,1,1,Male\\r\\n1,14.5,5.4,1,1,0,1,Male\\r\\n1,12.4,5.1,1,1,1,1,Male\\r\\n1,13.2,5.9,1,1,1,1,Male\\r\\n1,13,5.5,1,1,1,1,Male\\r\\n1,11.5,6,1,0,1,1,Male\\r\\n1,12.1,6.8,1,0,1,1,Male\\r\\n1,13.8,6.8,1,1,1,1,Male\\r\\n1,13.5,5.8,0,0,0,0,Female\\r\\n1,13.7,5.2,1,1,0,1,Male\\r\\n1,13.5,6.3,0,0,0,0,Female\\r\\n1,12.8,5.8,0,0,0,0,Female\\r\\n1,13.3,5.8,1,1,1,1,Male\\r\\n1,14.3,6.2,0,0,0,0,Female\\r\\n1,13.1,5.3,0,1,0,0,Female\\r\\n1,11.8,6,1,1,1,1,Male\\r\\n1,12.3,5.2,0,0,0,0,Female\\r\\n1,14.8,5.4,1,1,1,1,Male\\r\\n1,13.2,5.1,0,0,0,0,Female\\r\\n1,12.4,5.6,1,0,0,0,Female\\r\\n1,13.3,5.5,1,1,0,1,Male\\r\\n1,12.4,6.3,0,1,1,0,Female\\r\\n1,12.9,6,1,1,1,1,Male\\r\\n1,11.6,6.1,0,0,0,0,Female\\r\\n1,12.9,6.3,0,0,0,0,Female\\r\\n1,14.1,6.2,0,0,0,0,Female\\r\\n1,14.7,6.1,1,1,1,1,Male\\r\\n1,13.1,5.1,0,0,0,0,Female\\r\\n1,12.9,7,0,1,1,1,Male\\r\\n1,13.2,6.9,1,1,1,0,Male\\r\\n0,13.2,5.1,0,0,0,0,Female\\r\\n1,14.2,5.7,0,0,0,1,Female\\r\\n1,13.9,5.2,0,0,0,0,Female\\r\\n1,14.1,5.9,1,1,1,1,Male\\r\\n1,13.7,5.8,1,1,1,0,Male\\r\\n1,13.4,5.5,0,0,0,0,Female\\r\\n1,12.2,5.1,0,1,1,0,Male\\r\\n1,11.6,5.4,0,0,0,0,Female\\r\\n1,13.5,5.2,1,1,1,0,Male\\r\\n1,11.5,7.1,1,1,1,1,Male\\r\\n1,15.3,5.6,1,0,1,0,Male\\r\\n1,12.8,6.4,0,0,0,0,Female\\r\\n1,12.4,5.5,0,0,0,0,Female\\r\\n1,11.5,5.3,0,0,0,1,Female\\r\\n1,14.5,7,1,1,1,1,Male\\r\\n1,14.1,5.1,0,0,1,0,Female\\r\\n1,12.1,6.2,0,0,0,0,Female\\r\\n1,12.9,5.2,1,1,1,1,Male\\r\\n1,12.5,5.6,1,1,1,1,Male\\r\\n1,15.3,6.2,1,1,1,0,Male\\r\\n1,14.1,6,1,1,0,1,Male\\r\\n1,12.4,5.6,1,0,0,1,Female\\r\\n1,14,5.7,1,1,1,0,Male\\r\\n1,13.7,5.8,1,0,0,0,Female\\r\\n0,12.1,5.7,1,1,1,0,Male\\r\\n1,13.6,6.3,1,1,1,1,Male\\r\\n0,12.7,5.7,1,0,0,0,Female\\r\\n1,13.3,5.3,0,1,1,0,Female\\r\\n0,13,6.5,1,1,1,1,Male\\r\\n1,12.7,5.5,0,0,0,0,Female\\r\\n1,12.1,5.7,1,1,1,1,Male\\r\\n1,11.8,5.5,1,1,1,1,Male\\r\\n1,11.4,5.2,0,0,0,0,Female\\r\\n1,11.7,6.9,1,0,0,1,Male\\r\\n1,13.8,5.3,0,0,1,0,Female\\r\\n1,11.6,5.2,1,1,1,0,Male\\r\\n1,15,6.5,1,0,1,1,Male\\r\\n1,14.3,5.1,1,1,1,1,Male\\r\\n1,12.2,5.4,0,0,1,0,Female\\r\\n1,15.3,5.3,1,1,1,1,Male\\r\\n1,14.3,6.5,0,0,0,0,Female\\r\\n1,14,6.4,0,0,1,0,Female\\r\\n1,13,6.3,0,0,0,0,Female\\r\\n1,12,5.3,0,0,0,0,Female\\r\\n1,13.9,6.3,1,1,1,1,Male\\r\\n1,14.8,6.9,1,1,1,1,Male\\r\\n1,13.8,5.6,0,0,1,0,Female\\r\\n1,11.6,6.2,0,0,0,0,Female\\r\\n1,11.8,5.8,0,1,0,1,Female\\r\\n1,14,5.6,1,1,1,1,Male\\r\\n1,12.6,6.4,0,0,1,0,Female\\r\\n1,13.2,5.8,0,0,0,0,Female\\r\\n1,11.4,5.5,0,0,1,0,Female\\r\\n1,12.4,5.6,1,1,1,1,Male\\r\\n1,12.5,5.7,0,0,0,0,Female\\r\\n0,15.2,6.5,0,0,1,1,Male\\r\\n1,13.6,6.3,1,1,1,1,Male\\r\\n1,13.2,5.2,0,0,0,0,Female\\r\\n1,11.9,5.5,0,1,1,1,Male\\r\\n1,11.4,5.7,0,0,1,0,Female\\r\\n1,15.2,5.7,1,0,1,1,Male\\r\\n0,13.3,6.5,0,0,0,0,Female\\r\\n1,11.8,5.2,0,0,0,0,Female\\r\\n1,12.8,6.4,0,0,0,0,Female\\r\\n1,13.9,6.3,0,0,0,0,Female\\r\\n0,15.3,6.2,1,0,0,1,Male\\r\\n1,12.5,5.9,0,0,0,0,Female\\r\\n1,13.2,6.1,1,1,1,1,Male\\r\\n1,15.2,5.2,1,1,1,1,Male\\r\\n1,15.3,7.1,1,0,1,1,Male\\r\\n1,14.2,5.9,0,1,0,0,Male\\r\\n1,14.8,6.1,1,1,1,0,Male\\r\\n1,12,5.1,0,0,1,0,Female\\r\\n1,12.9,5.4,0,1,0,1,Male\\r\\n1,11.8,6.4,0,1,1,0,Male\\r\\n1,14,5.3,1,1,1,1,Male\\r\\n0,12,5.9,0,0,0,0,Female\\r\\n1,12.1,5.9,0,0,0,1,Female\\r\\n1,12.9,5.1,0,0,0,0,Female\\r\\n1,13.1,6.8,1,1,1,1,Male\\r\\n0,13.8,6,1,1,1,1,Male\\r\\n1,13.3,5.9,0,1,0,0,Female\\r\\n1,12.6,5.5,0,0,0,0,Female\\r\\n1,14.8,6.8,0,1,1,1,Male\\r\\n1,13.7,6.1,0,0,1,0,Female\\r\\n0,12,5.3,1,1,1,1,Male\\r\\n0,12.4,6.1,0,0,0,0,Female\\r\\n1,14.1,5.6,1,0,0,0,Female\\r\\n1,11.8,6.4,0,0,0,0,Female\\r\\n1,12.6,6.4,0,1,0,1,Female\\r\\n0,11.8,6,0,1,0,0,Female\\r\\n1,13.7,5.4,1,1,1,1,Male\\r\\n0,15.1,6.2,0,1,1,1,Male\\r\\n1,12.6,6.3,1,1,1,1,Male\\r\\n1,12.6,5.8,0,0,0,0,Female\\r\\n1,14.1,6.2,1,1,1,1,Male\\r\\n1,15,5.5,1,1,1,1,Male\\r\\n1,12.5,6.5,1,1,0,1,Male\\r\\n1,12.2,5.2,0,0,1,0,Female\\r\\n1,11.9,5.7,0,1,1,1,Male\\r\\n1,12.6,5.2,0,0,0,0,Female\\r\\n1,12.4,5.3,1,0,0,0,Female\\r\\n1,13.9,5.2,0,0,1,1,Female\\r\\n0,12.7,6.4,0,0,0,0,Female\\r\\n1,11.9,5.5,1,1,1,1,Male\\r\\n1,15.4,6.5,1,1,1,1,Male\\r\\n1,14.4,7,1,1,1,1,Male\\r\\n1,11.4,6.1,0,0,0,0,Female\\r\\n0,12.3,5.5,1,1,1,1,Male\\r\\n1,15.5,6.6,1,1,0,1,Male\\r\\n1,14.2,5.3,0,0,0,0,Female\\r\\n1,11.9,7.1,0,1,0,1,Male\\r\\n1,13.7,6.4,1,0,0,0,Female\\r\\n1,13,5.2,1,1,0,1,Male\\r\\n1,12.8,5.7,0,0,0,0,Female\\r\\n1,12.6,5.1,0,0,0,0,Female\\r\\n1,12.5,5.2,0,0,0,0,Female\\r\\n0,11.7,6.7,1,1,1,1,Male\\r\\n1,13.1,5.5,0,0,0,1,Female\\r\\n1,11.9,5.4,0,0,0,0,Female\\r\\n1,14.1,5.2,1,1,0,0,Female\\r\\n1,14,6.6,1,1,1,1,Male\\r\\n1,11.9,5.4,0,0,0,0,Female\\r\\n1,13,5.1,1,0,0,0,Female\\r\\n1,11.8,5.7,1,1,1,1,Male\\r\\n1,12.1,5.6,1,1,1,0,Male\\r\\n1,12.9,5.4,0,0,0,0,Female\\r\\n1,12.8,6.3,1,0,1,0,Female\\r\\n1,11.9,6.8,1,1,1,0,Male\\r\\n1,12.8,5.1,1,1,1,1,Male\\r\\n1,12.3,6.4,0,0,0,0,Female\\r\\n1,15.5,7,1,0,1,1,Male\\r\\n1,11.6,6.5,0,0,0,1,Female\\r\\n0,12.8,7.1,1,1,0,1,Male\\r\\n1,14.2,6.4,0,0,0,0,Female\\r\\n1,12.7,5.7,0,0,0,0,Female\\r\\n0,12.3,5.5,0,0,0,0,Female\\r\\n1,13.3,5.7,0,1,0,0,Female\\r\\n0,12.3,5.7,0,1,0,0,Female\\r\\n1,12.1,6.4,1,1,1,1,Male\\r\\n1,12.1,6,1,1,1,1,Male\\r\\n1,13.5,7,1,1,1,1,Male\\r\\n1,12.5,5.6,0,0,0,0,Female\\r\\n1,12.5,6.1,1,1,1,1,Male\\r\\n0,12.3,5.3,1,1,1,1,Male\\r\\n1,12.9,5.7,1,1,1,0,Male\\r\\n1,12.5,6.4,1,1,1,1,Male\\r\\n1,14.5,5.5,1,1,1,1,Male\\r\\n1,14.8,5.8,0,1,1,0,Male\\r\\n1,14.8,6.4,0,0,1,0,Male\\r\\n0,12.4,6.5,0,1,1,1,Male\\r\\n1,11.5,6.6,1,0,1,1,Male\\r\\n1,14.1,5.8,0,0,0,0,Female\\r\\n1,12.2,5.7,0,0,0,0,Female\\r\\n1,14.4,5.8,1,1,1,1,Male\\r\\n0,13.4,5.5,1,0,0,0,Female\\r\\n0,13.4,6.2,0,0,0,1,Female\\r\\n1,11.4,5.7,0,0,0,0,Female\\r\\n1,13.3,5.9,0,0,0,0,Female\\r\\n1,14.3,6.8,1,1,0,0,Male\\r\\n1,12.2,6.8,1,1,1,1,Male\\r\\n1,11.8,5.1,0,1,0,0,Female\\r\\n1,13.4,6.6,1,1,0,1,Male\\r\\n1,13.2,6,0,0,0,0,Female\\r\\n1,12.9,5.8,0,0,1,0,Female\\r\\n1,13.5,5.1,0,0,1,0,Female\\r\\n1,14.7,5.2,1,1,1,1,Male\\r\\n0,11.8,5.8,0,0,0,0,Female\\r\\n1,11.8,6.2,0,1,1,1,Female\\r\\n1,12.9,5.8,1,0,0,0,Female\\r\\n0,15.5,7.1,1,1,1,1,Male\\r\\n1,13.9,5.1,0,0,1,0,Female\\r\\n1,13.6,5.6,1,0,0,0,Female\\r\\n1,14.7,6.6,1,1,1,1,Male\\r\\n1,13.7,6.9,1,1,1,1,Male\\r\\n1,12.1,5.1,1,1,1,1,Male\\r\\n1,13.4,6.3,0,0,1,0,Female\\r\\n1,11.8,6.5,0,0,0,0,Female\\r\\n1,11.4,5.6,0,0,0,0,Female\\r\\n1,11.9,6.2,1,0,0,0,Female\\r\\n1,11.8,5.1,1,1,1,1,Male\\r\\n1,15.5,5.3,1,1,1,1,Male\\r\\n1,15.1,6,1,1,1,1,Male\\r\\n0,11.8,7.1,1,1,0,1,Male\\r\\n1,11.8,6.4,0,0,0,0,Female\\r\\n1,12.6,6.5,1,1,1,1,Male\\r\\n0,14.1,6.5,0,0,0,1,Female\\r\\n1,13.7,5.3,1,0,1,1,Male\\r\\n1,14.3,6.1,0,0,0,0,Female\\r\\n1,14.6,6.7,1,1,1,1,Male\\r\\n1,13.4,5.8,0,0,0,0,Female\\r\\n1,13.9,6.5,1,1,1,1,Male\\r\\n1,13.4,6.1,0,0,0,0,Female\\r\\n1,13.3,5.6,1,1,1,1,Male\\r\\n1,12.2,5.3,0,0,0,0,Female\\r\\n1,14.5,6.2,1,1,1,1,Male\\r\\n1,13.7,5.9,1,1,1,1,Male\\r\\n1,14.1,5.5,1,0,0,0,Female\\r\\n1,12.5,6.9,1,1,1,1,Male\\r\\n1,13.4,6.3,0,0,0,1,Female\\r\\n1,12,6.4,1,1,1,1,Male\\r\\n1,11.9,5.2,0,0,0,0,Female\\r\\n1,13.9,6.5,1,0,0,0,Female\\r\\n1,15.3,5.2,1,1,1,1,Male\\r\\n1,12.8,5.3,0,1,0,1,Female\\r\\n1,11.6,6,0,1,1,0,Female\\r\\n1,11.7,5.5,0,0,1,0,Female\\r\\n1,12,5.1,0,1,0,0,Female\\r\\n1,11.6,5.8,1,1,1,1,Male\\r\\n1,12.4,6.8,0,0,1,1,Male\\r\\n1,13.5,6.9,1,1,1,1,Male\\r\\n0,12.3,5.5,0,0,0,0,Female\\r\\n1,11.9,5.7,1,1,1,1,Male\\r\\n1,12.8,6.4,1,0,0,0,Female\\r\\n0,12.7,6.4,0,1,0,0,Female\\r\\n1,13,6.3,0,0,0,0,Female\\r\\n1,13.6,5.2,1,1,1,1,Male\\r\\n1,12.4,6.5,0,0,0,1,Female\\r\\n1,13.6,5.6,0,1,1,1,Male\\r\\n1,12,6.1,0,0,0,0,Female\\r\\n1,15.4,7.1,1,1,1,1,Male\\r\\n1,15.5,6,1,1,1,0,Male\\r\\n1,13.6,6,1,0,0,0,Female\\r\\n1,14.3,5.9,1,1,1,1,Male\\r\\n1,13.8,6.3,0,0,0,0,Female\\r\\n1,12.8,6.8,1,1,1,1,Male\\r\\n1,14.2,6.5,0,0,0,0,Female\\r\\n1,14.6,7,1,1,1,1,Male\\r\\n1,14.3,6.3,0,0,0,0,Female\\r\\n0,12.2,6.2,0,0,1,0,Female\\r\\n0,13.5,5.9,0,1,1,1,Male\\r\\n1,12.3,6.3,0,0,0,0,Female\\r\\n1,12.9,6.5,1,0,0,1,Female\\r\\n1,15.1,6.7,1,1,1,1,Male\\r\\n1,14,6,0,0,0,0,Female\\r\\n1,11.5,6,1,1,1,1,Male\\r\\n1,12.3,5.3,0,0,0,0,Female\\r\\n1,15.1,5.6,1,1,1,1,Male\\r\\n1,14.2,6.5,0,0,0,0,Female\\r\\n0,13.3,5.1,0,0,1,1,Male\\r\\n1,11.5,5.8,0,0,0,1,Female\\r\\n1,15.4,6.6,1,0,1,1,Male\\r\\n1,13.6,5.2,1,1,1,1,Male\\r\\n1,11.5,6,1,1,1,1,Male\\r\\n0,12.5,5.1,1,1,0,0,Female\\r\\n1,13.3,5.6,0,0,0,0,Female\\r\\n1,13.8,5.8,0,0,0,0,Female\\r\\n1,12.3,6.1,1,0,0,0,Female\\r\\n1,13.8,5.4,0,0,0,0,Female\\r\\n1,13.8,5.9,1,1,1,1,Male\\r\\n0,11.9,6.6,1,1,1,1,Male\\r\\n1,12.7,5.3,0,0,0,0,Female\\r\\n1,12.5,6.5,1,1,1,1,Male\\r\\n1,11.8,6.4,0,0,1,0,Female\\r\\n1,13.6,5.2,0,0,0,0,Female\\r\\n1,13.9,5.9,1,1,1,1,Male\\r\\n0,14.2,7,1,1,0,1,Male\\r\\n1,14.2,6.5,1,1,1,1,Male\\r\\n1,15.2,5.4,1,1,1,1,Male\\r\\n1,12.5,5.5,0,0,0,0,Female\\r\\n1,14.8,7.1,1,1,1,1,Male\\r\\n0,13.1,5.2,0,1,1,0,Male\\r\\n0,15.1,6,0,1,1,1,Male\\r\\n1,13.1,5.2,1,1,0,1,Male\\r\\n1,13.9,5.5,1,0,1,1,Male\\r\\n0,15.3,6.3,1,1,0,1,Male\\r\\n1,12.5,5.9,1,1,0,1,Male\\r\\n1,14.1,6.4,1,0,1,1,Male\\r\\n1,11.9,6.7,1,0,0,1,Male\\r\\n1,14,6.1,0,0,0,0,Female\\r\\n1,15,5.6,1,1,1,1,Male\\r\\n1,12.5,5.8,1,1,0,1,Male\\r\\n1,12.2,6.1,0,0,0,0,Female\\r\\n0,11.5,7,1,1,1,0,Male\\r\\n1,15.3,5.6,0,1,1,1,Male\\r\\n1,11.6,5.9,0,0,0,0,Female\\r\\n0,13.5,6.4,1,1,0,1,Male\\r\\n1,12.7,6,1,1,1,1,Male\\r\\n1,15.3,6.2,1,1,1,1,Male\\r\\n1,13.1,5.7,0,1,0,0,Female\\r\\n1,12.4,6.5,1,1,1,1,Male\\r\\n1,11.9,5.1,1,0,0,0,Female\\r\\n1,11.7,5.3,0,0,0,0,Female\\r\\n1,12.8,6.8,1,1,1,1,Male\\r\\n1,13.8,6.2,0,1,1,0,Female\\r\\n1,13.7,6.3,0,0,0,0,Female\\r\\n1,13.6,5.8,1,1,1,1,Male\\r\\n0,12.5,6.5,1,1,1,1,Male\\r\\n1,14.2,6.4,0,0,0,0,Female\\r\\n0,12.1,7,1,1,1,1,Male\\r\\n1,13,5.1,0,0,0,1,Female\\r\\n1,11.4,5.1,1,0,0,1,Female\\r\\n0,13,6.3,1,1,1,1,Male\\r\\n1,12.5,5.9,0,0,0,1,Female\\r\\n1,13.2,5.3,0,0,0,0,Female\\r\\n1,13.1,6.2,0,0,0,0,Female\\r\\n1,13.4,5.4,1,0,0,0,Female\\r\\n1,11.8,5.2,1,1,1,1,Male\\r\\n1,13.4,5.8,0,0,0,0,Female\\r\\n1,13,6.1,1,0,0,0,Female\\r\\n1,14.2,6.1,1,1,1,1,Male\\r\\n1,13.3,5.4,0,0,0,0,Female\\r\\n0,12.3,7.1,1,1,1,1,Male\\r\\n1,12.5,5.6,0,0,0,1,Female\\r\\n1,13.2,6.6,1,0,1,1,Male\\r\\n1,13.2,6.6,1,1,1,1,Male\\r\\n1,13.4,5.4,0,0,0,0,Female\\r\\n1,12.4,5.1,1,1,1,1,Male\\r\\n1,11.6,6.2,0,0,0,0,Female\\r\\n1,12.4,5.2,1,1,1,1,Male\\r\\n1,12.7,5.1,0,0,0,0,Female\\r\\n1,13,6.5,0,0,0,0,Female\\r\\n1,12.5,6.6,1,1,1,1,Male\\r\\n1,12.3,6,0,1,0,0,Female\\r\\n1,11.9,5.3,1,0,1,0,Female\\r\\n1,12.7,5.9,1,1,1,1,Male\\r\\n1,13.1,6.2,0,0,0,0,Female\\r\\n0,13,5.9,0,0,0,1,Female\\r\\n1,14.1,6,0,0,1,0,Female\\r\\n1,13.3,5.7,0,0,0,0,Female\\r\\n1,13.1,5.6,0,0,1,0,Female\\r\\n1,11.8,6.5,0,1,0,1,Female\\r\\n1,13.2,5.9,0,1,1,1,Male\\r\\n0,15.2,5.1,1,1,1,1,Male\\r\\n1,12.7,5.3,0,1,0,0,Female\\r\\n1,11.7,5.9,0,0,0,0,Female\\r\\n1,13.1,5.2,1,1,1,1,Male\\r\\n1,13.2,5.4,0,0,0,0,Female\\r\\n1,13.7,5.4,0,0,1,1,Female\\r\\n0,11.6,6.7,1,1,0,1,Male\\r\\n1,14.8,5.7,1,1,1,1,Male\\r\\n1,14.3,5.1,0,0,0,0,Female\\r\\n0,14.1,5.6,1,1,1,1,Male\\r\\n1,13.8,6.1,1,1,1,1,Male\\r\\n1,12.1,6.6,1,1,1,1,Male\\r\\n1,13.5,5.5,0,0,0,1,Female\\r\\n1,12.3,5.8,1,1,1,1,Male\\r\\n1,14.2,5.3,1,1,1,1,Male\\r\\n1,13.7,6.5,0,1,0,0,Female\\r\\n1,14.3,6.1,1,1,1,1,Male\\r\\n1,15.2,6.9,1,1,1,1,Male\\r\\n1,14,5.2,0,0,0,1,Female\\r\\n1,14.1,6.3,1,0,1,0,Female\\r\\n1,14.2,5.8,1,1,1,1,Male\\r\\n1,11.5,5.9,1,1,1,1,Male\\r\\n1,15.2,6,1,1,1,1,Male\\r\\n1,12.1,5.9,1,1,1,1,Male\\r\\n1,12.2,5.7,0,0,0,0,Female\\r\\n1,12.3,6.3,0,0,0,0,Female\\r\\n1,12.9,6,0,0,0,0,Female\\r\\n1,12.3,5.3,0,1,1,1,Male\\r\\n1,12.3,5.4,1,1,1,1,Male\\r\\n1,12.1,5.6,0,0,0,0,Female\\r\\n1,11.8,6.7,1,0,1,1,Male\\r\\n1,12.9,6.4,0,0,0,0,Female\\r\\n1,14.6,6.4,1,1,0,1,Male\\r\\n0,11.6,6.3,0,0,0,0,Female\\r\\n1,13.2,5.4,1,1,1,1,Male\\r\\n1,13.2,5.4,0,0,1,0,Female\\r\\n0,13.1,5.3,0,1,0,0,Female\\r\\n1,12.7,5.3,1,1,1,1,Male\\r\\n1,13.6,5.1,0,0,0,0,Female\\r\\n1,11.7,5.7,0,0,0,0,Female\\r\\n1,14.9,5.3,1,1,0,1,Male\\r\\n1,14.9,5.1,1,1,1,1,Male\\r\\n1,13.3,5.6,0,0,0,0,Female\\r\\n1,15.2,6.2,1,1,1,1,Male\\r\\n1,14.1,5.5,0,0,0,0,Female\\r\\n1,13.9,6.5,0,0,0,0,Female\\r\\n1,13.4,6.5,0,0,0,0,Female\\r\\n1,11.4,5.5,0,0,0,0,Female\\r\\n0,12.6,6.2,0,1,0,0,Female\\r\\n1,13,5.2,0,0,0,0,Female\\r\\n1,13,5.5,0,0,0,0,Female\\r\\n1,14,6.4,0,0,1,0,Female\\r\\n1,15.1,5.8,1,1,1,1,Male\\r\\n1,14.2,6.3,0,1,0,0,Female\\r\\n1,12.9,5.3,0,0,0,0,Female\\r\\n0,12.8,6.2,0,1,0,0,Female\\r\\n1,12.7,5.7,0,0,0,0,Female\\r\\n1,13.9,6.3,0,0,0,0,Female\\r\\n1,12.6,6.9,1,1,1,1,Male\\r\\n0,14.3,5.2,1,1,1,1,Male\\r\\n1,13.4,5.5,0,1,1,1,Male\\r\\n1,13.9,6.5,1,1,1,1,Male\\r\\n1,11.8,6.3,0,0,0,0,Female\\r\\n0,11.5,5.7,0,0,0,1,Female\\r\\n1,15.2,5.2,1,1,1,1,Male\\r\\n0,12.8,6.2,1,1,1,1,Male\\r\\n1,12.6,6.5,0,1,0,0,Female\\r\\n1,14.4,5.7,1,1,1,1,Male\\r\\n1,13.3,5.3,0,0,0,1,Female\\r\\n1,14.9,7,1,1,1,1,Male\\r\\n1,12.5,5.3,1,0,0,0,Female\\r\\n1,11.6,6.2,0,0,1,1,Female\\r\\n1,12.2,5.3,1,1,1,1,Male\\r\\n0,11.9,6.3,1,0,1,1,Male\\r\\n1,15.5,6,1,1,1,1,Male\\r\\n1,15.5,5.5,1,1,1,1,Male\\r\\n1,12,5.4,0,0,0,0,Female\\r\\n1,13.7,5.9,0,0,0,0,Female\\r\\n1,14.1,5.6,0,1,1,0,Female\\r\\n1,12.1,5.7,0,0,0,0,Female\\r\\n1,12.5,6.3,0,0,0,0,Female\\r\\n1,13,6.5,1,1,1,1,Male\\r\\n1,13.8,7,1,0,0,1,Male\\r\\n1,15.2,5.6,0,1,1,1,Male\\r\\n1,11.8,6.9,1,1,1,1,Male\\r\\n1,12.8,6.4,1,1,1,0,Male\\r\\n1,12.1,7,1,1,1,1,Male\\r\\n1,14.1,6.3,0,0,0,0,Female\\r\\n1,11.4,6.2,0,1,0,0,Female\\r\\n1,11.6,5.3,1,1,1,0,Male\\r\\n1,14.9,6.3,1,1,1,0,Male\\r\\n1,14.5,5.1,0,1,1,1,Male\\r\\n1,12.3,5.1,0,0,0,0,Female\\r\\n0,15.4,5.4,1,1,1,1,Male\\r\\n1,14.1,6.8,1,1,1,1,Male\\r\\n1,14.1,6.4,1,0,1,1,Male\\r\\n1,11.7,6.4,0,0,0,0,Female\\r\\n1,13.5,5.4,0,0,0,0,Female\\r\\n1,12.9,5.9,1,1,1,1,Male\\r\\n1,14.1,6,0,0,0,0,Female\\r\\n1,12.7,6,0,0,0,0,Female\\r\\n1,13.7,6.5,1,1,1,0,Male\\r\\n1,14.7,5.1,1,1,1,0,Male\\r\\n0,13.5,6.1,0,0,1,0,Female\\r\\n1,14,6,0,0,0,0,Female\\r\\n1,11.6,6.1,1,0,0,1,Female\\r\\n0,12.9,6.3,0,0,0,0,Female\\r\\n1,13.9,5.1,0,0,1,0,Female\\r\\n1,13.5,5.8,0,0,0,0,Female\\r\\n1,11.9,6.1,1,1,1,1,Male\\r\\n1,12.2,7.1,1,1,1,0,Male\\r\\n1,14.3,6.7,1,1,1,1,Male\\r\\n1,12,6.3,1,1,1,0,Male\\r\\n1,12.4,5.5,1,1,0,1,Male\\r\\n1,13.9,7.1,1,1,1,1,Male\\r\\n1,11.9,5.9,0,0,0,0,Female\\r\\n1,13.3,7.1,1,1,0,0,Male\\r\\n1,13.2,6.3,0,0,0,1,Female\\r\\n1,13.3,5.5,0,0,0,0,Female\\r\\n1,14,5.1,0,0,0,0,Female\\r\\n1,15.5,6.5,1,1,1,1,Male\\r\\n1,11.8,6.1,0,0,0,0,Female\\r\\n1,11.8,6.1,0,0,0,1,Female\\r\\n1,12.4,6.1,0,0,0,0,Female\\r\\n0,12.6,5.5,0,0,0,0,Female\\r\\n1,11.5,6,0,0,0,0,Female\\r\\n1,11.8,5.5,0,0,0,0,Female\\r\\n1,13.4,5.9,1,1,0,1,Male\\r\\n1,15.4,6.9,1,1,1,1,Male\\r\\n0,12.5,5.5,1,0,1,1,Male\\r\\n1,11.5,5.2,1,0,0,0,Female\\r\\n1,13.8,6.5,1,0,0,1,Female\\r\\n1,13.6,6.3,0,0,0,0,Female\\r\\n1,11.9,6.9,1,1,1,1,Male\\r\\n1,14.1,5.1,0,0,0,0,Female\\r\\n1,14.2,6,1,1,1,1,Male\\r\\n1,13.5,7,1,0,1,1,Male\\r\\n0,12.9,5.9,0,0,0,0,Female\\r\\n1,13.3,5.2,1,1,1,0,Male\\r\\n1,13.1,6.5,1,1,1,1,Male\\r\\n1,11.7,5.7,0,0,0,0,Female\\r\\n0,13.5,5.1,0,0,0,0,Female\\r\\n1,11.4,6.4,1,0,0,0,Female\\r\\n1,15,5.3,1,1,1,1,Male\\r\\n1,11.6,5.6,1,1,1,1,Male\\r\\n1,13.2,5.8,1,1,1,1,Male\\r\\n1,13.3,5.5,0,0,1,1,Female\\r\\n1,15,6.9,0,1,1,1,Male\\r\\n1,14.9,5.6,1,1,0,0,Male\\r\\n0,11.9,7.1,1,0,1,1,Male\\r\\n1,12.2,6.9,1,1,1,1,Male\\r\\n1,13.6,5.9,0,1,1,0,Female\\r\\n1,12.1,5.4,1,0,1,1,Male\\r\\n1,14.9,5.8,1,1,1,1,Male\\r\\n1,14.2,6.1,0,0,0,0,Female\\r\\n1,12.5,6.1,0,1,0,0,Female\\r\\n1,14.5,6.7,1,1,1,1,Male\\r\\n1,14.2,5.7,0,1,0,0,Female\\r\\n1,11.8,5.7,1,1,1,1,Male\\r\\n0,15.4,6.3,1,1,1,1,Male\\r\\n1,14.3,5.6,1,1,0,1,Male\\r\\n1,14.5,5.8,1,1,1,1,Male\\r\\n1,12.5,5.9,0,0,0,0,Female\\r\\n1,12.8,5.6,1,1,1,1,Male\\r\\n1,13.2,5.3,0,0,0,0,Female\\r\\n0,12.1,6.4,0,0,0,0,Female\\r\\n0,12,5.1,0,0,0,0,Female\\r\\n1,13.5,6,1,1,1,1,Male\\r\\n1,12.4,5.1,0,0,0,0,Female\\r\\n1,13.5,5.5,0,0,0,0,Female\\r\\n1,13.4,5.4,0,0,0,0,Female\\r\\n1,13.3,5.2,0,0,0,0,Female\\r\\n1,11.8,6.4,1,1,1,1,Male\\r\\n1,15.5,5.5,1,1,1,1,Male\\r\\n1,14.7,5.6,1,1,1,1,Male\\r\\n0,12.3,6.6,1,1,0,1,Male\\r\\n0,14.9,5.3,1,1,1,0,Male\\r\\n1,13.3,6.3,1,1,1,1,Male\\r\\n1,14.3,5.1,0,1,0,0,Female\\r\\n1,14.3,5.6,1,1,0,1,Male\\r\\n1,11.8,5.6,0,1,1,1,Male\\r\\n1,11.7,5.5,0,0,0,0,Female\\r\\n1,12.8,5.3,0,0,0,0,Female\\r\\n1,11.6,5.2,0,0,0,0,Female\\r\\n1,13.7,6.3,0,0,0,1,Female\\r\\n1,14.3,5.4,0,1,0,0,Female\\r\\n1,13.5,5.1,1,1,1,1,Male\\r\\n1,14.1,5.9,0,0,0,0,Female\\r\\n1,14.3,6.6,1,1,1,1,Male\\r\\n1,12,5.6,0,0,0,0,Female\\r\\n1,12.4,5.2,1,1,0,1,Male\\r\\n1,13.5,5.4,1,0,0,0,Female\\r\\n1,13.8,5.5,0,1,1,1,Male\\r\\n1,14.2,5.1,1,1,1,1,Male\\r\\n0,11.6,6.4,1,1,1,0,Male\\r\\n1,14.3,5.4,1,1,1,0,Male\\r\\n1,14.3,5.7,0,0,0,0,Female\\r\\n1,12.7,6.1,1,0,1,1,Male\\r\\n1,12.8,5.2,0,0,0,0,Female\\r\\n1,12.4,5.7,1,1,1,1,Male\\r\\n1,12.4,6.3,0,0,1,0,Female\\r\\n1,13.6,5.3,0,0,1,0,Male\\r\\n1,13,5.1,1,1,1,1,Male\\r\\n1,12,7,1,1,1,1,Male\\r\\n1,13.4,5.5,1,1,1,1,Male\\r\\n0,14.5,6.4,1,1,1,1,Male\\r\\n1,13.1,5.4,1,0,0,0,Female\\r\\n1,11.9,5.9,1,0,1,0,Female\\r\\n1,11.5,6.1,1,1,1,0,Male\\r\\n1,12.2,5.4,1,0,0,0,Female\\r\\n1,12.2,5.4,0,0,0,0,Female\\r\\n1,13.4,5.8,0,0,0,0,Female\\r\\n1,11.8,5.6,0,0,0,0,Female\\r\\n1,13.3,5.7,0,0,0,0,Female\\r\\n1,14.6,5.7,1,1,1,1,Male\\r\\n1,11.6,5.6,1,0,0,0,Female\\r\\n1,14.3,5.9,1,1,1,1,Male\\r\\n1,13.8,5.7,1,0,0,0,Female\\r\\n1,14.3,6.5,1,1,1,1,Male\\r\\n1,12.2,5.6,0,0,0,0,Female\\r\\n1,12.1,5.8,1,1,0,0,Male\\r\\n1,13.1,6.5,0,1,0,0,Female\\r\\n1,15.4,6.9,1,1,1,1,Male\\r\\n1,14,7.1,1,1,1,1,Male\\r\\n1,13.6,6.1,1,0,0,0,Female\\r\\n1,11.4,5.9,0,0,0,0,Female\\r\\n1,14.2,5.5,1,1,0,1,Male\\r\\n1,13.9,5.8,1,1,1,1,Male\\r\\n1,15.3,5.3,1,1,1,1,Male\\r\\n1,15.3,5.6,1,1,1,1,Male\\r\\n1,12.1,6.1,1,1,1,1,Male\\r\\n1,13.1,5.8,0,0,0,0,Female\\r\\n1,12.6,6,0,0,0,0,Female\\r\\n1,13.3,5.5,1,0,0,0,Female\\r\\n1,12.4,6.7,1,1,1,1,Male\\r\\n1,13.6,5.7,0,0,0,0,Female\\r\\n1,12.7,6.2,0,0,0,0,Female\\r\\n1,14,6.2,0,0,0,0,Female\\r\\n1,13.6,6.9,1,1,1,1,Male\\r\\n1,11.9,5.2,1,1,1,1,Male\\r\\n1,11.6,5.1,0,0,0,1,Female\\r\\n1,12.7,6.2,0,0,1,0,Female\\r\\n1,12.8,6.2,1,1,1,1,Male\\r\\n0,12.9,5.8,0,1,0,0,Female\\r\\n1,15.4,6.5,1,0,1,1,Male\\r\\n1,11.8,5.7,0,0,0,0,Female\\r\\n1,12,5.3,0,0,1,0,Female\\r\\n0,11.5,6,0,0,0,1,Female\\r\\n1,13.8,5.9,1,0,1,1,Male\\r\\n1,12.2,5.1,1,1,1,1,Male\\r\\n1,15,6.1,0,1,1,1,Male\\r\\n1,14.6,7,1,1,1,1,Male\\r\\n1,15.4,5.9,0,1,1,0,Male\\r\\n0,14.2,6.7,1,1,1,1,Male\\r\\n1,13.1,5.9,0,0,0,0,Female\\r\\n1,14.9,6.1,1,1,0,1,Male\\r\\n1,13.7,6.3,1,1,1,1,Male\\r\\n0,13.4,6.9,1,1,1,1,Male\\r\\n1,12.6,7.1,1,1,1,1,Male\\r\\n1,13.8,5.1,1,0,0,0,Female\\r\\n1,12.6,5.7,0,0,0,0,Female\\r\\n1,11.6,5.2,0,0,0,0,Female\\r\\n1,12.5,6.7,1,1,1,1,Male\\r\\n0,12.8,5.2,1,0,1,1,Male\\r\\n1,13,6.4,1,1,1,1,Male\\r\\n1,12.5,6.5,0,1,0,0,Female\\r\\n1,12.1,5.7,1,1,1,1,Male\\r\\n0,13.6,5.3,0,0,0,1,Female\\r\\n1,13,5.3,1,1,1,1,Male\\r\\n1,13.1,5.8,1,0,1,1,Male\\r\\n1,14.2,5.1,0,0,0,0,Female\\r\\n1,12,6.2,0,0,0,0,Female\\r\\n0,11.9,5.3,0,0,0,0,Female\\r\\n1,13.2,7.1,1,1,0,1,Male\\r\\n1,13,5.2,1,0,0,0,Female\\r\\n1,12.9,5.9,0,0,0,0,Female\\r\\n0,12.3,5.2,0,0,0,1,Female\\r\\n1,13.7,6.9,0,1,1,1,Male\\r\\n1,13.8,5.8,0,0,0,0,Female\\r\\n1,14.4,6,0,1,1,1,Male\\r\\n1,14.8,6.6,1,1,1,1,Male\\r\\n1,13.8,5.7,1,1,1,1,Male\\r\\n0,11.8,5.9,0,1,0,0,Female\\r\\n0,12.7,7,1,1,1,1,Male\\r\\n1,13.7,5.5,1,1,1,1,Male\\r\\n1,14.4,5.4,1,1,1,1,Male\\r\\n1,12,7,1,1,1,1,Male\\r\\n0,13.9,6.8,1,1,1,1,Male\\r\\n1,12.1,6,1,1,1,1,Male\\r\\n1,13.8,7,0,1,1,1,Male\\r\\n1,14.2,5.1,0,0,0,0,Female\\r\\n1,13.7,5.3,0,0,1,0,Female\\r\\n1,12.7,5.9,0,0,0,0,Female\\r\\n1,13.6,5.9,0,0,1,0,Female\\r\\n1,12.8,6.1,1,0,0,0,Female\\r\\n0,11.7,5.9,0,0,0,0,Female\\r\\n1,13.1,6.6,1,1,1,1,Male\\r\\n1,14.3,5.5,0,1,0,0,Female\\r\\n1,13.9,5.9,0,1,1,1,Male\\r\\n1,14.6,5.6,1,1,1,1,Male\\r\\n0,13.5,5.3,0,0,1,0,Female\\r\\n1,12.8,5.6,0,0,0,1,Female\\r\\n1,11.9,5.7,0,1,0,0,Female\\r\\n1,12.3,6.4,1,1,0,1,Male\\r\\n1,12.4,6.4,1,1,1,0,Male\\r\\n1,13.9,6.4,1,1,1,1,Male\\r\\n1,13.8,5.1,1,1,1,1,Male\\r\\n1,12.2,5.3,1,0,0,0,Female\\r\\n1,12.1,5.2,1,1,1,1,Male\\r\\n1,12.2,5.8,1,1,1,1,Male\\r\\n1,11.5,5.8,0,0,0,0,Female\\r\\n1,15.2,5.8,1,1,1,1,Male\\r\\n1,15.4,5.7,1,0,1,1,Male\\r\\n1,13,6.9,1,0,1,1,Male\\r\\n1,14.2,5.8,1,1,1,1,Male\\r\\n0,15.4,6,1,1,1,1,Male\\r\\n1,13.3,5.3,1,1,1,1,Male\\r\\n1,12.2,6.2,0,1,0,0,Female\\r\\n0,14.3,5.2,0,0,1,0,Female\\r\\n1,14.3,5.4,0,0,0,0,Female\\r\\n1,14.8,6.8,1,0,1,1,Male\\r\\n1,11.5,6.1,0,0,0,0,Female\\r\\n1,11.8,7,1,1,1,1,Male\\r\\n1,12.2,5.8,1,0,1,1,Male\\r\\n1,11.4,5.9,0,0,0,1,Female\\r\\n1,14.2,6.5,0,0,0,0,Female\\r\\n0,13.9,6.4,0,0,0,0,Female\\r\\n1,13.7,6,1,1,1,1,Male\\r\\n1,12.7,5.8,0,1,1,1,Male\\r\\n1,13.2,5.3,0,0,0,0,Female\\r\\n1,14.3,5.6,1,1,1,1,Male\\r\\n0,15.3,5.8,1,1,0,1,Male\\r\\n1,13.5,5.8,0,0,0,0,Female\\r\\n1,13.1,6.2,0,0,0,1,Female\\r\\n1,11.8,5.4,0,0,0,1,Female\\r\\n1,11.7,5.4,0,1,0,0,Female\\r\\n1,13.2,5.5,1,1,1,1,Male\\r\\n1,12.5,5.8,1,1,1,0,Male\\r\\n0,14.2,6,1,1,0,1,Male\\r\\n0,13,6.4,0,0,0,0,Female\\r\\n1,15.3,6.7,1,1,1,0,Male\\r\\n1,11.8,5.1,0,0,1,1,Female\\r\\n1,12.2,6.2,0,0,0,0,Female\\r\\n1,13.7,7,1,1,1,1,Male\\r\\n1,12.6,6.5,0,1,0,0,Female\\r\\n1,11.4,5.3,0,1,0,0,Female\\r\\n0,12.4,5.8,1,1,1,1,Male\\r\\n1,15,6.4,1,1,1,1,Male\\r\\n1,13.6,6.2,1,1,0,1,Male\\r\\n1,12.2,6.4,0,0,0,0,Female\\r\\n0,11.5,6.2,0,0,0,0,Female\\r\\n1,13.6,5.7,0,0,0,0,Female\\r\\n1,11.9,7.1,1,0,1,0,Male\\r\\n1,13.6,5.7,0,0,0,1,Female\\r\\n1,13.3,6.2,0,0,0,0,Female\\r\\n1,13.8,6.2,0,0,0,1,Female\\r\\n1,13.8,6,0,0,0,0,Female\\r\\n0,12.7,7.1,1,1,1,1,Male\\r\\n1,13.5,6.2,0,0,0,0,Female\\r\\n1,11.5,5.7,1,0,1,0,Male\\r\\n1,13.3,7,1,1,1,1,Male\\r\\n1,11.5,5.5,1,1,1,1,Male\\r\\n1,12.1,6.5,0,0,0,0,Female\\r\\n1,14.3,7,1,1,1,0,Male\\r\\n1,12.8,5.8,0,0,0,0,Female\\r\\n1,12.3,5.2,1,1,1,1,Male\\r\\n1,14.6,6.1,0,0,1,1,Male\\r\\n1,13.4,6.7,1,1,1,1,Male\\r\\n1,13.2,5.6,0,0,0,0,Female\\r\\n1,14.1,5.3,1,1,1,1,Male\\r\\n1,13.7,5.3,0,0,0,0,Female\\r\\n1,15,5.9,0,1,1,1,Male\\r\\n1,12.3,5.7,0,0,0,0,Female\\r\\n1,13.7,6.1,0,0,0,0,Female\\r\\n0,15.4,5.9,0,1,1,1,Male\\r\\n1,15,6.5,1,1,1,1,Male\\r\\n1,12.1,7,1,1,1,1,Male\\r\\n1,12.4,6.9,1,1,1,1,Male\\r\\n1,14.2,6.1,0,1,0,0,Female\\r\\n1,13.2,6.2,1,1,1,1,Male\\r\\n1,13.9,6,1,0,0,0,Female\\r\\n1,13.7,6,0,0,0,0,Female\\r\\n1,14.2,5.7,0,0,0,0,Female\\r\\n1,12.9,5.6,1,1,0,0,Male\\r\\n1,11.9,5.9,0,0,0,1,Female\\r\\n1,15.5,5.7,1,1,1,1,Male\\r\\n1,12.4,5.5,1,0,0,0,Female\\r\\n1,13.6,6.5,1,1,1,1,Male\\r\\n1,14.9,6.3,1,1,1,1,Male\\r\\n1,13.5,7.1,1,0,1,1,Male\\r\\n1,11.4,5.8,0,0,0,0,Female\\r\\n1,12.7,7,1,1,0,1,Male\\r\\n0,11.5,5.3,1,1,1,1,Male\\r\\n1,11.8,6.1,0,0,0,1,Female\\r\\n0,12.5,5.3,0,0,0,0,Female\\r\\n1,12.1,5.8,0,0,0,0,Female\\r\\n1,15.1,5.5,1,1,1,1,Male\\r\\n1,14.5,5.6,1,1,1,1,Male\\r\\n0,14.4,6.5,1,0,1,1,Male\\r\\n1,12.3,5.6,0,0,0,0,Female\\r\\n1,11.5,6.5,0,1,1,1,Male\\r\\n1,12.7,5.6,1,1,1,1,Male\\r\\n0,12,6.8,1,1,1,1,Male\\r\\n0,12,5.6,0,0,0,0,Female\\r\\n0,12.3,5.1,0,0,0,1,Female\\r\\n1,13.6,5.5,1,1,1,1,Male\\r\\n1,14.4,5.7,1,1,1,1,Male\\r\\n0,11.4,5.4,0,0,0,0,Female\\r\\n1,14.9,6.5,0,1,1,1,Male\\r\\n1,13.1,6.4,0,1,0,0,Female\\r\\n1,11.5,5.5,0,1,1,1,Male\\r\\n1,11.6,6.2,0,0,1,0,Female\\r\\n1,12.1,5.7,1,1,1,1,Male\\r\\n1,13.4,6.4,1,1,0,1,Male\\r\\n0,13.5,5.2,1,1,1,1,Male\\r\\n1,12.6,5.6,0,0,0,0,Female\\r\\n1,13.7,5.7,1,1,1,1,Male\\r\\n0,13.4,6.4,1,1,1,1,Male\\r\\n1,13.6,6.1,0,0,0,0,Female\\r\\n1,12.5,6.2,0,0,0,0,Female\\r\\n0,12.5,5.5,1,1,1,1,Male\\r\\n1,14.1,6.2,0,0,0,1,Female\\r\\n1,12.9,5.3,0,0,0,0,Female\\r\\n1,12.5,6.3,0,0,0,0,Female\\r\\n1,11.6,5.7,0,0,1,0,Female\\r\\n0,13.9,6.7,1,1,1,1,Male\\r\\n1,11.6,5.7,0,0,0,0,Female\\r\\n0,11.5,6.2,0,0,0,0,Female\\r\\n1,12.5,6.1,0,0,0,0,Female\\r\\n1,13,6.1,0,0,0,0,Female\\r\\n1,14.2,5.2,0,1,1,1,Male\\r\\n1,14.4,5.9,1,0,1,1,Male\\r\\n0,14.3,5.9,1,1,1,1,Male\\r\\n1,13,6.5,0,0,0,0,Female\\r\\n1,11.4,5.2,0,1,0,0,Female\\r\\n1,13.8,6.1,1,1,1,1,Male\\r\\n1,12.6,6.8,1,1,0,1,Male\\r\\n1,11.9,6.2,0,0,1,1,Male\\r\\n1,12.3,5.6,1,1,1,1,Male\\r\\n1,13.4,6.8,1,0,1,1,Male\\r\\n1,11.6,5.6,1,1,1,1,Male\\r\\n1,13.4,5.8,0,0,0,1,Female\\r\\n1,13.9,5.5,0,0,0,0,Female\\r\\n0,11.7,6.8,1,1,0,1,Male\\r\\n1,15.1,5.7,1,0,1,1,Male\\r\\n1,11.7,6.1,0,1,0,0,Female\\r\\n1,12.1,6.9,1,1,0,1,Male\\r\\n1,14,7.1,1,1,1,1,Male\\r\\n0,12.9,5.3,0,0,0,1,Female\\r\\n1,13.7,5.7,1,1,1,1,Male\\r\\n1,12.8,6.2,0,0,0,0,Female\\r\\n1,13.1,6.1,0,0,0,0,Female\\r\\n1,14,6.1,0,1,0,0,Female\\r\\n1,14.7,5.6,0,1,1,1,Male\\r\\n1,11.8,6.4,0,0,0,0,Female\\r\\n1,14.5,5.5,0,1,1,1,Male\\r\\n1,13.5,6.1,1,1,1,1,Male\\r\\n1,11.9,5.6,1,1,1,1,Male\\r\\n1,15.1,5.6,1,1,0,1,Male\\r\\n0,14.5,6,1,0,1,1,Male\\r\\n1,12.9,6.5,0,0,1,0,Female\\r\\n0,12.3,5.2,0,0,0,0,Female\\r\\n1,14.5,6.1,1,0,1,0,Male\\r\\n1,15.2,5.2,1,1,1,1,Male\\r\\n1,12.3,6.1,1,1,1,1,Male\\r\\n1,12.2,5.6,1,0,1,0,Female\\r\\n1,13.8,5.1,1,1,1,1,Male\\r\\n1,11.4,5.9,0,0,1,1,Female\\r\\n1,11.7,6,1,1,1,1,Male\\r\\n1,11.5,5.2,0,0,0,0,Female\\r\\n1,13.2,6.7,0,1,0,1,Male\\r\\n1,13.8,6.3,0,0,0,0,Female\\r\\n1,15,5.8,1,1,0,1,Male\\r\\n1,11.4,6.2,0,1,0,1,Female\\r\\n1,13.1,5.1,1,1,1,1,Male\\r\\n1,13.6,5.3,1,1,1,1,Male\\r\\n1,13.6,5.6,0,0,0,1,Female\\r\\n1,14.9,6.8,1,1,1,1,Male\\r\\n1,14,5.4,0,0,0,0,Female\\r\\n0,13.2,5.7,0,0,0,0,Female\\r\\n1,14,5.1,0,0,0,1,Female\\r\\n1,14.3,6.1,0,0,0,0,Female\\r\\n0,12.4,5.6,0,0,0,0,Female\\r\\n1,14.4,6.3,1,1,1,1,Male\\r\\n1,14.2,6.3,0,0,0,0,Female\\r\\n1,12.6,5.7,0,0,0,0,Female\\r\\n1,13.1,5.8,1,1,1,1,Male\\r\\n1,11.5,6.2,1,0,0,1,Female\\r\\n1,12.3,5.9,0,0,0,0,Female\\r\\n1,14.1,5.4,1,1,1,1,Male\\r\\n0,11.4,6.3,0,0,1,0,Female\\r\\n1,13.2,6.1,1,1,1,1,Male\\r\\n1,11.8,6.5,0,0,0,0,Female\\r\\n0,13.2,5.3,1,1,1,1,Male\\r\\n1,13.9,6.2,1,1,1,1,Male\\r\\n1,12.1,5.3,0,0,0,0,Female\\r\\n1,13.5,7.1,1,1,1,1,Male\\r\\n1,14.2,6.2,0,0,1,0,Female\\r\\n1,14,5.1,1,1,1,1,Male\\r\\n0,12.2,6.1,1,1,1,1,Male\\r\\n0,12.3,5.2,0,0,0,0,Female\\r\\n1,13.1,6.2,1,1,1,1,Male\\r\\n0,12.1,5.5,1,0,0,1,Female\\r\\n1,13,5.2,1,0,0,0,Female\\r\\n1,14.1,6.7,1,1,1,1,Male\\r\\n0,13.2,6,0,0,0,1,Female\\r\\n1,11.8,6.4,0,1,1,0,Female\\r\\n1,12.5,5.6,0,0,0,0,Female\\r\\n1,12.8,5.8,1,1,0,0,Female\\r\\n1,12.6,6.3,0,0,0,0,Female\\r\\n1,11.6,5.7,0,0,1,0,Female\\r\\n1,14.8,5.1,1,1,1,1,Male\\r\\n0,11.6,5.4,0,0,0,0,Female\\r\\n1,12.3,6.1,1,0,0,0,Female\\r\\n0,13.8,5.1,0,0,0,0,Female\\r\\n1,12.6,6.9,1,1,1,1,Male\\r\\n1,14.5,7,1,1,1,1,Male\\r\\n1,15.3,6.6,1,1,1,1,Male\\r\\n1,12.7,5.6,0,0,0,0,Female\\r\\n1,14.7,6.2,1,1,1,1,Male\\r\\n1,11.5,5.8,0,0,0,0,Female\\r\\n1,14,6.3,0,1,0,0,Female\\r\\n1,12.9,5.1,0,0,0,0,Female\\r\\n1,13.6,5.1,0,0,0,0,Female\\r\\n1,12.5,5.3,0,0,0,0,Female\\r\\n1,11.4,5.6,0,0,0,0,Female\\r\\n1,13.4,5.9,1,1,0,0,Male\\r\\n1,14.3,5.7,0,0,0,0,Female\\r\\n0,13.5,6.3,0,1,1,0,Female\\r\\n1,12.9,6.1,0,0,0,0,Female\\r\\n1,12.2,5.6,0,0,0,0,Female\\r\\n1,11.8,5.8,1,1,1,1,Male\\r\\n1,13.1,5.9,1,1,1,1,Male\\r\\n0,13.8,5.1,0,0,0,0,Female\\r\\n1,12.9,6.5,1,1,1,1,Male\\r\\n1,12.6,6.3,0,0,0,0,Female\\r\\n1,15.4,7,1,1,1,1,Male\\r\\n1,13.6,6.8,1,0,1,0,Male\\r\\n1,12.3,6.5,1,0,1,0,Male\\r\\n1,12.7,5.9,0,0,1,0,Female\\r\\n1,14.6,6.5,0,1,0,1,Male\\r\\n1,11.6,7.1,1,1,1,1,Male\\r\\n1,13.9,5.8,0,0,0,0,Female\\r\\n1,11.4,5.3,0,0,1,0,Female\\r\\n1,13.1,6.3,0,1,0,0,Female\\r\\n1,15.3,6,1,1,1,1,Male\\r\\n1,14.1,6.5,0,0,0,0,Female\\r\\n1,14.3,7,1,0,1,1,Male\\r\\n1,12.3,6.9,1,1,1,1,Male\\r\\n1,15,6.3,0,1,1,1,Male\\r\\n1,12.4,5.7,1,1,1,1,Male\\r\\n1,14.5,5.7,0,1,1,1,Male\\r\\n1,15.2,5.7,1,1,1,1,Male\\r\\n1,13.2,5.8,1,1,1,1,Male\\r\\n1,14.6,7.1,1,1,1,0,Male\\r\\n1,14.7,6.2,1,1,1,1,Male\\r\\n1,14.7,6.9,1,1,1,1,Male\\r\\n1,14.2,5.1,1,0,0,0,Female\\r\\n1,13.6,6.1,0,0,0,0,Female\\r\\n1,12.8,6.3,0,0,1,0,Female\\r\\n1,13.6,5.7,1,1,1,1,Male\\r\\n1,12,5.7,0,1,1,1,Male\\r\\n1,14.4,6,1,1,1,1,Male\\r\\n1,15.2,6.7,1,1,1,1,Male\\r\\n1,14.3,6.5,1,1,1,0,Male\\r\\n1,11.7,5.4,0,0,0,0,Female\\r\\n1,12.7,5.8,1,1,1,1,Male\\r\\n0,14.3,5.7,1,1,1,1,Male\\r\\n1,12.1,6.4,0,1,0,0,Female\\r\\n1,13.8,6.3,1,1,1,1,Male\\r\\n1,12.9,6,0,0,0,0,Female\\r\\n1,15.3,6.4,1,0,1,1,Male\\r\\n0,12.5,5.5,1,1,1,1,Male\\r\\n1,15.4,6.9,1,1,1,0,Male\\r\\n1,13.2,6.3,1,1,1,1,Male\\r\\n1,12.1,6.4,0,0,0,0,Female\\r\\n1,11.6,5.1,1,1,0,1,Male\\r\\n1,13,5.6,1,1,1,1,Male\\r\\n1,12.3,5.6,0,0,0,0,Female\\r\\n1,14.3,5.8,0,0,0,0,Female\\r\\n1,13.3,6.7,1,1,1,1,Male\\r\\n1,12.9,5.2,1,1,1,1,Male\\r\\n1,13.4,5.4,0,0,0,0,Female\\r\\n1,14,5.8,0,0,1,0,Female\\r\\n0,13.3,6.5,0,0,0,0,Female\\r\\n0,15.4,7,1,1,1,1,Male\\r\\n1,14.4,5.2,1,1,0,1,Male\\r\\n1,13.2,5.9,1,0,1,1,Male\\r\\n1,11.8,5.7,0,0,1,1,Female\\r\\n1,14.2,5.7,0,1,0,1,Female\\r\\n1,14.3,5.7,0,0,0,0,Female\\r\\n0,13.5,6.4,0,0,0,0,Female\\r\\n0,14.8,5.6,1,1,0,1,Male\\r\\n1,14.1,6.4,1,1,1,1,Male\\r\\n1,12.7,6.5,0,0,0,0,Female\\r\\n1,12.6,5.6,0,0,0,0,Female\\r\\n1,14,5.2,0,0,0,0,Female\\r\\n1,15.4,5.4,1,1,0,0,Male\\r\\n1,13.8,5.3,0,0,0,0,Female\\r\\n1,12.4,5.5,0,0,0,0,Female\\r\\n1,14.2,5.7,0,0,0,0,Female\\r\\n0,14.1,5.8,0,0,0,0,Female\\r\\n0,12.8,6.4,1,1,1,1,Male\\r\\n1,13.9,6,0,1,0,0,Female\\r\\n1,14,7,1,1,1,1,Male\\r\\n0,12.1,6.5,0,0,0,0,Female\\r\\n1,12.5,5.6,0,0,0,0,Female\\r\\n1,11.7,6.5,0,0,0,0,Female\\r\\n0,12.1,6.1,0,0,0,0,Female\\r\\n1,13.3,6.2,1,0,0,0,Female\\r\\n1,14,5.1,1,1,1,1,Male\\r\\n1,14,6,0,0,0,0,Female\\r\\n1,13.2,5.9,1,0,0,0,Female\\r\\n0,12.4,5.3,0,1,0,0,Female\\r\\n0,14,7,1,1,1,0,Male\\r\\n1,12.1,6.1,0,0,0,1,Female\\r\\n1,12.7,5.9,1,0,0,0,Female\\r\\n1,12.2,6.8,1,1,1,1,Male\\r\\n1,13,6,1,1,1,1,Male\\r\\n1,13.6,7,1,1,1,1,Male\\r\\n0,14.4,5.5,1,0,0,1,Male\\r\\n1,11.8,5.7,0,0,0,1,Female\\r\\n1,15,5.5,1,1,1,0,Male\\r\\n1,13.2,5.4,0,0,0,0,Female\\r\\n1,13.3,5.1,0,0,0,0,Female\\r\\n1,12.7,5.9,1,1,1,1,Male\\r\\n1,14.9,5.4,1,1,1,1,Male\\r\\n1,13.9,5.4,0,0,0,0,Female\\r\\n1,14.9,5.3,1,1,1,1,Male\\r\\n1,14.9,7.1,1,1,1,1,Male\\r\\n1,15.4,5.7,1,1,1,1,Male\\r\\n1,11.5,5.6,0,0,0,0,Female\\r\\n1,11.8,5.6,1,1,1,1,Male\\r\\n1,13.7,6.1,0,0,0,0,Female\\r\\n1,12.5,7,1,1,0,1,Male\\r\\n1,14,5.9,0,0,0,0,Female\\r\\n0,15.1,5.8,1,1,0,1,Male\\r\\n0,11.8,6.5,1,1,1,1,Male\\r\\n1,11.8,5.1,0,1,1,1,Male\\r\\n1,15.4,5.4,1,1,1,1,Male\\r\\n1,14.1,6.3,0,0,0,0,Female\\r\\n1,12,5.3,0,0,0,0,Female\\r\\n0,13.2,5.3,1,0,0,1,Female\\r\\n1,14.2,6.4,1,1,0,0,Male\\r\\n1,11.8,5.6,0,0,0,0,Female\\r\\n1,12.9,6,0,0,0,0,Female\\r\\n1,14.2,5.6,1,1,1,0,Male\\r\\n1,14,5.5,0,1,0,1,Female\\r\\n0,14.3,6.8,1,1,1,1,Male\\r\\n1,14.3,6.6,1,1,1,1,Male\\r\\n1,14.9,7.1,1,1,1,1,Male\\r\\n1,14.2,5.3,1,0,0,0,Female\\r\\n1,13.6,5.1,1,1,1,1,Male\\r\\n1,15,7,1,1,1,0,Male\\r\\n1,14.4,6.2,1,1,1,1,Male\\r\\n1,12.9,6.9,1,1,1,0,Male\\r\\n0,13.4,6.3,0,1,0,1,Female\\r\\n1,14.2,6.1,1,1,1,1,Male\\r\\n1,13.2,6.9,1,1,0,1,Male\\r\\n1,12.8,5.8,0,0,1,0,Female\\r\\n0,11.7,5.7,0,0,0,0,Female\\r\\n0,14.7,5.3,1,1,1,1,Male\\r\\n1,13.6,5.1,1,0,0,0,Female\\r\\n1,13.9,6.2,0,0,0,0,Female\\r\\n1,14.3,5.7,1,1,1,1,Male\\r\\n1,12.9,5.5,0,0,0,0,Female\\r\\n1,13,5.8,0,0,0,0,Female\\r\\n1,12,5.1,1,1,1,1,Male\\r\\n1,12.5,5.7,1,0,0,0,Female\\r\\n1,13.1,5.8,0,0,0,0,Female\\r\\n1,13.6,5.3,0,1,1,1,Male\\r\\n1,14.2,5.2,0,0,0,0,Female\\r\\n0,13.5,7,1,1,0,0,Male\\r\\n1,13.9,5.7,0,0,0,0,Female\\r\\n1,14.1,6.2,0,0,0,1,Male\\r\\n0,12,5.1,0,1,0,0,Female\\r\\n1,14,6,1,0,0,0,Female\\r\\n1,15.5,6.7,1,1,1,0,Male\\r\\n1,11.5,5.5,1,1,1,1,Male\\r\\n0,13.7,5.6,0,0,0,0,Female\\r\\n1,13.1,5.3,0,0,0,0,Female\\r\\n1,13,6.6,1,1,1,1,Male\\r\\n1,15.5,6.2,1,1,1,1,Male\\r\\n1,13.4,5.7,0,0,0,0,Female\\r\\n1,13,5.6,1,0,0,1,Female\\r\\n1,11.4,6.4,1,0,0,0,Female\\r\\n1,12.2,5.2,0,0,0,0,Female\\r\\n1,13.1,7.1,0,1,1,1,Male\\r\\n1,11.5,6.3,0,1,0,0,Female\\r\\n1,12.8,5.9,1,1,1,1,Male\\r\\n0,15.5,6.6,1,1,1,1,Male\\r\\n1,12.2,6.9,1,1,1,0,Male\\r\\n1,14,5.3,0,0,0,1,Female\\r\\n1,12.6,6,0,0,1,0,Female\\r\\n1,13.9,5.3,0,0,0,0,Female\\r\\n1,13.5,5.3,0,1,0,0,Female\\r\\n1,13.8,5.6,1,1,1,1,Male\\r\\n1,12,5.1,0,0,0,0,Female\\r\\n1,11.5,6.2,0,0,0,0,Female\\r\\n1,11.5,5.1,1,1,1,1,Male\\r\\n1,11.7,5.4,0,0,0,0,Female\\r\\n1,13.7,5.5,1,1,1,0,Male\\r\\n1,14.3,6.3,0,0,0,0,Female\\r\\n1,12.3,6,0,0,0,0,Female\\r\\n1,12,5.7,0,0,0,0,Female\\r\\n1,13.1,6,0,0,0,0,Female\\r\\n1,11.8,6.2,0,0,0,0,Female\\r\\n0,11.7,6.2,0,0,0,0,Female\\r\\n1,11.6,6,0,1,1,1,Male\\r\\n1,13.2,5.5,1,0,0,0,Female\\r\\n1,11.9,5.3,1,0,1,1,Male\\r\\n0,11.6,6.2,0,0,0,0,Female\\r\\n1,14.2,5.2,1,1,1,1,Male\\r\\n0,11.8,5.3,0,1,0,0,Female\\r\\n1,15.5,6.2,1,1,1,1,Male\\r\\n1,11.8,6.8,1,1,1,0,Male\\r\\n1,14,6.2,1,1,1,0,Male\\r\\n1,12.5,5.8,0,1,1,1,Male\\r\\n1,12.5,6.3,0,0,0,0,Female\\r\\n1,11.7,6.2,1,1,1,1,Male\\r\\n1,14,5.7,0,1,0,0,Female\\r\\n1,14.1,7,1,0,1,1,Male\\r\\n1,14.6,7.1,1,1,1,1,Male\\r\\n1,14,5.5,0,0,0,0,Female\\r\\n1,12.2,5.2,0,0,0,0,Female\\r\\n1,13,6.4,1,1,1,0,Male\\r\\n1,13.3,6.6,1,1,1,0,Male\\r\\n1,14.1,5.6,1,1,0,1,Male\\r\\n1,12.9,6.9,1,1,1,1,Male\\r\\n0,12.8,5.6,0,0,0,0,Female\\r\\n1,14,6.9,1,1,0,1,Male\\r\\n1,15.1,6.4,0,1,1,1,Male\\r\\n1,13.2,5.3,1,1,1,1,Male\\r\\n1,14.8,6.5,1,1,1,1,Male\\r\\n1,11.6,6.3,0,1,0,0,Female\\r\\n0,13.7,6,0,0,1,0,Female\\r\\n1,14.3,5.2,0,0,0,0,Female\\r\\n1,13.9,6.4,0,1,0,0,Female\\r\\n1,14.4,5.1,1,1,1,1,Male\\r\\n1,13.7,5.9,0,0,0,0,Female\\r\\n1,14.6,6.9,1,1,1,1,Male\\r\\n1,12.8,5.3,1,0,0,1,Female\\r\\n1,14.8,7.1,0,1,1,1,Male\\r\\n1,15.1,5.5,1,0,1,0,Male\\r\\n1,14.6,7,1,1,1,1,Male\\r\\n0,14.9,5.4,1,1,1,1,Male\\r\\n1,12.7,5.9,1,1,1,1,Male\\r\\n1,13.9,6.7,1,1,1,1,Male\\r\\n1,14.3,5.1,0,0,0,0,Female\\r\\n1,12.3,5.2,0,0,0,0,Female\\r\\n1,13.5,6,0,0,0,0,Female\\r\\n1,11.6,6.2,1,1,1,1,Male\\r\\n1,14.2,6.7,1,1,0,1,Male\\r\\n1,12.9,6.1,0,0,0,0,Female\\r\\n1,14.1,5.6,0,0,0,0,Female\\r\\n1,13.4,5.5,0,0,0,0,Female\\r\\n1,13,5.3,0,0,0,0,Female\\r\\n1,14.2,5.2,0,0,0,0,Female\\r\\n1,14.4,5.5,1,1,1,1,Male\\r\\n0,12,5.6,0,0,1,0,Female\\r\\n0,13.1,5.5,1,1,0,1,Male\\r\\n1,12.8,6,0,0,0,0,Female\\r\\n1,11.9,5.3,0,0,0,0,Female\\r\\n1,15.1,5.6,1,1,1,1,Male\\r\\n0,11.9,5.6,0,0,0,0,Female\\r\\n0,12.4,5.6,0,0,0,0,Female\\r\\n1,15.2,5.6,1,1,1,0,Male\\r\\n1,13.7,5.5,1,0,0,0,Female\\r\\n1,12.7,6.5,0,0,0,0,Female\\r\\n0,12,5.8,1,0,0,0,Female\\r\\n1,12.8,6.1,1,1,1,1,Male\\r\\n1,14.7,5.3,0,1,1,1,Male\\r\\n1,12.6,5.2,1,1,1,1,Male\\r\\n1,11.9,7,1,1,1,1,Male\\r\\n1,12.2,5.3,1,1,1,1,Male\\r\\n1,12.1,5.1,0,0,0,1,Female\\r\\n1,15.2,6.7,1,1,1,1,Male\\r\\n1,11.6,5.1,0,0,0,0,Female\\r\\n1,12,5.1,1,1,1,1,Male\\r\\n1,13.7,6.2,1,1,1,1,Male\\r\\n1,12.1,5.3,0,0,0,1,Female\\r\\n1,12,6.2,1,0,1,1,Male\\r\\n1,12.8,5.7,0,0,0,0,Female\\r\\n1,12.6,6.5,0,0,1,0,Female\\r\\n1,12.2,5.3,0,0,0,0,Female\\r\\n1,12,5.8,0,0,0,0,Female\\r\\n1,13.6,5.6,0,0,0,0,Female\\r\\n0,11.7,5.8,0,0,0,0,Female\\r\\n1,13.3,6.3,0,0,1,0,Female\\r\\n1,11.5,5.6,0,0,0,0,Female\\r\\n1,14.5,6,1,1,1,1,Male\\r\\n1,12.3,5.3,0,0,0,0,Female\\r\\n0,13.9,5.8,1,1,1,1,Male\\r\\n0,14.5,6.1,1,0,1,1,Male\\r\\n0,14,5.5,0,0,1,0,Female\\r\\n1,13.7,7.1,1,1,0,1,Male\\r\\n1,12.7,5.9,0,0,0,1,Female\\r\\n0,13.7,6.4,0,1,1,0,Female\\r\\n1,13.3,5.5,0,0,0,0,Female\\r\\n1,11.6,5.1,1,0,1,1,Male\\r\\n0,12.6,6.1,1,0,1,1,Male\\r\\n0,11.8,6.4,0,0,0,0,Female\\r\\n1,14.3,5.1,0,0,0,0,Female\\r\\n1,13.4,6.2,1,1,1,1,Male\\r\\n1,14.5,5.9,1,1,1,1,Male\\r\\n1,13.6,6.5,0,1,1,1,Male\\r\\n1,14.2,6.2,0,0,0,0,Female\\r\\n1,14.3,6.7,1,1,1,1,Male\\r\\n1,13.6,6.2,0,1,1,1,Male\\r\\n1,12.4,5.8,1,0,0,0,Female\\r\\n1,12.1,5.9,0,0,0,0,Female\\r\\n1,13.8,5.8,0,1,1,0,Female\\r\\n1,14.9,5.6,1,1,1,1,Male\\r\\n0,12.2,6.2,0,0,0,0,Female\\r\\n1,12.4,5.7,0,0,0,0,Female\\r\\n1,13.5,5.9,1,0,0,0,Female\\r\\n1,14.2,5.4,0,1,0,0,Female\\r\\n0,15.2,6.7,1,1,1,0,Male\\r\\n0,12.8,5.8,1,0,0,0,Female\\r\\n1,14.3,6.4,1,1,1,1,Male\\r\\n0,15.5,5.3,1,1,0,1,Male\\r\\n1,14.9,6.7,1,1,1,1,Male\\r\\n1,14.9,6.9,1,1,1,1,Male\\r\\n1,11.5,5.4,1,0,1,0,Female\\r\\n1,13.4,5.1,1,1,1,0,Male\\r\\n1,12.4,6.4,0,0,0,0,Female\\r\\n1,14.9,6.8,1,1,1,1,Male\\r\\n1,15.1,6.4,0,1,1,1,Male\\r\\n1,11.7,5.4,0,0,0,0,Female\\r\\n1,12.4,6,0,0,0,0,Female\\r\\n1,14.1,5.8,0,0,0,0,Female\\r\\n1,13.4,6.6,1,1,1,1,Male\\r\\n0,12.7,5.5,1,1,0,1,Male\\r\\n1,14.9,5.1,1,1,1,1,Male\\r\\n1,13.6,5.4,0,0,0,0,Female\\r\\n1,14.9,5.7,1,1,1,1,Male\\r\\n1,12.6,5.9,0,0,1,0,Female\\r\\n1,14.3,5.5,1,0,1,1,Male\\r\\n1,13.9,5.9,1,1,1,1,Male\\r\\n0,13.5,5.1,0,0,1,0,Female\\r\\n1,12.9,5.7,0,0,0,0,Female\\r\\n1,14.2,6,1,0,0,1,Female\\r\\n1,13.1,5.7,0,0,1,0,Female\\r\\n1,13.9,5.8,1,1,1,0,Male\\r\\n1,11.7,5.3,0,0,1,0,Female\\r\\n0,12.6,5.7,0,0,1,0,Female\\r\\n1,13.1,6.2,0,0,0,0,Female\\r\\n1,13.3,6.4,1,1,1,1,Male\\r\\n1,14,5.6,1,1,1,1,Male\\r\\n1,12.8,5.5,1,1,1,1,Male\\r\\n1,13.7,6,1,1,1,1,Male\\r\\n1,14.9,6.7,0,0,0,1,Male\\r\\n1,13.7,5.7,1,1,1,1,Male\\r\\n1,12.1,7.1,1,0,0,1,Male\\r\\n1,15.1,6.1,1,1,1,1,Male\\r\\n1,12.9,5.4,0,1,1,0,Female\\r\\n1,11.5,6.7,1,1,1,1,Male\\r\\n1,11.5,6.2,1,1,1,1,Male\\r\\n1,13.6,5.5,1,0,1,1,Male\\r\\n1,12.6,5.9,0,1,1,1,Male\\r\\n1,12.4,5.9,0,0,0,0,Female\\r\\n0,12.1,6,0,0,0,0,Female\\r\\n1,11.5,5.2,0,0,0,1,Female\\r\\n1,12.9,5.1,0,0,1,1,Female\\r\\n1,13.8,5.8,0,0,1,0,Female\\r\\n1,14.2,5.5,1,1,1,1,Male\\r\\n1,12.5,5.4,1,1,1,1,Male\\r\\n1,12.8,5.3,1,0,0,1,Female\\r\\n1,13.8,5.3,0,0,1,0,Female\\r\\n0,12.6,6.1,1,0,1,1,Male\\r\\n0,14.1,5.7,0,0,0,1,Female\\r\\n1,13.1,5.9,0,0,0,0,Female\\r\\n1,13.2,6.2,1,0,0,0,Female\\r\\n1,14,6.7,1,1,1,1,Male\\r\\n1,12.9,6.9,1,1,1,1,Male\\r\\n1,12.1,6.4,0,1,0,1,Female\\r\\n0,12.3,6.5,1,1,1,0,Male\\r\\n1,13.2,5.6,0,1,1,1,Male\\r\\n1,12,6.4,0,0,0,0,Female\\r\\n1,12.2,5.1,0,0,0,0,Female\\r\\n0,15,6.8,0,1,1,1,Male\\r\\n1,15.2,6.4,1,1,1,0,Male\\r\\n1,13.1,5.4,0,0,0,0,Female\\r\\n1,13.6,5.9,1,1,1,1,Male\\r\\n1,14.4,6.6,1,1,1,0,Male\\r\\n0,11.7,7.1,0,0,1,1,Male\\r\\n1,12.1,5.5,0,0,0,0,Female\\r\\n1,12,5.9,0,0,0,0,Female\\r\\n0,13.9,6.8,1,1,1,1,Male\\r\\n1,15.4,5.2,1,1,1,1,Male\\r\\n1,12.3,6.1,1,1,1,1,Male\\r\\n1,15.4,7.1,1,1,1,1,Male\\r\\n1,13.6,5.3,1,0,0,0,Female\\r\\n1,11.8,6.4,0,0,0,0,Female\\r\\n1,12.9,6.7,1,1,1,1,Male\\r\\n1,13.9,6.1,0,0,0,0,Female\\r\\n1,13.7,6.2,1,0,0,0,Female\\r\\n1,15,6.4,1,0,1,1,Male\\r\\n1,13.3,6.8,1,1,0,0,Male\\r\\n0,13.5,5.2,0,0,0,0,Female\\r\\n1,12.1,5.5,1,1,0,1,Male\\r\\n1,14.4,6.3,1,1,1,1,Male\\r\\n1,13.1,5.8,1,0,0,0,Female\\r\\n1,13.1,5.7,1,0,0,0,Female\\r\\n1,14,5.1,0,0,0,0,Female\\r\\n1,11.5,5.6,1,1,1,1,Male\\r\\n0,12.7,5.2,0,0,0,0,Female\\r\\n1,13.4,5.5,1,1,0,1,Male\\r\\n1,12.1,5.6,1,1,1,1,Male\\r\\n0,11.6,5.9,0,0,1,0,Female\\r\\n0,12.2,5.8,0,0,0,0,Female\\r\\n1,14.7,6.8,1,1,0,0,Male\\r\\n1,12.8,5.7,1,0,0,0,Female\\r\\n1,11.4,5.7,0,0,1,1,Female\\r\\n1,14.9,5.9,1,0,1,1,Male\\r\\n1,12.5,5.9,0,0,0,0,Female\\r\\n1,13,6.1,0,0,1,0,Female\\r\\n1,12.2,5.2,0,0,0,0,Female\\r\\n1,15.4,6.9,1,1,1,1,Male\\r\\n1,12.5,6,1,0,1,1,Male\\r\\n1,14,6.4,1,1,1,1,Male\\r\\n1,11.5,5.9,1,1,1,0,Female\\r\\n1,12.8,6,1,0,1,1,Male\\r\\n1,12.6,6,1,1,0,1,Male\\r\\n1,12.9,5.9,1,1,1,1,Male\\r\\n1,12.2,6.4,0,0,0,0,Female\\r\\n1,12.5,6.4,0,0,1,0,Female\\r\\n1,13.9,7.1,1,1,1,1,Male\\r\\n0,13.3,5.1,0,0,0,0,Female\\r\\n1,13.5,6.2,0,0,1,0,Female\\r\\n0,13.6,5.5,0,0,0,0,Female\\r\\n1,13.5,6.2,0,0,0,0,Female\\r\\n1,13.1,5.4,1,1,0,1,Male\\r\\n1,13.3,6.5,0,0,0,0,Female\\r\\n1,12.2,6,0,0,0,1,Female\\r\\n1,12.7,6.6,1,1,0,1,Male\\r\\n1,15.2,5.7,0,0,1,1,Male\\r\\n1,13.5,6.2,0,0,0,0,Female\\r\\n1,14.4,5.6,1,1,1,1,Male\\r\\n1,14.2,6.7,1,1,1,1,Male\\r\\n1,13.6,5.2,0,1,0,0,Female\\r\\n0,14.2,5.2,0,0,0,0,Female\\r\\n1,12.7,6.3,0,0,0,0,Female\\r\\n1,13,6.4,1,1,1,1,Male\\r\\n1,11.5,5.2,0,0,1,0,Female\\r\\n1,14.2,6.5,0,1,0,0,Female\\r\\n1,11.7,5.3,0,0,0,0,Female\\r\\n1,11.5,6.3,0,0,1,1,Male\\r\\n1,12.9,5.7,1,0,1,0,Female\\r\\n1,11.5,6,0,0,1,1,Female\\r\\n1,11.7,6.3,0,0,0,0,Female\\r\\n1,11.6,6,0,0,1,1,Male\\r\\n1,13.8,6.3,0,0,1,0,Female\\r\\n1,12.4,6.2,1,1,1,1,Male\\r\\n1,12.4,6.6,1,1,1,1,Male\\r\\n1,13.3,5.3,1,1,1,1,Male\\r\\n1,14.3,6.3,0,1,0,0,Female\\r\\n1,13.6,6.2,1,1,1,1,Male\\r\\n1,14.7,5.9,1,1,1,1,Male\\r\\n0,13.1,5.1,0,0,0,0,Female\\r\\n1,13.4,6.8,1,1,1,1,Male\\r\\n1,13.2,5.1,0,0,0,0,Female\\r\\n1,13.3,5.9,0,1,0,1,Female\\r\\n1,14.3,5.9,1,1,1,1,Male\\r\\n1,11.7,5.6,1,1,1,0,Male\\r\\n1,14.8,7,1,1,1,1,Male\\r\\n1,12,5.7,0,0,1,0,Female\\r\\n0,13.2,6.7,1,1,1,1,Male\\r\\n1,12.8,5.4,0,0,0,0,Female\\r\\n1,12.6,5.4,1,1,1,1,Male\\r\\n1,12.5,5.7,0,0,0,0,Female\\r\\n1,12.5,6.4,0,1,1,1,Male\\r\\n1,14.3,5.4,1,1,1,1,Male\\r\\n0,13.1,5.4,1,1,1,1,Male\\r\\n1,13.8,5.4,0,0,0,1,Female\\r\\n1,12.5,6.5,1,1,1,1,Male\\r\\n1,12,6.1,0,0,0,0,Female\\r\\n1,15.4,5.8,1,1,1,1,Male\\r\\n1,11.7,6.3,0,0,0,0,Female\\r\\n1,13.4,5.2,0,0,1,0,Female\\r\\n1,11.8,6.1,0,0,0,0,Female\\r\\n1,12.6,5.8,1,0,0,0,Female\\r\\n1,13.9,5.4,1,1,0,1,Male\\r\\n1,11.9,5.8,1,0,1,1,Male\\r\\n1,11.9,6.5,0,1,0,0,Female\\r\\n1,11.8,6.2,1,1,1,1,Male\\r\\n1,13,5.1,0,0,0,0,Female\\r\\n0,12.9,5.7,0,0,0,0,Female\\r\\n1,13.3,5.4,0,0,0,0,Female\\r\\n1,15.4,6.6,0,1,0,1,Male\\r\\n0,12.8,5.6,0,0,0,0,Female\\r\\n1,13.4,6.6,1,1,1,1,Male\\r\\n1,14.2,7.1,1,0,1,1,Male\\r\\n1,13,5.1,1,1,1,0,Male\\r\\n1,14.9,5.8,1,1,1,0,Male\\r\\n1,14,5.5,0,0,0,1,Female\\r\\n1,13.7,5.6,0,0,0,1,Female\\r\\n1,11.6,6.5,0,0,1,0,Female\\r\\n1,11.8,5.5,0,0,0,0,Female\\r\\n1,12.6,5.3,0,0,1,0,Female\\r\\n1,12.3,5.9,0,0,0,0,Female\\r\\n0,11.8,7,1,1,1,0,Male\\r\\n0,12.8,5.5,0,0,0,0,Female\\r\\n1,11.5,6.4,0,0,1,0,Female\\r\\n1,11.6,5.3,0,0,0,0,Female\\r\\n1,13,5.2,0,0,0,0,Female\\r\\n1,15,5.4,1,1,1,1,Male\\r\\n1,12.3,6.2,1,1,1,1,Male\\r\\n1,15.5,5.2,0,1,1,1,Male\\r\\n1,12.6,5.5,1,1,1,1,Male\\r\\n0,12.2,6.6,1,0,1,0,Male\\r\\n1,12.9,6.2,0,0,0,0,Female\\r\\n1,12.6,5.5,0,0,0,0,Female\\r\\n1,11.5,6.4,0,0,0,0,Female\\r\\n1,12.3,5.9,0,0,0,0,Female\\r\\n1,12,6.8,1,1,0,1,Male\\r\\n1,13.5,5.7,0,1,1,0,Male\\r\\n1,13.2,5.5,0,1,1,1,Male\\r\\n0,14.1,6.3,0,0,0,0,Female\\r\\n1,13.5,6.4,1,1,1,1,Male\\r\\n1,11.4,5.3,0,1,0,0,Female\\r\\n0,13.4,6.7,1,0,0,1,Male\\r\\n0,14.7,6.9,1,1,1,1,Male\\r\\n1,11.5,5.3,0,0,0,0,Female\\r\\n1,14.9,5.3,1,1,1,1,Male\\r\\n1,12.1,5.3,0,1,0,0,Female\\r\\n1,13.3,5.4,0,0,0,0,Female\\r\\n1,13.3,5.5,0,1,0,0,Female\\r\\n1,13.6,5.1,0,1,0,0,Female\\r\\n1,12.2,5.6,1,1,1,1,Male\\r\\n1,14.9,5.6,1,1,1,1,Male\\r\\n0,11.4,5.2,0,0,0,0,Female\\r\\n1,13.4,5.8,0,0,1,0,Female\\r\\n0,14.3,5.4,0,1,0,0,Female\\r\\n1,12.1,6.6,1,1,1,1,Male\\r\\n1,13.5,5.9,1,1,1,1,Male\\r\\n1,14.8,5.9,1,1,1,1,Male\\r\\n1,11.9,5.1,0,0,0,0,Female\\r\\n1,11.8,5.8,0,0,0,0,Female\\r\\n1,12,5.2,0,0,0,1,Female\\r\\n1,12.9,6.7,1,0,1,1,Male\\r\\n1,12,5.1,1,0,0,1,Male\\r\\n1,13.1,5.6,1,1,1,1,Male\\r\\n1,12.1,5.9,0,0,0,0,Female\\r\\n1,13.2,5.2,1,0,0,0,Female\\r\\n1,14.9,5.8,1,1,0,1,Male\\r\\n1,14,6.1,1,1,0,1,Male\\r\\n1,13.5,6.2,1,0,0,1,Male\\r\\n1,14.2,5.5,1,1,1,0,Male\\r\\n1,12.4,6.3,1,1,1,0,Male\\r\\n1,11.7,6.3,1,1,1,1,Male\\r\\n1,12.4,6.3,0,0,0,0,Female\\r\\n1,13.7,5.1,0,0,0,0,Female\\r\\n0,13.8,5.6,0,0,1,0,Female\\r\\n1,13.3,6.4,1,0,0,0,Female\\r\\n1,11.5,6.2,0,0,0,0,Female\\r\\n1,12.2,5.2,0,0,0,0,Female\\r\\n1,14.4,7,1,1,1,1,Male\\r\\n0,11.9,5.2,1,0,0,0,Female\\r\\n1,13.8,6.9,1,1,0,1,Male\\r\\n0,11.8,6.4,0,0,0,0,Female\\r\\n1,12.5,6.5,0,1,0,0,Female\\r\\n1,11.6,6.5,1,1,0,0,Male\\r\\n1,13.1,5.9,1,1,1,1,Male\\r\\n1,15.3,7,1,1,1,1,Male\\r\\n1,11.6,5.2,1,1,1,1,Male\\r\\n1,13.1,5.4,1,1,1,1,Male\\r\\n1,11.5,6,0,0,0,1,Female\\r\\n1,13.7,6.1,1,1,1,1,Male\\r\\n1,12.7,5.7,0,0,0,0,Female\\r\\n1,13,5.6,0,0,0,1,Female\\r\\n1,12.6,6.8,0,1,1,1,Male\\r\\n1,13.3,5.3,0,0,0,0,Female\\r\\n1,12.8,5.6,0,0,0,0,Female\\r\\n1,12,6.3,1,1,1,1,Male\\r\\n1,15.3,6.8,0,1,1,1,Male\\r\\n1,11.5,6.3,1,0,0,0,Female\\r\\n0,13.9,6.3,1,1,0,1,Male\\r\\n1,11.7,6.1,0,0,1,0,Female\\r\\n1,13.8,5.1,1,1,1,1,Male\\r\\n1,12.4,6.5,0,0,0,0,Female\\r\\n0,12.5,5.5,1,1,1,1,Male\\r\\n1,13.3,5.5,0,0,0,0,Female\\r\\n1,13,6,0,0,0,0,Female\\r\\n1,12.2,6.6,1,1,1,1,Male\\r\\n0,12.3,6.4,0,0,0,0,Female\\r\\n1,13.6,5.9,0,1,1,1,Male\\r\\n1,13,6.4,0,0,0,0,Female\\r\\n1,14,5.6,0,0,0,0,Female\\r\\n1,13.2,5.8,0,0,0,0,Female\\r\\n1,13.4,5.4,0,1,0,0,Female\\r\\n0,12.7,6.1,0,0,0,1,Female\\r\\n1,13.7,6.1,0,0,1,0,Female\\r\\n1,15.4,6.6,1,1,1,1,Male\\r\\n1,13.1,6.1,1,0,0,0,Female\\r\\n1,13.6,6.3,1,1,1,1,Male\\r\\n1,11.4,6.3,0,0,0,0,Female\\r\\n1,12.5,5.1,0,0,1,0,Female\\r\\n1,12.9,5.4,0,0,1,0,Female\\r\\n1,12.3,5.6,0,0,0,0,Female\\r\\n1,15.2,6.5,1,1,0,1,Male\\r\\n1,15.4,7,0,1,1,1,Male\\r\\n0,14.2,6.5,1,1,1,1,Male\\r\\n1,12.6,5.5,1,0,0,0,Female\\r\\n1,11.9,6.8,1,1,1,1,Male\\r\\n1,14.1,6.8,1,1,1,1,Male\\r\\n1,13.4,6,1,1,1,0,Male\\r\\n1,12.1,5.7,1,1,1,1,Male\\r\\n0,12.6,5.4,0,0,0,0,Female\\r\\n1,11.4,5.5,1,0,0,0,Female\\r\\n1,14.1,5.8,1,0,1,1,Male\\r\\n1,13,6.7,1,1,0,1,Male\\r\\n1,12.3,5.6,0,0,0,0,Female\\r\\n1,13.4,5.2,1,1,0,1,Male\\r\\n1,12.3,5.6,1,0,0,0,Female\\r\\n1,13.8,6.8,1,1,1,1,Male\\r\\n1,12.9,5.5,1,1,1,1,Male\\r\\n1,14.4,5.2,1,1,0,1,Male\\r\\n1,13.1,6,0,0,1,0,Female\\r\\n1,12.3,6,1,1,1,1,Male\\r\\n0,11.6,6,0,0,0,0,Female\\r\\n1,12,5.1,1,0,0,0,Female\\r\\n1,11.4,5.2,0,0,1,0,Female\\r\\n1,14,5.1,0,0,0,0,Female\\r\\n1,12.1,5.4,0,0,0,0,Female\\r\\n1,13,5.2,0,0,0,0,Female\\r\\n1,13.6,5.7,0,0,0,0,Female\\r\\n1,15.2,6.7,1,1,1,1,Male\\r\\n1,13.6,6,1,0,0,0,Female\\r\\n1,13.9,6,0,0,1,0,Female\\r\\n1,11.8,6.5,0,0,0,0,Female\\r\\n1,12.3,5.5,0,0,0,1,Female\\r\\n1,15.2,6.1,1,1,1,1,Male\\r\\n1,14.6,5.4,1,0,1,1,Male\\r\\n1,13.6,6.7,1,1,1,1,Male\\r\\n1,12.1,5.6,1,0,1,1,Male\\r\\n1,12.3,6.3,0,0,1,0,Female\\r\\n0,11.8,5.8,0,0,0,0,Female\\r\\n1,14.3,6.4,0,0,0,0,Female\\r\\n1,12,6.1,1,1,1,1,Male\\r\\n0,14.4,5.8,1,1,1,1,Male\\r\\n1,13.1,6.5,0,0,1,0,Female\\r\\n1,12.2,5.3,0,0,1,0,Female\\r\\n1,13.4,6.3,0,0,0,0,Female\\r\\n1,13.5,6.1,1,1,1,1,Male\\r\\n1,11.6,5.6,1,1,1,1,Male\\r\\n1,14,5.6,1,1,1,1,Male\\r\\n1,13,6.6,1,1,0,0,Male\\r\\n1,11.7,5.2,0,0,0,0,Female\\r\\n1,14.3,6.3,0,0,0,0,Female\\r\\n1,14.5,5.7,1,1,1,1,Male\\r\\n1,13.5,6,0,0,0,0,Female\\r\\n1,13.7,7.1,1,1,1,1,Male\\r\\n1,11.5,6.3,0,0,0,1,Female\\r\\n1,14.4,5.7,1,1,1,1,Male\\r\\n1,12.9,5.3,1,1,1,1,Male\\r\\n1,12.7,6.3,0,0,0,0,Female\\r\\n0,11.6,5.4,0,0,1,0,Female\\r\\n1,13.8,5.8,1,1,0,0,Male\\r\\n0,12.3,6.3,0,1,1,0,Female\\r\\n0,13.4,6.5,0,1,0,0,Female\\r\\n1,11.7,5.5,0,1,0,0,Female\\r\\n0,13.6,5.5,0,0,0,1,Female\\r\\n1,12.4,5.4,0,0,0,0,Female\\r\\n1,13.6,6.5,0,0,0,0,Female\\r\\n1,12.7,5.3,1,0,1,0,Male\\r\\n1,13,5.8,0,0,0,0,Female\\r\\n1,11.6,6.2,1,1,1,0,Male\\r\\n1,11.9,5.5,1,1,1,1,Male\\r\\n1,14.8,6,1,1,0,1,Male\\r\\n0,12.1,6.1,0,0,0,0,Female\\r\\n1,15.5,6.9,1,1,0,1,Male\\r\\n1,12.1,5.8,0,0,0,0,Female\\r\\n1,14.1,6,0,0,0,1,Female\\r\\n1,13,5.8,0,0,0,0,Female\\r\\n0,13.4,6.1,0,0,1,0,Female\\r\\n1,11.9,5.3,0,0,0,0,Female\\r\\n1,12.5,5.2,0,0,0,0,Female\\r\\n1,12.6,5.6,1,1,1,1,Male\\r\\n1,14.1,5.8,1,1,0,1,Male\\r\\n1,11.5,6.3,0,0,0,0,Female\\r\\n1,12.7,6.8,1,1,1,1,Male\\r\\n1,12.8,5.9,0,1,0,0,Female\\r\\n1,13.8,6.5,1,1,1,1,Male\\r\\n1,13.5,5.4,1,1,0,0,Female\\r\\n1,13.9,5.5,0,1,0,0,Female\\r\\n1,13.8,5.6,0,0,0,0,Female\\r\\n1,13.4,6.1,1,1,1,1,Male\\r\\n1,12.8,6.1,0,0,0,0,Female\\r\\n1,11.9,6.2,1,1,1,1,Male\\r\\n1,11.6,5.3,0,0,0,0,Female\\r\\n1,13.7,5.9,1,0,0,0,Male\\r\\n0,14.9,6.8,1,0,1,1,Male\\r\\n1,13.2,5.9,1,1,1,1,Male\\r\\n1,12.1,5.5,0,0,0,0,Female\\r\\n1,12.2,6.1,0,0,0,1,Female\\r\\n1,12.6,6.7,1,1,0,1,Male\\r\\n0,14.5,6.6,1,1,1,1,Male\\r\\n1,13.9,7.1,1,1,1,1,Male\\r\\n1,12.9,5.9,1,0,1,1,Male\\r\\n1,15.3,6,1,1,1,1,Male\\r\\n0,12.9,6.9,1,1,1,1,Male\\r\\n1,13.6,5.9,0,0,0,1,Female\\r\\n1,14.5,6.6,1,1,0,1,Male\\r\\n1,13,5.7,0,0,0,0,Female\\r\\n1,13.7,5.9,1,0,1,1,Male\\r\\n1,11.8,5.9,0,0,0,1,Female\\r\\n1,12.4,6.5,1,0,0,0,Female\\r\\n1,11.6,5.3,0,0,0,0,Female\\r\\n1,15.1,5.1,0,1,1,0,Male\\r\\n1,13.5,6.4,0,0,0,0,Female\\r\\n1,14,5.1,1,0,0,0,Female\\r\\n1,14.2,5.8,1,1,1,1,Male\\r\\n1,13.8,6.9,1,1,1,0,Male\\r\\n1,15.2,5.2,1,1,1,1,Male\\r\\n1,13.5,6.4,0,0,0,0,Female\\r\\n1,11.6,6.1,0,1,0,0,Female\\r\\n1,11.8,6.3,1,0,1,1,Male\\r\\n0,14.6,6.9,0,1,1,1,Male\\r\\n0,14.1,6.1,0,0,0,0,Female\\r\\n1,12.8,5.1,0,0,0,0,Female\\r\\n1,15.3,5.4,1,1,1,1,Male\\r\\n1,12.5,5.9,0,0,0,0,Female\\r\\n0,15,5.3,1,1,1,1,Male\\r\\n1,11.4,6.4,0,0,0,0,Female\\r\\n1,14.4,6.6,1,0,1,1,Male\\r\\n1,12,5.8,1,1,0,1,Male\\r\\n1,14,6.4,1,0,0,0,Female\\r\\n0,13,5.6,0,0,0,0,Female\\r\\n1,13,6.6,1,1,1,1,Male\\r\\n1,13.9,5.5,0,0,0,0,Female\\r\\n1,11.7,5.8,0,0,0,0,Female\\r\\n1,12.8,6.8,1,1,1,1,Male\\r\\n0,14.9,6.5,1,1,1,1,Male\\r\\n1,12,5.6,0,1,0,0,Female\\r\\n1,12,5.8,1,1,1,1,Male\\r\\n1,14.3,6.2,1,1,0,1,Male\\r\\n1,12.2,6.5,1,0,0,0,Female\\r\\n1,11.8,5.9,1,1,1,1,Male\\r\\n0,13.5,5.1,0,1,0,1,Male\\r\\n1,14,5.7,0,0,0,0,Female\\r\\n1,14.3,5.4,0,0,1,0,Female\\r\\n1,14.1,5.2,0,0,0,0,Female\\r\\n1,12,5.8,0,0,0,1,Female\\r\\n1,12.5,5.8,0,0,0,0,Female\\r\\n1,12.8,5.6,1,1,1,1,Male\\r\\n0,12.3,6.1,0,0,0,0,Female\\r\\n1,13.1,7,0,1,0,1,Male\\r\\n1,13.8,5.5,0,0,1,0,Female\\r\\n0,12.7,6.9,0,1,1,1,Male\\r\\n1,14.8,5.2,1,1,1,1,Male\\r\\n1,12.4,5.9,0,1,1,0,Female\\r\\n1,11.9,6.5,0,0,0,0,Female\\r\\n0,12.3,5.6,0,1,0,0,Female\\r\\n1,11.6,6.5,1,0,1,1,Male\\r\\n1,14.1,6.6,1,1,1,1,Male\\r\\n0,11.7,5.5,0,0,0,0,Female\\r\\n1,13.9,5.9,0,1,1,1,Male\\r\\n1,14.7,6.7,1,1,1,1,Male\\r\\n0,11.6,5.2,0,0,0,0,Female\\r\\n1,12.8,6.2,1,1,1,1,Male\\r\\n1,11.7,6.8,1,1,0,1,Male\\r\\n1,13.8,6.4,0,1,1,0,Female\\r\\n1,13.1,5.5,0,0,0,1,Female\\r\\n1,12.2,6.2,1,0,0,0,Female\\r\\n1,13.2,5.6,1,1,0,1,Male\\r\\n1,14,6.5,1,1,1,1,Male\\r\\n0,13.8,6.3,0,0,0,0,Female\\r\\n1,12.4,6.6,1,0,1,1,Male\\r\\n1,13,6.1,0,0,0,0,Female\\r\\n1,12.4,5.1,0,0,0,0,Female\\r\\n1,13.6,6.5,0,0,0,1,Female\\r\\n1,12,7,1,1,1,0,Male\\r\\n0,14.2,5.2,0,0,0,0,Female\\r\\n1,12.6,5.1,1,0,0,0,Female\\r\\n1,14.4,5.4,1,1,1,1,Male\\r\\n0,14.1,5.7,1,1,1,1,Male\\r\\n1,11.4,5.9,0,0,0,0,Female\\r\\n0,13.7,6,1,0,1,0,Female\\r\\n1,14,6.8,1,0,1,1,Male\\r\\n1,13.5,6,0,0,0,0,Female\\r\\n1,12.6,5.4,0,1,0,0,Female\\r\\n0,12.8,5.7,1,1,1,1,Male\\r\\n1,11.8,5.8,1,1,1,1,Male\\r\\n1,14,6.3,1,0,1,1,Male\\r\\n1,12.6,6.7,1,1,1,1,Male\\r\\n1,14,6.2,0,0,1,0,Female\\r\\n1,14,5.5,1,0,0,1,Female\\r\\n1,15,6.7,1,1,0,1,Male\\r\\n1,12,6.2,0,0,0,0,Female\\r\\n1,12.7,5.1,1,1,1,1,Male\\r\\n1,13.1,5.9,1,1,0,0,Female\\r\\n1,11.6,5.6,0,0,0,0,Female\\r\\n1,13.2,6.4,0,0,0,0,Female\\r\\n1,12.3,6.2,0,0,1,1,Female\\r\\n1,13.3,5.8,1,0,0,1,Male\\r\\n1,13.3,5.6,1,0,1,1,Male\\r\\n1,13.6,5.3,0,0,0,0,Female\\r\\n1,13.8,6.2,0,0,0,0,Female\\r\\n1,13.1,6.3,0,1,1,1,Male\\r\\n0,14.1,6.6,1,0,0,1,Male\\r\\n1,11.6,6.6,1,1,1,1,Male\\r\\n1,14,5.8,1,0,0,0,Female\\r\\n1,11.8,5.3,0,1,0,0,Female\\r\\n1,14.3,6.4,1,1,1,1,Male\\r\\n1,15.2,5.6,0,1,0,0,Male\\r\\n0,13.6,5.8,0,1,0,0,Female\\r\\n1,12,6.2,0,0,0,0,Female\\r\\n1,13.9,5.5,0,1,1,0,Female\\r\\n1,11.6,5.1,1,0,0,0,Female\\r\\n1,11.9,6.4,0,0,1,0,Female\\r\\n1,12.5,5.1,1,1,1,1,Male\\r\\n1,14.3,5.8,0,0,0,0,Female\\r\\n1,13.2,5.1,1,1,0,0,Male\\r\\n1,12.9,5.4,1,1,1,1,Male\\r\\n1,12.9,6.2,1,0,0,0,Female\\r\\n1,11.7,6.1,1,1,1,0,Male\\r\\n1,11.4,5.4,0,0,0,0,Female\\r\\n1,12.4,6.3,0,1,0,0,Female\\r\\n1,13,5.3,0,0,1,0,Female\\r\\n0,14.3,5.8,1,1,1,0,Male\\r\\n1,13.6,5.4,0,0,0,0,Female\\r\\n1,11.9,6.7,1,1,1,1,Male\\r\\n1,11.7,5.1,0,0,0,0,Female\\r\\n1,12.7,6.5,1,1,1,1,Male\\r\\n1,11.5,6.4,0,0,0,0,Female\\r\\n1,14.9,6.4,1,1,1,0,Male\\r\\n1,14.3,5.4,0,0,0,0,Female\\r\\n1,12.3,6.5,0,0,0,0,Female\\r\\n1,14.1,5.8,0,0,0,1,Female\\r\\n1,11.7,5.9,0,0,0,0,Female\\r\\n1,14,6.1,1,1,0,1,Male\\r\\n1,13.7,6.3,0,1,1,0,Male\\r\\n1,11.5,6.3,0,0,0,0,Female\\r\\n1,12.1,5.7,1,1,1,1,Male\\r\\n1,11.8,5.3,0,0,0,0,Female\\r\\n1,12.2,5.7,0,1,1,0,Female\\r\\n1,13.8,5.5,1,1,1,1,Male\\r\\n1,11.9,7.1,1,0,1,1,Male\\r\\n1,14,6.1,0,1,0,0,Female\\r\\n1,11.7,6.2,1,0,0,1,Male\\r\\n1,15.4,6,1,1,1,1,Male\\r\\n1,11.5,6.1,1,1,1,1,Male\\r\\n1,11.9,6.9,0,1,1,1,Male\\r\\n1,11.4,5.1,0,0,0,1,Female\\r\\n1,11.9,6.5,0,0,0,0,Female\\r\\n1,12,5.4,0,0,0,0,Female\\r\\n0,12.6,6.3,0,0,0,0,Female\\r\\n1,13.2,5.3,0,0,1,0,Female\\r\\n1,13.1,5.8,0,1,0,1,Female\\r\\n1,13.8,5.1,1,1,1,0,Female\\r\\n0,14.1,5.9,0,1,0,0,Female\\r\\n1,12.6,6.8,0,1,1,1,Male\\r\\n1,14.5,5.4,0,1,1,1,Male\\r\\n0,12.3,6.1,1,1,1,1,Male\\r\\n1,14,5.1,1,1,1,1,Male\\r\\n1,14,6.3,0,0,0,0,Female\\r\\n1,13.3,6.2,0,0,0,0,Female\\r\\n1,14,5.7,0,0,0,0,Female\\r\\n1,13.3,6.1,1,0,0,0,Female\\r\\n1,12.3,5.1,0,0,0,0,Female\\r\\n0,12.7,5.8,1,1,1,1,Male\\r\\n1,14.6,6.6,1,0,1,1,Male\\r\\n1,11.5,5.7,1,1,1,1,Male\\r\\n1,12.7,6.1,0,0,0,0,Female\\r\\n1,12.8,5.1,0,1,0,0,Female\\r\\n1,11.6,6.6,1,1,1,1,Male\\r\\n1,11.6,5.1,1,1,1,1,Male\\r\\n1,13.5,6.1,0,1,0,1,Male\\r\\n1,14.1,6.5,1,1,1,1,Male\\r\\n1,12.6,5.7,0,0,0,0,Female\\r\\n1,13.5,5.2,0,0,0,0,Female\\r\\n1,12,6.2,1,1,0,1,Male\\r\\n1,13.6,5.4,0,1,0,0,Female\\r\\n1,12.5,6.4,0,0,0,0,Female\\r\\n1,13.3,6.7,1,1,1,1,Male\\r\\n1,12.6,5.3,1,1,1,1,Male\\r\\n1,14.3,5.3,0,1,1,1,Male\\r\\n1,13.1,6.1,1,0,1,1,Male\\r\\n1,14.6,6.3,0,1,1,1,Male\\r\\n1,13.7,5.4,1,1,1,1,Male\\r\\n1,15.1,6.6,1,1,1,0,Male\\r\\n1,11.8,5.5,1,0,0,0,Female\\r\\n1,11.8,6.5,0,0,0,0,Female\\r\\n1,11.7,5.1,0,1,0,0,Female\\r\\n1,11.7,6.4,0,0,0,0,Female\\r\\n1,12.8,5.4,0,0,0,0,Female\\r\\n1,13.7,5.7,0,0,0,0,Female\\r\\n1,13,5.5,0,1,1,0,Female\\r\\n1,11.9,5.9,0,0,0,0,Female\\r\\n1,13.3,5.2,1,1,1,1,Male\\r\\n1,15.4,6.1,1,1,0,1,Male\\r\\n1,11.4,5.9,1,0,0,0,Female\\r\\n1,11.5,5.9,1,1,1,1,Male\\r\\n1,12.8,5.8,0,1,0,0,Female\\r\\n0,13.3,6.9,1,1,0,1,Male\\r\\n1,13.9,6.2,0,0,0,0,Female\\r\\n1,12.7,6.5,1,1,1,1,Male\\r\\n1,13.5,5.4,0,0,0,0,Female\\r\\n1,13.8,7.1,1,1,1,1,Male\\r\\n1,12.1,5.8,1,1,0,1,Male\\r\\n1,12.5,5.7,0,0,0,0,Female\\r\\n1,12.8,6.7,1,1,1,1,Male\\r\\n1,11.7,6.2,1,1,1,1,Male\\r\\n1,14.6,5.7,1,1,0,1,Male\\r\\n1,14.5,6.3,1,1,1,1,Male\\r\\n1,11.5,5.2,1,1,1,0,Male\\r\\n0,14.4,6.7,1,1,1,1,Male\\r\\n1,12.7,5.9,1,1,1,1,Male\\r\\n1,12.1,7,1,1,0,1,Male\\r\\n1,13.6,5.3,0,0,0,0,Female\\r\\n1,11.9,6.1,0,0,0,0,Female\\r\\n1,13.5,5.5,1,0,0,0,Female\\r\\n1,12,6.5,1,1,1,1,Male\\r\\n1,12.4,5.2,0,1,0,1,Female\\r\\n1,12.8,5.2,0,0,0,0,Female\\r\\n1,14.9,6.2,1,1,0,1,Male\\r\\n0,15,6.9,1,1,1,1,Male\\r\\n1,14.6,6.8,1,1,1,0,Male\\r\\n0,12.2,6.1,0,0,0,0,Female\\r\\n0,13.1,5.8,0,0,0,0,Female\\r\\n1,11.4,5.5,1,1,0,1,Female\\r\\n0,11.9,7.1,1,0,1,1,Male\\r\\n1,13.5,5.5,1,0,0,0,Female\\r\\n1,15.5,6.4,1,1,1,1,Male\\r\\n1,11.7,5.3,1,1,1,1,Male\\r\\n1,13.6,6,0,1,0,1,Female\\r\\n0,11.6,5.9,0,0,0,0,Female\\r\\n1,12.5,6.5,0,1,1,1,Male\\r\\n1,13.3,6.3,1,1,1,1,Male\\r\\n1,13.6,6.4,1,0,1,1,Male\\r\\n1,13.9,6.5,0,0,0,0,Female\\r\\n1,12,5.9,0,0,0,0,Female\\r\\n1,13.3,5.3,0,1,1,1,Male\\r\\n1,13.3,6.1,1,1,1,1,Male\\r\\n1,14.3,7,1,1,1,0,Male\\r\\n0,12,6,1,1,1,1,Male\\r\\n1,15.3,6.5,0,1,1,0,Male\\r\\n1,13.7,5.5,0,0,0,0,Female\\r\\n1,13.9,5.4,0,0,0,0,Female\\r\\n0,13.4,7.1,0,1,0,1,Male\\r\\n1,13.1,5.4,0,0,0,1,Female\\r\\n1,12.8,5.2,1,1,1,1,Male\\r\\n1,13.1,5.8,0,0,0,0,Female\\r\\n1,11.4,6.5,1,0,0,0,Female\\r\\n1,12.1,5.7,0,1,0,0,Female\\r\\n1,12.8,5.3,0,0,0,0,Female\\r\\n1,14.2,5.6,0,0,0,1,Female\\r\\n1,12,6.5,0,0,1,0,Female\\r\\n1,12,5.3,1,1,0,1,Male\\r\\n1,14.2,5.3,1,1,1,1,Male\\r\\n1,12,5.3,0,0,0,0,Female\\r\\n1,11.5,5.3,0,0,0,1,Female\\r\\n1,12.1,7,1,1,0,1,Male\\r\\n1,11.4,6.4,0,0,0,0,Female\\r\\n1,12.9,5.7,0,0,0,0,Female\\r\\n1,14.8,6.5,1,1,1,0,Male\\r\\n1,11.9,6.5,0,1,1,0,Female\\r\\n1,13,6.5,1,1,1,1,Male\\r\\n1,13.7,6.3,0,0,1,0,Female\\r\\n1,12.6,6.1,0,0,0,0,Female\\r\\n1,13.1,5.2,0,0,0,0,Female\\r\\n1,13.6,6.4,1,0,0,0,Female\\r\\n1,12.9,5.6,1,1,1,1,Male\\r\\n1,11.5,5.1,0,0,0,1,Female\\r\\n0,14.4,6.6,1,1,1,1,Male\\r\\n0,11.5,5.8,0,0,0,0,Female\\r\\n1,13.7,6.1,0,0,0,0,Female\\r\\n0,12,5.8,1,0,0,0,Female\\r\\n1,12.7,6.3,1,1,1,1,Male\\r\\n1,13.8,6.2,0,0,0,1,Female\\r\\n1,11.6,6.9,0,1,1,0,Male\\r\\n1,12.9,7.1,1,1,1,1,Male\\r\\n1,14.5,6.7,1,1,1,1,Male\\r\\n1,11.6,6.2,0,0,0,0,Female\\r\\n1,11.6,6.4,0,0,1,0,Female\\r\\n0,14.3,5.6,1,1,1,1,Male\\r\\n1,15.3,6.4,1,1,1,1,Male\\r\\n0,13.2,7.1,1,1,1,1,Male\\r\\n1,12.8,5.7,1,1,0,1,Male\\r\\n1,11.4,5.9,0,0,0,0,Female\\r\\n1,15.2,5.2,1,1,1,1,Male\\r\\n1,14.2,5.4,1,0,0,1,Female\\r\\n1,12.9,6.9,1,1,1,1,Male\\r\\n1,12.2,6.4,1,1,1,1,Male\\r\\n1,11.5,6.2,1,0,0,0,Female\\r\\n1,12.3,6.2,0,0,0,0,Female\\r\\n1,13.5,6.1,0,0,0,0,Female\\r\\n1,14.1,5.3,0,0,0,0,Female\\r\\n1,12.1,6.1,0,0,1,0,Female\\r\\n1,13.1,5.1,0,0,0,0,Female\\r\\n1,13.8,5.5,0,0,0,0,Female\\r\\n1,13.5,6.3,0,0,0,1,Female\\r\\n0,12.6,5.8,0,0,0,0,Female\\r\\n1,12.2,6.7,1,1,1,1,Male\\r\\n0,11.8,6.3,1,1,1,1,Male\\r\\n1,12.6,5.8,1,1,1,1,Male\\r\\n1,12.7,5.9,0,0,0,0,Female\\r\\n1,14.7,7,1,1,1,1,Male\\r\\n1,12.8,6.4,0,0,0,0,Female\\r\\n0,12.7,5.5,0,0,0,1,Female\\r\\n1,12.8,5.9,0,0,0,0,Female\\r\\n1,11.6,5.1,0,0,0,0,Female\\r\\n1,13.7,5.7,0,1,0,0,Female\\r\\n0,11.5,6.3,1,1,1,1,Male\\r\\n1,13.4,6.5,0,0,0,0,Female\\r\\n1,13.7,7,1,0,0,1,Male\\r\\n1,12.2,6.3,0,0,0,1,Female\\r\\n1,13.6,5.7,0,0,0,0,Female\\r\\n1,12.1,5.2,0,1,0,0,Female\\r\\n1,12.2,5.9,0,0,0,0,Female\\r\\n1,12.9,5.5,0,1,0,0,Female\\r\\n0,12.9,5.7,0,0,0,0,Female\\r\\n1,11.6,5.1,1,1,1,1,Male\\r\\n1,11.6,6.2,0,0,0,0,Female\\r\\n1,12.4,5.9,1,1,1,1,Male\\r\\n1,14.1,5.7,1,1,1,1,Male\\r\\n1,13.7,6.2,0,0,0,0,Female\\r\\n1,12.9,5.6,0,1,1,1,Male\\r\\n0,13.6,5.8,1,1,1,1,Male\\r\\n1,12.8,5.5,0,0,0,1,Female\\r\\n1,14.2,6.5,0,0,0,0,Female\\r\\n1,13.2,6.4,0,0,0,0,Female\\r\\n1,12,5.1,1,1,1,0,Male\\r\\n1,11.5,6.4,0,0,0,0,Female\\r\\n1,14.2,6.4,0,0,0,0,Female\\r\\n1,14.1,5.8,1,0,0,0,Female\\r\\n1,14.3,7.1,1,1,1,1,Male\\r\\n1,11.7,6.1,0,0,0,0,Female\\r\\n1,15.1,5.6,1,1,1,1,Male\\r\\n1,15.2,5.3,1,1,1,1,Male\\r\\n1,13.8,5.6,0,0,1,0,Female\\r\\n1,15.2,6.3,1,1,1,1,Male\\r\\n1,12.2,5.6,0,0,0,0,Female\\r\\n1,13.9,6.4,0,0,0,0,Female\\r\\n1,14.6,6.8,1,1,1,1,Male\\r\\n1,11.9,5.5,0,0,0,0,Female\\r\\n1,13.1,6.5,1,1,0,1,Male\\r\\n1,11.9,5.6,0,1,0,0,Female\\r\\n1,13,5.1,1,0,0,0,Female\\r\\n1,13.3,5.8,1,1,1,1,Male\\r\\n0,11.8,5.1,1,1,1,0,Male\\r\\n0,12.8,6.4,0,0,1,1,Male\\r\\n1,12.4,5.3,1,1,1,1,Male\\r\\n1,13.7,5.7,1,1,1,0,Male\\r\\n1,13.1,5.5,0,1,1,1,Male\\r\\n1,13.9,5.9,0,0,0,0,Female\\r\\n1,12.3,5.3,1,1,1,1,Male\\r\\n0,13.1,5.9,0,0,0,0,Female\\r\\n1,14,6.2,0,0,0,0,Female\\r\\n1,13,6.4,0,0,0,0,Female\\r\\n1,13.7,6.9,1,1,1,1,Male\\r\\n1,12.3,6.1,0,0,0,0,Female\\r\\n1,15.1,5.9,1,1,1,1,Male\\r\\n1,12.4,5.6,1,0,1,1,Male\\r\\n1,13.7,5.1,0,0,0,0,Female\\r\\n1,15.4,6.5,1,1,1,1,Male\\r\\n1,12,6.3,0,0,0,0,Female\\r\\n0,13.3,6.4,1,1,1,1,Male\\r\\n1,11.6,5.4,0,0,0,0,Female\\r\\n0,13,6.4,0,0,0,0,Female\\r\\n1,12.2,6.4,0,0,0,0,Female\\r\\n1,11.7,5.7,0,0,0,0,Female\\r\\n1,14.6,6.2,0,1,1,1,Male\\r\\n1,13.1,5.4,0,0,0,0,Female\\r\\n1,11.6,6.6,1,1,1,1,Male\\r\\n1,11.9,6.1,1,1,1,1,Male\\r\\n1,12.8,5.4,0,0,0,0,Female\\r\\n0,14.3,6.4,0,0,0,1,Female\\r\\n1,12.8,5.8,0,0,0,0,Female\\r\\n1,12,6.4,0,0,0,0,Female\\r\\n0,14.1,5.1,0,0,0,0,Female\\r\\n1,11.6,6.2,0,0,0,0,Female\\r\\n1,11.4,5.7,0,0,0,0,Female\\r\\n0,14.5,5.5,1,1,0,1,Male\\r\\n1,13.3,5.8,0,1,1,0,Male\\r\\n1,13.4,6.4,1,1,1,1,Male\\r\\n1,13.3,5.2,0,0,0,0,Female\\r\\n0,12.6,6.8,1,1,0,1,Male\\r\\n1,13,5.5,0,0,0,0,Female\\r\\n0,13,5.9,1,0,0,0,Female\\r\\n1,11.8,5.1,0,0,0,0,Female\\r\\n1,14,5.2,0,0,0,0,Female\\r\\n1,13.4,7,0,1,1,1,Male\\r\\n1,13.3,5.3,1,1,1,1,Male\\r\\n1,12,5.7,0,0,1,0,Female\\r\\n1,11.7,5.2,0,0,0,1,Female\\r\\n0,13.4,5.6,1,0,0,0,Female\\r\\n1,11.8,6.4,1,0,0,0,Female\\r\\n0,12.5,6.8,1,0,1,1,Male\\r\\n1,12.9,6.8,0,1,1,1,Male\\r\\n1,11.9,5.8,1,1,0,1,Male\\r\\n1,12.3,7.1,1,1,1,1,Male\\r\\n1,12.4,7,0,1,0,1,Male\\r\\n1,13.4,5.1,1,1,0,1,Male\\r\\n1,13.1,5.4,1,0,0,0,Female\\r\\n1,12.6,6.2,0,0,0,0,Female\\r\\n1,11.7,5.3,0,0,0,0,Female\\r\\n0,14.8,5.9,1,0,1,1,Male\\r\\n1,14.9,5.8,1,1,0,1,Male\\r\\n1,13.4,6.4,0,1,0,0,Female\\r\\n1,11.5,7,1,1,1,1,Male\\r\\n1,12.3,5.4,1,0,0,0,Female\\r\\n0,12,6.4,1,1,1,1,Male\\r\\n1,12.5,6.2,1,1,1,0,Male\\r\\n0,12.6,5.7,0,0,0,1,Female\\r\\n1,13.3,5.8,1,1,1,1,Male\\r\\n1,13,5.9,0,1,0,0,Female\\r\\n1,12.9,5.1,0,1,0,0,Female\\r\\n1,11.5,5.4,0,0,0,0,Female\\r\\n0,11.7,5.9,1,0,1,0,Male\\r\\n1,14.1,5.5,1,1,1,1,Male\\r\\n0,12.2,5.1,1,0,0,0,Female\\r\\n1,11.7,5.4,0,0,1,0,Female\\r\\n0,15.3,6.4,1,1,1,1,Male\\r\\n1,12,6.2,0,0,0,0,Female\\r\\n0,13.6,5.1,0,1,0,0,Female\\r\\n1,12.2,6.8,1,1,1,1,Male\\r\\n1,12.9,5.4,1,1,1,0,Male\\r\\n0,15.3,6.7,1,1,1,1,Male\\r\\n1,15.2,5.9,1,1,1,1,Male\\r\\n1,12.8,7.1,1,0,1,1,Male\\r\\n1,12.8,6,0,1,0,0,Female\\r\\n1,13.6,5.5,0,1,1,0,Female\\r\\n1,14,5.8,0,0,0,0,Female\\r\\n1,14.2,5.5,1,1,1,0,Male\\r\\n1,13.4,5.4,0,1,1,1,Male\\r\\n1,11.9,6.4,0,0,1,0,Female\\r\\n1,12.7,5.7,0,0,0,1,Female\\r\\n1,12.3,5.2,1,1,1,1,Male\\r\\n1,12.4,6.3,0,0,1,1,Female\\r\\n1,13,5.5,0,0,1,1,Male\\r\\n1,14.1,5.6,1,1,1,1,Male\\r\\n1,12.3,5.1,0,0,0,0,Female\\r\\n1,15.3,6.9,1,1,1,1,Male\\r\\n1,15.2,6.9,1,1,1,1,Male\\r\\n1,12.5,5.3,0,0,0,0,Female\\r\\n0,11.5,6.9,1,1,1,1,Male\\r\\n1,13.6,5.7,0,0,1,1,Female\\r\\n1,13.8,5.4,0,1,0,0,Female\\r\\n1,15.1,6.2,1,0,1,1,Male\\r\\n1,11.8,6.2,0,0,0,0,Female\\r\\n1,12.4,6.1,0,1,1,1,Male\\r\\n1,13.1,6.3,0,1,1,1,Male\\r\\n1,14.2,5.7,0,0,0,0,Female\\r\\n1,13.6,5.8,0,1,0,1,Female\\r\\n1,11.5,5.1,1,0,0,0,Female\\r\\n1,12.6,6.4,0,0,0,1,Female\\r\\n1,15.4,6.7,0,1,1,1,Male\\r\\n1,13.3,6,0,0,0,0,Female\\r\\n0,11.6,5.7,1,0,1,1,Male\\r\\n1,13,6.9,1,1,1,0,Male\\r\\n1,13.8,5.3,0,1,0,0,Female\\r\\n1,14.5,6.5,1,1,1,1,Male\\r\\n1,13.9,5.5,1,0,0,0,Female\\r\\n0,12.7,5.3,1,1,1,0,Male\\r\\n1,11.6,7.1,1,1,1,1,Male\\r\\n1,14.1,5.2,0,0,0,1,Female\\r\\n1,15.3,5.4,1,1,1,1,Male\\r\\n1,14,5.6,0,0,0,0,Female\\r\\n1,14.9,5.5,0,1,0,1,Male\\r\\n1,11.5,5.7,0,1,1,0,Female\\r\\n1,13.2,6.3,1,1,1,1,Male\\r\\n1,12.4,5.6,1,1,1,1,Male\\r\\n1,12.8,6.5,0,1,0,0,Female\\r\\n1,12.8,5.1,1,0,0,0,Female\\r\\n0,12.7,5.4,1,1,1,1,Male\\r\\n1,14,6.6,1,1,1,1,Male\\r\\n1,14.2,6.3,0,1,0,0,Female\\r\\n1,12.6,6.4,0,0,0,1,Female\\r\\n1,14.9,5.8,1,1,1,1,Male\\r\\n1,14.1,6.4,0,0,0,0,Female\\r\\n1,13.5,5.6,0,0,0,0,Female\\r\\n1,13.8,7,1,1,1,0,Male\\r\\n1,12.6,5.6,1,0,1,1,Male\\r\\n1,13,5.7,1,1,1,1,Male\\r\\n1,14.2,5.2,0,0,0,0,Female\\r\\n1,13.2,5.4,0,0,0,0,Female\\r\\n1,14.1,6.7,1,1,1,0,Male\\r\\n1,11.6,6.5,1,1,1,1,Male\\r\\n1,11.7,5.5,0,1,0,0,Female\\r\\n1,14.2,5.8,0,0,0,0,Female\\r\\n1,11.5,5.9,0,0,0,0,Female\\r\\n1,11.4,5.6,0,0,0,0,Female\\r\\n1,14,6.6,1,1,1,1,Male\\r\\n1,14.5,5.1,0,1,1,0,Male\\r\\n1,14.3,6.5,1,0,0,1,Female\\r\\n1,11.9,5.1,1,1,1,1,Male\\r\\n1,12.1,6.6,1,0,1,1,Male\\r\\n1,12.9,5.5,0,0,0,0,Female\\r\\n0,15.5,6.4,1,1,1,1,Male\\r\\n1,11.5,5.7,1,1,1,1,Male\\r\\n1,14.7,5.9,0,1,1,1,Male\\r\\n0,13.2,5.7,0,0,1,0,Female\\r\\n1,13.2,5.4,0,1,1,0,Male\\r\\n0,15.1,7.1,0,1,1,1,Male\\r\\n1,12,6.1,0,0,0,0,Female\\r\\n1,13.7,5.7,1,1,0,1,Male\\r\\n1,14.9,6.2,1,1,1,1,Male\\r\\n1,12,6,0,0,1,1,Male\\r\\n1,11.9,6.2,0,0,0,0,Female\\r\\n1,11.4,6.3,1,1,0,0,Female\\r\\n1,13.4,6.4,1,1,1,1,Male\\r\\n1,11.8,6.3,0,0,1,0,Female\\r\\n1,12.1,5.4,1,0,0,1,Female\\r\\n1,15.5,5.7,1,1,1,1,Male\\r\\n1,13.9,6.3,0,1,0,1,Female\\r\\n0,13.5,6.6,1,1,1,1,Male\\r\\n1,14.3,6.1,1,1,1,1,Male\\r\\n1,14.1,6.4,1,1,0,1,Male\\r\\n1,11.5,5.4,0,1,0,0,Female\\r\\n1,13.2,5.2,0,0,0,0,Female\\r\\n1,15.2,6.9,1,1,1,1,Male\\r\\n1,14.3,5.6,1,1,1,1,Male\\r\\n1,13.5,6.8,1,1,1,0,Male\\r\\n0,14.3,5.4,1,1,1,1,Male\\r\\n1,14.1,5.7,0,0,0,0,Female\\r\\n1,13.6,5.6,1,1,1,0,Male\\r\\n1,12.3,6,0,0,1,0,Female\\r\\n0,13.3,6.9,1,1,0,1,Male\\r\\n0,13.8,5.5,0,0,0,0,Female\\r\\n1,15.1,5.9,0,1,1,1,Male\\r\\n1,14,6.9,1,1,1,0,Male\\r\\n1,12.2,6.5,1,0,0,0,Female\\r\\n1,12.8,5.8,1,1,1,1,Male\\r\\n1,14.1,6,0,0,0,0,Female\\r\\n1,12.9,5.2,0,0,0,0,Female\\r\\n1,15.1,6.4,1,1,1,1,Male\\r\\n1,13.6,5.7,1,1,1,1,Male\\r\\n1,12.7,5.5,1,1,1,1,Male\\r\\n1,13.4,5.5,1,0,0,0,Female\\r\\n1,12.7,5.5,1,1,1,1,Male\\r\\n0,13.5,6.7,1,0,1,1,Male\\r\\n0,11.6,5.3,1,1,1,1,Male\\r\\n1,15.3,5.1,1,1,1,1,Male\\r\\n1,14.5,5.7,0,1,0,1,Male\\r\\n1,14.5,7,1,1,1,1,Male\\r\\n0,12.4,6.6,1,0,1,1,Male\\r\\n1,12.6,6,0,1,1,1,Male\\r\\n1,12.3,6,0,0,0,0,Female\\r\\n1,12.8,5.5,0,0,0,0,Female\\r\\n1,12,5.5,0,0,0,0,Female\\r\\n1,15.3,6.2,1,1,1,1,Male\\r\\n1,12.6,6.1,1,1,1,1,Male\\r\\n0,14.2,6.1,1,1,1,1,Male\\r\\n0,12.8,5.3,0,0,0,0,Female\\r\\n1,11.5,5.3,0,0,0,0,Female\\r\\n1,12.4,5.9,0,0,0,0,Female\\r\\n1,14.6,6,1,1,1,1,Male\\r\\n1,15.5,5.6,1,1,1,1,Male\\r\\n1,12.1,5.3,1,1,1,1,Male\\r\\n1,15.2,6,1,0,1,1,Male\\r\\n0,11.7,5.8,1,1,1,1,Male\\r\\n1,12,5.9,1,1,1,1,Male\\r\\n1,14.1,6.3,1,0,1,0,Male\\r\\n1,13.1,5.2,0,0,0,0,Female\\r\\n1,11.6,5.8,1,1,1,1,Male\\r\\n1,13.1,5.7,0,0,0,0,Female\\r\\n1,11.6,6,0,0,0,0,Female\\r\\n1,12.2,6.4,0,0,0,0,Female\\r\\n0,15.1,5.7,1,1,0,1,Male\\r\\n1,13.8,6.6,1,1,1,1,Male\\r\\n1,12.9,6,0,0,1,0,Female\\r\\n1,13.5,6,0,0,0,1,Female\\r\\n1,12.6,6.2,1,0,1,1,Male\\r\\n1,13,7,1,1,1,1,Male\\r\\n1,12.4,5.1,1,1,1,1,Male\\r\\n1,13.7,6.8,1,0,1,1,Male\\r\\n1,15.5,6.5,1,1,0,1,Male\\r\\n1,14.1,5.3,0,0,0,0,Female\\r\\n1,14.1,6.2,1,1,1,1,Male\\r\\n1,15,6.3,1,1,1,1,Male\\r\\n0,13.5,6.1,0,0,0,0,Female\\r\\n1,13.4,5.6,1,0,0,0,Female\\r\\n1,14.2,5.1,1,1,1,1,Male\\r\\n1,13.7,5.7,0,1,1,1,Male\\r\\n1,13.2,5.7,0,0,0,0,Female\\r\\n1,14.2,5.9,0,0,0,0,Female\\r\\n0,12.4,6,0,0,0,1,Female\\r\\n1,12,5.5,0,0,0,0,Female\\r\\n1,14.9,6.8,1,1,1,1,Male\\r\\n1,12.4,6.2,0,0,0,0,Female\\r\\n1,11.7,6.5,1,0,1,1,Male\\r\\n1,12.7,6.5,0,0,0,0,Female\\r\\n1,13.6,6.5,0,0,0,0,Female\\r\\n1,13.1,5.1,0,0,0,0,Female\\r\\n1,12.5,6.9,1,1,1,0,Male\\r\\n1,15.1,6.1,1,0,1,1,Male\\r\\n1,13.4,6.4,0,0,0,0,Female\\r\\n1,14,5.4,0,0,1,0,Female\\r\\n1,13.6,5.2,1,0,0,0,Female\\r\\n1,11.9,5.7,0,0,0,0,Female\\r\\n1,13.1,5.7,0,0,0,0,Female\\r\\n1,13,5.9,1,1,1,1,Male\\r\\n0,13.6,6.3,0,0,0,1,Female\\r\\n1,15.4,6.1,1,1,1,0,Male\\r\\n1,13.9,6,1,1,0,1,Male\\r\\n1,13.6,6.2,1,0,1,1,Male\\r\\n1,11.6,5.1,0,1,0,0,Female\\r\\n1,12.4,5.8,1,1,1,1,Male\\r\\n1,12.9,6.4,0,0,0,0,Female\\r\\n1,12.6,6.7,1,1,1,1,Male\\r\\n1,12.2,5.1,0,0,0,0,Female\\r\\n1,12,6.3,1,1,1,0,Male\\r\\n1,12.2,5.3,0,0,0,0,Female\\r\\n1,13,5.1,1,1,1,1,Male\\r\\n0,11.5,6.4,0,0,0,1,Female\\r\\n1,12,5.1,0,0,0,0,Female\\r\\n0,12.2,5.8,1,1,0,1,Male\\r\\n1,14,6.6,1,1,1,1,Male\\r\\n1,13.3,5.3,1,1,1,1,Male\\r\\n1,13.2,5.8,0,0,0,0,Female\\r\\n1,14.5,5.5,0,1,1,1,Male\\r\\n1,14.2,7,1,1,1,0,Male\\r\\n1,12.1,6.3,0,0,0,0,Female\\r\\n1,14,6.3,1,1,1,1,Male\\r\\n1,13.4,6.6,1,1,1,1,Male\\r\\n1,12.7,6.1,1,1,0,0,Male\\r\\n1,12.8,5.5,1,0,0,0,Female\\r\\n0,15.2,6.1,0,1,1,1,Male\\r\\n1,11.8,5.9,0,0,0,0,Female\\r\\n1,15.4,7.1,0,0,1,1,Male\\r\\n1,13.2,5.2,1,1,1,1,Male\\r\\n0,14.2,6,0,0,0,0,Female\\r\\n1,14.6,5.1,1,1,1,1,Male\\r\\n1,13.9,5.5,0,1,1,1,Male\\r\\n0,13.7,5.3,1,1,1,1,Male\\r\\n1,14,5.4,0,0,0,0,Female\\r\\n1,11.5,6.6,1,0,1,1,Male\\r\\n1,11.9,5.4,0,0,0,0,Female\\r\\n1,14.7,5.6,1,1,1,1,Male\\r\\n1,14.1,6,0,0,0,0,Female\\r\\n1,15.1,6.2,1,1,1,1,Male\\r\\n1,12.1,6.1,1,1,0,1,Male\\r\\n1,12.7,5.6,1,0,1,1,Male\\r\\n1,11.6,5.2,0,0,0,0,Female\\r\\n1,14.1,6.2,0,0,0,0,Female\\r\\n1,11.8,5.1,0,0,0,0,Female\\r\\n1,14.3,6.4,1,1,1,1,Male\\r\\n1,11.9,5.7,0,0,0,0,Female\\r\\n1,14.6,5.7,1,1,1,0,Male\\r\\n1,14.2,6.5,0,0,0,0,Female\\r\\n1,14.5,7.1,1,1,1,1,Male\\r\\n0,14.2,6.6,1,1,1,1,Male\\r\\n0,14.3,5.9,1,1,1,1,Male\\r\\n1,13.4,5.8,0,0,0,0,Female\\r\\n1,14.1,6.8,1,1,1,1,Male\\r\\n1,12,6.5,0,0,0,0,Female\\r\\n1,14.1,5.9,0,0,1,0,Female\\r\\n1,11.8,5.5,1,1,1,1,Male\\r\\n1,14.7,6,1,0,1,0,Male\\r\\n1,15.2,5.6,1,1,1,1,Male\\r\\n1,11.5,6,0,1,0,0,Female\\r\\n1,12.9,6.4,1,1,1,0,Male\\r\\n1,14,6.4,0,1,1,0,Male\\r\\n1,13.7,6.3,1,1,1,1,Male\\r\\n1,14.1,6.4,1,1,1,1,Male\\r\\n1,14.1,5.8,0,0,0,0,Female\\r\\n1,13.9,5.2,0,1,1,1,Male\\r\\n1,14.7,5.3,0,0,1,1,Male\\r\\n1,14.3,5.6,1,0,1,1,Male\\r\\n1,14.7,5.1,1,0,1,1,Male\\r\\n1,13,5.8,0,0,0,0,Female\\r\\n1,12.1,6.6,1,1,1,1,Male\\r\\n1,13,5.8,1,1,1,1,Male\\r\\n1,13.1,5.4,1,1,1,1,Male\\r\\n1,13.4,5.2,0,0,1,0,Female\\r\\n1,12.4,6.3,0,1,1,1,Female\\r\\n1,12.7,5.9,0,0,1,0,Female\\r\\n1,11.8,6.1,1,1,0,1,Male\\r\\n1,14,5.5,0,0,0,0,Female\\r\\n1,13.7,5.3,0,1,1,1,Male\\r\\n1,11.9,5.7,0,0,0,0,Female\\r\\n1,12.1,6.2,0,0,0,0,Female\\r\\n1,11.5,6,1,0,1,0,Female\\r\\n1,11.9,6,0,1,0,0,Female\\r\\n1,13.7,5.3,0,0,0,0,Female\\r\\n1,14.3,6.3,1,1,0,1,Male\\r\\n1,11.9,5.3,1,1,1,1,Male\\r\\n1,11.6,6.1,0,1,0,0,Female\\r\\n1,13.5,5.8,1,1,0,1,Male\\r\\n1,12.6,5.8,1,1,1,1,Male\\r\\n1,13.4,7.1,0,1,1,1,Male\\r\\n1,13.5,6.5,0,0,0,0,Female\\r\\n1,13.5,5.9,1,0,0,0,Female\\r\\n1,11.9,5.7,1,1,1,1,Male\\r\\n1,13.5,5.5,0,0,1,0,Female\\r\\n1,13.4,5.8,0,0,1,0,Female\\r\\n1,12.8,5.5,0,1,1,0,Male\\r\\n1,13.4,6.3,0,0,0,0,Female\\r\\n1,14.4,5.7,1,1,1,1,Male\\r\\n1,11.8,6.1,0,0,0,0,Female\\r\\n1,13.7,6.1,1,0,0,0,Female\\r\\n0,11.6,5.8,0,0,0,0,Female\\r\\n1,13.3,6.8,1,1,0,1,Male\\r\\n1,13.2,6.6,1,1,1,1,Male\\r\\n1,13.9,5.3,0,1,0,0,Female\\r\\n1,12.3,5.8,0,0,0,0,Female\\r\\n1,13.3,5.3,1,1,1,0,Male\\r\\n1,13.8,5.2,0,0,0,0,Female\\r\\n1,14.2,5.5,0,0,0,0,Female\\r\\n1,11.5,6.5,0,0,0,0,Female\\r\\n1,14.6,6.7,1,1,1,1,Male\\r\\n1,15,5.8,1,1,1,1,Male\\r\\n1,12.9,5.9,0,0,0,0,Female\\r\\n0,12.6,5.6,0,1,1,1,Male\\r\\n1,12.5,5.7,0,0,0,0,Female\\r\\n1,11.9,5.9,0,0,0,1,Female\\r\\n0,12.9,5.3,0,0,0,0,Female\\r\\n1,12.6,6.5,0,0,0,0,Female\\r\\n1,15.2,5.1,1,0,1,1,Male\\r\\n1,11.6,6.7,1,1,1,1,Male\\r\\n1,12.9,5.7,0,0,0,0,Female\\r\\n1,12.8,5.1,0,0,0,0,Female\\r\\n1,15.5,7.1,1,1,1,1,Male\\r\\n1,12,5.5,0,0,0,0,Female\\r\\n1,11.6,5.7,0,0,0,0,Female\\r\\n1,13.6,6.5,0,0,0,0,Female\\r\\n1,13.9,6.1,0,0,0,0,Female\\r\\n1,14.2,5.1,0,1,0,0,Female\\r\\n1,14.5,5.3,1,1,1,1,Male\\r\\n1,11.6,5.5,0,0,0,0,Female\\r\\n1,11.5,6,0,0,0,0,Female\\r\\n1,11.8,6.2,0,0,0,1,Female\\r\\n1,11.7,5.4,1,1,1,1,Male\\r\\n1,12.9,5.9,0,0,0,0,Female\\r\\n1,12.3,6.6,1,1,1,1,Male\\r\\n1,14.8,5.6,1,1,1,1,Male\\r\\n1,14.4,6.3,1,1,1,0,Male\\r\\n1,14.6,6.8,1,1,1,1,Male\\r\\n0,13.3,5.3,1,0,0,0,Female\\r\\n1,12.7,5.4,0,0,0,0,Female\\r\\n1,11.6,5.8,1,1,1,1,Male\\r\\n1,13.2,5.2,0,0,0,0,Female\\r\\n1,12.5,5.6,0,0,1,0,Female\\r\\n1,12.2,5.4,0,1,1,1,Male\\r\\n1,13.3,5.5,0,0,0,1,Female\\r\\n1,14.8,6.8,1,1,1,1,Male\\r\\n1,12.6,6.1,0,0,0,0,Female\\r\\n1,15.2,5.3,1,1,1,1,Male\\r\\n1,13.6,5.8,0,0,0,0,Female\\r\\n1,12.6,6.8,1,1,1,1,Male\\r\\n1,12,5.3,0,0,0,0,Female\\r\\n1,11.7,6.2,0,0,0,0,Female\\r\\n1,14.3,5.4,1,1,1,1,Male\\r\\n1,13.4,5.5,0,1,0,0,Female\\r\\n1,12.7,6.8,0,1,0,1,Male\\r\\n1,14.2,6.5,0,0,0,0,Female\\r\\n1,13.8,6.2,1,0,1,1,Male\\r\\n1,12.3,6.5,0,0,0,1,Female\\r\\n1,11.5,5.7,1,1,1,1,Male\\r\\n1,14.1,6.2,0,0,0,0,Female\\r\\n1,13.2,6.3,0,0,0,1,Female\\r\\n1,11.8,6.5,0,0,0,0,Female\\r\\n1,12.3,6.5,1,1,1,1,Male\\r\\n1,12.3,5.8,0,1,1,0,Female\\r\\n1,12.1,5.8,0,1,0,0,Female\\r\\n1,14.9,6.9,1,1,1,1,Male\\r\\n1,12.4,5.3,1,1,1,1,Male\\r\\n1,14.8,5.6,0,1,1,1,Male\\r\\n1,11.5,5.7,0,0,0,0,Female\\r\\n1,14.6,6.6,1,1,0,1,Male\\r\\n0,12.3,7,0,1,1,1,Male\\r\\n1,13.2,5.1,1,1,1,1,Male\\r\\n1,11.7,6.5,1,1,1,1,Male\\r\\n1,12.2,5.1,0,1,0,0,Female\\r\\n1,12.1,5.6,0,0,0,0,Female\\r\\n1,14.7,6.4,1,1,1,1,Male\\r\\n1,15,6.4,1,1,1,0,Male\\r\\n0,15,6.3,1,1,1,1,Male\\r\\n1,13.4,6.1,0,0,0,0,Female\\r\\n1,12.7,6.4,0,0,0,0,Female\\r\\n1,12.3,7,1,1,1,1,Male\\r\\n1,14.5,6.2,1,1,0,1,Male\\r\\n1,11.9,5.6,1,1,1,1,Male\\r\\n1,13.1,5.6,1,1,1,1,Male\\r\\n1,11.4,6,0,0,0,0,Female\\r\\n1,12.9,5.1,0,0,0,1,Female\\r\\n1,11.6,6.7,1,1,0,0,Male\\r\\n1,13.4,6.5,0,0,0,1,Female\\r\\n1,14,5.9,0,0,0,0,Female\\r\\n1,11.9,6.4,1,1,0,1,Male\\r\\n1,12.3,5.1,0,0,0,0,Female\\r\\n1,12,7.1,1,0,0,0,Male\\r\\n1,12.9,5.6,0,0,0,0,Female\\r\\n1,12,5.3,0,0,0,0,Female\\r\\n1,12.5,5.8,1,1,1,1,Male\\r\\n1,12.8,7.1,1,1,0,1,Male\\r\\n1,12.7,5.1,0,0,0,0,Female\\r\\n1,11.7,7.1,1,1,1,0,Male\\r\\n1,14.8,6.9,0,1,1,1,Male\\r\\n0,12.6,6.1,0,0,0,0,Female\\r\\n1,12.9,5.3,0,0,0,0,Female\\r\\n1,12.9,7,1,1,1,1,Male\\r\\n1,12.3,5.6,0,0,0,0,Female\\r\\n1,12.8,5.2,0,0,0,0,Female\\r\\n1,12.1,5.3,0,1,1,1,Male\\r\\n1,13.1,5.1,0,0,0,0,Female\\r\\n1,12.3,6,0,0,0,1,Female\\r\\n1,12,6.2,1,1,1,0,Male\\r\\n1,15.3,5.8,1,1,0,0,Male\\r\\n1,13.5,5.6,0,0,0,1,Female\\r\\n1,11.9,6.7,1,1,1,1,Male\\r\\n1,12,5.1,1,1,1,1,Male\\r\\n1,13.2,6.1,0,1,0,0,Female\\r\\n1,15.5,5.3,0,1,1,1,Male\\r\\n1,13,5.8,1,0,0,0,Female\\r\\n1,14.5,6.8,1,1,0,1,Male\\r\\n1,13.8,5.8,0,0,0,0,Female\\r\\n1,14.6,6.5,1,1,0,1,Male\\r\\n1,12.2,6.9,1,1,1,1,Male\\r\\n1,12.9,6,0,0,0,1,Female\\r\\n1,11.6,5.4,1,1,0,1,Male\\r\\n1,12.4,5.6,0,0,0,0,Female\\r\\n1,11.4,5.8,0,1,0,0,Female\\r\\n1,13,5.1,0,0,1,0,Female\\r\\n0,13.7,5.1,0,0,0,0,Female\\r\\n1,11.9,5.2,0,0,0,0,Female\\r\\n1,14.2,5.9,0,0,0,0,Female\\r\\n1,13.7,5.8,1,1,1,1,Male\\r\\n1,12.9,5.3,0,0,0,0,Female\\r\\n1,12.6,5.4,1,0,0,0,Female\\r\\n1,13,5.4,0,1,0,1,Female\\r\\n1,13.8,6,0,0,0,0,Female\\r\\n0,12.4,6.2,0,0,0,0,Female\\r\\n1,15.3,6.4,1,1,1,1,Male\\r\\n1,11.5,5.7,0,0,0,0,Female\\r\\n1,13,5.3,0,0,0,0,Female\\r\\n1,11.8,5.2,0,0,0,0,Female\\r\\n1,13.8,6.5,0,0,1,0,Female\\r\\n1,12.7,6.1,1,1,1,1,Male\\r\\n1,14.9,6.1,1,1,1,1,Male\\r\\n1,12.2,6.2,0,1,0,0,Female\\r\\n1,13.8,5.6,0,0,0,0,Female\\r\\n1,13.8,5.4,0,0,0,0,Female\\r\\n1,13.3,5.9,0,0,0,1,Female\\r\\n1,14.2,6.4,0,0,0,0,Female\\r\\n1,14.1,6.8,0,0,1,1,Male\\r\\n1,12.1,5.4,0,0,0,0,Female\\r\\n1,11.4,6.1,0,1,0,1,Female\\r\\n1,13.4,6.6,1,1,1,1,Male\\r\\n1,13.9,6.4,0,1,0,0,Female\\r\\n0,11.4,5.8,0,0,0,0,Female\\r\\n1,13.5,5.9,1,0,1,1,Male\\r\\n1,11.7,5.5,0,0,0,0,Female\\r\\n1,11.7,5.5,0,0,0,0,Female\\r\\n1,12,6,1,1,1,1,Male\\r\\n1,13.9,6.3,1,1,1,1,Male\\r\\n1,11.6,5.5,0,0,1,1,Female\\r\\n1,13.2,6,0,1,0,0,Female\\r\\n1,12,6.3,0,1,1,1,Male\\r\\n0,14.3,5.9,0,0,0,0,Female\\r\\n1,14.3,5.2,0,1,1,1,Male\\r\\n1,14.4,5.9,1,1,1,1,Male\\r\\n1,11.7,5.7,0,0,0,0,Female\\r\\n1,13.2,6.2,0,0,0,0,Female\\r\\n1,12.5,6.4,1,1,1,0,Male\\r\\n1,13.9,5.3,0,0,0,0,Female\\r\\n0,12.9,5.4,0,0,0,0,Female\\r\\n0,15.5,6,1,1,1,1,Male\\r\\n0,15,6.9,1,1,1,1,Male\\r\\n1,13.6,6.6,1,1,1,1,Male\\r\\n1,13.9,5.3,0,0,0,0,Female\\r\\n0,13.2,6.1,0,0,0,0,Female\\r\\n1,13.1,6.2,0,0,1,0,Female\\r\\n1,14.2,5.7,0,0,0,0,Female\\r\\n1,12.8,7.1,1,1,1,1,Male\\r\\n1,13.2,5.5,1,1,1,1,Male\\r\\n1,13.4,5.9,0,0,1,0,Female\\r\\n0,15.4,6.1,1,1,1,1,Male\\r\\n1,11.6,6,0,0,0,0,Female\\r\\n0,12.6,6.4,0,0,0,0,Female\\r\\n0,14.4,5.7,1,1,1,1,Male\\r\\n1,14.3,5.6,1,1,1,1,Male\\r\\n1,14.1,5.1,0,0,0,0,Female\\r\\n1,13.6,6.3,1,1,1,1,Male\\r\\n1,12.2,5.9,0,1,0,0,Female\\r\\n1,11.5,5.9,1,1,1,1,Male\\r\\n1,13.9,6.4,0,1,0,0,Female\\r\\n1,14.9,5.4,1,1,1,0,Male\\r\\n0,14.3,6,1,1,1,1,Male\\r\\n1,15.4,5.3,0,0,1,0,Male\\r\\n1,13.3,5.5,0,0,0,0,Female\\r\\n1,13.9,6.1,1,0,0,0,Female\\r\\n1,14.3,5.2,0,0,0,0,Female\\r\\n1,14.3,7,1,1,1,1,Male\\r\\n1,15.5,6.1,1,1,1,1,Male\\r\\n1,12,5.9,1,0,0,0,Female\\r\\n1,13.4,5.7,1,0,0,0,Female\\r\\n1,14,5.7,0,0,0,0,Female\\r\\n1,12.4,5.3,0,1,1,1,Male\\r\\n1,12.6,6.7,1,1,1,1,Male\\r\\n0,12,6.3,0,0,0,0,Female\\r\\n1,14.9,6.6,1,1,1,1,Male\\r\\n1,13.9,5.1,0,1,1,1,Female\\r\\n1,12.3,5.1,0,0,0,0,Female\\r\\n1,12.2,5.2,1,1,0,1,Male\\r\\n1,12,5.2,1,1,1,1,Male\\r\\n1,12.7,5.5,0,0,0,1,Female\\r\\n0,11.9,5.5,1,0,0,0,Female\\r\\n1,13.7,6,0,0,0,1,Female\\r\\n1,11.8,6.2,0,1,0,0,Female\\r\\n1,15,5.3,1,1,1,1,Male\\r\\n1,12.5,6.1,0,0,0,0,Female\\r\\n1,15.4,5.2,1,1,1,1,Male\\r\\n1,12.9,5.5,0,0,0,0,Female\\r\\n1,12.3,5.8,1,1,0,1,Male\\r\\n1,13.3,5.2,1,0,0,0,Female\\r\\n1,11.4,5.5,0,1,0,1,Female\\r\\n1,12.1,5.3,1,1,1,1,Male\\r\\n1,12.9,5.7,0,1,0,0,Female\\r\\n1,12.2,5.8,0,0,1,0,Female\\r\\n1,12.2,6.3,0,0,0,1,Female\\r\\n1,11.9,6.5,1,1,1,1,Male\\r\\n1,13,6.3,0,0,0,0,Female\\r\\n1,13.8,5.8,0,0,0,0,Female\\r\\n1,12.3,6.1,0,0,0,1,Female\\r\\n1,15.5,5.9,1,1,1,1,Male\\r\\n1,11.6,5.1,1,1,1,1,Male\\r\\n1,14.2,6.5,0,0,0,0,Female\\r\\n1,14.4,6.8,1,1,1,0,Male\\r\\n1,13.3,6.3,0,0,0,0,Female\\r\\n1,14.4,5.6,1,1,0,1,Male\\r\\n1,12.8,6.1,0,0,0,0,Female\\r\\n1,13.5,5.8,1,1,1,0,Male\\r\\n0,12.6,6.4,0,0,0,1,Female\\r\\n1,11.9,5.6,0,0,0,0,Female\\r\\n1,13.6,6,1,1,1,1,Male\\r\\n1,14.2,5.5,1,1,1,1,Male\\r\\n1,15.2,5.8,0,1,1,1,Male\\r\\n1,15.3,5.2,1,1,1,0,Male\\r\\n1,15.3,6.9,1,1,1,1,Male\\r\\n1,13,5.5,0,0,0,0,Female\\r\\n1,13,6.4,1,0,1,0,Female\\r\\n1,14.9,5.5,1,1,1,1,Male\\r\\n0,13.3,6.5,0,0,0,0,Female\\r\\n0,11.4,5.8,0,0,0,0,Female\\r\\n1,11.5,5.9,1,1,1,1,Male\\r\\n1,12.3,6.1,1,0,1,1,Male\\r\\n1,13.3,5.6,0,1,1,1,Male\\r\\n1,15.3,5.2,1,1,1,1,Male\\r\\n1,12.8,6.2,1,0,1,1,Male\\r\\n1,12.7,6.8,1,1,1,1,Male\\r\\n0,11.9,5.9,0,0,0,1,Female\\r\\n1,12.1,6.3,0,0,0,0,Female\\r\\n1,13.1,5.5,0,0,0,0,Female\\r\\n1,14,5.2,0,0,0,0,Female\\r\\n1,11.7,5.4,0,1,1,1,Male\\r\\n1,11.6,5.5,1,0,1,1,Male\\r\\n1,12.6,5.4,0,1,0,0,Female\\r\\n1,11.4,5.7,0,0,0,0,Female\\r\\n1,13.4,6.2,0,1,0,0,Female\\r\\n1,14.1,5.6,1,1,1,1,Male\\r\\n1,13.8,5.5,0,0,1,0,Female\\r\\n1,12,5.6,0,0,0,0,Female\\r\\n1,12.8,5.4,1,1,1,1,Male\\r\\n1,12.5,5.7,1,0,0,1,Male\\r\\n1,12.9,6.8,1,1,1,1,Male\\r\\n1,14.4,5.6,1,1,1,1,Male\\r\\n0,15.1,5.6,1,0,1,1,Male\\r\\n1,11.8,6.7,1,1,0,0,Male\\r\\n1,12.1,5.1,1,1,0,0,Male\\r\\n1,13.2,6.2,1,1,1,1,Male\\r\\n1,13.7,5.2,0,0,0,0,Female\\r\\n1,12.7,6.3,0,0,0,0,Female\\r\\n1,14.3,5.4,0,0,0,0,Female\\r\\n1,12.1,6.2,1,1,1,1,Male\\r\\n1,15.2,5.7,0,0,1,1,Male\\r\\n1,15.1,5.5,1,1,1,1,Male\\r\\n1,14,6.1,1,1,1,1,Male\\r\\n1,14.4,5.9,1,1,1,1,Male\\r\\n1,11.9,5.8,0,1,0,0,Female\\r\\n1,14,6.4,0,0,0,0,Female\\r\\n1,14.7,6.1,1,1,0,0,Male\\r\\n1,14.4,5.4,1,1,1,1,Male\\r\\n1,14.1,5.4,1,1,1,1,Male\\r\\n1,13,5.6,1,1,1,1,Male\\r\\n0,15.3,5.1,1,1,0,1,Male\\r\\n1,13.3,5.3,0,0,0,0,Female\\r\\n1,15.3,6.1,1,1,1,1,Male\\r\\n1,13.9,5.5,0,0,0,0,Female\\r\\n1,11.9,5.3,0,0,0,0,Female\\r\\n1,13.5,7,1,1,1,1,Male\\r\\n1,14.7,5.3,1,1,1,1,Male\\r\\n0,14.2,6.5,1,1,1,1,Male\\r\\n1,15.2,7,1,1,1,0,Male\\r\\n1,11.9,5.2,1,0,1,1,Male\\r\\n1,14.3,6.4,1,0,0,0,Female\\r\\n1,11.7,5.2,0,0,0,0,Female\\r\\n1,11.5,6.1,1,0,0,0,Female\\r\\n1,15.3,5.8,1,1,1,1,Male\\r\\n1,13.9,5.7,0,0,0,0,Female\\r\\n1,12.2,6,1,1,1,1,Male\\r\\n1,15.2,6.3,1,0,1,1,Male\\r\\n1,14.5,5.6,1,1,1,1,Male\\r\\n1,11.8,6.1,1,0,0,0,Female\\r\\n1,13.9,6.2,1,0,1,1,Male\\r\\n1,11.6,5.3,0,0,0,0,Female\\r\\n1,13.2,6.4,0,1,1,0,Female\\r\\n0,14.1,6.8,1,1,1,1,Male\\r\\n1,11.7,6.1,0,0,0,0,Female\\r\\n1,13.8,6.7,1,0,1,1,Male\\r\\n0,12.8,5.5,0,0,0,0,Female\\r\\n1,13.5,5.7,0,1,0,1,Female\\r\\n0,13.4,6.4,0,0,0,0,Female\\r\\n1,13.9,5.7,1,1,1,1,Male\\r\\n1,11.5,6.4,1,1,1,1,Male\\r\\n1,12.4,5.7,0,1,1,1,Male\\r\\n1,14,7,1,1,1,0,Male\\r\\n1,15.3,5.4,1,1,1,1,Male\\r\\n1,12.2,6,1,1,1,1,Male\\r\\n1,15.2,6.3,1,1,1,1,Male\\r\\n1,12,5.7,1,1,1,1,Male\\r\\n0,12.1,5.8,0,1,1,0,Female\\r\\n1,13.5,6.3,0,1,0,0,Female\\r\\n1,14.2,5.8,0,0,0,0,Female\\r\\n1,14.3,5.1,0,0,0,0,Female\\r\\n1,11.6,5.2,0,1,0,1,Female\\r\\n1,14.6,6.6,1,1,1,1,Male\\r\\n1,14.4,6.2,0,1,1,0,Male\\r\\n0,13,5.7,0,0,0,0,Female\\r\\n1,13,6.5,0,0,0,0,Female\\r\\n1,12.7,6.1,1,0,0,0,Female\\r\\n0,12.5,5.5,1,0,1,0,Female\\r\\n1,11.8,5.1,1,1,1,1,Male\\r\\n1,13.2,5.7,1,1,0,1,Male\\r\\n1,14.2,6.3,0,0,1,0,Female\\r\\n1,13.5,5.3,1,1,1,1,Male\\r\\n1,11.8,6.2,1,0,0,0,Female\\r\\n1,14.1,5.5,1,0,0,0,Female\\r\\n1,12.5,5.4,0,0,0,0,Female\\r\\n1,13.4,5.4,1,1,1,1,Male\\r\\n0,13.8,5.5,0,0,0,0,Female\\r\\n1,12.6,5.1,0,0,0,0,Female\\r\\n1,12,6.4,0,0,0,1,Female\\r\\n1,14.4,5.1,1,1,1,1,Male\\r\\n1,15,5.2,1,1,1,1,Male\\r\\n1,13.2,6.3,0,0,0,0,Female\\r\\n1,14.2,5.5,0,0,1,0,Female\\r\\n1,11.7,5.5,0,0,0,0,Female\\r\\n1,12.1,5.3,1,0,0,0,Female\\r\\n1,12.3,5.7,0,1,0,0,Female\\r\\n1,12.9,5.3,0,0,0,1,Female\\r\\n1,11.7,5.5,0,0,1,0,Female\\r\\n1,12.9,6.3,0,1,0,0,Female\\r\\n1,15.1,7.1,1,1,1,1,Male\\r\\n1,13.1,5.2,0,0,0,0,Female\\r\\n1,11.8,5.3,0,0,0,0,Female\\r\\n1,13.5,6,1,1,1,1,Male\\r\\n1,14.3,5.3,1,1,1,1,Male\\r\\n1,12,7.1,1,0,1,1,Male\\r\\n1,15.1,6,0,1,0,1,Male\\r\\n1,11.4,5.8,0,0,0,0,Female\\r\\n1,11.4,5.2,0,0,0,0,Female\\r\\n1,12.8,5.8,1,1,1,1,Male\\r\\n1,14.3,5.4,0,0,0,0,Female\\r\\n1,11.9,5.5,0,0,0,1,Female\\r\\n1,12.4,6,1,1,1,1,Male\\r\\n1,14.9,6.3,1,0,0,1,Male\\r\\n1,13.6,5.3,1,1,1,1,Male\\r\\n1,11.4,5.7,0,0,0,0,Female\\r\\n1,11.8,6.9,1,1,1,1,Male\\r\\n1,15.3,6,1,1,0,1,Male\\r\\n1,13.7,5.9,1,0,0,0,Female\\r\\n1,14.9,5.9,1,1,1,1,Male\\r\\n0,14,6.7,1,1,1,1,Male\\r\\n1,13.1,5.5,1,1,1,1,Male\\r\\n1,13.7,5.5,0,0,0,0,Female\\r\\n1,12.9,7.1,1,1,1,0,Male\\r\\n1,13.4,6.9,0,1,1,1,Male\\r\\n1,14.6,6,1,1,1,0,Male\\r\\n1,11.9,6.3,1,1,1,1,Male\\r\\n1,15.3,6.3,1,1,1,1,Male\\r\\n1,13.9,5.3,1,1,1,1,Male\\r\\n1,15,6.6,1,1,1,1,Male\\r\\n1,13.9,5.7,0,0,0,0,Female\\r\\n1,15.2,6.9,1,0,1,1,Male\\r\\n1,12.3,6.3,0,1,0,0,Female\\r\\n1,15.1,5.9,1,1,1,1,Male\\r\\n1,12.6,5.2,0,0,1,0,Female\\r\\n0,11.6,6.1,0,1,1,1,Male\\r\\n1,14.8,6,1,1,1,0,Male\\r\\n1,14.3,6.4,1,0,0,0,Female\\r\\n1,14.7,6.1,1,1,1,1,Male\\r\\n1,12.4,6.1,1,1,1,1,Male\\r\\n1,12.5,5.1,0,0,0,0,Female\\r\\n1,13.7,5.7,0,0,0,0,Female\\r\\n1,13.7,5.7,1,1,1,1,Male\\r\\n1,15.4,7.1,1,1,0,1,Male\\r\\n1,13.2,5.8,0,0,0,0,Female\\r\\n1,13.4,5.9,0,0,0,0,Female\\r\\n1,13.8,5.1,0,0,0,0,Female\\r\\n1,12.3,5.6,1,0,0,0,Female\\r\\n1,13.3,5.5,0,0,1,0,Female\\r\\n1,12.1,5.6,0,1,0,1,Male\\r\\n1,12,6.2,0,0,0,0,Female\\r\\n0,14.2,5.6,1,1,1,1,Male\\r\\n1,14.9,6.4,1,1,0,1,Male\\r\\n1,13.3,5.4,0,1,1,0,Female\\r\\n0,13.5,5.9,0,0,0,0,Female\\r\\n1,12,6,0,0,0,0,Female\\r\\n1,11.5,5.3,0,1,0,0,Female\\r\\n1,13,5.6,0,0,0,0,Female\\r\\n0,13.3,5.3,1,1,1,1,Male\\r\\n1,14.9,7.1,1,1,1,0,Male\\r\\n1,13.9,6.1,0,0,0,0,Female\\r\\n0,11.7,6.1,0,0,0,1,Female\\r\\n1,12.4,6,0,0,0,0,Female\\r\\n1,14.8,6.6,1,1,0,0,Male\\r\\n1,15.5,5.2,1,1,1,1,Male\\r\\n1,13.4,6.2,0,0,0,0,Female\\r\\n1,11.5,5.9,0,0,0,0,Female\\r\\n1,12.8,5.4,0,0,0,0,Female\\r\\n0,14.1,5.4,0,1,0,0,Female\\r\\n1,12.4,6.2,0,0,1,0,Female\\r\\n1,14.9,5.9,1,0,1,1,Male\\r\\n0,15.5,6.5,0,1,1,1,Male\\r\\n0,14.6,5.9,0,1,1,1,Male\\r\\n1,13,6.1,1,1,1,1,Male\\r\\n0,12.5,5.6,0,0,0,0,Female\\r\\n0,12.9,5.2,1,1,1,1,Male\\r\\n1,15.4,5.2,1,1,1,1,Male\\r\\n1,12.8,7.1,1,0,1,1,Male\\r\\n1,12.3,5.9,0,0,0,1,Female\\r\\n1,12.8,6.1,0,1,0,0,Female\\r\\n1,13.5,7.1,1,1,1,1,Male\\r\\n1,13.5,5.3,0,0,0,0,Female\\r\\n1,13,6.4,0,1,0,0,Female\\r\\n1,13.9,6.5,0,1,0,0,Female\\r\\n1,11.8,6.4,1,0,1,1,Male\\r\\n1,13.2,5.8,0,0,0,0,Female\\r\\n0,11.9,5.4,0,0,0,0,Female\\r\\n1,13.8,6.3,1,1,1,1,Male\\r\\n1,12,6.1,0,0,0,0,Female\\r\\n1,12.9,6.6,1,1,0,1,Male\\r\\n1,11.8,5.2,0,1,0,0,Female\\r\\n0,12.7,6,0,0,0,0,Female\\r\\n1,14.1,6.4,1,0,0,0,Female\\r\\n1,13.1,5.3,1,1,1,0,Male\\r\\n1,13.3,5.8,0,1,0,1,Male\\r\\n1,12,5.5,0,0,0,0,Female\\r\\n1,15,5.1,1,1,1,1,Male\\r\\n1,14.1,7,1,1,0,1,Male\\r\\n1,13.2,6.4,1,1,1,1,Male\\r\\n1,13.9,5.3,1,1,0,1,Male\\r\\n0,13.2,5.7,0,0,0,1,Female\\r\\n1,14.1,6.2,0,0,0,0,Female\\r\\n1,12.9,5.9,0,0,0,0,Female\\r\\n1,15,6.2,1,1,1,1,Male\\r\\n1,11.4,5.6,0,0,0,0,Female\\r\\n0,12.6,5.4,0,0,0,1,Female\\r\\n1,12.8,6.7,1,1,1,1,Male\\r\\n1,13.8,5.2,0,0,0,0,Female\\r\\n1,14.5,5.8,1,1,0,0,Male\\r\\n1,12.2,5.7,1,0,0,0,Female\\r\\n1,14.3,5.5,1,1,1,0,Male\\r\\n1,14,6,0,1,0,0,Female\\r\\n1,11.6,6.9,1,1,1,1,Male\\r\\n1,12,5.3,0,0,0,0,Female\\r\\n1,12.5,6.6,0,1,1,1,Male\\r\\n1,15,5.6,1,1,0,1,Male\\r\\n1,11.7,5.5,0,0,0,0,Female\\r\\n1,14.3,5.3,1,1,1,1,Male\\r\\n1,11.8,5.5,0,0,0,0,Female\\r\\n1,12.2,5.1,1,1,1,1,Male\\r\\n1,11.8,6.1,0,1,1,1,Male\\r\\n1,11.4,5.2,0,0,0,0,Female\\r\\n1,13.9,5.5,0,0,0,1,Female\\r\\n1,12.2,5.8,0,0,0,0,Female\\r\\n1,11.6,5.8,1,1,1,1,Male\\r\\n1,12.5,5.7,1,1,1,1,Male\\r\\n1,12.2,5.6,0,0,0,0,Female\\r\\n1,14.3,5.9,1,1,1,1,Male\\r\\n0,14.2,6.3,1,0,0,0,Female\\r\\n1,11.9,5.2,0,1,1,1,Male\\r\\n1,11.8,5.3,0,0,0,0,Female\\r\\n1,15,7,1,1,1,1,Male\\r\\n1,11.9,6.5,0,0,0,0,Female\\r\\n1,11.5,5.9,1,1,1,1,Male\\r\\n1,15.2,5.9,1,1,0,1,Male\\r\\n1,14.1,6,1,1,1,1,Male\\r\\n1,13.9,6.6,1,1,1,1,Male\\r\\n1,11.8,6.5,0,0,1,0,Female\\r\\n1,11.5,6.2,1,1,1,1,Male\\r\\n1,12,5.2,0,0,0,0,Female\\r\\n1,14.3,6,0,0,1,0,Female\\r\\n1,13.6,5.2,1,1,1,0,Male\\r\\n1,15.1,6.6,1,0,1,1,Male\\r\\n1,14.1,6.3,0,1,1,0,Male\\r\\n1,13.7,5.8,0,0,0,0,Female\\r\\n1,12.5,6.8,1,1,1,1,Male\\r\\n1,12.6,6.2,0,0,0,0,Female\\r\\n1,14,6.2,1,0,0,1,Female\\r\\n1,12.2,5.8,0,0,0,0,Female\\r\\n1,15.2,6.1,1,1,1,1,Male\\r\\n1,14.1,5.2,0,1,0,0,Female\\r\\n1,12.8,6.3,0,0,0,0,Female\\r\\n0,11.8,6.6,1,1,1,0,Male\\r\\n1,15.5,5.6,1,1,1,1,Male\\r\\n1,12.4,5.4,0,0,0,0,Female\\r\\n1,15.1,6.5,0,1,1,1,Male\\r\\n1,13.6,5.6,1,1,1,1,Male\\r\\n0,13.3,5.6,1,1,0,1,Male\\r\\n1,11.7,5.2,0,1,0,0,Female\\r\\n1,12.7,6.5,0,0,0,0,Female\\r\\n1,13.1,5.4,1,1,1,0,Male\\r\\n1,14.6,6.6,0,1,0,1,Male\\r\\n1,12.3,5.3,0,0,0,0,Female\\r\\n1,14.1,6.4,0,0,0,0,Female\\r\\n1,13.7,6.3,1,1,1,0,Male\\r\\n1,12.6,5.4,1,1,1,1,Male\\r\\n1,11.9,6.3,0,1,0,1,Female\\r\\n1,11.4,6.5,0,0,0,0,Female\\r\\n1,12.6,5.1,1,1,1,0,Male\\r\\n1,13.8,5.5,1,1,1,1,Male\\r\\n1,11.9,6.2,0,0,0,0,Female\\r\\n1,13.7,6.7,1,1,1,1,Male\\r\\n1,12.7,6.6,1,1,1,1,Male\\r\\n1,13.6,5.5,0,0,0,0,Female\\r\\n1,14.2,6.7,1,1,0,1,Male\\r\\n1,12.3,7.1,1,1,1,1,Male\\r\\n0,12.6,5.5,0,0,0,0,Female\\r\\n1,12.3,5.9,0,0,0,0,Female\\r\\n1,12.3,5.5,1,1,1,1,Male\\r\\n1,14,6,1,1,1,1,Male\\r\\n1,12.1,5.2,1,1,1,1,Male\\r\\n1,12,5.7,1,1,1,1,Male\\r\\n0,13.2,6,0,0,1,0,Female\\r\\n1,13.9,6,1,1,1,1,Male\\r\\n0,12.2,5.6,0,0,0,0,Female\\r\\n1,14,5.6,0,0,0,0,Female\\r\\n1,14.9,6.1,1,1,1,1,Male\\r\\n1,12.7,5.7,1,1,1,1,Male\\r\\n1,14.2,5.4,0,0,1,1,Female\\r\\n1,12.3,5.1,0,0,0,0,Female\\r\\n1,13.5,6.5,0,0,0,0,Female\\r\\n1,11.5,5.8,1,0,0,0,Female\\r\\n1,13.9,6,0,0,0,0,Female\\r\\n1,15.3,6.3,1,1,1,1,Male\\r\\n1,13.5,6,1,1,0,1,Male\\r\\n0,15.4,5.7,1,1,1,1,Male\\r\\n1,12.8,6.1,0,0,0,0,Female\\r\\n1,14,5.6,1,0,1,1,Male\\r\\n1,14.3,5.8,0,0,0,0,Female\\r\\n1,13,6,0,0,0,0,Female\\r\\n1,11.5,5.9,0,1,0,0,Female\\r\\n1,11.9,5.9,0,0,0,0,Female\\r\\n1,12.7,6.5,1,1,1,1,Male\\r\\n1,11.9,6.1,0,1,1,1,Male\\r\\n1,12.8,6,0,0,1,1,Male\\r\\n1,15.3,5.6,1,1,0,1,Male\\r\\n1,14.1,5.9,1,1,1,1,Male\\r\\n1,14.5,6.2,1,1,1,1,Male\\r\\n1,13.5,5.6,0,0,0,0,Female\\r\\n1,12.9,6.7,1,0,1,1,Male\\r\\n1,12.4,6.3,1,0,0,0,Female\\r\\n1,11.5,5.2,1,1,1,1,Male\\r\\n1,11.9,5.3,1,0,1,0,Female\\r\\n1,12.1,5.2,1,1,1,1,Male\\r\\n1,12.5,6.5,1,1,1,0,Male\\r\\n0,13.1,6,0,0,0,0,Female\\r\\n1,12,6.5,0,1,1,1,Male\\r\\n1,14.2,5.4,1,1,1,0,Male\\r\\n1,13.8,5.8,1,0,1,0,Male\\r\\n1,13.3,6.3,1,0,0,1,Male\\r\\n1,13,6.1,1,1,1,1,Male\\r\\n1,14.7,5.2,1,1,1,1,Male\\r\\n1,12,5.7,0,0,1,0,Female\\r\\n1,15.1,6.8,1,1,1,1,Male\\r\\n1,13,6.2,0,0,1,1,Female\\r\\n1,11.7,5.3,0,0,0,0,Female\\r\\n1,12.5,6.3,0,0,1,0,Female\\r\\n1,15.4,6.6,0,1,1,1,Male\\r\\n1,15.4,5.5,1,1,1,1,Male\\r\\n1,12.9,6.7,1,1,1,0,Male\\r\\n1,13.6,5.8,0,0,0,1,Female\\r\\n1,13.7,6,0,1,0,0,Female\\r\\n1,14.9,6.4,1,1,0,1,Male\\r\\n1,14.3,6.9,1,1,1,1,Male\\r\\n1,13.4,6.2,0,0,0,0,Female\\r\\n1,14.4,5.2,1,1,1,0,Male\\r\\n1,13.2,6.9,1,1,1,1,Male\\r\\n1,13,7,1,1,1,1,Male\\r\\n1,11.5,6,0,1,0,1,Female\\r\\n1,14.2,5.1,1,0,0,0,Female\\r\\n1,14.3,5.8,0,0,0,0,Female\\r\\n1,15.2,6,1,1,1,1,Male\\r\\n1,14,6.1,0,0,0,0,Female\\r\\n1,12,5.5,0,1,0,0,Female\\r\\n1,12,6.9,1,1,0,1,Male\\r\\n1,14,6.5,0,1,0,0,Female\\r\\n1,15.2,5.6,1,1,1,0,Male\\r\\n1,11.5,6.5,0,0,0,1,Female\\r\\n1,14.8,5.8,1,1,1,1,Male\\r\\n1,15,5.5,1,1,1,0,Male\\r\\n1,11.9,6.9,1,1,1,1,Male\\r\\n1,12.4,6.4,0,0,0,0,Female\\r\\n1,13.2,6.2,0,1,0,0,Female\\r\\n0,11.8,5.7,1,0,0,0,Female\\r\\n1,11.5,5.7,0,0,0,0,Female\\r\\n1,11.8,6.2,0,0,0,0,Female\\r\\n1,12,6.3,1,1,1,1,Male\\r\\n1,14.2,6.1,0,0,1,0,Female\\r\\n0,12,5.6,0,0,0,0,Female\\r\\n1,11.8,5.7,1,1,1,1,Male\\r\\n1,13.3,5.2,0,0,0,0,Female\\r\\n0,14,5.6,0,0,0,0,Female\\r\\n0,12.1,6.3,1,1,1,0,Male\\r\\n1,14,7.1,1,1,1,1,Male\\r\\n1,15,7,1,1,0,1,Male\\r\\n1,12.7,5.9,1,1,1,1,Male\\r\\n1,14.5,5.9,1,1,1,1,Male\\r\\n1,12.1,5.5,1,1,1,1,Male\\r\\n1,13.3,6.5,0,0,0,0,Female\\r\\n1,13.8,5.1,1,1,0,1,Male\\r\\n1,13.9,5.1,0,0,0,0,Female\\r\\n0,14.6,5.6,1,1,1,1,Male\\r\\n1,14.2,5.6,1,1,1,1,Male\\r\\n1,11.7,6.4,0,0,0,0,Female\\r\\n1,13,6.5,1,1,0,0,Male\\r\\n1,12.5,5.4,0,0,0,0,Female\\r\\n1,13.4,5.7,0,1,0,0,Female\\r\\n1,13.9,5.3,0,0,0,1,Female\\r\\n1,13.4,6.4,0,0,0,0,Female\\r\\n0,14,5.4,1,0,1,1,Male\\r\\n1,11.6,5.8,1,1,1,1,Male\\r\\n0,12.8,6.4,0,0,0,0,Female\\r\\n1,12,5.8,1,1,0,1,Male\\r\\n1,12,5.2,0,0,0,0,Female\\r\\n1,15.5,7,1,1,1,1,Male\\r\\n1,13.9,5.9,1,1,1,0,Male\\r\\n1,13.5,5.6,1,0,1,0,Female\\r\\n0,12,5.4,0,0,0,0,Female\\r\\n1,12.7,5.3,0,0,0,0,Female\\r\\n1,13.8,5.5,0,0,0,0,Female\\r\\n1,11.9,6.3,0,0,0,1,Female\\r\\n1,13.5,6.3,0,0,0,1,Female\\r\\n1,12.6,5.2,0,0,0,0,Female\\r\\n1,13.8,5.6,0,1,0,0,Female\\r\\n1,13.1,6,0,0,0,0,Female\\r\\n1,14.6,6.7,1,1,1,1,Male\\r\\n1,13.2,6.1,0,1,0,0,Female\\r\\n1,11.9,5.7,0,0,0,0,Female\\r\\n1,12.4,5.8,1,1,1,1,Male\\r\\n1,13.4,6.2,0,0,0,0,Female\\r\\n1,13.8,6.7,1,1,1,0,Male\\r\\n1,14.4,6,1,0,1,1,Male\\r\\n1,15.2,7,1,1,1,1,Male\\r\\n1,12.3,6.3,0,0,0,1,Female\\r\\n1,12.7,6.2,1,1,0,1,Male\\r\\n1,13.6,5.4,0,0,0,0,Female\\r\\n1,14.5,7,1,1,1,1,Male\\r\\n1,12.7,7.1,1,1,1,1,Male\\r\\n1,14.3,5.7,0,0,0,0,Female\\r\\n1,13.7,6.3,0,0,0,0,Female\\r\\n1,13,6,0,0,0,0,Female\\r\\n1,12.3,5.2,0,0,0,0,Female\\r\\n1,13.6,6.3,0,0,0,0,Female\\r\\n0,13.9,6.5,0,1,0,1,Female\\r\\n1,13.1,6.6,1,1,1,1,Male\\r\\n1,11.9,6.3,0,1,0,0,Female\\r\\n1,13.4,5.1,0,1,1,1,Male\\r\\n1,12.3,5.8,1,1,1,1,Male\\r\\n1,13,6.4,0,0,0,0,Female\\r\\n1,14.9,5.3,1,1,0,1,Male\\r\\n1,13.1,5.5,1,1,1,1,Male\\r\\n0,13.1,5.6,0,0,0,0,Female\\r\\n1,11.8,6.9,1,1,0,1,Male\\r\\n1,13.3,5.5,0,0,0,1,Female\\r\\n1,15.4,6.5,1,1,1,1,Male\\r\\n1,15,6.9,1,1,1,1,Male\\r\\n1,12.6,5.4,0,1,0,0,Female\\r\\n1,12,7,0,0,1,1,Male\\r\\n1,13.4,6.3,1,0,0,0,Female\\r\\n1,11.9,6.7,1,0,1,1,Male\\r\\n1,11.6,6.7,1,0,0,0,Male\\r\\n1,12.9,6.8,1,1,1,1,Male\\r\\n1,13.6,6.1,0,1,1,1,Male\\r\\n1,14.8,5.7,1,1,1,1,Male\\r\\n1,11.8,6.5,0,1,1,1,Male\\r\\n1,12.9,6.5,0,0,0,0,Female\\r\\n1,13,5.6,0,0,0,0,Female\\r\\n1,14.5,6.3,1,1,1,0,Male\\r\\n1,14.9,5.2,1,1,1,1,Male\\r\\n1,15.2,6.4,1,1,1,1,Male\\r\\n1,12.6,5.2,0,0,0,0,Female\\r\\n1,12.6,5.8,0,0,0,1,Female\\r\\n1,13.9,6,0,1,0,1,Female\\r\\n1,15.4,5.3,1,1,1,1,Male\\r\\n0,13.4,5.7,0,0,0,0,Female\\r\\n1,13.7,5.2,1,1,1,1,Male\\r\\n1,11.8,5.1,1,1,1,1,Male\\r\\n0,13.2,6.2,0,0,0,0,Female\\r\\n1,11.9,5.9,1,0,0,0,Female\\r\\n1,12.5,6.2,0,0,0,0,Female\\r\\n1,11.4,5.1,0,0,0,0,Female\\r\\n1,12.7,5.3,0,1,1,1,Male\\r\\n1,12,6.8,1,1,1,1,Male\\r\\n1,11.7,6.4,1,0,0,0,Female\\r\\n1,13.1,5.3,0,0,0,0,Female\\r\\n1,12.5,5.8,0,0,0,0,Female\\r\\n1,11.6,6,1,1,1,1,Male\\r\\n1,13.8,6.1,0,0,0,0,Female\\r\\n1,13.7,6.9,1,1,1,1,Male\\r\\n1,12.2,6.3,1,1,1,1,Male\\r\\n1,11.9,5.8,0,0,0,0,Female\\r\\n1,14.2,6.5,0,0,1,0,Female\\r\\n1,12.7,5.9,0,0,0,0,Female\\r\\n1,14.4,5.7,1,1,1,1,Male\\r\\n1,12.6,6,0,0,1,1,Female\\r\\n1,12.3,5.5,1,0,1,1,Male\\r\\n1,13.4,6.3,0,0,0,0,Female\\r\\n1,14.7,6.7,1,1,1,1,Male\\r\\n1,13.9,5.3,0,0,0,0,Female\\r\\n1,12.2,5.9,0,0,0,0,Female\\r\\n1,11.6,5.1,0,0,0,1,Female\\r\\n1,12.6,5.8,0,1,0,0,Female\\r\\n1,11.6,5.8,0,1,0,0,Female\\r\\n1,13.4,6.4,0,0,0,0,Female\\r\\n1,14.7,5.2,1,0,1,0,Male\\r\\n1,13.6,6,0,0,0,0,Female\\r\\n1,13.1,5.5,0,1,1,1,Male\\r\\n1,15.2,5.1,0,1,1,1,Male\\r\\n1,11.5,6,0,0,0,0,Female\\r\\n1,15.1,5.4,1,1,1,1,Male\\r\\n1,12.9,6.1,0,0,0,0,Female\\r\\n0,14.5,5.8,1,1,1,0,Male\\r\\n1,14,5.4,0,0,0,0,Female\\r\\n1,12.9,5.2,0,0,0,0,Female\\r\\n1,12.6,6.7,1,1,1,1,Male\\r\\n1,12.7,6.5,1,0,0,0,Female\\r\\n1,11.4,6.2,0,0,0,0,Female\\r\\n1,15.3,6.4,1,0,0,1,Male\\r\\n0,13.1,6.2,0,0,1,0,Female\\r\\n1,12.1,5.8,0,0,0,0,Female\\r\\n1,12.8,5.8,0,0,0,0,Female\\r\\n1,12.2,6.2,1,1,1,1,Male\\r\\n1,12.2,5.9,0,0,0,0,Female\\r\\n1,11.8,5.6,0,0,0,0,Female\\r\\n1,13.9,6.1,0,1,1,1,Male\\r\\n1,11.5,5.7,1,1,1,1,Male\\r\\n1,13.6,6.1,0,0,0,1,Female\\r\\n0,12.6,5.7,1,1,0,0,Female\\r\\n1,15.1,6.2,1,1,1,1,Male\\r\\n1,12.5,5.9,0,0,0,0,Female\\r\\n1,11.7,6.5,1,1,1,1,Male\\r\\n1,12.1,5.2,0,0,0,0,Female\\r\\n1,12.2,6.1,1,1,1,1,Male\\r\\n1,12.5,5.7,0,0,0,0,Female\\r\\n1,12.7,5.8,0,0,0,0,Female\\r\\n1,12.7,7.1,1,1,0,1,Male\\r\\n1,14.9,5.1,1,1,1,1,Male\\r\\n1,14.9,6.7,1,1,1,1,Male\\r\\n1,13.3,6,0,0,1,0,Female\\r\\n1,13,5.1,1,1,1,1,Male\\r\\n1,13.7,5.6,0,0,1,1,Female\\r\\n0,11.5,5.3,0,1,0,1,Female\\r\\n1,15.1,7.1,1,1,1,1,Male\\r\\n1,15.5,7.1,0,0,1,1,Male\\r\\n1,14.2,5.4,0,0,0,0,Female\\r\\n1,11.9,5.4,1,1,1,1,Male\\r\\n1,12.1,7.1,0,1,1,1,Male\\r\\n1,12.5,5.1,0,0,0,0,Female\\r\\n1,14.3,6,0,0,0,1,Female\\r\\n1,14,5.5,1,1,1,1,Male\\r\\n0,13.8,5.7,1,0,1,1,Male\\r\\n1,12.8,5.4,1,1,0,1,Male\\r\\n1,12.6,6.3,1,1,0,0,Female\\r\\n1,11.4,5.9,0,0,0,0,Female\\r\\n0,15.4,6.4,0,0,1,1,Male\\r\\n1,11.6,5.8,0,0,0,0,Female\\r\\n1,15.1,6.5,1,1,1,0,Male\\r\\n1,14,6.2,0,0,1,1,Male\\r\\n1,12.2,5.5,0,1,1,0,Female\\r\\n1,14.6,5.9,1,1,0,1,Male\\r\\n1,14.2,5.7,0,0,0,0,Female\\r\\n1,12.2,6.9,1,1,1,1,Male\\r\\n1,14,6.2,0,0,0,0,Female\\r\\n1,13,5.3,0,0,0,0,Female\\r\\n1,14,6.1,1,1,0,1,Male\\r\\n1,11.9,5.8,1,1,1,1,Male\\r\\n1,12.9,5.2,1,1,0,1,Male\\r\\n1,13.5,6,0,0,0,0,Female\\r\\n1,15.5,5.3,1,1,1,1,Male\\r\\n1,14.3,5.6,0,1,1,1,Male\\r\\n1,12.5,5.2,0,1,0,0,Female\\r\\n1,12.3,6.3,0,0,1,0,Female\\r\\n1,11.7,6.5,0,0,0,0,Female\\r\\n1,12,5.3,0,0,0,1,Female\\r\\n1,14.9,5.6,1,1,1,0,Male\\r\\n1,13.7,5.4,0,0,1,1,Female\\r\\n0,12.1,5.9,0,0,0,1,Female\\r\\n1,14,6.3,0,0,0,0,Female\\r\\n1,13.6,5.4,1,1,1,1,Male\\r\\n1,13.6,6,0,0,0,0,Female\\r\\n1,12.5,5.7,0,0,0,0,Female\\r\\n1,11.5,5.8,0,0,0,0,Female\\r\\n1,12.4,6.6,1,1,1,1,Male\\r\\n1,13.3,6.3,0,1,0,0,Female\\r\\n1,12.5,6.7,1,1,1,1,Male\\r\\n1,12.4,6.1,0,0,0,1,Female\\r\\n0,12.9,6.2,1,1,0,1,Male\\r\\n0,13.1,6.8,1,1,1,1,Male\\r\\n1,13.6,6.2,1,1,1,1,Male\\r\\n1,11.4,5.6,0,0,1,0,Female\\r\\n1,12.3,7.1,1,1,1,1,Male\\r\\n1,12.4,6.5,0,0,0,0,Female\\r\\n1,12.1,5.3,0,0,0,0,Female\\r\\n1,14.1,6.3,1,1,1,1,Male\\r\\n1,14.2,6.5,0,0,0,0,Female\\r\\n0,12.1,6.5,1,0,1,1,Male\\r\\n1,12.6,6.3,0,1,1,0,Female\\r\\n1,13.1,5.9,1,0,1,1,Male\\r\\n1,14,5.7,0,1,0,0,Female\\r\\n1,14.8,5.6,1,1,0,1,Male\\r\\n1,13.2,7.1,0,1,1,0,Male\\r\\n1,12.3,6,1,1,1,1,Male\\r\\n1,11.5,6.2,0,0,0,0,Female\\r\\n1,12.6,5.4,0,0,1,0,Female\\r\\n1,12.5,5.1,1,1,1,1,Male\\r\\n1,13.7,6.4,0,0,1,0,Female\\r\\n1,11.4,6.4,0,1,0,0,Female\\r\\n0,13.2,5.1,0,1,0,0,Female\\r\\n1,14.7,6,1,1,1,1,Male\\r\\n1,14,5.8,1,0,0,1,Male\\r\\n1,12.8,5.3,0,1,0,0,Female\\r\\n1,14.6,5.3,0,1,1,1,Male\\r\\n1,11.7,5.8,0,0,0,0,Female\\r\\n1,14.3,6.5,0,0,1,1,Male\\r\\n0,14.2,5.4,0,1,1,1,Male\\r\\n1,13.6,6.2,1,1,1,1,Male\\r\\n1,13.9,5.4,0,0,0,1,Male\\r\\n1,14.1,5.5,1,1,1,1,Male\\r\\n1,14.3,6.3,0,0,0,0,Female\\r\\n1,15.2,6,0,1,1,1,Male\\r\\n0,13.9,5.1,0,0,0,0,Female\\r\\n1,11.6,5.7,0,1,0,0,Female\\r\\n1,12.3,6.1,1,1,1,1,Male\\r\\n1,14.6,5.9,1,1,1,1,Male\\r\\n1,15.5,6.4,0,1,0,0,Male\\r\\n1,12,5.3,1,0,0,0,Female\\r\\n0,11.5,6.2,0,0,0,0,Female\\r\\n0,14.1,6,0,0,0,1,Female\\r\\n0,15.5,5.1,1,1,1,1,Male\\r\\n1,12.7,6.3,0,0,0,0,Female\\r\\n1,13.3,5.7,1,1,1,1,Male\\r\\n1,11.4,5.3,0,0,0,0,Female\\r\\n1,13.1,5.7,0,0,0,0,Female\\r\\n1,13.6,5.3,0,0,0,0,Female\\r\\n1,12.1,6,1,1,1,1,Male\\r\\n1,13.2,6,1,1,1,1,Male\\r\\n1,13.3,5.9,0,0,0,0,Female\\r\\n1,14,5.5,0,0,0,0,Female\\r\\n0,13.2,5.6,0,0,0,0,Female\\r\\n1,11.7,6.2,1,0,0,0,Female\\r\\n1,12.4,7,1,1,1,1,Male\\r\\n1,11.9,6.9,1,1,1,1,Male\\r\\n1,14.7,5.3,1,1,1,1,Male\\r\\n1,12,5.2,0,0,0,0,Female\\r\\n1,12.4,6.5,1,1,1,1,Male\\r\\n0,13.4,6.5,1,1,1,1,Male\\r\\n1,13.4,5.9,1,0,0,0,Female\\r\\n1,13.6,5.4,1,1,1,1,Male\\r\\n1,14.6,6.9,1,1,1,1,Male\\r\\n1,11.5,5.7,1,1,0,1,Male\\r\\n1,12.7,6.5,0,1,1,0,Female\\r\\n1,14.2,5.2,1,1,1,1,Male\\r\\n1,13.3,5.8,0,0,0,0,Female\\r\\n1,13,5.3,0,0,0,0,Female\\r\\n1,12.8,6.5,1,0,1,1,Male\\r\\n1,13.3,5.5,1,1,1,1,Male\\r\\n1,13.1,5.4,1,0,0,0,Female\\r\\n1,13.5,6.4,1,0,1,1,Male\\r\\n1,11.6,7.1,1,1,0,1,Male\\r\\n1,15.4,5.1,0,1,1,1,Male\\r\\n1,14.1,5.2,1,1,1,1,Male\\r\\n1,13.8,6.4,1,1,1,0,Male\\r\\n1,12.8,5.1,0,0,0,0,Female\\r\\n1,12.1,5.7,0,0,0,0,Female\\r\\n1,12,6.1,1,0,1,1,Male\\r\\n1,14,5.3,0,0,0,0,Female\\r\\n1,11.7,6.1,1,1,0,1,Male\\r\\n1,12.1,6.2,1,1,1,1,Male\\r\\n1,12.9,6.1,0,0,0,0,Female\\r\\n1,12.1,5.8,0,0,0,0,Female\\r\\n1,12.6,5.7,0,0,1,0,Female\\r\\n1,12.1,5.8,0,0,0,0,Female\\r\\n1,14.1,7,1,1,1,1,Male\\r\\n1,11.6,5.9,0,0,0,1,Female\\r\\n1,12.9,7,1,1,1,1,Male\\r\\n1,12.3,6.9,0,1,1,1,Male\\r\\n1,13.6,5.1,0,0,0,0,Female\\r\\n1,11.9,5.4,0,0,0,0,Female\\r\\n1,12.9,5.7,0,0,0,0,Female\\r\\n1,13.2,6.2,0,0,0,0,Female\\r\\n1,15.4,5.4,1,1,1,1,Male\\r\\n'}"
            ]
          },
          "metadata": {},
          "execution_count": 2
        }
      ]
    },
    {
      "cell_type": "code",
      "source": [
        "df = pd.read_csv('gender_classification_v7.csv')\n",
        "df"
      ],
      "metadata": {
        "colab": {
          "base_uri": "https://localhost:8080/",
          "height": 424
        },
        "id": "cUytDd7M0YFJ",
        "outputId": "88fa2289-4abc-4f50-8af5-04b10ba8b3d5"
      },
      "execution_count": 3,
      "outputs": [
        {
          "output_type": "execute_result",
          "data": {
            "text/plain": [
              "      long_hair  forehead_width_cm  forehead_height_cm  nose_wide  nose_long  \\\n",
              "0             1               11.8                 6.1          1          0   \n",
              "1             0               14.0                 5.4          0          0   \n",
              "2             0               11.8                 6.3          1          1   \n",
              "3             0               14.4                 6.1          0          1   \n",
              "4             1               13.5                 5.9          0          0   \n",
              "...         ...                ...                 ...        ...        ...   \n",
              "4996          1               13.6                 5.1          0          0   \n",
              "4997          1               11.9                 5.4          0          0   \n",
              "4998          1               12.9                 5.7          0          0   \n",
              "4999          1               13.2                 6.2          0          0   \n",
              "5000          1               15.4                 5.4          1          1   \n",
              "\n",
              "      lips_thin  distance_nose_to_lip_long  gender  \n",
              "0             1                          1    Male  \n",
              "1             1                          0  Female  \n",
              "2             1                          1    Male  \n",
              "3             1                          1    Male  \n",
              "4             0                          0  Female  \n",
              "...         ...                        ...     ...  \n",
              "4996          0                          0  Female  \n",
              "4997          0                          0  Female  \n",
              "4998          0                          0  Female  \n",
              "4999          0                          0  Female  \n",
              "5000          1                          1    Male  \n",
              "\n",
              "[5001 rows x 8 columns]"
            ],
            "text/html": [
              "\n",
              "  <div id=\"df-1def3f71-fbc2-4389-b7e7-fe6db3d62178\">\n",
              "    <div class=\"colab-df-container\">\n",
              "      <div>\n",
              "<style scoped>\n",
              "    .dataframe tbody tr th:only-of-type {\n",
              "        vertical-align: middle;\n",
              "    }\n",
              "\n",
              "    .dataframe tbody tr th {\n",
              "        vertical-align: top;\n",
              "    }\n",
              "\n",
              "    .dataframe thead th {\n",
              "        text-align: right;\n",
              "    }\n",
              "</style>\n",
              "<table border=\"1\" class=\"dataframe\">\n",
              "  <thead>\n",
              "    <tr style=\"text-align: right;\">\n",
              "      <th></th>\n",
              "      <th>long_hair</th>\n",
              "      <th>forehead_width_cm</th>\n",
              "      <th>forehead_height_cm</th>\n",
              "      <th>nose_wide</th>\n",
              "      <th>nose_long</th>\n",
              "      <th>lips_thin</th>\n",
              "      <th>distance_nose_to_lip_long</th>\n",
              "      <th>gender</th>\n",
              "    </tr>\n",
              "  </thead>\n",
              "  <tbody>\n",
              "    <tr>\n",
              "      <th>0</th>\n",
              "      <td>1</td>\n",
              "      <td>11.8</td>\n",
              "      <td>6.1</td>\n",
              "      <td>1</td>\n",
              "      <td>0</td>\n",
              "      <td>1</td>\n",
              "      <td>1</td>\n",
              "      <td>Male</td>\n",
              "    </tr>\n",
              "    <tr>\n",
              "      <th>1</th>\n",
              "      <td>0</td>\n",
              "      <td>14.0</td>\n",
              "      <td>5.4</td>\n",
              "      <td>0</td>\n",
              "      <td>0</td>\n",
              "      <td>1</td>\n",
              "      <td>0</td>\n",
              "      <td>Female</td>\n",
              "    </tr>\n",
              "    <tr>\n",
              "      <th>2</th>\n",
              "      <td>0</td>\n",
              "      <td>11.8</td>\n",
              "      <td>6.3</td>\n",
              "      <td>1</td>\n",
              "      <td>1</td>\n",
              "      <td>1</td>\n",
              "      <td>1</td>\n",
              "      <td>Male</td>\n",
              "    </tr>\n",
              "    <tr>\n",
              "      <th>3</th>\n",
              "      <td>0</td>\n",
              "      <td>14.4</td>\n",
              "      <td>6.1</td>\n",
              "      <td>0</td>\n",
              "      <td>1</td>\n",
              "      <td>1</td>\n",
              "      <td>1</td>\n",
              "      <td>Male</td>\n",
              "    </tr>\n",
              "    <tr>\n",
              "      <th>4</th>\n",
              "      <td>1</td>\n",
              "      <td>13.5</td>\n",
              "      <td>5.9</td>\n",
              "      <td>0</td>\n",
              "      <td>0</td>\n",
              "      <td>0</td>\n",
              "      <td>0</td>\n",
              "      <td>Female</td>\n",
              "    </tr>\n",
              "    <tr>\n",
              "      <th>...</th>\n",
              "      <td>...</td>\n",
              "      <td>...</td>\n",
              "      <td>...</td>\n",
              "      <td>...</td>\n",
              "      <td>...</td>\n",
              "      <td>...</td>\n",
              "      <td>...</td>\n",
              "      <td>...</td>\n",
              "    </tr>\n",
              "    <tr>\n",
              "      <th>4996</th>\n",
              "      <td>1</td>\n",
              "      <td>13.6</td>\n",
              "      <td>5.1</td>\n",
              "      <td>0</td>\n",
              "      <td>0</td>\n",
              "      <td>0</td>\n",
              "      <td>0</td>\n",
              "      <td>Female</td>\n",
              "    </tr>\n",
              "    <tr>\n",
              "      <th>4997</th>\n",
              "      <td>1</td>\n",
              "      <td>11.9</td>\n",
              "      <td>5.4</td>\n",
              "      <td>0</td>\n",
              "      <td>0</td>\n",
              "      <td>0</td>\n",
              "      <td>0</td>\n",
              "      <td>Female</td>\n",
              "    </tr>\n",
              "    <tr>\n",
              "      <th>4998</th>\n",
              "      <td>1</td>\n",
              "      <td>12.9</td>\n",
              "      <td>5.7</td>\n",
              "      <td>0</td>\n",
              "      <td>0</td>\n",
              "      <td>0</td>\n",
              "      <td>0</td>\n",
              "      <td>Female</td>\n",
              "    </tr>\n",
              "    <tr>\n",
              "      <th>4999</th>\n",
              "      <td>1</td>\n",
              "      <td>13.2</td>\n",
              "      <td>6.2</td>\n",
              "      <td>0</td>\n",
              "      <td>0</td>\n",
              "      <td>0</td>\n",
              "      <td>0</td>\n",
              "      <td>Female</td>\n",
              "    </tr>\n",
              "    <tr>\n",
              "      <th>5000</th>\n",
              "      <td>1</td>\n",
              "      <td>15.4</td>\n",
              "      <td>5.4</td>\n",
              "      <td>1</td>\n",
              "      <td>1</td>\n",
              "      <td>1</td>\n",
              "      <td>1</td>\n",
              "      <td>Male</td>\n",
              "    </tr>\n",
              "  </tbody>\n",
              "</table>\n",
              "<p>5001 rows × 8 columns</p>\n",
              "</div>\n",
              "      <button class=\"colab-df-convert\" onclick=\"convertToInteractive('df-1def3f71-fbc2-4389-b7e7-fe6db3d62178')\"\n",
              "              title=\"Convert this dataframe to an interactive table.\"\n",
              "              style=\"display:none;\">\n",
              "        \n",
              "  <svg xmlns=\"http://www.w3.org/2000/svg\" height=\"24px\"viewBox=\"0 0 24 24\"\n",
              "       width=\"24px\">\n",
              "    <path d=\"M0 0h24v24H0V0z\" fill=\"none\"/>\n",
              "    <path d=\"M18.56 5.44l.94 2.06.94-2.06 2.06-.94-2.06-.94-.94-2.06-.94 2.06-2.06.94zm-11 1L8.5 8.5l.94-2.06 2.06-.94-2.06-.94L8.5 2.5l-.94 2.06-2.06.94zm10 10l.94 2.06.94-2.06 2.06-.94-2.06-.94-.94-2.06-.94 2.06-2.06.94z\"/><path d=\"M17.41 7.96l-1.37-1.37c-.4-.4-.92-.59-1.43-.59-.52 0-1.04.2-1.43.59L10.3 9.45l-7.72 7.72c-.78.78-.78 2.05 0 2.83L4 21.41c.39.39.9.59 1.41.59.51 0 1.02-.2 1.41-.59l7.78-7.78 2.81-2.81c.8-.78.8-2.07 0-2.86zM5.41 20L4 18.59l7.72-7.72 1.47 1.35L5.41 20z\"/>\n",
              "  </svg>\n",
              "      </button>\n",
              "      \n",
              "  <style>\n",
              "    .colab-df-container {\n",
              "      display:flex;\n",
              "      flex-wrap:wrap;\n",
              "      gap: 12px;\n",
              "    }\n",
              "\n",
              "    .colab-df-convert {\n",
              "      background-color: #E8F0FE;\n",
              "      border: none;\n",
              "      border-radius: 50%;\n",
              "      cursor: pointer;\n",
              "      display: none;\n",
              "      fill: #1967D2;\n",
              "      height: 32px;\n",
              "      padding: 0 0 0 0;\n",
              "      width: 32px;\n",
              "    }\n",
              "\n",
              "    .colab-df-convert:hover {\n",
              "      background-color: #E2EBFA;\n",
              "      box-shadow: 0px 1px 2px rgba(60, 64, 67, 0.3), 0px 1px 3px 1px rgba(60, 64, 67, 0.15);\n",
              "      fill: #174EA6;\n",
              "    }\n",
              "\n",
              "    [theme=dark] .colab-df-convert {\n",
              "      background-color: #3B4455;\n",
              "      fill: #D2E3FC;\n",
              "    }\n",
              "\n",
              "    [theme=dark] .colab-df-convert:hover {\n",
              "      background-color: #434B5C;\n",
              "      box-shadow: 0px 1px 3px 1px rgba(0, 0, 0, 0.15);\n",
              "      filter: drop-shadow(0px 1px 2px rgba(0, 0, 0, 0.3));\n",
              "      fill: #FFFFFF;\n",
              "    }\n",
              "  </style>\n",
              "\n",
              "      <script>\n",
              "        const buttonEl =\n",
              "          document.querySelector('#df-1def3f71-fbc2-4389-b7e7-fe6db3d62178 button.colab-df-convert');\n",
              "        buttonEl.style.display =\n",
              "          google.colab.kernel.accessAllowed ? 'block' : 'none';\n",
              "\n",
              "        async function convertToInteractive(key) {\n",
              "          const element = document.querySelector('#df-1def3f71-fbc2-4389-b7e7-fe6db3d62178');\n",
              "          const dataTable =\n",
              "            await google.colab.kernel.invokeFunction('convertToInteractive',\n",
              "                                                     [key], {});\n",
              "          if (!dataTable) return;\n",
              "\n",
              "          const docLinkHtml = 'Like what you see? Visit the ' +\n",
              "            '<a target=\"_blank\" href=https://colab.research.google.com/notebooks/data_table.ipynb>data table notebook</a>'\n",
              "            + ' to learn more about interactive tables.';\n",
              "          element.innerHTML = '';\n",
              "          dataTable['output_type'] = 'display_data';\n",
              "          await google.colab.output.renderOutput(dataTable, element);\n",
              "          const docLink = document.createElement('div');\n",
              "          docLink.innerHTML = docLinkHtml;\n",
              "          element.appendChild(docLink);\n",
              "        }\n",
              "      </script>\n",
              "    </div>\n",
              "  </div>\n",
              "  "
            ]
          },
          "metadata": {},
          "execution_count": 3
        }
      ]
    },
    {
      "cell_type": "code",
      "source": [
        "df.shape"
      ],
      "metadata": {
        "colab": {
          "base_uri": "https://localhost:8080/"
        },
        "id": "cd8vbMS90huM",
        "outputId": "2ec20ccc-de31-469d-cf2c-c9d4a028a495"
      },
      "execution_count": 4,
      "outputs": [
        {
          "output_type": "execute_result",
          "data": {
            "text/plain": [
              "(5001, 8)"
            ]
          },
          "metadata": {},
          "execution_count": 4
        }
      ]
    },
    {
      "cell_type": "code",
      "source": [
        "df.info()"
      ],
      "metadata": {
        "colab": {
          "base_uri": "https://localhost:8080/"
        },
        "id": "215nA-PF0kFs",
        "outputId": "8fd61e00-39c1-4e88-c8e5-60fefec43c23"
      },
      "execution_count": 5,
      "outputs": [
        {
          "output_type": "stream",
          "name": "stdout",
          "text": [
            "<class 'pandas.core.frame.DataFrame'>\n",
            "RangeIndex: 5001 entries, 0 to 5000\n",
            "Data columns (total 8 columns):\n",
            " #   Column                     Non-Null Count  Dtype  \n",
            "---  ------                     --------------  -----  \n",
            " 0   long_hair                  5001 non-null   int64  \n",
            " 1   forehead_width_cm          5001 non-null   float64\n",
            " 2   forehead_height_cm         5001 non-null   float64\n",
            " 3   nose_wide                  5001 non-null   int64  \n",
            " 4   nose_long                  5001 non-null   int64  \n",
            " 5   lips_thin                  5001 non-null   int64  \n",
            " 6   distance_nose_to_lip_long  5001 non-null   int64  \n",
            " 7   gender                     5001 non-null   object \n",
            "dtypes: float64(2), int64(5), object(1)\n",
            "memory usage: 312.7+ KB\n"
          ]
        }
      ]
    },
    {
      "cell_type": "code",
      "source": [
        "df.isnull().sum()"
      ],
      "metadata": {
        "colab": {
          "base_uri": "https://localhost:8080/"
        },
        "id": "lqgKlvC30l8t",
        "outputId": "ade18982-e539-4b96-8e69-4c6f9145206e"
      },
      "execution_count": 6,
      "outputs": [
        {
          "output_type": "execute_result",
          "data": {
            "text/plain": [
              "long_hair                    0\n",
              "forehead_width_cm            0\n",
              "forehead_height_cm           0\n",
              "nose_wide                    0\n",
              "nose_long                    0\n",
              "lips_thin                    0\n",
              "distance_nose_to_lip_long    0\n",
              "gender                       0\n",
              "dtype: int64"
            ]
          },
          "metadata": {},
          "execution_count": 6
        }
      ]
    },
    {
      "cell_type": "code",
      "source": [
        "df['gender']=df['gender'].astype('category')\n",
        "df['gender']=df['gender'].cat.codes\n",
        "df['gender']"
      ],
      "metadata": {
        "colab": {
          "base_uri": "https://localhost:8080/"
        },
        "id": "Qi2Hisxo3geP",
        "outputId": "e434c7cc-a23a-4115-c7ab-830108e84843"
      },
      "execution_count": 24,
      "outputs": [
        {
          "output_type": "execute_result",
          "data": {
            "text/plain": [
              "0       1\n",
              "1       0\n",
              "2       1\n",
              "3       1\n",
              "4       0\n",
              "       ..\n",
              "4996    0\n",
              "4997    0\n",
              "4998    0\n",
              "4999    0\n",
              "5000    1\n",
              "Name: gender, Length: 5001, dtype: int8"
            ]
          },
          "metadata": {},
          "execution_count": 24
        }
      ]
    },
    {
      "cell_type": "code",
      "source": [
        "x = df.drop(columns = 'gender')\n",
        "y = df['gender']\n",
        "y"
      ],
      "metadata": {
        "colab": {
          "base_uri": "https://localhost:8080/"
        },
        "id": "4JpONZC90o4n",
        "outputId": "eb636d15-0b33-4879-eb36-62363bf1150c"
      },
      "execution_count": 25,
      "outputs": [
        {
          "output_type": "execute_result",
          "data": {
            "text/plain": [
              "0       1\n",
              "1       0\n",
              "2       1\n",
              "3       1\n",
              "4       0\n",
              "       ..\n",
              "4996    0\n",
              "4997    0\n",
              "4998    0\n",
              "4999    0\n",
              "5000    1\n",
              "Name: gender, Length: 5001, dtype: int8"
            ]
          },
          "metadata": {},
          "execution_count": 25
        }
      ]
    },
    {
      "cell_type": "code",
      "source": [
        "from sklearn.model_selection import train_test_split\n",
        "xtrain,xtest,ytrain,ytest = train_test_split(x,y,test_size =0.2,random_state=519)"
      ],
      "metadata": {
        "id": "39JKf-zH0yBX"
      },
      "execution_count": 26,
      "outputs": []
    },
    {
      "cell_type": "code",
      "source": [
        "from sklearn.naive_bayes import GaussianNB\n",
        "GNB = GaussianNB()\n",
        "GNB.fit(xtrain,ytrain)"
      ],
      "metadata": {
        "colab": {
          "base_uri": "https://localhost:8080/"
        },
        "id": "Znu0a5qj1D8A",
        "outputId": "9e6d5619-f074-4796-9970-cff23284f12a"
      },
      "execution_count": 27,
      "outputs": [
        {
          "output_type": "execute_result",
          "data": {
            "text/plain": [
              "GaussianNB()"
            ]
          },
          "metadata": {},
          "execution_count": 27
        }
      ]
    },
    {
      "cell_type": "code",
      "source": [
        "GNB.score(xtest,ytest)"
      ],
      "metadata": {
        "colab": {
          "base_uri": "https://localhost:8080/"
        },
        "id": "aV28gthB1Y9J",
        "outputId": "d0810998-dc63-4c9f-d818-f7bf252f0b50"
      },
      "execution_count": 28,
      "outputs": [
        {
          "output_type": "execute_result",
          "data": {
            "text/plain": [
              "0.9660339660339661"
            ]
          },
          "metadata": {},
          "execution_count": 28
        }
      ]
    },
    {
      "cell_type": "code",
      "source": [
        "GNB.score(xtrain,ytrain)"
      ],
      "metadata": {
        "colab": {
          "base_uri": "https://localhost:8080/"
        },
        "id": "AG2mromR1c2w",
        "outputId": "81295631-bf8b-423c-d66f-a204f06b6e93"
      },
      "execution_count": 29,
      "outputs": [
        {
          "output_type": "execute_result",
          "data": {
            "text/plain": [
              "0.97275"
            ]
          },
          "metadata": {},
          "execution_count": 29
        }
      ]
    },
    {
      "cell_type": "code",
      "source": [
        "from sklearn.naive_bayes import BernoulliNB\n",
        "BNB = BernoulliNB()\n",
        "BNB.fit(xtrain,ytrain)"
      ],
      "metadata": {
        "colab": {
          "base_uri": "https://localhost:8080/"
        },
        "id": "FiI0wHti1fxO",
        "outputId": "9547d565-9de5-4305-81ba-90251814f5a4"
      },
      "execution_count": 30,
      "outputs": [
        {
          "output_type": "execute_result",
          "data": {
            "text/plain": [
              "BernoulliNB()"
            ]
          },
          "metadata": {},
          "execution_count": 30
        }
      ]
    },
    {
      "cell_type": "code",
      "source": [
        "BNB.score(xtrain,ytrain)"
      ],
      "metadata": {
        "colab": {
          "base_uri": "https://localhost:8080/"
        },
        "id": "0__bEho-1u6C",
        "outputId": "57f00e5e-26f0-4feb-d8b1-a6f846522073"
      },
      "execution_count": 31,
      "outputs": [
        {
          "output_type": "execute_result",
          "data": {
            "text/plain": [
              "0.96225"
            ]
          },
          "metadata": {},
          "execution_count": 31
        }
      ]
    },
    {
      "cell_type": "code",
      "source": [
        "BNB.score(xtest,ytest)"
      ],
      "metadata": {
        "colab": {
          "base_uri": "https://localhost:8080/"
        },
        "id": "ylQfEa1I1xMB",
        "outputId": "f7124ec8-a079-4d2b-a40f-d3672a093a6e"
      },
      "execution_count": 32,
      "outputs": [
        {
          "output_type": "execute_result",
          "data": {
            "text/plain": [
              "0.951048951048951"
            ]
          },
          "metadata": {},
          "execution_count": 32
        }
      ]
    },
    {
      "cell_type": "code",
      "source": [
        "from sklearn.naive_bayes import MultinomialNB\n",
        "MNB = MultinomialNB()\n",
        "MNB.fit(xtrain,ytrain)"
      ],
      "metadata": {
        "colab": {
          "base_uri": "https://localhost:8080/"
        },
        "id": "yPn1ThI210FR",
        "outputId": "9ee6fcad-bf6c-4e1d-b1cb-955462943997"
      },
      "execution_count": 33,
      "outputs": [
        {
          "output_type": "execute_result",
          "data": {
            "text/plain": [
              "MultinomialNB()"
            ]
          },
          "metadata": {},
          "execution_count": 33
        }
      ]
    },
    {
      "cell_type": "code",
      "source": [
        "MNB.score(xtrain,ytrain)"
      ],
      "metadata": {
        "colab": {
          "base_uri": "https://localhost:8080/"
        },
        "id": "nvDZAUlA2IjW",
        "outputId": "c73576d7-2bc2-4ccd-c46d-d60b85c20f64"
      },
      "execution_count": 34,
      "outputs": [
        {
          "output_type": "execute_result",
          "data": {
            "text/plain": [
              "0.958"
            ]
          },
          "metadata": {},
          "execution_count": 34
        }
      ]
    },
    {
      "cell_type": "code",
      "source": [
        "MNB.score(xtest,ytest)"
      ],
      "metadata": {
        "colab": {
          "base_uri": "https://localhost:8080/"
        },
        "id": "_IW4uNIk2LAb",
        "outputId": "ae8d8191-a680-4c47-e747-db817a2babe1"
      },
      "execution_count": 35,
      "outputs": [
        {
          "output_type": "execute_result",
          "data": {
            "text/plain": [
              "0.957042957042957"
            ]
          },
          "metadata": {},
          "execution_count": 35
        }
      ]
    },
    {
      "cell_type": "markdown",
      "source": [
        "predicted result"
      ],
      "metadata": {
        "id": "VEdbnpRN2kEn"
      }
    },
    {
      "cell_type": "code",
      "source": [
        "pred = MNB.predict([[1 , 13.5 , 5.9 , 0 , 0 , 0 , 0]])\n",
        "pred"
      ],
      "metadata": {
        "colab": {
          "base_uri": "https://localhost:8080/"
        },
        "id": "Hg8VhD8G2lv3",
        "outputId": "77f2bc38-db2d-4110-e275-934310952ed1"
      },
      "execution_count": 66,
      "outputs": [
        {
          "output_type": "stream",
          "name": "stderr",
          "text": [
            "/usr/local/lib/python3.8/dist-packages/sklearn/base.py:450: UserWarning: X does not have valid feature names, but MultinomialNB was fitted with feature names\n",
            "  warnings.warn(\n"
          ]
        },
        {
          "output_type": "execute_result",
          "data": {
            "text/plain": [
              "array([0], dtype=int8)"
            ]
          },
          "metadata": {},
          "execution_count": 66
        }
      ]
    },
    {
      "cell_type": "code",
      "source": [
        "if pred==1:\n",
        "  print(\"He is male\")\n",
        "else:\n",
        "  print(\"She is female\")"
      ],
      "metadata": {
        "colab": {
          "base_uri": "https://localhost:8080/"
        },
        "id": "MAggKcCn2t8f",
        "outputId": "f9d71e78-b011-4bf8-a6d7-8b7503f758eb"
      },
      "execution_count": 67,
      "outputs": [
        {
          "output_type": "stream",
          "name": "stdout",
          "text": [
            "She is female\n"
          ]
        }
      ]
    },
    {
      "cell_type": "markdown",
      "source": [
        "using dicision tree"
      ],
      "metadata": {
        "id": "FewpX2B-4vQI"
      }
    },
    {
      "cell_type": "code",
      "source": [
        "from sklearn.tree import DecisionTreeClassifier\n",
        "DTC = DecisionTreeClassifier()\n",
        "DTC.fit(xtrain,ytrain)"
      ],
      "metadata": {
        "colab": {
          "base_uri": "https://localhost:8080/"
        },
        "id": "AxNIledP4x6h",
        "outputId": "33f12658-18c6-4408-da1b-a4eb8aab67cc"
      },
      "execution_count": 41,
      "outputs": [
        {
          "output_type": "execute_result",
          "data": {
            "text/plain": [
              "DecisionTreeClassifier()"
            ]
          },
          "metadata": {},
          "execution_count": 41
        }
      ]
    },
    {
      "cell_type": "code",
      "source": [
        "DTC.score(xtrain,ytrain)"
      ],
      "metadata": {
        "colab": {
          "base_uri": "https://localhost:8080/"
        },
        "id": "7Sk0ZmNC5Xav",
        "outputId": "7b99bb0b-52b1-4ceb-def1-1d6c786bfaaa"
      },
      "execution_count": 42,
      "outputs": [
        {
          "output_type": "execute_result",
          "data": {
            "text/plain": [
              "0.99925"
            ]
          },
          "metadata": {},
          "execution_count": 42
        }
      ]
    },
    {
      "cell_type": "code",
      "source": [
        "DTC.score(xtest,ytest)"
      ],
      "metadata": {
        "colab": {
          "base_uri": "https://localhost:8080/"
        },
        "id": "RASKgWWA5bR7",
        "outputId": "5fe61e64-2e25-4fc7-a2ce-aa4e796ca7ac"
      },
      "execution_count": 43,
      "outputs": [
        {
          "output_type": "execute_result",
          "data": {
            "text/plain": [
              "0.954045954045954"
            ]
          },
          "metadata": {},
          "execution_count": 43
        }
      ]
    },
    {
      "cell_type": "code",
      "source": [
        "pred_dtc = DTC.predict([[1 , 13.5 , 5.9 , 0 , 0 , 0 , 0 ]])\n",
        "pred_dtc"
      ],
      "metadata": {
        "colab": {
          "base_uri": "https://localhost:8080/"
        },
        "id": "VUhz_4on5eCe",
        "outputId": "f8809e9c-9c5f-4942-bf6f-49805d75d315"
      },
      "execution_count": 68,
      "outputs": [
        {
          "output_type": "stream",
          "name": "stderr",
          "text": [
            "/usr/local/lib/python3.8/dist-packages/sklearn/base.py:450: UserWarning: X does not have valid feature names, but DecisionTreeClassifier was fitted with feature names\n",
            "  warnings.warn(\n"
          ]
        },
        {
          "output_type": "execute_result",
          "data": {
            "text/plain": [
              "array([0], dtype=int8)"
            ]
          },
          "metadata": {},
          "execution_count": 68
        }
      ]
    },
    {
      "cell_type": "code",
      "source": [
        "if pred_dtc==1:\n",
        "  print(\"He is male\")\n",
        "else:\n",
        "  print(\"She is female\")"
      ],
      "metadata": {
        "colab": {
          "base_uri": "https://localhost:8080/"
        },
        "id": "fJonhJAF5qQm",
        "outputId": "4899ca38-c2fb-4293-a68f-d2669b538e0f"
      },
      "execution_count": 69,
      "outputs": [
        {
          "output_type": "stream",
          "name": "stdout",
          "text": [
            "She is female\n"
          ]
        }
      ]
    }
  ]
}