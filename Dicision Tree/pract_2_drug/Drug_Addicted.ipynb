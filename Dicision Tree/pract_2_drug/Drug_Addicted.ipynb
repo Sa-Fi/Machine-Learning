{
  "nbformat": 4,
  "nbformat_minor": 0,
  "metadata": {
    "colab": {
      "provenance": []
    },
    "kernelspec": {
      "name": "python3",
      "display_name": "Python 3"
    },
    "language_info": {
      "name": "python"
    }
  },
  "cells": [
    {
      "cell_type": "code",
      "execution_count": 2,
      "metadata": {
        "id": "P7wpxTlYyS42"
      },
      "outputs": [],
      "source": [
        "import numpy as np\n",
        "import pandas as pd\n",
        "import matplotlib.pyplot as plt"
      ]
    },
    {
      "cell_type": "code",
      "source": [
        "from google.colab import files\n",
        "files.upload()"
      ],
      "metadata": {
        "colab": {
          "base_uri": "https://localhost:8080/",
          "height": 127
        },
        "id": "PNelZ5Atye_p",
        "outputId": "7a4355fa-d864-416a-888e-42811b76de43"
      },
      "execution_count": 3,
      "outputs": [
        {
          "output_type": "display_data",
          "data": {
            "text/plain": [
              "<IPython.core.display.HTML object>"
            ],
            "text/html": [
              "\n",
              "     <input type=\"file\" id=\"files-1098b7b2-70d6-4c2e-9ed9-f8661ecbb84c\" name=\"files[]\" multiple disabled\n",
              "        style=\"border:none\" />\n",
              "     <output id=\"result-1098b7b2-70d6-4c2e-9ed9-f8661ecbb84c\">\n",
              "      Upload widget is only available when the cell has been executed in the\n",
              "      current browser session. Please rerun this cell to enable.\n",
              "      </output>\n",
              "      <script>// Copyright 2017 Google LLC\n",
              "//\n",
              "// Licensed under the Apache License, Version 2.0 (the \"License\");\n",
              "// you may not use this file except in compliance with the License.\n",
              "// You may obtain a copy of the License at\n",
              "//\n",
              "//      http://www.apache.org/licenses/LICENSE-2.0\n",
              "//\n",
              "// Unless required by applicable law or agreed to in writing, software\n",
              "// distributed under the License is distributed on an \"AS IS\" BASIS,\n",
              "// WITHOUT WARRANTIES OR CONDITIONS OF ANY KIND, either express or implied.\n",
              "// See the License for the specific language governing permissions and\n",
              "// limitations under the License.\n",
              "\n",
              "/**\n",
              " * @fileoverview Helpers for google.colab Python module.\n",
              " */\n",
              "(function(scope) {\n",
              "function span(text, styleAttributes = {}) {\n",
              "  const element = document.createElement('span');\n",
              "  element.textContent = text;\n",
              "  for (const key of Object.keys(styleAttributes)) {\n",
              "    element.style[key] = styleAttributes[key];\n",
              "  }\n",
              "  return element;\n",
              "}\n",
              "\n",
              "// Max number of bytes which will be uploaded at a time.\n",
              "const MAX_PAYLOAD_SIZE = 100 * 1024;\n",
              "\n",
              "function _uploadFiles(inputId, outputId) {\n",
              "  const steps = uploadFilesStep(inputId, outputId);\n",
              "  const outputElement = document.getElementById(outputId);\n",
              "  // Cache steps on the outputElement to make it available for the next call\n",
              "  // to uploadFilesContinue from Python.\n",
              "  outputElement.steps = steps;\n",
              "\n",
              "  return _uploadFilesContinue(outputId);\n",
              "}\n",
              "\n",
              "// This is roughly an async generator (not supported in the browser yet),\n",
              "// where there are multiple asynchronous steps and the Python side is going\n",
              "// to poll for completion of each step.\n",
              "// This uses a Promise to block the python side on completion of each step,\n",
              "// then passes the result of the previous step as the input to the next step.\n",
              "function _uploadFilesContinue(outputId) {\n",
              "  const outputElement = document.getElementById(outputId);\n",
              "  const steps = outputElement.steps;\n",
              "\n",
              "  const next = steps.next(outputElement.lastPromiseValue);\n",
              "  return Promise.resolve(next.value.promise).then((value) => {\n",
              "    // Cache the last promise value to make it available to the next\n",
              "    // step of the generator.\n",
              "    outputElement.lastPromiseValue = value;\n",
              "    return next.value.response;\n",
              "  });\n",
              "}\n",
              "\n",
              "/**\n",
              " * Generator function which is called between each async step of the upload\n",
              " * process.\n",
              " * @param {string} inputId Element ID of the input file picker element.\n",
              " * @param {string} outputId Element ID of the output display.\n",
              " * @return {!Iterable<!Object>} Iterable of next steps.\n",
              " */\n",
              "function* uploadFilesStep(inputId, outputId) {\n",
              "  const inputElement = document.getElementById(inputId);\n",
              "  inputElement.disabled = false;\n",
              "\n",
              "  const outputElement = document.getElementById(outputId);\n",
              "  outputElement.innerHTML = '';\n",
              "\n",
              "  const pickedPromise = new Promise((resolve) => {\n",
              "    inputElement.addEventListener('change', (e) => {\n",
              "      resolve(e.target.files);\n",
              "    });\n",
              "  });\n",
              "\n",
              "  const cancel = document.createElement('button');\n",
              "  inputElement.parentElement.appendChild(cancel);\n",
              "  cancel.textContent = 'Cancel upload';\n",
              "  const cancelPromise = new Promise((resolve) => {\n",
              "    cancel.onclick = () => {\n",
              "      resolve(null);\n",
              "    };\n",
              "  });\n",
              "\n",
              "  // Wait for the user to pick the files.\n",
              "  const files = yield {\n",
              "    promise: Promise.race([pickedPromise, cancelPromise]),\n",
              "    response: {\n",
              "      action: 'starting',\n",
              "    }\n",
              "  };\n",
              "\n",
              "  cancel.remove();\n",
              "\n",
              "  // Disable the input element since further picks are not allowed.\n",
              "  inputElement.disabled = true;\n",
              "\n",
              "  if (!files) {\n",
              "    return {\n",
              "      response: {\n",
              "        action: 'complete',\n",
              "      }\n",
              "    };\n",
              "  }\n",
              "\n",
              "  for (const file of files) {\n",
              "    const li = document.createElement('li');\n",
              "    li.append(span(file.name, {fontWeight: 'bold'}));\n",
              "    li.append(span(\n",
              "        `(${file.type || 'n/a'}) - ${file.size} bytes, ` +\n",
              "        `last modified: ${\n",
              "            file.lastModifiedDate ? file.lastModifiedDate.toLocaleDateString() :\n",
              "                                    'n/a'} - `));\n",
              "    const percent = span('0% done');\n",
              "    li.appendChild(percent);\n",
              "\n",
              "    outputElement.appendChild(li);\n",
              "\n",
              "    const fileDataPromise = new Promise((resolve) => {\n",
              "      const reader = new FileReader();\n",
              "      reader.onload = (e) => {\n",
              "        resolve(e.target.result);\n",
              "      };\n",
              "      reader.readAsArrayBuffer(file);\n",
              "    });\n",
              "    // Wait for the data to be ready.\n",
              "    let fileData = yield {\n",
              "      promise: fileDataPromise,\n",
              "      response: {\n",
              "        action: 'continue',\n",
              "      }\n",
              "    };\n",
              "\n",
              "    // Use a chunked sending to avoid message size limits. See b/62115660.\n",
              "    let position = 0;\n",
              "    do {\n",
              "      const length = Math.min(fileData.byteLength - position, MAX_PAYLOAD_SIZE);\n",
              "      const chunk = new Uint8Array(fileData, position, length);\n",
              "      position += length;\n",
              "\n",
              "      const base64 = btoa(String.fromCharCode.apply(null, chunk));\n",
              "      yield {\n",
              "        response: {\n",
              "          action: 'append',\n",
              "          file: file.name,\n",
              "          data: base64,\n",
              "        },\n",
              "      };\n",
              "\n",
              "      let percentDone = fileData.byteLength === 0 ?\n",
              "          100 :\n",
              "          Math.round((position / fileData.byteLength) * 100);\n",
              "      percent.textContent = `${percentDone}% done`;\n",
              "\n",
              "    } while (position < fileData.byteLength);\n",
              "  }\n",
              "\n",
              "  // All done.\n",
              "  yield {\n",
              "    response: {\n",
              "      action: 'complete',\n",
              "    }\n",
              "  };\n",
              "}\n",
              "\n",
              "scope.google = scope.google || {};\n",
              "scope.google.colab = scope.google.colab || {};\n",
              "scope.google.colab._files = {\n",
              "  _uploadFiles,\n",
              "  _uploadFilesContinue,\n",
              "};\n",
              "})(self);\n",
              "</script> "
            ]
          },
          "metadata": {}
        },
        {
          "output_type": "stream",
          "name": "stdout",
          "text": [
            "Saving drug200.csv to drug200.csv\n"
          ]
        },
        {
          "output_type": "execute_result",
          "data": {
            "text/plain": [
              "{'drug200.csv': b'Age,Sex,BP,Cholesterol,Na_to_K,Drug\\n23,F,HIGH,HIGH,25.355,drugY\\n47,M,LOW,HIGH,13.093,drugC\\n47,M,LOW,HIGH,10.114,drugC\\n28,F,NORMAL,HIGH,7.798,drugX\\n61,F,LOW,HIGH,18.043,drugY\\n22,F,NORMAL,HIGH,8.607,drugX\\n49,F,NORMAL,HIGH,16.275,drugY\\n41,M,LOW,HIGH,11.037,drugC\\n60,M,NORMAL,HIGH,15.171,drugY\\n43,M,LOW,NORMAL,19.368,drugY\\n47,F,LOW,HIGH,11.767,drugC\\n34,F,HIGH,NORMAL,19.199,drugY\\n43,M,LOW,HIGH,15.376,drugY\\n74,F,LOW,HIGH,20.942,drugY\\n50,F,NORMAL,HIGH,12.703,drugX\\n16,F,HIGH,NORMAL,15.516,drugY\\n69,M,LOW,NORMAL,11.455,drugX\\n43,M,HIGH,HIGH,13.972,drugA\\n23,M,LOW,HIGH,7.298,drugC\\n32,F,HIGH,NORMAL,25.974,drugY\\n57,M,LOW,NORMAL,19.128,drugY\\n63,M,NORMAL,HIGH,25.917,drugY\\n47,M,LOW,NORMAL,30.568,drugY\\n48,F,LOW,HIGH,15.036,drugY\\n33,F,LOW,HIGH,33.486,drugY\\n28,F,HIGH,NORMAL,18.809,drugY\\n31,M,HIGH,HIGH,30.366,drugY\\n49,F,NORMAL,NORMAL,9.381,drugX\\n39,F,LOW,NORMAL,22.697,drugY\\n45,M,LOW,HIGH,17.951,drugY\\n18,F,NORMAL,NORMAL,8.75,drugX\\n74,M,HIGH,HIGH,9.567,drugB\\n49,M,LOW,NORMAL,11.014,drugX\\n65,F,HIGH,NORMAL,31.876,drugY\\n53,M,NORMAL,HIGH,14.133,drugX\\n46,M,NORMAL,NORMAL,7.285,drugX\\n32,M,HIGH,NORMAL,9.445,drugA\\n39,M,LOW,NORMAL,13.938,drugX\\n39,F,NORMAL,NORMAL,9.709,drugX\\n15,M,NORMAL,HIGH,9.084,drugX\\n73,F,NORMAL,HIGH,19.221,drugY\\n58,F,HIGH,NORMAL,14.239,drugB\\n50,M,NORMAL,NORMAL,15.79,drugY\\n23,M,NORMAL,HIGH,12.26,drugX\\n50,F,NORMAL,NORMAL,12.295,drugX\\n66,F,NORMAL,NORMAL,8.107,drugX\\n37,F,HIGH,HIGH,13.091,drugA\\n68,M,LOW,HIGH,10.291,drugC\\n23,M,NORMAL,HIGH,31.686,drugY\\n28,F,LOW,HIGH,19.796,drugY\\n58,F,HIGH,HIGH,19.416,drugY\\n67,M,NORMAL,NORMAL,10.898,drugX\\n62,M,LOW,NORMAL,27.183,drugY\\n24,F,HIGH,NORMAL,18.457,drugY\\n68,F,HIGH,NORMAL,10.189,drugB\\n26,F,LOW,HIGH,14.16,drugC\\n65,M,HIGH,NORMAL,11.34,drugB\\n40,M,HIGH,HIGH,27.826,drugY\\n60,M,NORMAL,NORMAL,10.091,drugX\\n34,M,HIGH,HIGH,18.703,drugY\\n38,F,LOW,NORMAL,29.875,drugY\\n24,M,HIGH,NORMAL,9.475,drugA\\n67,M,LOW,NORMAL,20.693,drugY\\n45,M,LOW,NORMAL,8.37,drugX\\n60,F,HIGH,HIGH,13.303,drugB\\n68,F,NORMAL,NORMAL,27.05,drugY\\n29,M,HIGH,HIGH,12.856,drugA\\n17,M,NORMAL,NORMAL,10.832,drugX\\n54,M,NORMAL,HIGH,24.658,drugY\\n18,F,HIGH,NORMAL,24.276,drugY\\n70,M,HIGH,HIGH,13.967,drugB\\n28,F,NORMAL,HIGH,19.675,drugY\\n24,F,NORMAL,HIGH,10.605,drugX\\n41,F,NORMAL,NORMAL,22.905,drugY\\n31,M,HIGH,NORMAL,17.069,drugY\\n26,M,LOW,NORMAL,20.909,drugY\\n36,F,HIGH,HIGH,11.198,drugA\\n26,F,HIGH,NORMAL,19.161,drugY\\n19,F,HIGH,HIGH,13.313,drugA\\n32,F,LOW,NORMAL,10.84,drugX\\n60,M,HIGH,HIGH,13.934,drugB\\n64,M,NORMAL,HIGH,7.761,drugX\\n32,F,LOW,HIGH,9.712,drugC\\n38,F,HIGH,NORMAL,11.326,drugA\\n47,F,LOW,HIGH,10.067,drugC\\n59,M,HIGH,HIGH,13.935,drugB\\n51,F,NORMAL,HIGH,13.597,drugX\\n69,M,LOW,HIGH,15.478,drugY\\n37,F,HIGH,NORMAL,23.091,drugY\\n50,F,NORMAL,NORMAL,17.211,drugY\\n62,M,NORMAL,HIGH,16.594,drugY\\n41,M,HIGH,NORMAL,15.156,drugY\\n29,F,HIGH,HIGH,29.45,drugY\\n42,F,LOW,NORMAL,29.271,drugY\\n56,M,LOW,HIGH,15.015,drugY\\n36,M,LOW,NORMAL,11.424,drugX\\n58,F,LOW,HIGH,38.247,drugY\\n56,F,HIGH,HIGH,25.395,drugY\\n20,M,HIGH,NORMAL,35.639,drugY\\n15,F,HIGH,NORMAL,16.725,drugY\\n31,M,HIGH,NORMAL,11.871,drugA\\n45,F,HIGH,HIGH,12.854,drugA\\n28,F,LOW,HIGH,13.127,drugC\\n56,M,NORMAL,HIGH,8.966,drugX\\n22,M,HIGH,NORMAL,28.294,drugY\\n37,M,LOW,NORMAL,8.968,drugX\\n22,M,NORMAL,HIGH,11.953,drugX\\n42,M,LOW,HIGH,20.013,drugY\\n72,M,HIGH,NORMAL,9.677,drugB\\n23,M,NORMAL,HIGH,16.85,drugY\\n50,M,HIGH,HIGH,7.49,drugA\\n47,F,NORMAL,NORMAL,6.683,drugX\\n35,M,LOW,NORMAL,9.17,drugX\\n65,F,LOW,NORMAL,13.769,drugX\\n20,F,NORMAL,NORMAL,9.281,drugX\\n51,M,HIGH,HIGH,18.295,drugY\\n67,M,NORMAL,NORMAL,9.514,drugX\\n40,F,NORMAL,HIGH,10.103,drugX\\n32,F,HIGH,NORMAL,10.292,drugA\\n61,F,HIGH,HIGH,25.475,drugY\\n28,M,NORMAL,HIGH,27.064,drugY\\n15,M,HIGH,NORMAL,17.206,drugY\\n34,M,NORMAL,HIGH,22.456,drugY\\n36,F,NORMAL,HIGH,16.753,drugY\\n53,F,HIGH,NORMAL,12.495,drugB\\n19,F,HIGH,NORMAL,25.969,drugY\\n66,M,HIGH,HIGH,16.347,drugY\\n35,M,NORMAL,NORMAL,7.845,drugX\\n47,M,LOW,NORMAL,33.542,drugY\\n32,F,NORMAL,HIGH,7.477,drugX\\n70,F,NORMAL,HIGH,20.489,drugY\\n52,M,LOW,NORMAL,32.922,drugY\\n49,M,LOW,NORMAL,13.598,drugX\\n24,M,NORMAL,HIGH,25.786,drugY\\n42,F,HIGH,HIGH,21.036,drugY\\n74,M,LOW,NORMAL,11.939,drugX\\n55,F,HIGH,HIGH,10.977,drugB\\n35,F,HIGH,HIGH,12.894,drugA\\n51,M,HIGH,NORMAL,11.343,drugB\\n69,F,NORMAL,HIGH,10.065,drugX\\n49,M,HIGH,NORMAL,6.269,drugA\\n64,F,LOW,NORMAL,25.741,drugY\\n60,M,HIGH,NORMAL,8.621,drugB\\n74,M,HIGH,NORMAL,15.436,drugY\\n39,M,HIGH,HIGH,9.664,drugA\\n61,M,NORMAL,HIGH,9.443,drugX\\n37,F,LOW,NORMAL,12.006,drugX\\n26,F,HIGH,NORMAL,12.307,drugA\\n61,F,LOW,NORMAL,7.34,drugX\\n22,M,LOW,HIGH,8.151,drugC\\n49,M,HIGH,NORMAL,8.7,drugA\\n68,M,HIGH,HIGH,11.009,drugB\\n55,M,NORMAL,NORMAL,7.261,drugX\\n72,F,LOW,NORMAL,14.642,drugX\\n37,M,LOW,NORMAL,16.724,drugY\\n49,M,LOW,HIGH,10.537,drugC\\n31,M,HIGH,NORMAL,11.227,drugA\\n53,M,LOW,HIGH,22.963,drugY\\n59,F,LOW,HIGH,10.444,drugC\\n34,F,LOW,NORMAL,12.923,drugX\\n30,F,NORMAL,HIGH,10.443,drugX\\n57,F,HIGH,NORMAL,9.945,drugB\\n43,M,NORMAL,NORMAL,12.859,drugX\\n21,F,HIGH,NORMAL,28.632,drugY\\n16,M,HIGH,NORMAL,19.007,drugY\\n38,M,LOW,HIGH,18.295,drugY\\n58,F,LOW,HIGH,26.645,drugY\\n57,F,NORMAL,HIGH,14.216,drugX\\n51,F,LOW,NORMAL,23.003,drugY\\n20,F,HIGH,HIGH,11.262,drugA\\n28,F,NORMAL,HIGH,12.879,drugX\\n45,M,LOW,NORMAL,10.017,drugX\\n39,F,NORMAL,NORMAL,17.225,drugY\\n41,F,LOW,NORMAL,18.739,drugY\\n42,M,HIGH,NORMAL,12.766,drugA\\n73,F,HIGH,HIGH,18.348,drugY\\n48,M,HIGH,NORMAL,10.446,drugA\\n25,M,NORMAL,HIGH,19.011,drugY\\n39,M,NORMAL,HIGH,15.969,drugY\\n67,F,NORMAL,HIGH,15.891,drugY\\n22,F,HIGH,NORMAL,22.818,drugY\\n59,F,NORMAL,HIGH,13.884,drugX\\n20,F,LOW,NORMAL,11.686,drugX\\n36,F,HIGH,NORMAL,15.49,drugY\\n18,F,HIGH,HIGH,37.188,drugY\\n57,F,NORMAL,NORMAL,25.893,drugY\\n70,M,HIGH,HIGH,9.849,drugB\\n47,M,HIGH,HIGH,10.403,drugA\\n65,M,HIGH,NORMAL,34.997,drugY\\n64,M,HIGH,NORMAL,20.932,drugY\\n58,M,HIGH,HIGH,18.991,drugY\\n23,M,HIGH,HIGH,8.011,drugA\\n72,M,LOW,HIGH,16.31,drugY\\n72,M,LOW,HIGH,6.769,drugC\\n46,F,HIGH,HIGH,34.686,drugY\\n56,F,LOW,HIGH,11.567,drugC\\n16,M,LOW,HIGH,12.006,drugC\\n52,M,NORMAL,HIGH,9.894,drugX\\n23,M,NORMAL,NORMAL,14.02,drugX\\n40,F,LOW,NORMAL,11.349,drugX'}"
            ]
          },
          "metadata": {},
          "execution_count": 3
        }
      ]
    },
    {
      "cell_type": "code",
      "source": [
        "df = pd.read_csv('drug200.csv')"
      ],
      "metadata": {
        "id": "RklIkg_Gyx7g"
      },
      "execution_count": 6,
      "outputs": []
    },
    {
      "cell_type": "code",
      "source": [
        "df.shape"
      ],
      "metadata": {
        "colab": {
          "base_uri": "https://localhost:8080/"
        },
        "id": "YCjX01PAyrHq",
        "outputId": "9df64b91-d04d-430d-edf0-ba3db9faf41f"
      },
      "execution_count": 7,
      "outputs": [
        {
          "output_type": "execute_result",
          "data": {
            "text/plain": [
              "(200, 6)"
            ]
          },
          "metadata": {},
          "execution_count": 7
        }
      ]
    },
    {
      "cell_type": "code",
      "source": [
        "df.head()"
      ],
      "metadata": {
        "colab": {
          "base_uri": "https://localhost:8080/",
          "height": 206
        },
        "id": "FPrLPmAlyuhM",
        "outputId": "e0f864b1-2ac3-45a1-845f-632fb936226b"
      },
      "execution_count": 8,
      "outputs": [
        {
          "output_type": "execute_result",
          "data": {
            "text/plain": [
              "   Age Sex      BP Cholesterol  Na_to_K   Drug\n",
              "0   23   F    HIGH        HIGH   25.355  drugY\n",
              "1   47   M     LOW        HIGH   13.093  drugC\n",
              "2   47   M     LOW        HIGH   10.114  drugC\n",
              "3   28   F  NORMAL        HIGH    7.798  drugX\n",
              "4   61   F     LOW        HIGH   18.043  drugY"
            ],
            "text/html": [
              "\n",
              "  <div id=\"df-693c2015-1d9e-43e1-b64a-d7387aa50f3d\">\n",
              "    <div class=\"colab-df-container\">\n",
              "      <div>\n",
              "<style scoped>\n",
              "    .dataframe tbody tr th:only-of-type {\n",
              "        vertical-align: middle;\n",
              "    }\n",
              "\n",
              "    .dataframe tbody tr th {\n",
              "        vertical-align: top;\n",
              "    }\n",
              "\n",
              "    .dataframe thead th {\n",
              "        text-align: right;\n",
              "    }\n",
              "</style>\n",
              "<table border=\"1\" class=\"dataframe\">\n",
              "  <thead>\n",
              "    <tr style=\"text-align: right;\">\n",
              "      <th></th>\n",
              "      <th>Age</th>\n",
              "      <th>Sex</th>\n",
              "      <th>BP</th>\n",
              "      <th>Cholesterol</th>\n",
              "      <th>Na_to_K</th>\n",
              "      <th>Drug</th>\n",
              "    </tr>\n",
              "  </thead>\n",
              "  <tbody>\n",
              "    <tr>\n",
              "      <th>0</th>\n",
              "      <td>23</td>\n",
              "      <td>F</td>\n",
              "      <td>HIGH</td>\n",
              "      <td>HIGH</td>\n",
              "      <td>25.355</td>\n",
              "      <td>drugY</td>\n",
              "    </tr>\n",
              "    <tr>\n",
              "      <th>1</th>\n",
              "      <td>47</td>\n",
              "      <td>M</td>\n",
              "      <td>LOW</td>\n",
              "      <td>HIGH</td>\n",
              "      <td>13.093</td>\n",
              "      <td>drugC</td>\n",
              "    </tr>\n",
              "    <tr>\n",
              "      <th>2</th>\n",
              "      <td>47</td>\n",
              "      <td>M</td>\n",
              "      <td>LOW</td>\n",
              "      <td>HIGH</td>\n",
              "      <td>10.114</td>\n",
              "      <td>drugC</td>\n",
              "    </tr>\n",
              "    <tr>\n",
              "      <th>3</th>\n",
              "      <td>28</td>\n",
              "      <td>F</td>\n",
              "      <td>NORMAL</td>\n",
              "      <td>HIGH</td>\n",
              "      <td>7.798</td>\n",
              "      <td>drugX</td>\n",
              "    </tr>\n",
              "    <tr>\n",
              "      <th>4</th>\n",
              "      <td>61</td>\n",
              "      <td>F</td>\n",
              "      <td>LOW</td>\n",
              "      <td>HIGH</td>\n",
              "      <td>18.043</td>\n",
              "      <td>drugY</td>\n",
              "    </tr>\n",
              "  </tbody>\n",
              "</table>\n",
              "</div>\n",
              "      <button class=\"colab-df-convert\" onclick=\"convertToInteractive('df-693c2015-1d9e-43e1-b64a-d7387aa50f3d')\"\n",
              "              title=\"Convert this dataframe to an interactive table.\"\n",
              "              style=\"display:none;\">\n",
              "        \n",
              "  <svg xmlns=\"http://www.w3.org/2000/svg\" height=\"24px\"viewBox=\"0 0 24 24\"\n",
              "       width=\"24px\">\n",
              "    <path d=\"M0 0h24v24H0V0z\" fill=\"none\"/>\n",
              "    <path d=\"M18.56 5.44l.94 2.06.94-2.06 2.06-.94-2.06-.94-.94-2.06-.94 2.06-2.06.94zm-11 1L8.5 8.5l.94-2.06 2.06-.94-2.06-.94L8.5 2.5l-.94 2.06-2.06.94zm10 10l.94 2.06.94-2.06 2.06-.94-2.06-.94-.94-2.06-.94 2.06-2.06.94z\"/><path d=\"M17.41 7.96l-1.37-1.37c-.4-.4-.92-.59-1.43-.59-.52 0-1.04.2-1.43.59L10.3 9.45l-7.72 7.72c-.78.78-.78 2.05 0 2.83L4 21.41c.39.39.9.59 1.41.59.51 0 1.02-.2 1.41-.59l7.78-7.78 2.81-2.81c.8-.78.8-2.07 0-2.86zM5.41 20L4 18.59l7.72-7.72 1.47 1.35L5.41 20z\"/>\n",
              "  </svg>\n",
              "      </button>\n",
              "      \n",
              "  <style>\n",
              "    .colab-df-container {\n",
              "      display:flex;\n",
              "      flex-wrap:wrap;\n",
              "      gap: 12px;\n",
              "    }\n",
              "\n",
              "    .colab-df-convert {\n",
              "      background-color: #E8F0FE;\n",
              "      border: none;\n",
              "      border-radius: 50%;\n",
              "      cursor: pointer;\n",
              "      display: none;\n",
              "      fill: #1967D2;\n",
              "      height: 32px;\n",
              "      padding: 0 0 0 0;\n",
              "      width: 32px;\n",
              "    }\n",
              "\n",
              "    .colab-df-convert:hover {\n",
              "      background-color: #E2EBFA;\n",
              "      box-shadow: 0px 1px 2px rgba(60, 64, 67, 0.3), 0px 1px 3px 1px rgba(60, 64, 67, 0.15);\n",
              "      fill: #174EA6;\n",
              "    }\n",
              "\n",
              "    [theme=dark] .colab-df-convert {\n",
              "      background-color: #3B4455;\n",
              "      fill: #D2E3FC;\n",
              "    }\n",
              "\n",
              "    [theme=dark] .colab-df-convert:hover {\n",
              "      background-color: #434B5C;\n",
              "      box-shadow: 0px 1px 3px 1px rgba(0, 0, 0, 0.15);\n",
              "      filter: drop-shadow(0px 1px 2px rgba(0, 0, 0, 0.3));\n",
              "      fill: #FFFFFF;\n",
              "    }\n",
              "  </style>\n",
              "\n",
              "      <script>\n",
              "        const buttonEl =\n",
              "          document.querySelector('#df-693c2015-1d9e-43e1-b64a-d7387aa50f3d button.colab-df-convert');\n",
              "        buttonEl.style.display =\n",
              "          google.colab.kernel.accessAllowed ? 'block' : 'none';\n",
              "\n",
              "        async function convertToInteractive(key) {\n",
              "          const element = document.querySelector('#df-693c2015-1d9e-43e1-b64a-d7387aa50f3d');\n",
              "          const dataTable =\n",
              "            await google.colab.kernel.invokeFunction('convertToInteractive',\n",
              "                                                     [key], {});\n",
              "          if (!dataTable) return;\n",
              "\n",
              "          const docLinkHtml = 'Like what you see? Visit the ' +\n",
              "            '<a target=\"_blank\" href=https://colab.research.google.com/notebooks/data_table.ipynb>data table notebook</a>'\n",
              "            + ' to learn more about interactive tables.';\n",
              "          element.innerHTML = '';\n",
              "          dataTable['output_type'] = 'display_data';\n",
              "          await google.colab.output.renderOutput(dataTable, element);\n",
              "          const docLink = document.createElement('div');\n",
              "          docLink.innerHTML = docLinkHtml;\n",
              "          element.appendChild(docLink);\n",
              "        }\n",
              "      </script>\n",
              "    </div>\n",
              "  </div>\n",
              "  "
            ]
          },
          "metadata": {},
          "execution_count": 8
        }
      ]
    },
    {
      "cell_type": "code",
      "source": [
        "df.isnull().sum()"
      ],
      "metadata": {
        "colab": {
          "base_uri": "https://localhost:8080/"
        },
        "id": "NVUJ1mjAzKjQ",
        "outputId": "bfb90602-07cb-48ca-cc1e-f9e27504c807"
      },
      "execution_count": 12,
      "outputs": [
        {
          "output_type": "execute_result",
          "data": {
            "text/plain": [
              "Age            0\n",
              "Sex            0\n",
              "BP             0\n",
              "Cholesterol    0\n",
              "Na_to_K        0\n",
              "Drug           0\n",
              "dtype: int64"
            ]
          },
          "metadata": {},
          "execution_count": 12
        }
      ]
    },
    {
      "cell_type": "code",
      "source": [
        "df.info()"
      ],
      "metadata": {
        "colab": {
          "base_uri": "https://localhost:8080/"
        },
        "id": "_-IMWqUwzOTQ",
        "outputId": "0971c350-ce1c-44c9-c0f6-f7e1ed71de57"
      },
      "execution_count": 13,
      "outputs": [
        {
          "output_type": "stream",
          "name": "stdout",
          "text": [
            "<class 'pandas.core.frame.DataFrame'>\n",
            "RangeIndex: 200 entries, 0 to 199\n",
            "Data columns (total 6 columns):\n",
            " #   Column       Non-Null Count  Dtype  \n",
            "---  ------       --------------  -----  \n",
            " 0   Age          200 non-null    int64  \n",
            " 1   Sex          200 non-null    int8   \n",
            " 2   BP           200 non-null    object \n",
            " 3   Cholesterol  200 non-null    object \n",
            " 4   Na_to_K      200 non-null    float64\n",
            " 5   Drug         200 non-null    object \n",
            "dtypes: float64(1), int64(1), int8(1), object(3)\n",
            "memory usage: 8.1+ KB\n"
          ]
        }
      ]
    },
    {
      "cell_type": "code",
      "source": [
        "df['BP']=df['BP'].astype('category')\n",
        "df['BP']=df['BP'].cat.codes\n",
        "df['BP']"
      ],
      "metadata": {
        "colab": {
          "base_uri": "https://localhost:8080/"
        },
        "id": "qWrUxjn1yvb6",
        "outputId": "eaeb14da-e13d-441d-e4e4-1cd6a77e0e5f"
      },
      "execution_count": 14,
      "outputs": [
        {
          "output_type": "execute_result",
          "data": {
            "text/plain": [
              "0      0\n",
              "1      1\n",
              "2      1\n",
              "3      2\n",
              "4      1\n",
              "      ..\n",
              "195    1\n",
              "196    1\n",
              "197    2\n",
              "198    2\n",
              "199    1\n",
              "Name: BP, Length: 200, dtype: int8"
            ]
          },
          "metadata": {},
          "execution_count": 14
        }
      ]
    },
    {
      "cell_type": "code",
      "source": [
        "df['Sex']=df['Sex'].astype('category')\n",
        "df['Sex']=df['Sex'].cat.codes\n",
        "df['Sex']"
      ],
      "metadata": {
        "colab": {
          "base_uri": "https://localhost:8080/"
        },
        "id": "qyR-G-pCzBmR",
        "outputId": "f01dddbd-2d77-488e-b424-44b4dcca1f06"
      },
      "execution_count": 15,
      "outputs": [
        {
          "output_type": "execute_result",
          "data": {
            "text/plain": [
              "0      0\n",
              "1      1\n",
              "2      1\n",
              "3      0\n",
              "4      0\n",
              "      ..\n",
              "195    0\n",
              "196    1\n",
              "197    1\n",
              "198    1\n",
              "199    0\n",
              "Name: Sex, Length: 200, dtype: int8"
            ]
          },
          "metadata": {},
          "execution_count": 15
        }
      ]
    },
    {
      "cell_type": "code",
      "source": [
        "df['Cholesterol']=df['Cholesterol'].astype('category')\n",
        "df['Cholesterol']=df['Cholesterol'].cat.codes\n",
        "df['Cholesterol']"
      ],
      "metadata": {
        "colab": {
          "base_uri": "https://localhost:8080/"
        },
        "id": "jgwc1DEDzeXq",
        "outputId": "951f7117-4149-4d83-a6eb-6bf5c6ae7f8d"
      },
      "execution_count": 16,
      "outputs": [
        {
          "output_type": "execute_result",
          "data": {
            "text/plain": [
              "0      0\n",
              "1      0\n",
              "2      0\n",
              "3      0\n",
              "4      0\n",
              "      ..\n",
              "195    0\n",
              "196    0\n",
              "197    0\n",
              "198    1\n",
              "199    1\n",
              "Name: Cholesterol, Length: 200, dtype: int8"
            ]
          },
          "metadata": {},
          "execution_count": 16
        }
      ]
    },
    {
      "cell_type": "code",
      "source": [
        "df['Drug']=df['Drug'].astype('category')\n",
        "df['Drug']=df['Drug'].cat.codes\n",
        "df['Drug']"
      ],
      "metadata": {
        "colab": {
          "base_uri": "https://localhost:8080/"
        },
        "id": "0mZsLMtjzjR4",
        "outputId": "abf2d728-3249-4436-a3e5-30285888e3ae"
      },
      "execution_count": 17,
      "outputs": [
        {
          "output_type": "execute_result",
          "data": {
            "text/plain": [
              "0      4\n",
              "1      2\n",
              "2      2\n",
              "3      3\n",
              "4      4\n",
              "      ..\n",
              "195    2\n",
              "196    2\n",
              "197    3\n",
              "198    3\n",
              "199    3\n",
              "Name: Drug, Length: 200, dtype: int8"
            ]
          },
          "metadata": {},
          "execution_count": 17
        }
      ]
    },
    {
      "cell_type": "code",
      "source": [
        "x=df.drop(columns='Drug')\n",
        "y=df['Drug']\n",
        "y"
      ],
      "metadata": {
        "colab": {
          "base_uri": "https://localhost:8080/"
        },
        "id": "fQ_oFmInztTY",
        "outputId": "8ac5d3bf-6384-4017-ddf4-ff73714df41a"
      },
      "execution_count": 19,
      "outputs": [
        {
          "output_type": "execute_result",
          "data": {
            "text/plain": [
              "0      4\n",
              "1      2\n",
              "2      2\n",
              "3      3\n",
              "4      4\n",
              "      ..\n",
              "195    2\n",
              "196    2\n",
              "197    3\n",
              "198    3\n",
              "199    3\n",
              "Name: Drug, Length: 200, dtype: int8"
            ]
          },
          "metadata": {},
          "execution_count": 19
        }
      ]
    },
    {
      "cell_type": "code",
      "source": [
        "from sklearn.model_selection import train_test_split\n",
        "xtrain,xtest,ytrain,ytest = train_test_split(x,y,test_size=0.2,random_state=1)"
      ],
      "metadata": {
        "id": "mPuJ1hynzxyx"
      },
      "execution_count": 20,
      "outputs": []
    },
    {
      "cell_type": "markdown",
      "source": [
        "DecisionTreeClassifier"
      ],
      "metadata": {
        "id": "TrY9zuIR0Rpv"
      }
    },
    {
      "cell_type": "code",
      "source": [
        "from sklearn.tree import DecisionTreeClassifier\n",
        "DTC = DecisionTreeClassifier()\n",
        "DTC.fit(xtrain,ytrain)"
      ],
      "metadata": {
        "colab": {
          "base_uri": "https://localhost:8080/"
        },
        "id": "PfL_MEfx0AYJ",
        "outputId": "ee271679-3bc0-4a90-cee8-7e095a4751cf"
      },
      "execution_count": 21,
      "outputs": [
        {
          "output_type": "execute_result",
          "data": {
            "text/plain": [
              "DecisionTreeClassifier()"
            ]
          },
          "metadata": {},
          "execution_count": 21
        }
      ]
    },
    {
      "cell_type": "code",
      "source": [
        "DTC.score(xtrain,ytrain)"
      ],
      "metadata": {
        "colab": {
          "base_uri": "https://localhost:8080/"
        },
        "id": "ZbR3D7nQ0GIi",
        "outputId": "deec5ec5-be8a-4c1b-be3d-f870bcba668f"
      },
      "execution_count": 22,
      "outputs": [
        {
          "output_type": "execute_result",
          "data": {
            "text/plain": [
              "1.0"
            ]
          },
          "metadata": {},
          "execution_count": 22
        }
      ]
    },
    {
      "cell_type": "code",
      "source": [
        "pred_value=DTC.predict([[50,1,3,1,12.703]])\n",
        "pred_value"
      ],
      "metadata": {
        "colab": {
          "base_uri": "https://localhost:8080/"
        },
        "id": "l0g_u_al0J2D",
        "outputId": "574246c3-9fd9-4476-cbac-ba090b3f7aa2"
      },
      "execution_count": 27,
      "outputs": [
        {
          "output_type": "stream",
          "name": "stderr",
          "text": [
            "/usr/local/lib/python3.8/dist-packages/sklearn/base.py:450: UserWarning: X does not have valid feature names, but DecisionTreeClassifier was fitted with feature names\n",
            "  warnings.warn(\n"
          ]
        },
        {
          "output_type": "execute_result",
          "data": {
            "text/plain": [
              "array([3], dtype=int8)"
            ]
          },
          "metadata": {},
          "execution_count": 27
        }
      ]
    },
    {
      "cell_type": "code",
      "source": [
        "if pred_value==1:\n",
        "  print('drugY')\n",
        "elif pred_value ==2:\n",
        "  print('drugC')\n",
        "elif pred_value == 3 :\n",
        "  print('drugX')\n",
        "elif pred_value == 4:\n",
        "  print('drugY')"
      ],
      "metadata": {
        "colab": {
          "base_uri": "https://localhost:8080/"
        },
        "id": "cZRaoBMI0iEo",
        "outputId": "1fcc6a56-4573-4ef3-f098-e87382dbab48"
      },
      "execution_count": 28,
      "outputs": [
        {
          "output_type": "stream",
          "name": "stdout",
          "text": [
            "drugX\n"
          ]
        }
      ]
    },
    {
      "cell_type": "markdown",
      "source": [
        "Decision Tree Regreesor"
      ],
      "metadata": {
        "id": "inrPX1iR1gLA"
      }
    },
    {
      "cell_type": "code",
      "source": [
        "from sklearn.tree import DecisionTreeRegressor\n",
        "DTR = DecisionTreeRegressor()\n",
        "DTR.fit(xtrain,ytrain)"
      ],
      "metadata": {
        "colab": {
          "base_uri": "https://localhost:8080/"
        },
        "id": "R0u7bvmX1iPU",
        "outputId": "274f48c3-11ce-4b5a-a063-b5e58ebaaf02"
      },
      "execution_count": 29,
      "outputs": [
        {
          "output_type": "execute_result",
          "data": {
            "text/plain": [
              "DecisionTreeRegressor()"
            ]
          },
          "metadata": {},
          "execution_count": 29
        }
      ]
    },
    {
      "cell_type": "code",
      "source": [
        "DTR.score(xtest,ytest)"
      ],
      "metadata": {
        "colab": {
          "base_uri": "https://localhost:8080/"
        },
        "id": "C46GEkVq1ums",
        "outputId": "d5e07329-075a-4022-a3fc-3988b902e1b3"
      },
      "execution_count": 30,
      "outputs": [
        {
          "output_type": "execute_result",
          "data": {
            "text/plain": [
              "1.0"
            ]
          },
          "metadata": {},
          "execution_count": 30
        }
      ]
    },
    {
      "cell_type": "code",
      "source": [
        "pred_value_DTR=DTR.predict([[50,1,3,1,12.703]])\n",
        "pred_value_DTR"
      ],
      "metadata": {
        "colab": {
          "base_uri": "https://localhost:8080/"
        },
        "id": "lRcUUax71xIv",
        "outputId": "7e0615de-08e4-4dd2-85d7-4519d9276763"
      },
      "execution_count": 31,
      "outputs": [
        {
          "output_type": "stream",
          "name": "stderr",
          "text": [
            "/usr/local/lib/python3.8/dist-packages/sklearn/base.py:450: UserWarning: X does not have valid feature names, but DecisionTreeRegressor was fitted with feature names\n",
            "  warnings.warn(\n"
          ]
        },
        {
          "output_type": "execute_result",
          "data": {
            "text/plain": [
              "array([3.])"
            ]
          },
          "metadata": {},
          "execution_count": 31
        }
      ]
    },
    {
      "cell_type": "code",
      "source": [],
      "metadata": {
        "id": "jw6xZ8JA15Gr"
      },
      "execution_count": null,
      "outputs": []
    }
  ]
}