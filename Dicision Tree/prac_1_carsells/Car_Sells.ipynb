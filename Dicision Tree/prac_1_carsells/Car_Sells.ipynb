{
  "nbformat": 4,
  "nbformat_minor": 0,
  "metadata": {
    "colab": {
      "provenance": []
    },
    "kernelspec": {
      "name": "python3",
      "display_name": "Python 3"
    },
    "language_info": {
      "name": "python"
    }
  },
  "cells": [
    {
      "cell_type": "code",
      "execution_count": 100,
      "metadata": {
        "id": "ftoPU6nThU5O"
      },
      "outputs": [],
      "source": [
        "import numpy as np\n",
        "import pandas as pd\n",
        "import matplotlib.pyplot as plt"
      ]
    },
    {
      "cell_type": "code",
      "source": [
        "from google.colab import files\n",
        "files.upload()"
      ],
      "metadata": {
        "colab": {
          "base_uri": "https://localhost:8080/",
          "height": 127
        },
        "id": "3d1ALK5Ih-J7",
        "outputId": "95f6909d-d776-4928-d257-24d3b5cc382a"
      },
      "execution_count": 101,
      "outputs": [
        {
          "output_type": "display_data",
          "data": {
            "text/plain": [
              "<IPython.core.display.HTML object>"
            ],
            "text/html": [
              "\n",
              "     <input type=\"file\" id=\"files-273ed008-7f0b-41b0-8548-451ea2e3b40a\" name=\"files[]\" multiple disabled\n",
              "        style=\"border:none\" />\n",
              "     <output id=\"result-273ed008-7f0b-41b0-8548-451ea2e3b40a\">\n",
              "      Upload widget is only available when the cell has been executed in the\n",
              "      current browser session. Please rerun this cell to enable.\n",
              "      </output>\n",
              "      <script>// Copyright 2017 Google LLC\n",
              "//\n",
              "// Licensed under the Apache License, Version 2.0 (the \"License\");\n",
              "// you may not use this file except in compliance with the License.\n",
              "// You may obtain a copy of the License at\n",
              "//\n",
              "//      http://www.apache.org/licenses/LICENSE-2.0\n",
              "//\n",
              "// Unless required by applicable law or agreed to in writing, software\n",
              "// distributed under the License is distributed on an \"AS IS\" BASIS,\n",
              "// WITHOUT WARRANTIES OR CONDITIONS OF ANY KIND, either express or implied.\n",
              "// See the License for the specific language governing permissions and\n",
              "// limitations under the License.\n",
              "\n",
              "/**\n",
              " * @fileoverview Helpers for google.colab Python module.\n",
              " */\n",
              "(function(scope) {\n",
              "function span(text, styleAttributes = {}) {\n",
              "  const element = document.createElement('span');\n",
              "  element.textContent = text;\n",
              "  for (const key of Object.keys(styleAttributes)) {\n",
              "    element.style[key] = styleAttributes[key];\n",
              "  }\n",
              "  return element;\n",
              "}\n",
              "\n",
              "// Max number of bytes which will be uploaded at a time.\n",
              "const MAX_PAYLOAD_SIZE = 100 * 1024;\n",
              "\n",
              "function _uploadFiles(inputId, outputId) {\n",
              "  const steps = uploadFilesStep(inputId, outputId);\n",
              "  const outputElement = document.getElementById(outputId);\n",
              "  // Cache steps on the outputElement to make it available for the next call\n",
              "  // to uploadFilesContinue from Python.\n",
              "  outputElement.steps = steps;\n",
              "\n",
              "  return _uploadFilesContinue(outputId);\n",
              "}\n",
              "\n",
              "// This is roughly an async generator (not supported in the browser yet),\n",
              "// where there are multiple asynchronous steps and the Python side is going\n",
              "// to poll for completion of each step.\n",
              "// This uses a Promise to block the python side on completion of each step,\n",
              "// then passes the result of the previous step as the input to the next step.\n",
              "function _uploadFilesContinue(outputId) {\n",
              "  const outputElement = document.getElementById(outputId);\n",
              "  const steps = outputElement.steps;\n",
              "\n",
              "  const next = steps.next(outputElement.lastPromiseValue);\n",
              "  return Promise.resolve(next.value.promise).then((value) => {\n",
              "    // Cache the last promise value to make it available to the next\n",
              "    // step of the generator.\n",
              "    outputElement.lastPromiseValue = value;\n",
              "    return next.value.response;\n",
              "  });\n",
              "}\n",
              "\n",
              "/**\n",
              " * Generator function which is called between each async step of the upload\n",
              " * process.\n",
              " * @param {string} inputId Element ID of the input file picker element.\n",
              " * @param {string} outputId Element ID of the output display.\n",
              " * @return {!Iterable<!Object>} Iterable of next steps.\n",
              " */\n",
              "function* uploadFilesStep(inputId, outputId) {\n",
              "  const inputElement = document.getElementById(inputId);\n",
              "  inputElement.disabled = false;\n",
              "\n",
              "  const outputElement = document.getElementById(outputId);\n",
              "  outputElement.innerHTML = '';\n",
              "\n",
              "  const pickedPromise = new Promise((resolve) => {\n",
              "    inputElement.addEventListener('change', (e) => {\n",
              "      resolve(e.target.files);\n",
              "    });\n",
              "  });\n",
              "\n",
              "  const cancel = document.createElement('button');\n",
              "  inputElement.parentElement.appendChild(cancel);\n",
              "  cancel.textContent = 'Cancel upload';\n",
              "  const cancelPromise = new Promise((resolve) => {\n",
              "    cancel.onclick = () => {\n",
              "      resolve(null);\n",
              "    };\n",
              "  });\n",
              "\n",
              "  // Wait for the user to pick the files.\n",
              "  const files = yield {\n",
              "    promise: Promise.race([pickedPromise, cancelPromise]),\n",
              "    response: {\n",
              "      action: 'starting',\n",
              "    }\n",
              "  };\n",
              "\n",
              "  cancel.remove();\n",
              "\n",
              "  // Disable the input element since further picks are not allowed.\n",
              "  inputElement.disabled = true;\n",
              "\n",
              "  if (!files) {\n",
              "    return {\n",
              "      response: {\n",
              "        action: 'complete',\n",
              "      }\n",
              "    };\n",
              "  }\n",
              "\n",
              "  for (const file of files) {\n",
              "    const li = document.createElement('li');\n",
              "    li.append(span(file.name, {fontWeight: 'bold'}));\n",
              "    li.append(span(\n",
              "        `(${file.type || 'n/a'}) - ${file.size} bytes, ` +\n",
              "        `last modified: ${\n",
              "            file.lastModifiedDate ? file.lastModifiedDate.toLocaleDateString() :\n",
              "                                    'n/a'} - `));\n",
              "    const percent = span('0% done');\n",
              "    li.appendChild(percent);\n",
              "\n",
              "    outputElement.appendChild(li);\n",
              "\n",
              "    const fileDataPromise = new Promise((resolve) => {\n",
              "      const reader = new FileReader();\n",
              "      reader.onload = (e) => {\n",
              "        resolve(e.target.result);\n",
              "      };\n",
              "      reader.readAsArrayBuffer(file);\n",
              "    });\n",
              "    // Wait for the data to be ready.\n",
              "    let fileData = yield {\n",
              "      promise: fileDataPromise,\n",
              "      response: {\n",
              "        action: 'continue',\n",
              "      }\n",
              "    };\n",
              "\n",
              "    // Use a chunked sending to avoid message size limits. See b/62115660.\n",
              "    let position = 0;\n",
              "    do {\n",
              "      const length = Math.min(fileData.byteLength - position, MAX_PAYLOAD_SIZE);\n",
              "      const chunk = new Uint8Array(fileData, position, length);\n",
              "      position += length;\n",
              "\n",
              "      const base64 = btoa(String.fromCharCode.apply(null, chunk));\n",
              "      yield {\n",
              "        response: {\n",
              "          action: 'append',\n",
              "          file: file.name,\n",
              "          data: base64,\n",
              "        },\n",
              "      };\n",
              "\n",
              "      let percentDone = fileData.byteLength === 0 ?\n",
              "          100 :\n",
              "          Math.round((position / fileData.byteLength) * 100);\n",
              "      percent.textContent = `${percentDone}% done`;\n",
              "\n",
              "    } while (position < fileData.byteLength);\n",
              "  }\n",
              "\n",
              "  // All done.\n",
              "  yield {\n",
              "    response: {\n",
              "      action: 'complete',\n",
              "    }\n",
              "  };\n",
              "}\n",
              "\n",
              "scope.google = scope.google || {};\n",
              "scope.google.colab = scope.google.colab || {};\n",
              "scope.google.colab._files = {\n",
              "  _uploadFiles,\n",
              "  _uploadFilesContinue,\n",
              "};\n",
              "})(self);\n",
              "</script> "
            ]
          },
          "metadata": {}
        },
        {
          "output_type": "stream",
          "name": "stdout",
          "text": [
            "Saving Carseats.csv to Carseats (2).csv\n"
          ]
        },
        {
          "output_type": "execute_result",
          "data": {
            "text/plain": [
              "{'Carseats.csv': b'Sales,CompPrice,Income,Advertising,Population,Price,ShelveLoc,Age,Education,Urban,US\\r\\n0,139,24,0,358,185,Medium,79,15,No,No\\r\\n0.16,102,33,0,217,139,Medium,70,18,No,No\\r\\n0.37,147,58,7,100,191,Bad,27,15,Yes,Yes\\r\\n0.53,122,88,7,36,159,Bad,28,17,Yes,Yes\\r\\n0.91,93,91,0,22,117,Bad,75,11,Yes,No\\r\\n1.42,99,32,18,341,108,Bad,80,16,Yes,Yes\\r\\n1.82,139,45,0,146,133,Bad,77,17,Yes,Yes\\r\\n2.05,131,82,0,132,157,Bad,25,14,Yes,No\\r\\n2.07,119,98,0,18,126,Bad,73,17,No,No\\r\\n2.23,111,25,0,52,121,Bad,43,18,No,No\\r\\n2.34,116,83,15,170,144,Bad,71,11,Yes,Yes\\r\\n2.52,124,61,0,333,138,Medium,76,16,Yes,No\\r\\n2.66,136,65,4,133,150,Bad,53,13,Yes,Yes\\r\\n2.67,115,54,0,406,128,Medium,42,17,Yes,Yes\\r\\n2.86,121,86,10,496,145,Bad,51,10,Yes,Yes\\r\\n2.93,143,21,5,81,160,Medium,67,12,No,Yes\\r\\n2.99,103,74,0,359,97,Bad,55,11,Yes,Yes\\r\\n3.02,98,21,11,326,90,Bad,76,11,No,Yes\\r\\n3.07,118,83,13,276,104,Bad,75,10,Yes,Yes\\r\\n3.13,130,62,11,396,130,Bad,66,14,Yes,Yes\\r\\n3.15,117,66,1,65,111,Bad,55,11,Yes,Yes\\r\\n3.24,130,60,0,144,138,Bad,38,10,No,No\\r\\n3.42,141,57,13,376,158,Medium,64,18,Yes,Yes\\r\\n3.45,110,45,9,276,125,Medium,62,14,Yes,Yes\\r\\n3.47,107,79,2,488,103,Bad,65,16,Yes,No\\r\\n3.47,108,38,0,251,81,Bad,72,14,No,No\\r\\n3.58,142,109,0,111,164,Good,72,12,Yes,No\\r\\n3.62,112,80,5,500,128,Medium,69,10,Yes,Yes\\r\\n3.63,122,74,0,424,149,Medium,51,13,Yes,No\\r\\n3.67,132,31,0,327,131,Medium,76,16,Yes,No\\r\\n3.72,139,111,5,310,132,Bad,62,13,Yes,Yes\\r\\n3.89,123,105,0,149,118,Bad,62,16,Yes,Yes\\r\\n3.9,114,83,0,412,131,Bad,39,14,Yes,No\\r\\n3.9,124,65,21,496,151,Bad,77,13,Yes,Yes\\r\\n3.91,116,52,0,349,98,Bad,69,18,Yes,No\\r\\n3.98,122,35,2,393,136,Medium,62,18,Yes,No\\r\\n4.1,121,78,4,413,130,Bad,46,10,No,Yes\\r\\n4.1,130,28,6,410,133,Bad,72,16,Yes,Yes\\r\\n4.1,134,82,0,464,141,Medium,48,13,No,No\\r\\n4.11,113,69,11,94,106,Medium,76,12,No,Yes\\r\\n4.12,123,42,11,16,134,Medium,59,13,Yes,Yes\\r\\n4.15,141,64,3,340,128,Bad,38,13,Yes,No\\r\\n4.16,85,79,6,325,95,Medium,69,13,Yes,Yes\\r\\n4.17,123,96,10,71,118,Bad,69,11,Yes,Yes\\r\\n4.19,117,93,4,420,112,Bad,66,11,Yes,Yes\\r\\n4.2,147,40,0,277,144,Medium,73,10,Yes,No\\r\\n4.21,118,35,14,502,137,Medium,79,10,No,Yes\\r\\n4.34,106,44,0,481,111,Medium,70,14,No,No\\r\\n4.36,125,41,2,357,123,Bad,47,14,No,Yes\\r\\n4.38,126,98,0,173,108,Bad,55,16,Yes,No\\r\\n4.42,109,36,7,468,94,Bad,56,11,Yes,Yes\\r\\n4.42,121,90,0,150,108,Bad,75,16,Yes,No\\r\\n4.43,134,48,1,139,145,Medium,65,12,Yes,Yes\\r\\n4.47,143,120,7,279,147,Bad,40,10,No,Yes\\r\\n4.53,114,113,0,97,125,Medium,29,12,Yes,No\\r\\n4.53,129,42,13,315,130,Bad,34,13,Yes,Yes\\r\\n4.55,111,56,0,504,110,Medium,62,16,Yes,No\\r\\n4.56,141,63,0,168,135,Bad,44,12,Yes,Yes\\r\\n4.62,121,96,0,472,138,Medium,51,12,Yes,No\\r\\n4.67,111,28,0,486,111,Medium,29,12,No,No\\r\\n4.68,124,46,0,199,135,Medium,52,14,No,No\\r\\n4.69,132,113,0,131,124,Medium,76,17,No,Yes\\r\\n4.69,133,30,0,152,122,Medium,53,17,Yes,No\\r\\n4.74,137,60,4,230,140,Bad,25,13,Yes,No\\r\\n4.78,131,32,1,85,133,Medium,48,12,Yes,Yes\\r\\n4.81,97,46,11,267,107,Medium,80,15,Yes,Yes\\r\\n4.81,121,68,0,279,149,Good,79,12,Yes,No\\r\\n4.83,115,115,3,48,107,Medium,73,18,Yes,Yes\\r\\n4.88,121,47,3,220,107,Bad,56,16,No,Yes\\r\\n4.9,122,26,0,197,128,Medium,55,13,No,No\\r\\n4.9,134,103,13,25,144,Medium,76,17,No,Yes\\r\\n4.94,137,112,15,434,149,Bad,66,13,Yes,Yes\\r\\n4.95,121,41,5,412,110,Medium,54,10,Yes,Yes\\r\\n4.95,121,28,19,315,121,Medium,66,14,Yes,Yes\\r\\n4.96,133,100,3,350,126,Bad,55,13,Yes,Yes\\r\\n4.97,162,67,0,27,160,Medium,77,17,Yes,Yes\\r\\n4.99,122,59,0,501,112,Bad,32,14,No,No\\r\\n5.01,159,69,0,438,166,Medium,46,17,Yes,No\\r\\n5.04,123,114,0,298,151,Bad,34,16,Yes,No\\r\\n5.05,125,67,0,86,117,Bad,65,11,Yes,No\\r\\n5.07,123,91,0,334,96,Bad,78,17,Yes,Yes\\r\\n5.08,128,46,6,497,138,Medium,42,13,Yes,No\\r\\n5.08,135,75,0,202,128,Medium,80,10,No,No\\r\\n5.12,123,36,10,467,100,Bad,74,11,No,Yes\\r\\n5.16,115,60,0,119,114,Bad,38,14,No,No\\r\\n5.17,131,75,0,10,120,Bad,31,18,No,No\\r\\n5.17,138,35,6,60,143,Bad,28,18,Yes,No\\r\\n5.21,118,71,4,148,114,Medium,80,13,Yes,No\\r\\n5.25,131,55,0,26,110,Bad,79,12,Yes,Yes\\r\\n5.27,98,118,0,19,107,Medium,64,17,Yes,No\\r\\n5.28,108,77,13,388,110,Bad,74,14,Yes,Yes\\r\\n5.3,113,22,0,57,97,Medium,65,16,No,No\\r\\n5.3,133,31,1,80,145,Medium,42,18,Yes,Yes\\r\\n5.31,130,35,10,402,129,Bad,39,17,Yes,Yes\\r\\n5.32,118,74,6,426,102,Medium,80,18,Yes,Yes\\r\\n5.32,152,116,0,170,160,Medium,39,16,Yes,No\\r\\n5.33,115,22,0,491,103,Medium,64,11,No,No\\r\\n5.35,130,58,19,366,139,Bad,33,16,Yes,Yes\\r\\n5.36,111,52,0,12,101,Medium,61,11,Yes,Yes\\r\\n5.36,135,110,0,112,117,Medium,80,16,No,No\\r\\n5.4,149,73,13,381,163,Bad,26,11,No,Yes\\r\\n5.42,103,93,15,188,103,Bad,74,16,Yes,Yes\\r\\n5.47,108,75,9,61,111,Medium,67,12,Yes,Yes\\r\\n5.52,115,45,0,432,116,Medium,25,15,Yes,No\\r\\n5.53,126,32,8,95,132,Medium,50,17,Yes,Yes\\r\\n5.55,104,100,8,398,97,Medium,61,11,Yes,Yes\\r\\n5.56,144,92,0,349,146,Medium,62,12,No,No\\r\\n5.57,109,51,10,26,120,Medium,30,17,No,Yes\\r\\n5.58,134,25,10,237,148,Medium,59,13,Yes,Yes\\r\\n5.58,137,71,0,402,116,Medium,78,17,Yes,No\\r\\n5.61,138,107,9,480,154,Medium,47,11,No,Yes\\r\\n5.64,124,24,5,288,122,Medium,57,12,No,Yes\\r\\n5.68,113,22,1,317,132,Medium,28,12,Yes,No\\r\\n5.68,130,64,0,40,106,Bad,39,17,No,No\\r\\n5.71,121,42,4,188,118,Medium,54,15,Yes,Yes\\r\\n5.73,141,33,0,243,144,Medium,34,17,Yes,No\\r\\n5.74,106,33,20,354,104,Medium,61,12,Yes,Yes\\r\\n5.81,125,111,0,404,107,Bad,54,15,Yes,No\\r\\n5.83,134,82,7,473,112,Bad,51,12,No,Yes\\r\\n5.86,136,70,12,171,152,Medium,44,18,Yes,Yes\\r\\n5.87,121,31,0,292,109,Medium,79,10,Yes,No\\r\\n5.87,131,73,13,455,132,Medium,62,17,Yes,Yes\\r\\n5.87,136,60,7,303,147,Medium,41,10,Yes,Yes\\r\\n5.9,138,92,0,13,120,Bad,61,12,Yes,No\\r\\n5.93,150,36,7,488,150,Medium,25,17,No,Yes\\r\\n5.94,100,79,7,284,95,Bad,50,12,Yes,Yes\\r\\n5.94,138,83,0,139,134,Medium,54,18,Yes,No\\r\\n5.97,112,24,0,164,101,Medium,45,11,Yes,No\\r\\n5.98,124,56,11,447,134,Medium,53,12,No,Yes\\r\\n5.99,117,42,10,371,121,Bad,26,14,Yes,Yes\\r\\n6.01,131,29,11,335,127,Bad,33,12,Yes,Yes\\r\\n6.03,117,32,0,142,96,Bad,62,17,Yes,No\\r\\n6.03,133,60,10,277,129,Medium,45,18,Yes,Yes\\r\\n6.1,153,63,0,49,124,Bad,56,16,Yes,No\\r\\n6.11,133,88,3,105,119,Medium,79,12,Yes,Yes\\r\\n6.14,139,23,3,37,120,Medium,55,11,No,Yes\\r\\n6.15,146,68,12,328,132,Bad,51,14,Yes,Yes\\r\\n6.18,120,70,15,464,110,Medium,72,15,Yes,Yes\\r\\n6.2,107,32,12,236,137,Good,64,10,No,Yes\\r\\n6.2,128,93,0,89,118,Medium,34,18,Yes,No\\r\\n6.2,150,68,5,125,136,Medium,64,13,No,Yes\\r\\n6.23,112,38,17,316,104,Medium,80,16,Yes,Yes\\r\\n6.37,120,77,15,86,132,Medium,48,18,Yes,Yes\\r\\n6.38,135,91,5,207,128,Medium,66,18,Yes,Yes\\r\\n6.39,131,21,8,220,171,Good,29,14,Yes,Yes\\r\\n6.41,125,90,2,367,131,Medium,35,18,Yes,Yes\\r\\n6.41,142,30,0,472,136,Good,80,15,No,No\\r\\n6.42,122,88,5,335,126,Medium,64,14,Yes,Yes\\r\\n6.43,124,44,0,125,107,Medium,80,11,Yes,No\\r\\n6.44,96,94,14,384,120,Medium,36,18,No,Yes\\r\\n6.5,108,69,3,208,94,Medium,77,16,Yes,No\\r\\n6.5,148,51,16,148,150,Medium,58,17,No,Yes\\r\\n6.52,125,48,3,192,116,Medium,51,14,Yes,Yes\\r\\n6.52,128,42,0,436,118,Medium,80,11,Yes,No\\r\\n6.53,123,57,0,66,105,Medium,39,11,Yes,No\\r\\n6.53,140,42,0,331,131,Bad,28,15,Yes,No\\r\\n6.53,154,30,0,122,162,Medium,57,17,No,No\\r\\n6.54,132,110,0,108,124,Medium,76,10,No,No\\r\\n6.56,117,42,7,144,111,Medium,62,10,Yes,Yes\\r\\n6.59,109,73,0,454,102,Medium,65,15,Yes,No\\r\\n6.62,132,118,12,272,151,Medium,43,14,Yes,Yes\\r\\n6.63,115,105,0,45,108,Medium,71,15,Yes,No\\r\\n6.64,118,70,0,106,89,Bad,39,17,Yes,No\\r\\n6.67,107,119,11,210,132,Medium,53,11,Yes,Yes\\r\\n6.67,116,99,5,298,125,Good,62,12,Yes,Yes\\r\\n6.67,156,42,13,170,173,Good,74,14,Yes,Yes\\r\\n6.68,107,25,0,412,82,Bad,36,14,Yes,No\\r\\n6.71,106,73,0,216,93,Medium,60,13,Yes,No\\r\\n6.71,119,67,17,151,137,Medium,55,11,Yes,Yes\\r\\n6.8,137,117,5,337,135,Bad,38,10,Yes,Yes\\r\\n6.81,132,61,0,263,125,Medium,41,12,No,No\\r\\n6.85,143,81,5,60,154,Medium,61,18,Yes,Yes\\r\\n6.87,128,105,11,249,131,Medium,63,13,Yes,Yes\\r\\n6.88,95,44,4,208,72,Bad,44,17,Yes,Yes\\r\\n6.88,96,39,0,161,112,Good,27,14,No,No\\r\\n6.88,119,100,5,45,108,Medium,75,10,Yes,Yes\\r\\n6.89,129,69,10,289,110,Medium,50,16,No,Yes\\r\\n6.9,120,56,20,266,90,Bad,78,18,Yes,Yes\\r\\n6.92,109,64,13,39,119,Medium,61,17,Yes,Yes\\r\\n6.93,135,69,14,296,130,Medium,73,15,Yes,Yes\\r\\n6.95,128,29,5,324,159,Good,31,15,Yes,Yes\\r\\n6.97,106,46,11,414,96,Bad,79,17,No,No\\r\\n6.97,127,45,19,459,129,Medium,57,11,No,Yes\\r\\n6.98,116,40,0,74,97,Medium,76,15,No,No\\r\\n7.02,130,100,0,306,146,Good,42,11,Yes,No\\r\\n7.22,114,113,2,129,151,Good,40,15,No,Yes\\r\\n7.22,135,93,2,67,119,Medium,34,11,Yes,Yes\\r\\n7.23,112,98,18,481,128,Medium,45,11,Yes,Yes\\r\\n7.3,129,89,0,425,117,Medium,45,10,Yes,No\\r\\n7.32,105,32,0,358,107,Medium,26,13,No,No\\r\\n7.36,121,24,0,200,133,Good,73,13,Yes,No\\r\\n7.37,130,94,8,137,128,Medium,64,12,Yes,Yes\\r\\n7.38,98,120,0,268,93,Medium,72,10,No,No\\r\\n7.4,117,100,4,466,97,Medium,55,14,Yes,Yes\\r\\n7.41,99,93,0,198,87,Medium,57,16,Yes,Yes\\r\\n7.41,162,26,12,368,159,Medium,40,18,Yes,Yes\\r\\n7.43,121,83,0,79,91,Medium,68,11,Yes,No\\r\\n7.44,124,84,0,300,104,Medium,77,15,Yes,No\\r\\n7.45,161,82,5,287,129,Bad,33,16,Yes,Yes\\r\\n7.49,136,119,6,178,145,Medium,35,13,Yes,Yes\\r\\n7.49,146,34,0,220,157,Good,51,16,Yes,No\\r\\n7.5,140,29,0,105,91,Bad,43,16,Yes,No\\r\\n7.52,116,72,0,237,128,Good,70,13,Yes,No\\r\\n7.52,123,39,5,499,98,Medium,34,15,Yes,No\\r\\n7.53,117,118,11,429,113,Medium,67,18,No,Yes\\r\\n7.54,115,89,0,38,122,Medium,25,12,Yes,No\\r\\n7.56,108,26,0,408,93,Medium,56,14,No,No\\r\\n7.56,110,119,0,384,97,Medium,72,14,No,Yes\\r\\n7.57,112,88,2,243,99,Medium,62,11,Yes,Yes\\r\\n7.58,118,32,0,284,110,Good,63,13,Yes,No\\r\\n7.6,146,26,11,261,131,Medium,39,10,Yes,Yes\\r\\n7.62,132,98,2,265,97,Bad,62,12,Yes,Yes\\r\\n7.63,93,117,9,489,83,Bad,42,13,Yes,Yes\\r\\n7.64,128,78,0,341,128,Good,45,13,No,No\\r\\n7.67,129,117,8,400,101,Bad,36,10,Yes,Yes\\r\\n7.68,126,41,22,403,119,Bad,42,12,Yes,Yes\\r\\n7.7,118,71,12,44,89,Medium,67,18,No,Yes\\r\\n7.71,98,72,0,59,69,Medium,65,16,Yes,No\\r\\n7.71,123,81,8,198,81,Bad,80,15,Yes,Yes\\r\\n7.72,133,33,10,333,129,Good,71,14,Yes,Yes\\r\\n7.74,150,96,0,80,154,Good,61,11,Yes,No\\r\\n7.77,116,26,6,434,115,Medium,25,17,Yes,Yes\\r\\n7.78,86,54,0,497,64,Bad,33,12,Yes,No\\r\\n7.78,144,25,3,70,116,Medium,77,18,Yes,Yes\\r\\n7.8,100,67,12,184,104,Medium,32,16,No,Yes\\r\\n7.8,119,33,0,245,122,Good,56,14,Yes,No\\r\\n7.8,121,50,0,508,98,Medium,65,11,No,No\\r\\n7.8,136,48,12,326,125,Medium,36,16,Yes,Yes\\r\\n7.81,104,99,15,226,102,Bad,58,17,Yes,Yes\\r\\n7.81,137,102,13,422,118,Medium,71,10,No,Yes\\r\\n7.82,124,25,13,87,110,Medium,57,10,Yes,Yes\\r\\n7.9,132,46,4,206,124,Medium,73,11,Yes,No\\r\\n7.91,153,40,3,112,129,Bad,39,18,Yes,Yes\\r\\n7.95,128,66,3,493,119,Medium,45,16,No,No\\r\\n7.96,157,53,0,403,124,Bad,58,16,Yes,No\\r\\n7.99,127,59,0,339,99,Medium,65,12,Yes,No\\r\\n8.01,113,100,16,353,79,Bad,68,11,Yes,Yes\\r\\n8.01,128,39,12,356,118,Medium,71,10,Yes,Yes\\r\\n8.03,115,29,26,394,132,Medium,33,13,Yes,Yes\\r\\n8.07,116,37,0,426,90,Medium,76,15,Yes,No\\r\\n8.09,132,69,0,123,122,Medium,27,11,No,No\\r\\n8.14,135,89,11,245,78,Bad,79,16,Yes,Yes\\r\\n8.19,111,105,0,466,97,Bad,61,10,No,No\\r\\n8.19,127,103,0,125,155,Good,29,15,No,Yes\\r\\n8.21,127,44,13,160,123,Good,63,18,Yes,Yes\\r\\n8.22,148,64,0,58,141,Medium,27,13,No,Yes\\r\\n8.23,149,84,5,220,139,Medium,33,10,Yes,Yes\\r\\n8.25,136,58,16,241,131,Medium,44,18,Yes,Yes\\r\\n8.31,133,97,0,70,117,Medium,32,16,Yes,No\\r\\n8.32,122,102,19,469,123,Bad,29,13,Yes,Yes\\r\\n8.33,107,115,11,496,131,Good,50,11,No,Yes\\r\\n8.39,115,97,5,134,84,Bad,55,11,Yes,Yes\\r\\n8.41,94,84,13,497,77,Medium,51,12,Yes,Yes\\r\\n8.43,138,80,0,108,126,Good,70,13,No,Yes\\r\\n8.44,128,42,8,328,107,Medium,35,12,Yes,Yes\\r\\n8.47,119,88,10,170,101,Medium,61,13,Yes,Yes\\r\\n8.47,125,103,0,304,112,Medium,49,13,No,No\\r\\n8.54,139,35,0,95,129,Medium,42,13,Yes,No\\r\\n8.55,88,111,23,480,92,Bad,36,16,No,Yes\\r\\n8.55,134,107,0,104,108,Medium,60,12,Yes,No\\r\\n8.57,116,78,1,158,99,Medium,45,11,Yes,Yes\\r\\n8.61,130,38,0,283,102,Medium,80,15,Yes,No\\r\\n8.64,111,101,17,266,91,Medium,63,17,No,Yes\\r\\n8.65,123,76,18,218,120,Medium,29,14,No,Yes\\r\\n8.67,125,62,14,477,112,Medium,80,13,Yes,Yes\\r\\n8.67,142,73,14,238,115,Medium,73,14,No,Yes\\r\\n8.68,120,51,0,93,86,Medium,46,17,No,No\\r\\n8.68,131,25,10,183,104,Medium,56,15,No,Yes\\r\\n8.69,113,64,10,68,101,Medium,57,16,Yes,Yes\\r\\n8.7,150,84,9,432,134,Medium,64,15,Yes,No\\r\\n8.71,149,95,5,400,144,Medium,76,18,No,No\\r\\n8.73,129,76,16,58,121,Medium,69,12,Yes,Yes\\r\\n8.74,155,80,0,237,124,Medium,37,14,Yes,No\\r\\n8.75,143,77,25,448,156,Medium,43,17,Yes,Yes\\r\\n8.77,114,38,13,317,128,Good,50,16,Yes,Yes\\r\\n8.77,118,86,7,265,114,Good,52,15,No,Yes\\r\\n8.77,144,63,11,27,117,Medium,47,17,Yes,Yes\\r\\n8.78,130,30,0,391,100,Medium,26,18,Yes,No\\r\\n8.79,130,37,13,297,101,Medium,37,13,No,Yes\\r\\n8.8,145,53,0,507,119,Medium,41,12,Yes,No\\r\\n8.85,127,92,0,508,91,Medium,56,18,Yes,No\\r\\n8.86,145,30,0,67,104,Medium,55,17,Yes,No\\r\\n8.87,131,113,0,181,120,Good,63,14,Yes,No\\r\\n8.89,122,76,0,270,100,Good,60,18,No,No\\r\\n8.97,132,107,0,144,125,Medium,33,13,No,No\\r\\n8.98,115,65,0,217,90,Medium,60,17,No,No\\r\\n9,128,62,7,125,116,Medium,43,14,Yes,Yes\\r\\n9.01,121,78,9,150,100,Bad,26,10,No,Yes\\r\\n9.01,126,61,14,152,115,Medium,47,16,Yes,Yes\\r\\n9.03,104,102,13,123,110,Good,35,16,Yes,Yes\\r\\n9.08,152,81,0,191,126,Medium,54,16,Yes,No\\r\\n9.09,132,68,0,264,123,Good,34,11,No,No\\r\\n9.1,128,93,12,343,112,Good,73,17,No,Yes\\r\\n9.14,134,67,0,286,90,Bad,41,13,Yes,No\\r\\n9.16,137,105,10,435,156,Good,72,14,Yes,Yes\\r\\n9.16,140,50,10,300,139,Good,60,15,Yes,Yes\\r\\n9.24,126,80,19,436,126,Medium,52,10,Yes,Yes\\r\\n9.31,122,87,9,17,106,Medium,65,13,Yes,Yes\\r\\n9.32,119,60,0,372,70,Bad,30,18,No,No\\r\\n9.32,134,27,18,467,96,Medium,49,14,No,Yes\\r\\n9.32,141,34,16,361,108,Medium,69,10,Yes,Yes\\r\\n9.33,103,81,3,491,54,Medium,66,13,Yes,No\\r\\n9.34,89,78,0,181,49,Medium,43,15,No,No\\r\\n9.35,98,117,0,76,68,Medium,63,10,Yes,No\\r\\n9.39,117,118,14,445,120,Medium,32,15,Yes,Yes\\r\\n9.4,135,40,17,497,96,Medium,54,17,No,Yes\\r\\n9.43,115,62,11,289,129,Good,56,16,No,Yes\\r\\n9.44,131,47,7,90,118,Medium,47,12,Yes,Yes\\r\\n9.45,107,67,12,430,92,Medium,35,12,No,Yes\\r\\n9.46,89,81,15,237,99,Good,74,12,Yes,Yes\\r\\n9.48,147,42,10,407,132,Good,73,16,No,Yes\\r\\n9.49,107,111,14,400,103,Medium,41,11,No,Yes\\r\\n9.5,138,73,11,276,120,Bad,42,17,Yes,Yes\\r\\n9.53,175,65,29,419,166,Medium,53,12,Yes,Yes\\r\\n9.54,125,87,9,232,136,Good,72,10,Yes,Yes\\r\\n9.58,108,104,23,353,129,Good,37,17,Yes,Yes\\r\\n9.62,151,28,8,499,135,Medium,48,10,Yes,Yes\\r\\n9.64,106,64,10,17,89,Medium,68,17,Yes,Yes\\r\\n9.7,138,61,12,156,120,Medium,25,14,Yes,Yes\\r\\n9.71,134,37,0,27,120,Good,49,16,Yes,Yes\\r\\n9.95,132,33,7,35,97,Medium,60,11,No,Yes\\r\\n10,114,43,0,199,88,Good,57,10,No,Yes\\r\\n10.01,133,52,16,290,99,Medium,43,11,Yes,Yes\\r\\n10.04,116,106,8,244,86,Medium,58,12,Yes,Yes\\r\\n10.06,113,35,10,269,80,Medium,59,12,Yes,Yes\\r\\n10.07,130,100,11,449,107,Medium,64,10,Yes,Yes\\r\\n10.08,116,72,10,456,130,Good,41,14,No,Yes\\r\\n10.1,135,63,15,213,134,Medium,32,10,Yes,Yes\\r\\n10.14,145,119,16,294,113,Bad,42,12,Yes,Yes\\r\\n10.21,121,58,8,249,90,Medium,48,13,No,Yes\\r\\n10.26,111,75,1,377,108,Good,25,12,Yes,No\\r\\n10.26,135,100,22,463,122,Medium,36,14,Yes,Yes\\r\\n10.27,125,103,12,371,109,Medium,44,10,Yes,Yes\\r\\n10.31,159,80,0,362,121,Medium,26,18,Yes,No\\r\\n10.36,107,105,18,428,103,Medium,34,12,Yes,Yes\\r\\n10.43,77,69,0,25,24,Medium,50,18,Yes,No\\r\\n10.44,124,115,16,458,105,Medium,62,16,No,Yes\\r\\n10.48,138,72,0,148,94,Medium,27,17,Yes,Yes\\r\\n10.49,122,84,8,176,114,Good,57,10,No,Yes\\r\\n10.5,122,21,16,488,131,Good,30,14,Yes,Yes\\r\\n10.51,140,54,9,402,119,Good,41,16,No,Yes\\r\\n10.59,131,120,15,262,124,Medium,30,10,Yes,Yes\\r\\n10.61,157,93,0,51,149,Good,32,17,Yes,No\\r\\n10.62,116,79,19,359,116,Good,58,17,Yes,Yes\\r\\n10.64,102,87,10,346,70,Medium,64,15,Yes,Yes\\r\\n10.66,104,71,14,89,81,Medium,25,14,No,Yes\\r\\n10.71,109,22,10,348,79,Good,74,14,No,Yes\\r\\n10.77,111,58,17,407,103,Good,75,17,No,Yes\\r\\n10.81,124,113,13,501,72,Bad,78,16,No,Yes\\r\\n10.96,115,28,11,29,86,Good,53,18,Yes,Yes\\r\\n10.98,148,63,0,312,130,Good,63,15,Yes,No\\r\\n11.07,131,84,11,29,96,Medium,44,17,No,Yes\\r\\n11.17,107,117,11,148,118,Good,52,18,Yes,Yes\\r\\n11.18,131,111,13,33,80,Bad,68,18,Yes,Yes\\r\\n11.19,98,104,0,404,72,Medium,27,18,No,No\\r\\n11.19,122,69,7,303,105,Good,45,16,No,Yes\\r\\n11.22,111,48,16,260,83,Good,65,10,Yes,Yes\\r\\n11.27,100,54,9,433,89,Good,45,12,Yes,Yes\\r\\n11.27,153,68,2,60,133,Good,59,16,Yes,Yes\\r\\n11.28,123,84,0,74,89,Good,59,10,Yes,No\\r\\n11.48,104,41,15,492,77,Good,73,18,Yes,Yes\\r\\n11.48,121,120,13,140,87,Medium,56,11,Yes,Yes\\r\\n11.54,134,44,4,219,126,Good,44,15,Yes,Yes\\r\\n11.62,151,83,4,325,139,Good,28,17,Yes,Yes\\r\\n11.67,125,89,10,380,87,Bad,28,10,Yes,Yes\\r\\n11.7,131,67,7,272,126,Good,54,16,No,Yes\\r\\n11.7,144,69,11,131,104,Medium,47,11,Yes,Yes\\r\\n11.82,113,66,16,322,74,Good,76,15,Yes,Yes\\r\\n11.85,136,81,15,425,120,Good,67,10,Yes,Yes\\r\\n11.91,133,82,0,54,84,Medium,50,17,Yes,No\\r\\n11.93,123,98,12,408,134,Good,29,10,Yes,Yes\\r\\n11.96,117,94,4,503,94,Good,50,13,Yes,Yes\\r\\n11.99,119,26,0,284,89,Good,26,10,Yes,No\\r\\n12.01,136,63,0,160,94,Medium,38,12,Yes,No\\r\\n12.04,145,69,19,501,105,Medium,45,11,Yes,Yes\\r\\n12.11,118,117,18,509,104,Medium,26,15,No,Yes\\r\\n12.13,134,29,12,239,109,Good,62,18,No,Yes\\r\\n12.29,147,74,13,251,131,Good,52,10,Yes,Yes\\r\\n12.3,146,62,10,310,94,Medium,30,13,No,Yes\\r\\n12.44,127,90,14,16,70,Medium,48,15,No,Yes\\r\\n12.49,93,106,12,416,55,Medium,75,15,Yes,Yes\\r\\n12.49,122,77,24,382,127,Good,36,16,No,Yes\\r\\n12.53,142,90,1,189,112,Good,39,10,No,Yes\\r\\n12.57,132,102,20,459,107,Good,49,11,Yes,Yes\\r\\n12.57,138,108,17,203,128,Good,33,14,Yes,Yes\\r\\n12.61,118,90,10,54,104,Good,31,11,No,Yes\\r\\n12.66,148,76,3,126,99,Good,60,11,Yes,Yes\\r\\n12.85,123,37,15,348,112,Good,28,12,Yes,Yes\\r\\n12.98,113,33,0,14,63,Good,38,12,Yes,No\\r\\n13.14,137,80,10,24,105,Good,61,15,Yes,Yes\\r\\n13.28,139,70,7,71,96,Good,61,10,Yes,Yes\\r\\n13.36,103,73,3,276,72,Medium,34,15,Yes,Yes\\r\\n13.39,149,69,20,366,134,Good,60,13,Yes,Yes\\r\\n13.44,133,103,14,288,122,Good,61,17,Yes,Yes\\r\\n13.55,125,94,0,447,89,Good,30,12,Yes,No\\r\\n13.91,110,110,0,408,68,Good,46,17,No,Yes\\r\\n14.37,95,106,0,256,53,Good,52,17,Yes,No\\r\\n14.9,139,32,0,176,82,Good,54,11,No,No\\r\\n15.63,122,36,5,369,72,Good,35,10,Yes,Yes\\r\\n16.27,141,60,19,319,92,Good,44,11,Yes,Yes\\r\\n'}"
            ]
          },
          "metadata": {},
          "execution_count": 101
        }
      ]
    },
    {
      "cell_type": "code",
      "source": [
        "df = pd.read_csv('Carseats.csv')\n",
        "df.head"
      ],
      "metadata": {
        "colab": {
          "base_uri": "https://localhost:8080/"
        },
        "id": "ljD1Ob7YiCfe",
        "outputId": "27077d7c-48c4-47cd-97ce-f240ebeb8948"
      },
      "execution_count": 102,
      "outputs": [
        {
          "output_type": "execute_result",
          "data": {
            "text/plain": [
              "<bound method NDFrame.head of      Sales  CompPrice  Income  Advertising  Population  Price ShelveLoc  Age  \\\n",
              "0     9.50        138      73           11         276    120       Bad   42   \n",
              "1    11.22        111      48           16         260     83      Good   65   \n",
              "2    10.06        113      35           10         269     80    Medium   59   \n",
              "3     7.40        117     100            4         466     97    Medium   55   \n",
              "4     4.15        141      64            3         340    128       Bad   38   \n",
              "..     ...        ...     ...          ...         ...    ...       ...  ...   \n",
              "395  12.57        138     108           17         203    128      Good   33   \n",
              "396   6.14        139      23            3          37    120    Medium   55   \n",
              "397   7.41        162      26           12         368    159    Medium   40   \n",
              "398   5.94        100      79            7         284     95       Bad   50   \n",
              "399   9.71        134      37            0          27    120      Good   49   \n",
              "\n",
              "     Education Urban   US  \n",
              "0           17   Yes  Yes  \n",
              "1           10   Yes  Yes  \n",
              "2           12   Yes  Yes  \n",
              "3           14   Yes  Yes  \n",
              "4           13   Yes   No  \n",
              "..         ...   ...  ...  \n",
              "395         14   Yes  Yes  \n",
              "396         11    No  Yes  \n",
              "397         18   Yes  Yes  \n",
              "398         12   Yes  Yes  \n",
              "399         16   Yes  Yes  \n",
              "\n",
              "[400 rows x 11 columns]>"
            ]
          },
          "metadata": {},
          "execution_count": 102
        }
      ]
    },
    {
      "cell_type": "code",
      "source": [
        "df.shape"
      ],
      "metadata": {
        "colab": {
          "base_uri": "https://localhost:8080/"
        },
        "id": "G9fHHkEBiO6b",
        "outputId": "6f62a587-3cb4-4c58-b53c-5cf32cbf72ed"
      },
      "execution_count": 103,
      "outputs": [
        {
          "output_type": "execute_result",
          "data": {
            "text/plain": [
              "(400, 11)"
            ]
          },
          "metadata": {},
          "execution_count": 103
        }
      ]
    },
    {
      "cell_type": "code",
      "source": [
        "df.isnull().sum()"
      ],
      "metadata": {
        "colab": {
          "base_uri": "https://localhost:8080/"
        },
        "id": "MwggYYmYiPzt",
        "outputId": "4a7dcb05-58a3-49f8-af1e-fadd1acb18a2"
      },
      "execution_count": 104,
      "outputs": [
        {
          "output_type": "execute_result",
          "data": {
            "text/plain": [
              "Sales          0\n",
              "CompPrice      0\n",
              "Income         0\n",
              "Advertising    0\n",
              "Population     0\n",
              "Price          0\n",
              "ShelveLoc      0\n",
              "Age            0\n",
              "Education      0\n",
              "Urban          0\n",
              "US             0\n",
              "dtype: int64"
            ]
          },
          "metadata": {},
          "execution_count": 104
        }
      ]
    },
    {
      "cell_type": "code",
      "source": [
        "df.info()"
      ],
      "metadata": {
        "colab": {
          "base_uri": "https://localhost:8080/"
        },
        "id": "KYQCIyToihDq",
        "outputId": "b3cd8884-2e7a-4fd5-b473-77b4ae48437b"
      },
      "execution_count": 105,
      "outputs": [
        {
          "output_type": "stream",
          "name": "stdout",
          "text": [
            "<class 'pandas.core.frame.DataFrame'>\n",
            "RangeIndex: 400 entries, 0 to 399\n",
            "Data columns (total 11 columns):\n",
            " #   Column       Non-Null Count  Dtype  \n",
            "---  ------       --------------  -----  \n",
            " 0   Sales        400 non-null    float64\n",
            " 1   CompPrice    400 non-null    int64  \n",
            " 2   Income       400 non-null    int64  \n",
            " 3   Advertising  400 non-null    int64  \n",
            " 4   Population   400 non-null    int64  \n",
            " 5   Price        400 non-null    int64  \n",
            " 6   ShelveLoc    400 non-null    object \n",
            " 7   Age          400 non-null    int64  \n",
            " 8   Education    400 non-null    int64  \n",
            " 9   Urban        400 non-null    object \n",
            " 10  US           400 non-null    object \n",
            "dtypes: float64(1), int64(7), object(3)\n",
            "memory usage: 34.5+ KB\n"
          ]
        }
      ]
    },
    {
      "cell_type": "code",
      "source": [
        "df['ShelveLoc']=df['ShelveLoc'].astype('category')\n",
        "df['ShelveLoc']=df['ShelveLoc'].cat.codes\n",
        "df['ShelveLoc']"
      ],
      "metadata": {
        "colab": {
          "base_uri": "https://localhost:8080/"
        },
        "id": "WwwHavN3ijU_",
        "outputId": "89cba1b9-afce-4ee5-f5c4-dcea6e18924d"
      },
      "execution_count": 106,
      "outputs": [
        {
          "output_type": "execute_result",
          "data": {
            "text/plain": [
              "0      0\n",
              "1      1\n",
              "2      2\n",
              "3      2\n",
              "4      0\n",
              "      ..\n",
              "395    1\n",
              "396    2\n",
              "397    2\n",
              "398    0\n",
              "399    1\n",
              "Name: ShelveLoc, Length: 400, dtype: int8"
            ]
          },
          "metadata": {},
          "execution_count": 106
        }
      ]
    },
    {
      "cell_type": "code",
      "source": [
        "df['US']=df['US'].astype('category')\n",
        "df['US']=df['US'].cat.codes\n",
        "df['US']"
      ],
      "metadata": {
        "colab": {
          "base_uri": "https://localhost:8080/"
        },
        "id": "KoRI3o_siyob",
        "outputId": "5bc49c1c-1bf8-467d-f842-0d0b0ed7d792"
      },
      "execution_count": 107,
      "outputs": [
        {
          "output_type": "execute_result",
          "data": {
            "text/plain": [
              "0      1\n",
              "1      1\n",
              "2      1\n",
              "3      1\n",
              "4      0\n",
              "      ..\n",
              "395    1\n",
              "396    1\n",
              "397    1\n",
              "398    1\n",
              "399    1\n",
              "Name: US, Length: 400, dtype: int8"
            ]
          },
          "metadata": {},
          "execution_count": 107
        }
      ]
    },
    {
      "cell_type": "code",
      "source": [
        "df['Urban']=df['Urban'].astype('category')\n",
        "df['Urban']=df['Urban'].cat.codes\n",
        "df['Urban']"
      ],
      "metadata": {
        "colab": {
          "base_uri": "https://localhost:8080/"
        },
        "id": "5EnE2CZgjGcn",
        "outputId": "1b477c63-71ed-4f6c-fc51-fdc30c76998b"
      },
      "execution_count": 108,
      "outputs": [
        {
          "output_type": "execute_result",
          "data": {
            "text/plain": [
              "0      1\n",
              "1      1\n",
              "2      1\n",
              "3      1\n",
              "4      1\n",
              "      ..\n",
              "395    1\n",
              "396    0\n",
              "397    1\n",
              "398    1\n",
              "399    1\n",
              "Name: Urban, Length: 400, dtype: int8"
            ]
          },
          "metadata": {},
          "execution_count": 108
        }
      ]
    },
    {
      "cell_type": "code",
      "source": [
        "x = df.drop(columns = 'Sales')\n",
        "y = df['Sales']\n",
        "y"
      ],
      "metadata": {
        "colab": {
          "base_uri": "https://localhost:8080/"
        },
        "id": "EvQWjcpLjW_T",
        "outputId": "e07d8120-8841-43c1-c9e4-8a6281b8348f"
      },
      "execution_count": 109,
      "outputs": [
        {
          "output_type": "execute_result",
          "data": {
            "text/plain": [
              "0       9.50\n",
              "1      11.22\n",
              "2      10.06\n",
              "3       7.40\n",
              "4       4.15\n",
              "       ...  \n",
              "395    12.57\n",
              "396     6.14\n",
              "397     7.41\n",
              "398     5.94\n",
              "399     9.71\n",
              "Name: Sales, Length: 400, dtype: float64"
            ]
          },
          "metadata": {},
          "execution_count": 109
        }
      ]
    },
    {
      "cell_type": "code",
      "source": [
        "from sklearn.model_selection import train_test_split\n",
        "xtrain,xtest,ytrain,ytest = train_test_split(x,y,test_size=0.2,random_state=181)"
      ],
      "metadata": {
        "id": "3CJfrRE3kASZ"
      },
      "execution_count": 110,
      "outputs": []
    },
    {
      "cell_type": "code",
      "source": [
        "# from sklearn.preprocessing import StandardScaler\n",
        "# scaler = StandardScaler()\n",
        "# xtrain_scaled = scaler.fit_transform(xtrain)\n",
        "# xtest_scaled = scaler.transform(xtest)"
      ],
      "metadata": {
        "id": "67pn8LuDsB7g"
      },
      "execution_count": 111,
      "outputs": []
    },
    {
      "cell_type": "code",
      "source": [
        "# from sklearn.tree import DecisionTreeClassifier\n",
        "# DTC = DecisionTreeClassifier()\n",
        "# DTC.fit(xtrain,ytrain)"
      ],
      "metadata": {
        "id": "p6C-6b_jjdHc"
      },
      "execution_count": 112,
      "outputs": []
    },
    {
      "cell_type": "markdown",
      "source": [
        "DecisionTreeRegressor"
      ],
      "metadata": {
        "id": "Fabby4vqqDPh"
      }
    },
    {
      "cell_type": "code",
      "source": [
        "from sklearn.tree import DecisionTreeRegressor\n",
        "DTR = DecisionTreeRegressor()\n",
        "DTR.fit(xtrain,ytrain)"
      ],
      "metadata": {
        "colab": {
          "base_uri": "https://localhost:8080/"
        },
        "id": "n5EPY85UlnnY",
        "outputId": "cb3ecd03-c38a-4673-8bf3-9ad22dba4e8d"
      },
      "execution_count": 113,
      "outputs": [
        {
          "output_type": "execute_result",
          "data": {
            "text/plain": [
              "DecisionTreeRegressor()"
            ]
          },
          "metadata": {},
          "execution_count": 113
        }
      ]
    },
    {
      "cell_type": "code",
      "source": [
        "DTR.score(xtest,ytest)"
      ],
      "metadata": {
        "colab": {
          "base_uri": "https://localhost:8080/"
        },
        "id": "x7frWsHNmOXq",
        "outputId": "471480c0-32d5-4417-95d0-ddb0a24f0ffd"
      },
      "execution_count": 114,
      "outputs": [
        {
          "output_type": "execute_result",
          "data": {
            "text/plain": [
              "0.5794091322758432"
            ]
          },
          "metadata": {},
          "execution_count": 114
        }
      ]
    },
    {
      "cell_type": "code",
      "source": [
        "# score=[]\n",
        "# for i in range(400):\n",
        "#     xtrain,xtest,ytrain,ytest = train_test_split(x,y,test_size=0.2,random_state =i)\n",
        "#     DTR1 = DecisionTreeRegressor()\n",
        "#     DTR1.fit(xtrain,ytrain)\n",
        "#     score.append(DTR1.score(xtest,ytest))\n",
        "# np.argmax(score)"
      ],
      "metadata": {
        "id": "x2rmOUotmVXa"
      },
      "execution_count": 115,
      "outputs": []
    },
    {
      "cell_type": "code",
      "source": [
        "predict_value = np.array([[141,64,3,340,128,0,38,13,1,0]])\n",
        "pred = DTR.predict(predict_value)\n",
        "pred"
      ],
      "metadata": {
        "colab": {
          "base_uri": "https://localhost:8080/"
        },
        "id": "nmBe9vbGnm2S",
        "outputId": "20d88ac7-89ac-4563-bd6d-70d6b05cbf20"
      },
      "execution_count": 116,
      "outputs": [
        {
          "output_type": "stream",
          "name": "stderr",
          "text": [
            "/usr/local/lib/python3.8/dist-packages/sklearn/base.py:450: UserWarning: X does not have valid feature names, but DecisionTreeRegressor was fitted with feature names\n",
            "  warnings.warn(\n"
          ]
        },
        {
          "output_type": "execute_result",
          "data": {
            "text/plain": [
              "array([4.56])"
            ]
          },
          "metadata": {},
          "execution_count": 116
        }
      ]
    },
    {
      "cell_type": "code",
      "source": [
        "if pred>8:\n",
        "  print('Yes')\n",
        "else:\n",
        "  print('NO')"
      ],
      "metadata": {
        "colab": {
          "base_uri": "https://localhost:8080/"
        },
        "id": "qA1V2l-yoh94",
        "outputId": "3134f536-e879-4635-fa26-169ff981057b"
      },
      "execution_count": 117,
      "outputs": [
        {
          "output_type": "stream",
          "name": "stdout",
          "text": [
            "NO\n"
          ]
        }
      ]
    },
    {
      "cell_type": "markdown",
      "source": [
        "RandomForestRegressor"
      ],
      "metadata": {
        "id": "0E9qyatKqLvA"
      }
    },
    {
      "cell_type": "code",
      "source": [
        "from sklearn.ensemble import RandomForestRegressor\n",
        "RFR=RandomForestRegressor()\n",
        "RFR.fit(xtrain,ytrain)"
      ],
      "metadata": {
        "colab": {
          "base_uri": "https://localhost:8080/"
        },
        "id": "gRBsOrI8qVZV",
        "outputId": "66b54db5-1707-4281-cbc0-57075611d504"
      },
      "execution_count": 118,
      "outputs": [
        {
          "output_type": "execute_result",
          "data": {
            "text/plain": [
              "RandomForestRegressor()"
            ]
          },
          "metadata": {},
          "execution_count": 118
        }
      ]
    },
    {
      "cell_type": "code",
      "source": [
        "RFR.score(xtest,ytest)"
      ],
      "metadata": {
        "colab": {
          "base_uri": "https://localhost:8080/"
        },
        "id": "emPFOdQtqiun",
        "outputId": "fdb32ba5-e511-4285-8843-65b5b5cf9a59"
      },
      "execution_count": 119,
      "outputs": [
        {
          "output_type": "execute_result",
          "data": {
            "text/plain": [
              "0.6894976608756518"
            ]
          },
          "metadata": {},
          "execution_count": 119
        }
      ]
    },
    {
      "cell_type": "code",
      "source": [
        "RFR.predict([[141,64,3,340,128,0,38,13,1,0]])"
      ],
      "metadata": {
        "colab": {
          "base_uri": "https://localhost:8080/"
        },
        "id": "1DBghdAAu3YA",
        "outputId": "2ec2b663-56ba-45cd-bb15-a7aa988d408d"
      },
      "execution_count": 120,
      "outputs": [
        {
          "output_type": "stream",
          "name": "stderr",
          "text": [
            "/usr/local/lib/python3.8/dist-packages/sklearn/base.py:450: UserWarning: X does not have valid feature names, but RandomForestRegressor was fitted with feature names\n",
            "  warnings.warn(\n"
          ]
        },
        {
          "output_type": "execute_result",
          "data": {
            "text/plain": [
              "array([5.6304])"
            ]
          },
          "metadata": {},
          "execution_count": 120
        }
      ]
    },
    {
      "cell_type": "markdown",
      "source": [
        "KNN algorithm\n"
      ],
      "metadata": {
        "id": "0BCApRyzr-wj"
      }
    },
    {
      "cell_type": "code",
      "source": [
        "from sklearn.linear_model import LinearRegression\n",
        "LR=LinearRegression()\n",
        "LR.fit(xtrain,ytrain)"
      ],
      "metadata": {
        "colab": {
          "base_uri": "https://localhost:8080/"
        },
        "id": "jqZdhVwnvRYQ",
        "outputId": "b23f9e6b-4c05-43a0-eb1a-207e9df19e19"
      },
      "execution_count": 121,
      "outputs": [
        {
          "output_type": "execute_result",
          "data": {
            "text/plain": [
              "LinearRegression()"
            ]
          },
          "metadata": {},
          "execution_count": 121
        }
      ]
    },
    {
      "cell_type": "code",
      "source": [
        "LR.score(xtest,ytest)"
      ],
      "metadata": {
        "colab": {
          "base_uri": "https://localhost:8080/"
        },
        "id": "FqDJV2sdvl4N",
        "outputId": "c15fb0bb-cf7a-4428-a581-c5797c959f2c"
      },
      "execution_count": 122,
      "outputs": [
        {
          "output_type": "execute_result",
          "data": {
            "text/plain": [
              "0.5903009274399456"
            ]
          },
          "metadata": {},
          "execution_count": 122
        }
      ]
    },
    {
      "cell_type": "code",
      "source": [
        "LR.predict([[141,64,3,340,128,0,38,13,1,0]])"
      ],
      "metadata": {
        "colab": {
          "base_uri": "https://localhost:8080/"
        },
        "id": "MJWW01HdvpOq",
        "outputId": "f0a7670f-3cd8-4093-a764-7bbff6bd6407"
      },
      "execution_count": 123,
      "outputs": [
        {
          "output_type": "stream",
          "name": "stderr",
          "text": [
            "/usr/local/lib/python3.8/dist-packages/sklearn/base.py:450: UserWarning: X does not have valid feature names, but LinearRegression was fitted with feature names\n",
            "  warnings.warn(\n"
          ]
        },
        {
          "output_type": "execute_result",
          "data": {
            "text/plain": [
              "array([7.55890557])"
            ]
          },
          "metadata": {},
          "execution_count": 123
        }
      ]
    }
  ]
}